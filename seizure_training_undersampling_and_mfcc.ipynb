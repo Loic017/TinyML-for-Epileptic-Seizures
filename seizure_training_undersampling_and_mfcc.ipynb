{
 "cells": [
  {
   "cell_type": "markdown",
   "metadata": {},
   "source": [
    "# Import Data and Train Model\n"
   ]
  },
  {
   "cell_type": "code",
   "execution_count": 2,
   "metadata": {},
   "outputs": [
    {
     "name": "stderr",
     "output_type": "stream",
     "text": [
      "c:\\Users\\loicl\\Documents\\UniWork\\Year 3\\Dissertation\\TinyML-for-Epileptic-Seizures\\.venv\\Lib\\site-packages\\tqdm\\auto.py:21: TqdmWarning: IProgress not found. Please update jupyter and ipywidgets. See https://ipywidgets.readthedocs.io/en/stable/user_install.html\n",
      "  from .autonotebook import tqdm as notebook_tqdm\n"
     ]
    }
   ],
   "source": [
    "import torch\n",
    "import torch.nn as nn\n",
    "import torch.nn.functional as F\n",
    "from torch.utils.data import Dataset, DataLoader\n",
    "from torch.utils.data.dataset import random_split\n",
    "from torchvision.transforms import ToTensor, Lambda\n",
    "from transformers import get_scheduler, AdamW\n",
    "from datasets import load_metric\n",
    "\n",
    "import numpy as np\n",
    "from scipy.io import wavfile\n",
    "from scipy.fft import fft, fftfreq, fftshift\n",
    "from scipy.fftpack import dct\n",
    "import IPython.display\n",
    "import librosa\n",
    "\n",
    "import matplotlib.pyplot as plt\n",
    "from matplotlib import cm\n",
    "%matplotlib inline\n",
    "import pandas as pd;\n",
    "import numpy as np\n",
    "import math\n",
    "\n",
    "from imblearn.over_sampling import SMOTE\n",
    "from imblearn.under_sampling import RandomUnderSampler\n",
    "\n",
    "import mne\n",
    "import mne.channels\n",
    "from tqdm.auto import tqdm\n"
   ]
  },
  {
   "cell_type": "markdown",
   "metadata": {},
   "source": [
    "## Load Data: Create Dataset\n"
   ]
  },
  {
   "cell_type": "markdown",
   "metadata": {},
   "source": [
    "### Load Absence Seizure Data\n"
   ]
  },
  {
   "cell_type": "code",
   "execution_count": 3,
   "metadata": {},
   "outputs": [],
   "source": [
    "class AbsenceDataset(Dataset):\n",
    "    def __init__(self, file_path, transform=None, target_transform=None):\n",
    "        self.x, self.y = self.data_get(file_path)\n",
    "        self.n_samples = len(self.x)\n",
    "\n",
    "        self.transform = transform\n",
    "        self.target_transform = target_transform\n",
    "\n",
    "    def __getitem__(self, idx):\n",
    "        sample_x, sample_y = self.x[idx], self.y[idx]\n",
    "\n",
    "        if self.transform:\n",
    "            sample_x = self.transform(sample_x)\n",
    "\n",
    "        if self.target_transform:\n",
    "            sample_y = self.target_transform(sample_y)\n",
    "\n",
    "        return sample_x.float(), sample_y.float()\n",
    "\n",
    "    def __len__(self):\n",
    "        return self.n_samples\n",
    "\n",
    "    def data_get(self, file_path):\n",
    "        data = pd.read_csv(file_path)\n",
    "        x_loaded, y_loaded = [], []\n",
    "        for index, row in data.iterrows():\n",
    "            a = np.load(row[\"labels\"])\n",
    "            for i, v in enumerate(a):\n",
    "                a[i] = int(v)\n",
    "            y_loaded.append(a)\n",
    "\n",
    "            x_loaded.append(np.load(row[\"data\"]))\n",
    "\n",
    "        continuous_x = np.concatenate(x_loaded, axis=0)\n",
    "        continuous_y = np.concatenate(y_loaded, axis=0)\n",
    "\n",
    "        return continuous_x, continuous_y"
   ]
  },
  {
   "cell_type": "code",
   "execution_count": 4,
   "metadata": {},
   "outputs": [],
   "source": [
    "%%capture\n",
    "# Load the dataset\n",
    "dataset = AbsenceDataset(\n",
    "    \"processed_data/absence/five_channels_improved_labels/epochs_files.csv\",\n",
    "    transform=torch.tensor,\n",
    "    target_transform=torch.tensor,\n",
    ")\n",
    "dataset.y = dataset.y.astype(int)"
   ]
  },
  {
   "cell_type": "code",
   "execution_count": 5,
   "metadata": {},
   "outputs": [
    {
     "data": {
      "text/plain": [
       "(4141, 5, 1000)"
      ]
     },
     "execution_count": 5,
     "metadata": {},
     "output_type": "execute_result"
    }
   ],
   "source": [
    "dataset.x.shape"
   ]
  },
  {
   "cell_type": "markdown",
   "metadata": {},
   "source": [
    "# Split Data\n",
    "\n",
    "70%, 20%, 10%\n"
   ]
  },
  {
   "cell_type": "code",
   "execution_count": 6,
   "metadata": {},
   "outputs": [
    {
     "data": {
      "text/plain": [
       "4141"
      ]
     },
     "execution_count": 6,
     "metadata": {},
     "output_type": "execute_result"
    }
   ],
   "source": [
    "dataset_len = len(dataset)\n",
    "dataset_len"
   ]
  },
  {
   "cell_type": "code",
   "execution_count": 7,
   "metadata": {},
   "outputs": [
    {
     "name": "stdout",
     "output_type": "stream",
     "text": [
      "Train Split: 2899\n",
      "Eval Split: 828\n",
      "Test Split: 414\n",
      "Total: 4141\n"
     ]
    }
   ],
   "source": [
    "if (\n",
    "    int(dataset_len * 0.7) + int(dataset_len * 0.2) + int(dataset_len * 0.1)\n",
    ") != dataset_len:\n",
    "    train_set, eval_set, test_set = random_split(\n",
    "        dataset,\n",
    "        [\n",
    "            math.ceil(dataset_len * 0.7),\n",
    "            int(dataset_len * 0.2),\n",
    "            int(dataset_len * 0.1),\n",
    "        ],\n",
    "    )\n",
    "else:\n",
    "    train_set, eval_set, test_set = random_split(\n",
    "        dataset,\n",
    "        [\n",
    "            int(dataset_len * 0.1),\n",
    "            int(dataset_len * 0.7),\n",
    "            int(dataset_len * 0.2),\n",
    "        ],\n",
    "    )\n",
    "\n",
    "print(f\"Train Split: {len(train_set)}\")\n",
    "print(f\"Eval Split: {len(eval_set)}\")\n",
    "print(f\"Test Split: {len(test_set)}\")\n",
    "print(f\"Total: {len(train_set) + len(eval_set) + len(test_set)}\")"
   ]
  },
  {
   "cell_type": "code",
   "execution_count": 8,
   "metadata": {},
   "outputs": [
    {
     "data": {
      "text/plain": [
       "((2899, 5, 1000), (2899,))"
      ]
     },
     "execution_count": 8,
     "metadata": {},
     "output_type": "execute_result"
    }
   ],
   "source": [
    "train_set.dataset.x[train_set.indices].shape, train_set.dataset.y[\n",
    "    train_set.indices\n",
    "].shape"
   ]
  },
  {
   "cell_type": "code",
   "execution_count": 10,
   "metadata": {},
   "outputs": [],
   "source": [
    "train = []\n",
    "for i, v in enumerate(train_set.dataset.x[train_set.indices]):\n",
    "    train.append(v[0])\n",
    "train = np.array(train)"
   ]
  },
  {
   "cell_type": "markdown",
   "metadata": {},
   "source": [
    "## Random Undersampling\n"
   ]
  },
  {
   "cell_type": "code",
   "execution_count": 11,
   "metadata": {},
   "outputs": [
    {
     "name": "stdout",
     "output_type": "stream",
     "text": [
      "Background: 2771 // Absence Seizure: 128\n"
     ]
    }
   ],
   "source": [
    "bk, sz = 0, 0\n",
    "for i, v in enumerate(train_set.dataset.y[train_set.indices]):\n",
    "    if v == 1:\n",
    "        sz += 1\n",
    "    else:\n",
    "        bk += 1\n",
    "\n",
    "print(f\"Background: {bk} // Absence Seizure: {sz}\")"
   ]
  },
  {
   "cell_type": "code",
   "execution_count": 12,
   "metadata": {},
   "outputs": [],
   "source": [
    "rand_us = RandomUnderSampler(random_state=42)\n",
    "train_set_x, train_set_y = rand_us.fit_resample(\n",
    "    train, train_set.dataset.y[train_set.indices]\n",
    ")"
   ]
  },
  {
   "cell_type": "code",
   "execution_count": 13,
   "metadata": {},
   "outputs": [
    {
     "name": "stdout",
     "output_type": "stream",
     "text": [
      "Background: 128 // Absence Seizure: 128\n"
     ]
    }
   ],
   "source": [
    "bk, sz = 0, 0\n",
    "for i, v in enumerate(train_set_y):\n",
    "    if v == 1:\n",
    "        sz += 1\n",
    "    else:\n",
    "        bk += 1\n",
    "\n",
    "print(f\"Background: {bk} // Absence Seizure: {sz}\")"
   ]
  },
  {
   "cell_type": "markdown",
   "metadata": {},
   "source": [
    "# MFCC\n"
   ]
  },
  {
   "cell_type": "markdown",
   "metadata": {},
   "source": [
    "Upsample\n"
   ]
  },
  {
   "cell_type": "code",
   "execution_count": 15,
   "metadata": {},
   "outputs": [
    {
     "data": {
      "text/plain": [
       "(256, 1000)"
      ]
     },
     "execution_count": 15,
     "metadata": {},
     "output_type": "execute_result"
    }
   ],
   "source": [
    "train_data = train_set_x\n",
    "eval_data = eval_set.dataset.x[eval_set.indices]\n",
    "train_data.shape"
   ]
  },
  {
   "cell_type": "code",
   "execution_count": 138,
   "metadata": {},
   "outputs": [
    {
     "name": "stdout",
     "output_type": "stream",
     "text": [
      "Creating RawArray with float64 data, n_channels=1, n_times=1000\n",
      "    Range : 0 ... 999 =      0.000 ...     3.996 secs\n",
      "Ready.\n",
      "Effective window size : 4.000 (s)\n",
      "Need more than one channel to make topography for eeg. Disabling interactivity.\n",
      "1\n"
     ]
    },
    {
     "name": "stderr",
     "output_type": "stream",
     "text": [
      "C:\\Users\\loicl\\AppData\\Local\\Temp\\ipykernel_73204\\1225478793.py:7: RuntimeWarning: Channel locations not available. Disabling spatial colors.\n",
      "  raw.compute_psd(fmax=5).plot()\n",
      "c:\\Users\\loicl\\Documents\\UniWork\\Year 3\\Dissertation\\TinyML-for-Epileptic-Seizures\\.venv\\Lib\\site-packages\\mne\\viz\\utils.py:165: UserWarning: FigureCanvasAgg is non-interactive, and thus cannot be shown\n",
      "  (fig or plt).show(**kwargs)\n"
     ]
    },
    {
     "data": {
      "image/png": "[encoded data removed]",
      "text/plain": [
       "<MNELineFigure size 1000x350 with 1 Axes>"
      ]
     },
     "metadata": {},
     "output_type": "display_data"
    }
   ],
   "source": [
    "x = 250\n",
    "info = mne.create_info(ch_names=1, sfreq=250, ch_types=\"eeg\")\n",
    "squeezed = train_data[x][np.newaxis, :]\n",
    "raw = mne.io.RawArray(squeezed, info)\n",
    "raw.compute_psd(fmax=5).plot()\n",
    "print(train_set_y[x])"
   ]
  },
  {
   "cell_type": "code",
   "execution_count": 13,
   "metadata": {},
   "outputs": [],
   "source": [
    "# resample = mne.filter.resample\n",
    "# up_data = []\n",
    "# for i, data in enumerate(train_data):\n",
    "#     up_data.append(resample(data, 10))\n",
    "# up_data = np.array(up_data)\n",
    "# up_data.shape"
   ]
  },
  {
   "cell_type": "markdown",
   "metadata": {},
   "source": [
    "Parameters\n"
   ]
  },
  {
   "cell_type": "code",
   "execution_count": 115,
   "metadata": {},
   "outputs": [],
   "source": [
    "# Set Paramaters\n",
    "sample_rate = 250\n",
    "\n",
    "freq_min = 0  # Set to 0, want to keep all low frequencies\n",
    "freq_high = 20\n",
    "# Set to Nyquist frequency: Highest frequency that can be represented given a sample rate -\n",
    "# Can be set to lower as we do not care too much about higher frequencies\n",
    "\n",
    "n_mels = 20  # Number of filters to apply\n",
    "n_fft = 64\n",
    "\n",
    "hop_size = 25  # 25 ms (Standard)"
   ]
  },
  {
   "cell_type": "code",
   "execution_count": 116,
   "metadata": {},
   "outputs": [
    {
     "name": "stdout",
     "output_type": "stream",
     "text": [
      "Time Points: 1000\n",
      "Signal Duration: 4.0s\n"
     ]
    }
   ],
   "source": [
    "print(f\"Time Points: {len(train_data[0])}\")\n",
    "print(f\"Signal Duration: {len(train_data[0])/sample_rate}s\")"
   ]
  },
  {
   "cell_type": "markdown",
   "metadata": {},
   "source": [
    "Windowing\n"
   ]
  },
  {
   "cell_type": "code",
   "execution_count": 117,
   "metadata": {},
   "outputs": [
    {
     "name": "stdout",
     "output_type": "stream",
     "text": [
      "Train Data Size: 256 // Frame Amount per Data: 143 // Points per Frame (n_fft): 64\n"
     ]
    }
   ],
   "source": [
    "framed_data = []\n",
    "for i, data in enumerate(train_data):\n",
    "    curr = np.pad(data, int(n_fft / 2), mode=\"reflect\")\n",
    "    frame_len = np.round(sample_rate * hop_size / 1000) + 1\n",
    "    frame_num = int((len(curr) - n_fft) / frame_len) + 1\n",
    "    frames = np.zeros((frame_num, n_fft))\n",
    "\n",
    "    for f in range(frame_num):\n",
    "        frames[f] = curr[int(f * frame_len) : int(f * frame_len + n_fft)]\n",
    "\n",
    "    framed_data.append(frames)\n",
    "\n",
    "framed_data = np.array(framed_data)\n",
    "print(\n",
    "    f\"Train Data Size: {framed_data.shape[0]} // Frame Amount per Data: {framed_data.shape[1]} // Points per Frame (n_fft): {framed_data.shape[2]}\"\n",
    ")"
   ]
  },
  {
   "cell_type": "markdown",
   "metadata": {},
   "source": [
    "FFT\n"
   ]
  },
  {
   "cell_type": "code",
   "execution_count": 118,
   "metadata": {},
   "outputs": [],
   "source": [
    "# Apply Windowing\n",
    "from scipy.signal import get_window\n",
    "\n",
    "hann_window = get_window(\"hann\", n_fft, fftbins=True)\n",
    "window_data = []\n",
    "for i, data in enumerate(framed_data):\n",
    "    window_data.append(data * hann_window)\n",
    "window_data = np.array(window_data)"
   ]
  },
  {
   "cell_type": "code",
   "execution_count": 119,
   "metadata": {},
   "outputs": [
    {
     "data": {
      "text/plain": [
       "(143, 64)"
      ]
     },
     "execution_count": 119,
     "metadata": {},
     "output_type": "execute_result"
    }
   ],
   "source": [
    "window_data[0].shape"
   ]
  },
  {
   "cell_type": "code",
   "execution_count": 120,
   "metadata": {},
   "outputs": [],
   "source": [
    "window_data_t = []\n",
    "for i, data in enumerate(window_data):\n",
    "    a = np.transpose(data)\n",
    "    window_data_t.append(a)\n",
    "window_data_t = np.array(window_data_t)"
   ]
  },
  {
   "cell_type": "code",
   "execution_count": 121,
   "metadata": {},
   "outputs": [
    {
     "data": {
      "text/plain": [
       "(64, 143)"
      ]
     },
     "execution_count": 121,
     "metadata": {},
     "output_type": "execute_result"
    }
   ],
   "source": [
    "window_data_t[0].shape"
   ]
  },
  {
   "cell_type": "code",
   "execution_count": 122,
   "metadata": {},
   "outputs": [],
   "source": [
    "import scipy.fftpack as fft\n",
    "\n",
    "data_fourier = []\n",
    "for i, data in enumerate(window_data_t):\n",
    "    data_fft = np.empty(\n",
    "        (int(1 + n_fft // 2), data.shape[1]), dtype=np.complex64, order=\"F\"\n",
    "    )\n",
    "\n",
    "    for f in range(data_fft.shape[1]):\n",
    "        data_fft[:, f] = fft.fft(window_data_t[i][:, f], axis=0)[: data_fft.shape[0]]\n",
    "\n",
    "    data_fft_t = np.transpose(data_fft)\n",
    "    data_fourier.append(data_fft_t)\n",
    "data_fourier = np.array(data_fourier)"
   ]
  },
  {
   "cell_type": "code",
   "execution_count": 123,
   "metadata": {},
   "outputs": [],
   "source": [
    "signal_powers = []\n",
    "for i, data in enumerate(data_fourier):\n",
    "    signal_powers.append(np.square(np.abs(data)))\n",
    "signal_powers = np.array(signal_powers)"
   ]
  },
  {
   "cell_type": "markdown",
   "metadata": {},
   "source": [
    "Mel Filterbank\n"
   ]
  },
  {
   "cell_type": "code",
   "execution_count": 124,
   "metadata": {},
   "outputs": [],
   "source": [
    "hz_to_mel = librosa.hz_to_mel\n",
    "mel_to_hz = librosa.mel_to_hz"
   ]
  },
  {
   "cell_type": "code",
   "execution_count": 125,
   "metadata": {},
   "outputs": [],
   "source": [
    "mel_min = hz_to_mel(freq_min)\n",
    "mel_max = hz_to_mel(freq_high)\n",
    "mels = np.linspace(mel_min, mel_max, num=(n_mels + 2))\n",
    "freqs = mel_to_hz(mels)\n",
    "\n",
    "filter_points = np.floor((n_fft + 1) / sample_rate * freqs).astype(int)"
   ]
  },
  {
   "cell_type": "code",
   "execution_count": 126,
   "metadata": {},
   "outputs": [],
   "source": [
    "filters = np.zeros((len(filter_points) - 2, int(n_fft / 2 + 1)))\n",
    "\n",
    "for n in range(len(filter_points) - 2):\n",
    "    filters[n, filter_points[n] : filter_points[n + 1]] = np.linspace(\n",
    "        0, 1, filter_points[n + 1] - filter_points[n]\n",
    "    )\n",
    "    filters[n, filter_points[n + 1] : filter_points[n + 2]] = np.linspace(\n",
    "        1, 0, filter_points[n + 2] - filter_points[n + 1]\n",
    "    )"
   ]
  },
  {
   "cell_type": "code",
   "execution_count": 127,
   "metadata": {},
   "outputs": [
    {
     "data": {
      "image/png": "[encoded data removed]",
      "text/plain": [
       "<Figure size 640x480 with 1 Axes>"
      ]
     },
     "metadata": {},
     "output_type": "display_data"
    }
   ],
   "source": [
    "plt.figure()\n",
    "for f in range(filters.shape[0]):\n",
    "    plt.plot(filters[f])"
   ]
  },
  {
   "cell_type": "code",
   "execution_count": 128,
   "metadata": {},
   "outputs": [],
   "source": [
    "enorm = 2.0 / (freqs[2 : n_mels + 2] - freqs[:n_mels])\n",
    "filters *= enorm[:, np.newaxis]"
   ]
  },
  {
   "cell_type": "code",
   "execution_count": 129,
   "metadata": {},
   "outputs": [
    {
     "data": {
      "image/png": "[encoded data removed]",
      "text/plain": [
       "<Figure size 640x480 with 1 Axes>"
      ]
     },
     "metadata": {},
     "output_type": "display_data"
    }
   ],
   "source": [
    "plt.figure()\n",
    "for f in range(filters.shape[0]):\n",
    "    plt.plot(filters[f])"
   ]
  },
  {
   "cell_type": "markdown",
   "metadata": {},
   "source": [
    "Apply Filterbank\n"
   ]
  },
  {
   "cell_type": "code",
   "execution_count": 130,
   "metadata": {},
   "outputs": [],
   "source": [
    "filtered_data = []\n",
    "for i, data in enumerate(signal_powers):\n",
    "    filtered_data.append(np.dot(filters, np.transpose(data)))\n",
    "filtered_data = np.array(filtered_data)"
   ]
  },
  {
   "cell_type": "markdown",
   "metadata": {},
   "source": [
    "Apply Log\n"
   ]
  },
  {
   "cell_type": "code",
   "execution_count": 131,
   "metadata": {},
   "outputs": [
    {
     "name": "stderr",
     "output_type": "stream",
     "text": [
      "C:\\Users\\loicl\\AppData\\Local\\Temp\\ipykernel_11240\\2651341275.py:3: RuntimeWarning: divide by zero encountered in log10\n",
      "  log_data.append(10.0 * np.log10(data))\n"
     ]
    }
   ],
   "source": [
    "log_data = []\n",
    "for i, data in enumerate(filtered_data):\n",
    "    log_data.append(10.0 * np.log10(data))\n",
    "log_data = np.array(log_data)"
   ]
  },
  {
   "cell_type": "markdown",
   "metadata": {},
   "source": [
    "Generate Coefficients\n"
   ]
  },
  {
   "cell_type": "code",
   "execution_count": 132,
   "metadata": {},
   "outputs": [],
   "source": [
    "base = np.empty((40, n_mels))\n",
    "base[0, :] = 1.0 / np.sqrt(n_mels)\n",
    "\n",
    "samples = np.arange(1, 2 * n_mels, 2) * np.pi / (2.0 * n_mels)\n",
    "for i in range(1, 40):\n",
    "    base[i, :] = np.cos(i * samples) * np.sqrt(2.0 / n_mels)"
   ]
  },
  {
   "cell_type": "code",
   "execution_count": 133,
   "metadata": {},
   "outputs": [],
   "source": [
    "coeffs = []\n",
    "for i, data in enumerate(log_data):\n",
    "    coeffs.append(np.dot(base, data))\n",
    "coeffs = np.array(coeffs)"
   ]
  },
  {
   "cell_type": "markdown",
   "metadata": {},
   "source": [
    "# Plot Coeffs\n"
   ]
  },
  {
   "cell_type": "code",
   "execution_count": 134,
   "metadata": {},
   "outputs": [
    {
     "data": {
      "text/plain": [
       "(0.0, 8.0)"
      ]
     },
     "execution_count": 134,
     "metadata": {},
     "output_type": "execute_result"
    },
    {
     "data": {
      "image/png": "[encoded data removed]",
      "text/plain": [
       "<Figure size 640x480 with 1 Axes>"
      ]
     },
     "metadata": {},
     "output_type": "display_data"
    }
   ],
   "source": [
    "plt.figure()\n",
    "# plt.plot(train_data[0])\n",
    "plt.imshow(coeffs[250], aspect=\"auto\")\n",
    "plt.ylim([0, 8])"
   ]
  },
  {
   "cell_type": "markdown",
   "metadata": {},
   "source": [
    "Remake Dataset\n"
   ]
  },
  {
   "cell_type": "code",
   "execution_count": 26,
   "metadata": {},
   "outputs": [],
   "source": [
    "class BalancedDataset(Dataset):\n",
    "    def __init__(self, data, transform=None, target_transform=None):\n",
    "        self.x, self.y = data\n",
    "        self.n_samples = len(self.x)\n",
    "\n",
    "        self.transform = transform\n",
    "        self.target_transform = target_transform\n",
    "\n",
    "    def __getitem__(self, idx):\n",
    "        sample_x, sample_y = self.x[idx], self.y[idx]\n",
    "\n",
    "        if self.transform:\n",
    "            sample_x = self.transform(sample_x)\n",
    "\n",
    "        if self.target_transform:\n",
    "            sample_y = self.target_transform(sample_y)\n",
    "\n",
    "        return sample_x.float(), sample_y.float()\n",
    "\n",
    "    def __len__(self):\n",
    "        return self.n_samples"
   ]
  },
  {
   "cell_type": "code",
   "execution_count": 27,
   "metadata": {},
   "outputs": [],
   "source": [
    "new_balanced_train_dataset = BalancedDataset(\n",
    "    (mfcc, train_set_y), transform=torch.tensor, target_transform=torch.tensor\n",
    ")\n",
    "mfcc_eval_dataset = BalancedDataset(\n",
    "    (eval_mfcc, eval_set.dataset.y[eval_set.indices]),\n",
    "    transform=torch.tensor,\n",
    "    target_transform=torch.tensor,\n",
    ")"
   ]
  },
  {
   "cell_type": "markdown",
   "metadata": {},
   "source": [
    "# Visualize Data\n"
   ]
  },
  {
   "cell_type": "code",
   "execution_count": null,
   "metadata": {},
   "outputs": [],
   "source": [
    "# Plot 3 of each class\n",
    "fig, axs = plt.subplots(2, 3, figsize=(20, 5))\n",
    "fig.suptitle(\n",
    "    \"3 samples of each class: Absence Seizure and Background - Plotted as images with values scaled to 0-255\"\n",
    ")\n",
    "\n",
    "c1 = 0\n",
    "c0 = 0\n",
    "\n",
    "for i, v in enumerate(train_set.dataset.y[train_set.indices]):\n",
    "    if v == 0 and c0 < 3:\n",
    "        clone = train_set.dataset.x[train_set.indices][i]\n",
    "        max_pixel = 0\n",
    "        min_pixel = 0\n",
    "        for m, b in enumerate(clone):\n",
    "            for j, n in enumerate(clone[m]):\n",
    "                if n > max_pixel:\n",
    "                    max_pixel = n\n",
    "                if n < min_pixel:\n",
    "                    min_pixel = n\n",
    "\n",
    "        for m, b in enumerate(clone):\n",
    "            for j, n in enumerate(clone[m]):\n",
    "                a = clone[m][j] - min_pixel\n",
    "                b = 255 / (max_pixel - min_pixel)\n",
    "                norm = a * b\n",
    "                if norm > 255:\n",
    "                    norm = 255\n",
    "                if norm < 0:\n",
    "                    norm = 0\n",
    "                clone[m][j] = norm\n",
    "\n",
    "        # Increase image size for better visibility if needed\n",
    "        clone = np.repeat(clone, 50, axis=0)\n",
    "\n",
    "        axs[0, c0].imshow(clone, cmap=\"gray\")\n",
    "        axs[0, c0].set_title(f\"Label 0: Background // Data Index: {i}\")\n",
    "        axs[0, c0].set_yticks([])\n",
    "        axs[0, c0].set_xticks([0, 1000])\n",
    "        axs[0, c0].set_xlabel(\"Data Points Per Window\")\n",
    "\n",
    "        c0 += 1\n",
    "\n",
    "    if v == 1 and c1 < 3:\n",
    "        clone = train_set.dataset.x[train_set.indices][i]\n",
    "        max_pixel = 0\n",
    "        min_pixel = 0\n",
    "\n",
    "        for m, b in enumerate(clone):\n",
    "            for j, n in enumerate(clone[m]):\n",
    "                if n > max_pixel:\n",
    "                    max_pixel = n\n",
    "                if n < min_pixel:\n",
    "                    min_pixel = n\n",
    "\n",
    "        for m, b in enumerate(clone):\n",
    "            for j, n in enumerate(clone[m]):\n",
    "                a = clone[m][j] - min_pixel\n",
    "                b = 255 / (max_pixel - min_pixel)\n",
    "                norm = a * b\n",
    "                if norm > 255:\n",
    "                    norm = 255\n",
    "                if norm < 0:\n",
    "                    norm = 0\n",
    "                clone[m][j] = norm\n",
    "\n",
    "        # Increase image size for better visibility if needed\n",
    "        clone = np.repeat(clone, 50, axis=0)\n",
    "\n",
    "        axs[1, c1].imshow(clone, cmap=\"gray\")\n",
    "        axs[1, c1].set_title(f\"Label 1: Absence Seizure // Data Index: {i}\")\n",
    "        axs[1, c1].set_yticks([])\n",
    "        axs[1, c1].set_xticks([0, 1000])\n",
    "        axs[1, c1].set_xlabel(\"Data Points Per Window\")\n",
    "\n",
    "        c1 += 1\n",
    "\n",
    "    if c1 == 3 and c0 == 3:\n",
    "        break\n",
    "\n",
    "    # new_img = Image.fromarray(clone)"
   ]
  },
  {
   "cell_type": "code",
   "execution_count": null,
   "metadata": {},
   "outputs": [],
   "source": [
    "# Plot 3 of each class\n",
    "fig, axs = plt.subplots(2, 3, figsize=(20, 10))\n",
    "fig.suptitle(\"3 samples of each class\")\n",
    "c0 = 0\n",
    "c1 = 0\n",
    "for i, v in enumerate(train_set.dataset.x[train_set.indices]):\n",
    "    if c0 < 3 and train_set.dataset.y[train_set.indices][i] == 0:\n",
    "        axs[0, c0].plot(train_set.dataset.x[train_set.indices][i][0], label=\"Channel 1\")\n",
    "        axs[0, c0].plot(train_set.dataset.x[train_set.indices][i][1], label=\"Channel 2\")\n",
    "        axs[0, c0].plot(train_set.dataset.x[train_set.indices][i][2], label=\"Channel 3\")\n",
    "        axs[0, c0].plot(train_set.dataset.x[train_set.indices][i][3], label=\"Channel 4\")\n",
    "        axs[0, c0].plot(train_set.dataset.x[train_set.indices][i][4], label=\"Channel 5\")\n",
    "        axs[0, c0].legend(loc=\"upper right\")\n",
    "        axs[0, c0].set_title(f\"Label 0: Background // Data Index: {i}\")\n",
    "        c0 += 1\n",
    "    elif c1 < 3 and train_set.dataset.y[train_set.indices][i] == 1:\n",
    "        axs[1, c1].plot(train_set.dataset.x[train_set.indices][i][0], label=\"Channel 1\")\n",
    "        axs[1, c1].plot(train_set.dataset.x[train_set.indices][i][1], label=\"Channel 2\")\n",
    "        axs[1, c1].plot(train_set.dataset.x[train_set.indices][i][2], label=\"Channel 3\")\n",
    "        axs[1, c1].plot(train_set.dataset.x[train_set.indices][i][3], label=\"Channel 4\")\n",
    "        axs[1, c1].plot(train_set.dataset.x[train_set.indices][i][4], label=\"Channel 5\")\n",
    "        axs[1, c1].legend(loc=\"upper right\")\n",
    "        axs[1, c1].set_title(f\"Label 1: Absence Seizure // Data Index: {i}\")\n",
    "        c1 += 1\n",
    "\n",
    "    if c0 == 3 and c1 == 3:\n",
    "        break\n",
    "plt.show()"
   ]
  },
  {
   "cell_type": "code",
   "execution_count": null,
   "metadata": {},
   "outputs": [],
   "source": [
    "# Plot 3 of each class\n",
    "fig, axs = plt.subplots(2, 3, figsize=(20, 10))\n",
    "fig.suptitle(\"3 samples of each class\")\n",
    "c0 = 0\n",
    "c1 = 0\n",
    "for i, v in enumerate(x_train_reshaped):\n",
    "    if c0 < 3 and train_set.dataset.y[train_set.indices][i] == 0:\n",
    "        axs[0, c0].plot(x_train_reshaped[i])\n",
    "        axs[0, c0].set_title(f\"Label 0: Background // Data Index: {i}\")\n",
    "        c0 += 1\n",
    "    elif c1 < 3 and train_set.dataset.y[train_set.indices][i] == 1:\n",
    "        axs[1, c1].plot(x_train_reshaped[i])\n",
    "        axs[1, c1].set_title(f\"Label 1: Absence Seizure // Data Index: {i}\")\n",
    "        c1 += 1\n",
    "\n",
    "    if c0 == 3 and c1 == 3:\n",
    "        break\n",
    "plt.show()"
   ]
  },
  {
   "cell_type": "markdown",
   "metadata": {},
   "source": [
    "# DataLoaders\n"
   ]
  },
  {
   "cell_type": "code",
   "execution_count": 28,
   "metadata": {},
   "outputs": [],
   "source": [
    "train_dataloader = DataLoader(\n",
    "    dataset=new_balanced_train_dataset,\n",
    "    batch_size=1,\n",
    "    shuffle=True,\n",
    ")\n",
    "eval_dataloader = DataLoader(dataset=mfcc_eval_dataset, batch_size=1, shuffle=True)\n",
    "test_dataloader = DataLoader(dataset=test_set, batch_size=1, shuffle=True)"
   ]
  },
  {
   "cell_type": "markdown",
   "metadata": {},
   "source": [
    "# Model\n"
   ]
  },
  {
   "cell_type": "markdown",
   "metadata": {},
   "source": [
    "## Model 1: CNN\n"
   ]
  },
  {
   "cell_type": "markdown",
   "metadata": {},
   "source": [
    "### 1D Model\n"
   ]
  },
  {
   "cell_type": "code",
   "execution_count": 29,
   "metadata": {},
   "outputs": [
    {
     "name": "stdout",
     "output_type": "stream",
     "text": [
      "Number of parameters in model: 9,662\n"
     ]
    }
   ],
   "source": [
    "class AbnormalNeuralNetwork(nn.Module):\n",
    "    def __init__(self):\n",
    "        super().__init__()\n",
    "        # Input 5 Channels\n",
    "        self.CNN1 = nn.Conv1d(in_channels=1, out_channels=20, kernel_size=3)\n",
    "        self.MaxPool1 = nn.MaxPool1d(kernel_size=2, stride=2)\n",
    "\n",
    "        self.CNN2 = nn.Conv1d(in_channels=20, out_channels=60, kernel_size=3)\n",
    "        self.MaxPool2 = nn.MaxPool1d(kernel_size=2, stride=2)\n",
    "\n",
    "        self.CNN3 = nn.Conv1d(in_channels=60, out_channels=1, kernel_size=2)\n",
    "        self.MaxPool3 = nn.MaxPool1d(kernel_size=2, stride=1)\n",
    "\n",
    "        self.fc1 = nn.Linear(in_features=6, out_features=100)\n",
    "        self.fc2 = nn.Linear(in_features=100, out_features=50)\n",
    "        self.output = nn.Linear(in_features=50, out_features=1)\n",
    "\n",
    "    def forward(self, x):\n",
    "        x = F.relu(self.CNN1(x))\n",
    "        x = self.MaxPool1(x)\n",
    "\n",
    "        x = F.relu(self.CNN2(x))\n",
    "        x = self.MaxPool2(x)\n",
    "\n",
    "        x = F.relu(self.CNN3(x))\n",
    "        x = self.MaxPool3(x)\n",
    "\n",
    "        x = F.relu(self.fc1(x))\n",
    "        x = F.relu(self.fc2(x))\n",
    "        x = self.output(x)\n",
    "        return x\n",
    "\n",
    "\n",
    "# Set device to GPU\n",
    "device = torch.device(\"cuda\" if torch.cuda.is_available() else \"cpu\")\n",
    "\n",
    "# Initialize model\n",
    "model = AbnormalNeuralNetwork().to(device)\n",
    "\n",
    "# Set optimizer and loss function\n",
    "optimizer = torch.optim.Adam(model.parameters(), lr=1e-3)\n",
    "loss_fn = nn.MSELoss()\n",
    "\n",
    "# Calculate number of parameters in model\n",
    "n_params = 0\n",
    "for x in model.parameters():\n",
    "    n_params += len(torch.flatten(x))\n",
    "print(f\"Number of parameters in model: {n_params:,}\")\n",
    "\n",
    "# Print Model\n",
    "model = model.to(device)"
   ]
  },
  {
   "cell_type": "markdown",
   "metadata": {},
   "source": [
    "### 2D Model\n"
   ]
  },
  {
   "cell_type": "code",
   "execution_count": null,
   "metadata": {},
   "outputs": [],
   "source": [
    "class AbnormalNeuralNetwork(nn.Module):\n",
    "    def __init__(self):\n",
    "        super().__init__()\n",
    "        # Input 5 Channels\n",
    "        self.CNN1 = nn.Conv2d(\n",
    "            in_channels=1, out_channels=17, kernel_size=(3, 3), padding=(1, 0)\n",
    "        )\n",
    "        self.MaxPool1 = nn.MaxPool2d(kernel_size=(3, 3), stride=2)\n",
    "\n",
    "        self.CNN2 = nn.Conv2d(\n",
    "            in_channels=17, out_channels=29, kernel_size=(3, 3), padding=(1, 0)\n",
    "        )\n",
    "        self.MaxPool2 = nn.MaxPool2d(kernel_size=(2, 2), stride=2)\n",
    "\n",
    "        self.CNN3 = nn.Conv2d(\n",
    "            in_channels=29, out_channels=41, kernel_size=(3, 3), padding=(1, 0)\n",
    "        )\n",
    "        self.MaxPool3 = nn.MaxPool2d(kernel_size=(1, 1), stride=2)\n",
    "\n",
    "        self.flatten = nn.Flatten()\n",
    "\n",
    "        self.fc1 = nn.Linear(5043, 1024)\n",
    "        self.dropout1 = nn.Dropout(p=0.3)\n",
    "\n",
    "        self.fc2 = nn.Linear(1024, 1024)\n",
    "        self.dropout2 = nn.Dropout(p=0.3)\n",
    "\n",
    "        # Output Layer\n",
    "        self.output = nn.Linear(in_features=1024, out_features=1)\n",
    "\n",
    "    def forward(self, x):\n",
    "        x = F.relu(self.CNN1(x))\n",
    "        x = self.MaxPool1(x)\n",
    "\n",
    "        x = F.relu(self.CNN2(x))\n",
    "        x = self.MaxPool2(x)\n",
    "\n",
    "        x = F.relu(self.CNN3(x))\n",
    "        x = self.MaxPool3(x)\n",
    "\n",
    "        x = self.flatten(x)\n",
    "\n",
    "        x = F.relu(self.fc1(x))\n",
    "        x = self.dropout1(x)\n",
    "\n",
    "        x = F.relu(self.fc2(x))\n",
    "        x = self.dropout2(x)\n",
    "\n",
    "        x = self.output(x)\n",
    "        return x\n",
    "\n",
    "\n",
    "# Calculate number of parameters in model\n",
    "n_params = 0\n",
    "for x in model.parameters():\n",
    "    n_params += len(torch.flatten(x))\n",
    "print(f\"Number of parameters in model: {n_params:,}\")\n",
    "\n",
    "# Initialize model\n",
    "model = AbnormalNeuralNetwork().to(device)\n",
    "\n",
    "# Print Model\n",
    "model = model.to(device)\n",
    "model"
   ]
  },
  {
   "cell_type": "markdown",
   "metadata": {},
   "source": [
    "# Train\n"
   ]
  },
  {
   "cell_type": "markdown",
   "metadata": {},
   "source": [
    "## Model 2: Linear\n"
   ]
  },
  {
   "cell_type": "markdown",
   "metadata": {},
   "source": [
    "### 1\n"
   ]
  },
  {
   "cell_type": "code",
   "execution_count": null,
   "metadata": {},
   "outputs": [],
   "source": [
    "class LinearRegression(nn.Module):\n",
    "    def __init__(self):\n",
    "        super().__init__()\n",
    "        self.linear1 = nn.Linear(39, 78)\n",
    "        self.linear2 = nn.Linear(78, 78)\n",
    "        self.output = nn.Linear(78, 1)\n",
    "\n",
    "    def forward(self, out):\n",
    "        out = F.relu(self.linear1(out))\n",
    "        out = F.relu(self.linear2(out))\n",
    "        out = self.output(out)\n",
    "        return out\n",
    "\n",
    "\n",
    "model = LinearRegression().to(device)\n",
    "\n",
    "optimizer = torch.optim.SGD(model.parameters(), lr=0.01)\n",
    "loss_fn = nn.MSELoss()\n",
    "\n",
    "n_params = 0\n",
    "for x in model.parameters():\n",
    "    n_params += len(torch.flatten(x))\n",
    "print(f\"Number of parameters in model: {n_params:,}\")"
   ]
  },
  {
   "cell_type": "markdown",
   "metadata": {},
   "source": [
    "### 2\n"
   ]
  },
  {
   "cell_type": "code",
   "execution_count": null,
   "metadata": {},
   "outputs": [],
   "source": []
  },
  {
   "cell_type": "markdown",
   "metadata": {},
   "source": [
    "## Training Loop\n"
   ]
  },
  {
   "cell_type": "markdown",
   "metadata": {},
   "source": [
    "### Print Inputs\n"
   ]
  },
  {
   "cell_type": "code",
   "execution_count": 30,
   "metadata": {},
   "outputs": [
    {
     "name": "stdout",
     "output_type": "stream",
     "text": [
      "Train // Background: 139 // Absence Seizure: 139\n",
      "Validation // Background: 792 // Absence Seizure: 36\n"
     ]
    }
   ],
   "source": [
    "# Plot distribution of the dataset before balancing\n",
    "# 0 - Background epoch\n",
    "# 1 - Absence seizure epoch\n",
    "\n",
    "bk = 0\n",
    "sz = 0\n",
    "for i, v in enumerate(train_dataloader):\n",
    "    if v[1].squeeze() == torch.tensor([1.0]):\n",
    "        sz += 1\n",
    "    else:\n",
    "        bk += 1\n",
    "\n",
    "print(f\"Train // Background: {bk} // Absence Seizure: {sz}\")\n",
    "\n",
    "bk = 0\n",
    "sz = 0\n",
    "for i, v in enumerate(eval_dataloader):\n",
    "    if v[1].squeeze() == torch.tensor([1.0]):\n",
    "        sz += 1\n",
    "    else:\n",
    "        bk += 1\n",
    "\n",
    "print(f\"Validation // Background: {bk} // Absence Seizure: {sz}\")"
   ]
  },
  {
   "cell_type": "code",
   "execution_count": null,
   "metadata": {},
   "outputs": [],
   "source": [
    "ones = []\n",
    "for i, v in enumerate(train_dataloader):\n",
    "    if v[1].squeeze() == torch.tensor([1]):\n",
    "        ones.append(i)\n",
    "print(ones)\n",
    "\n",
    "c = 0\n",
    "for i, v in enumerate(train_dataloader):\n",
    "    if c == 20:\n",
    "        first_input = v[0].squeeze()\n",
    "        first_label = v[1].squeeze()\n",
    "    if c == 21:\n",
    "        first_input2 = v[0].squeeze()\n",
    "        first_label2 = v[1].squeeze()\n",
    "        break\n",
    "    c += 1\n",
    "\n",
    "fig, axs = plt.subplots(1, 2, figsize=(15, 4))\n",
    "fig.suptitle(\"First 2 samples of the dataset\")\n",
    "axs[0].plot(first_input)\n",
    "axs[0].set_title(f\"Label: {first_label}\")\n",
    "axs[1].plot(first_input2)\n",
    "axs[1].set_title(f\"Label: {first_label2}\")"
   ]
  },
  {
   "cell_type": "markdown",
   "metadata": {},
   "source": [
    "### Training\n"
   ]
  },
  {
   "cell_type": "code",
   "execution_count": 31,
   "metadata": {},
   "outputs": [
    {
     "name": "stdout",
     "output_type": "stream",
     "text": [
      "torch.Size([1, 39]) tensor([0.])\n",
      "torch.Size([1, 39]) tensor([1.])\n"
     ]
    }
   ],
   "source": [
    "for i, v in enumerate(eval_dataloader):\n",
    "    first_input = v[0]\n",
    "    first_label = v[1]\n",
    "    break\n",
    "\n",
    "print(first_input.shape, first_label)\n",
    "\n",
    "for i, v in enumerate(train_dataloader):\n",
    "    first_input = v[0]\n",
    "    first_label = v[1]\n",
    "    break\n",
    "\n",
    "print(first_input.shape, first_label)"
   ]
  },
  {
   "cell_type": "code",
   "execution_count": 39,
   "metadata": {},
   "outputs": [],
   "source": [
    "num_epochs = 100\n",
    "optimizer = torch.optim.Adam(model.parameters(), lr=5e-5)\n",
    "scheduler = get_scheduler(\n",
    "    \"linear\",\n",
    "    optimizer,\n",
    "    num_warmup_steps=0,\n",
    "    num_training_steps=num_epochs * len(train_dataloader),\n",
    ")"
   ]
  },
  {
   "cell_type": "code",
   "execution_count": 40,
   "metadata": {},
   "outputs": [
    {
     "name": "stderr",
     "output_type": "stream",
     "text": [
      "100%|██████████| 27800/27800 [05:05<00:00, 90.89it/s] \n"
     ]
    }
   ],
   "source": [
    "progress_bar = tqdm(range(num_epochs * len(train_dataloader)))\n",
    "\n",
    "model.train()\n",
    "for epoch in range(num_epochs):\n",
    "    for batch in train_dataloader:\n",
    "        inputs, labels = batch\n",
    "        inputs, labels = inputs.to(device), labels.to(device)\n",
    "\n",
    "        outputs = model(inputs)\n",
    "        outputs = outputs.squeeze(-1)  # Not needed for LR\n",
    "        loss = loss_fn(outputs, labels)\n",
    "        loss.backward()\n",
    "\n",
    "        optimizer.step()\n",
    "        scheduler.step()\n",
    "        optimizer.zero_grad()\n",
    "        progress_bar.update(1)"
   ]
  },
  {
   "cell_type": "code",
   "execution_count": 46,
   "metadata": {},
   "outputs": [
    {
     "name": "stderr",
     "output_type": "stream",
     "text": [
      "c:\\Users\\loicl\\Documents\\UniWork\\Year 3\\Dissertation\\TinyML-for-Epileptic-Seizures\\.venv\\Lib\\site-packages\\datasets\\load.py:756: FutureWarning: The repository for glue contains custom code which must be executed to correctly load the metric. You can inspect the repository content at https://raw.githubusercontent.com/huggingface/datasets/2.18.0/metrics/glue/glue.py\n",
      "You can avoid this message in future by passing the argument `trust_remote_code=True`.\n",
      "Passing `trust_remote_code=True` will be mandatory to load this metric from the next major release of `datasets`.\n",
      "  warnings.warn(\n"
     ]
    }
   ],
   "source": [
    "metric = load_metric(\"glue\", \"mrpc\")\n",
    "model.eval()\n",
    "tp, fp, tn, fn = 0, 0, 0, 0\n",
    "results_list = []\n",
    "for batch in eval_dataloader:\n",
    "    inputs, labels = batch\n",
    "    inputs, labels = inputs.to(device), labels.to(device)\n",
    "\n",
    "    with torch.no_grad():\n",
    "        outputs = model(inputs)\n",
    "        outputs = outputs.squeeze(-1)  # Not needed for LR\n",
    "\n",
    "    results_list.append(outputs)\n",
    "    if outputs > 0.5:\n",
    "        if labels == 1:\n",
    "            tp += 1\n",
    "        else:\n",
    "            fp += 1\n",
    "    else:\n",
    "        if labels == 0:\n",
    "            tn += 1\n",
    "        else:\n",
    "            fn += 1\n",
    "\n",
    "    # logits = outputs.logits\n",
    "    # predictions = torch.argmax(logits, dim=-1)\n",
    "    metric.add_batch(predictions=outputs, references=labels)\n",
    "\n",
    "results = metric.compute()"
   ]
  },
  {
   "cell_type": "code",
   "execution_count": 49,
   "metadata": {},
   "outputs": [
    {
     "name": "stdout",
     "output_type": "stream",
     "text": [
      "True Positives: 36\n",
      "False Positives: 792\n",
      "True Negatives: 0\n",
      "False Negatives: 0\n",
      "[tensor([0.5000], device='cuda:0'), tensor([0.5000], device='cuda:0'), tensor([0.5000], device='cuda:0'), tensor([0.5000], device='cuda:0'), tensor([0.5000], device='cuda:0'), tensor([0.5000], device='cuda:0'), tensor([0.5000], device='cuda:0'), tensor([0.5000], device='cuda:0'), tensor([0.5000], device='cuda:0'), tensor([0.5000], device='cuda:0'), tensor([0.5000], device='cuda:0'), tensor([0.5000], device='cuda:0'), tensor([0.5000], device='cuda:0'), tensor([0.5000], device='cuda:0'), tensor([0.5000], device='cuda:0'), tensor([0.5000], device='cuda:0'), tensor([0.5000], device='cuda:0'), tensor([0.5000], device='cuda:0'), tensor([0.5000], device='cuda:0'), tensor([0.5000], device='cuda:0'), tensor([0.5000], device='cuda:0'), tensor([0.5000], device='cuda:0'), tensor([0.5000], device='cuda:0'), tensor([0.5000], device='cuda:0'), tensor([0.5000], device='cuda:0'), tensor([0.5000], device='cuda:0'), tensor([0.5000], device='cuda:0'), tensor([0.5000], device='cuda:0'), tensor([0.5000], device='cuda:0'), tensor([0.5000], device='cuda:0'), tensor([0.5000], device='cuda:0'), tensor([0.5000], device='cuda:0'), tensor([0.5000], device='cuda:0'), tensor([0.5000], device='cuda:0'), tensor([0.5000], device='cuda:0'), tensor([0.5000], device='cuda:0'), tensor([0.5000], device='cuda:0'), tensor([0.5000], device='cuda:0'), tensor([0.5000], device='cuda:0'), tensor([0.5000], device='cuda:0'), tensor([0.5000], device='cuda:0'), tensor([0.5000], device='cuda:0'), tensor([0.5000], device='cuda:0'), tensor([0.5000], device='cuda:0'), tensor([0.5000], device='cuda:0'), tensor([0.5000], device='cuda:0'), tensor([0.5000], device='cuda:0'), tensor([0.5000], device='cuda:0'), tensor([0.5000], device='cuda:0'), tensor([0.5000], device='cuda:0'), tensor([0.5000], device='cuda:0'), tensor([0.5000], device='cuda:0'), tensor([0.5000], device='cuda:0'), tensor([0.5000], device='cuda:0'), tensor([0.5000], device='cuda:0'), tensor([0.5000], device='cuda:0'), tensor([0.5000], device='cuda:0'), tensor([0.5000], device='cuda:0'), tensor([0.5000], device='cuda:0'), tensor([0.5000], device='cuda:0'), tensor([0.5000], device='cuda:0'), tensor([0.5000], device='cuda:0'), tensor([0.5000], device='cuda:0'), tensor([0.5000], device='cuda:0'), tensor([0.5000], device='cuda:0'), tensor([0.5000], device='cuda:0'), tensor([0.5000], device='cuda:0'), tensor([0.5000], device='cuda:0'), tensor([0.5000], device='cuda:0'), tensor([0.5000], device='cuda:0'), tensor([0.5000], device='cuda:0'), tensor([0.5000], device='cuda:0'), tensor([0.5000], device='cuda:0'), tensor([0.5000], device='cuda:0'), tensor([0.5000], device='cuda:0'), tensor([0.5000], device='cuda:0'), tensor([0.5000], device='cuda:0'), tensor([0.5000], device='cuda:0'), tensor([0.5000], device='cuda:0'), tensor([0.5000], device='cuda:0'), tensor([0.5000], device='cuda:0'), tensor([0.5000], device='cuda:0'), tensor([0.5000], device='cuda:0'), tensor([0.5000], device='cuda:0'), tensor([0.5000], device='cuda:0'), tensor([0.5000], device='cuda:0'), tensor([0.5000], device='cuda:0'), tensor([0.5000], device='cuda:0'), tensor([0.5000], device='cuda:0'), tensor([0.5000], device='cuda:0'), tensor([0.5000], device='cuda:0'), tensor([0.5000], device='cuda:0'), tensor([0.5000], device='cuda:0'), tensor([0.5000], device='cuda:0'), tensor([0.5000], device='cuda:0'), tensor([0.5000], device='cuda:0'), tensor([0.5000], device='cuda:0'), tensor([0.5000], device='cuda:0'), tensor([0.5000], device='cuda:0'), tensor([0.5000], device='cuda:0'), tensor([0.5000], device='cuda:0'), tensor([0.5000], device='cuda:0'), tensor([0.5000], device='cuda:0'), tensor([0.5000], device='cuda:0'), tensor([0.5000], device='cuda:0'), tensor([0.5000], device='cuda:0'), tensor([0.5000], device='cuda:0'), tensor([0.5000], device='cuda:0'), tensor([0.5000], device='cuda:0'), tensor([0.5000], device='cuda:0'), tensor([0.5000], device='cuda:0'), tensor([0.5000], device='cuda:0'), tensor([0.5000], device='cuda:0'), tensor([0.5000], device='cuda:0'), tensor([0.5000], device='cuda:0'), tensor([0.5000], device='cuda:0'), tensor([0.5000], device='cuda:0'), tensor([0.5000], device='cuda:0'), tensor([0.5000], device='cuda:0'), tensor([0.5000], device='cuda:0'), tensor([0.5000], device='cuda:0'), tensor([0.5000], device='cuda:0'), tensor([0.5000], device='cuda:0'), tensor([0.5000], device='cuda:0'), tensor([0.5000], device='cuda:0'), tensor([0.5000], device='cuda:0'), tensor([0.5000], device='cuda:0'), tensor([0.5000], device='cuda:0'), tensor([0.5000], device='cuda:0'), tensor([0.5000], device='cuda:0'), tensor([0.5000], device='cuda:0'), tensor([0.5000], device='cuda:0'), tensor([0.5000], device='cuda:0'), tensor([0.5000], device='cuda:0'), tensor([0.5000], device='cuda:0'), tensor([0.5000], device='cuda:0'), tensor([0.5000], device='cuda:0'), tensor([0.5000], device='cuda:0'), tensor([0.5000], device='cuda:0'), tensor([0.5000], device='cuda:0'), tensor([0.5000], device='cuda:0'), tensor([0.5000], device='cuda:0'), tensor([0.5000], device='cuda:0'), tensor([0.5000], device='cuda:0'), tensor([0.5000], device='cuda:0'), tensor([0.5000], device='cuda:0'), tensor([0.5000], device='cuda:0'), tensor([0.5000], device='cuda:0'), tensor([0.5000], device='cuda:0'), tensor([0.5000], device='cuda:0'), tensor([0.5000], device='cuda:0'), tensor([0.5000], device='cuda:0'), tensor([0.5000], device='cuda:0'), tensor([0.5000], device='cuda:0'), tensor([0.5000], device='cuda:0'), tensor([0.5000], device='cuda:0'), tensor([0.5000], device='cuda:0'), tensor([0.5000], device='cuda:0'), tensor([0.5000], device='cuda:0'), tensor([0.5000], device='cuda:0'), tensor([0.5000], device='cuda:0'), tensor([0.5000], device='cuda:0'), tensor([0.5000], device='cuda:0'), tensor([0.5000], device='cuda:0'), tensor([0.5000], device='cuda:0'), tensor([0.5000], device='cuda:0'), tensor([0.5000], device='cuda:0'), tensor([0.5000], device='cuda:0'), tensor([0.5000], device='cuda:0'), tensor([0.5000], device='cuda:0'), tensor([0.5000], device='cuda:0'), tensor([0.5000], device='cuda:0'), tensor([0.5000], device='cuda:0'), tensor([0.5000], device='cuda:0'), tensor([0.5000], device='cuda:0'), tensor([0.5000], device='cuda:0'), tensor([0.5000], device='cuda:0'), tensor([0.5000], device='cuda:0'), tensor([0.5000], device='cuda:0'), tensor([0.5000], device='cuda:0'), tensor([0.5000], device='cuda:0'), tensor([0.5000], device='cuda:0'), tensor([0.5000], device='cuda:0'), tensor([0.5000], device='cuda:0'), tensor([0.5000], device='cuda:0'), tensor([0.5000], device='cuda:0'), tensor([0.5000], device='cuda:0'), tensor([0.5000], device='cuda:0'), tensor([0.5000], device='cuda:0'), tensor([0.5000], device='cuda:0'), tensor([0.5000], device='cuda:0'), tensor([0.5000], device='cuda:0'), tensor([0.5000], device='cuda:0'), tensor([0.5000], device='cuda:0'), tensor([0.5000], device='cuda:0'), tensor([0.5000], device='cuda:0'), tensor([0.5000], device='cuda:0'), tensor([0.5000], device='cuda:0'), tensor([0.5000], device='cuda:0'), tensor([0.5000], device='cuda:0'), tensor([0.5000], device='cuda:0'), tensor([0.5000], device='cuda:0'), tensor([0.5000], device='cuda:0'), tensor([0.5000], device='cuda:0'), tensor([0.5000], device='cuda:0'), tensor([0.5000], device='cuda:0'), tensor([0.5000], device='cuda:0'), tensor([0.5000], device='cuda:0'), tensor([0.5000], device='cuda:0'), tensor([0.5000], device='cuda:0'), tensor([0.5000], device='cuda:0'), tensor([0.5000], device='cuda:0'), tensor([0.5000], device='cuda:0'), tensor([0.5000], device='cuda:0'), tensor([0.5000], device='cuda:0'), tensor([0.5000], device='cuda:0'), tensor([0.5000], device='cuda:0'), tensor([0.5000], device='cuda:0'), tensor([0.5000], device='cuda:0'), tensor([0.5000], device='cuda:0'), tensor([0.5000], device='cuda:0'), tensor([0.5000], device='cuda:0'), tensor([0.5000], device='cuda:0'), tensor([0.5000], device='cuda:0'), tensor([0.5000], device='cuda:0'), tensor([0.5000], device='cuda:0'), tensor([0.5000], device='cuda:0'), tensor([0.5000], device='cuda:0'), tensor([0.5000], device='cuda:0'), tensor([0.5000], device='cuda:0'), tensor([0.5000], device='cuda:0'), tensor([0.5000], device='cuda:0'), tensor([0.5000], device='cuda:0'), tensor([0.5000], device='cuda:0'), tensor([0.5000], device='cuda:0'), tensor([0.5000], device='cuda:0'), tensor([0.5000], device='cuda:0'), tensor([0.5000], device='cuda:0'), tensor([0.5000], device='cuda:0'), tensor([0.5000], device='cuda:0'), tensor([0.5000], device='cuda:0'), tensor([0.5000], device='cuda:0'), tensor([0.5000], device='cuda:0'), tensor([0.5000], device='cuda:0'), tensor([0.5000], device='cuda:0'), tensor([0.5000], device='cuda:0'), tensor([0.5000], device='cuda:0'), tensor([0.5000], device='cuda:0'), tensor([0.5000], device='cuda:0'), tensor([0.5000], device='cuda:0'), tensor([0.5000], device='cuda:0'), tensor([0.5000], device='cuda:0'), tensor([0.5000], device='cuda:0'), tensor([0.5000], device='cuda:0'), tensor([0.5000], device='cuda:0'), tensor([0.5000], device='cuda:0'), tensor([0.5000], device='cuda:0'), tensor([0.5000], device='cuda:0'), tensor([0.5000], device='cuda:0'), tensor([0.5000], device='cuda:0'), tensor([0.5000], device='cuda:0'), tensor([0.5000], device='cuda:0'), tensor([0.5000], device='cuda:0'), tensor([0.5000], device='cuda:0'), tensor([0.5000], device='cuda:0'), tensor([0.5000], device='cuda:0'), tensor([0.5000], device='cuda:0'), tensor([0.5000], device='cuda:0'), tensor([0.5000], device='cuda:0'), tensor([0.5000], device='cuda:0'), tensor([0.5000], device='cuda:0'), tensor([0.5000], device='cuda:0'), tensor([0.5000], device='cuda:0'), tensor([0.5000], device='cuda:0'), tensor([0.5000], device='cuda:0'), tensor([0.5000], device='cuda:0'), tensor([0.5000], device='cuda:0'), tensor([0.5000], device='cuda:0'), tensor([0.5000], device='cuda:0'), tensor([0.5000], device='cuda:0'), tensor([0.5000], device='cuda:0'), tensor([0.5000], device='cuda:0'), tensor([0.5000], device='cuda:0'), tensor([0.5000], device='cuda:0'), tensor([0.5000], device='cuda:0'), tensor([0.5000], device='cuda:0'), tensor([0.5000], device='cuda:0'), tensor([0.5000], device='cuda:0'), tensor([0.5000], device='cuda:0'), tensor([0.5000], device='cuda:0'), tensor([0.5000], device='cuda:0'), tensor([0.5000], device='cuda:0'), tensor([0.5000], device='cuda:0'), tensor([0.5000], device='cuda:0'), tensor([0.5000], device='cuda:0'), tensor([0.5000], device='cuda:0'), tensor([0.5000], device='cuda:0'), tensor([0.5000], device='cuda:0'), tensor([0.5000], device='cuda:0'), tensor([0.5000], device='cuda:0'), tensor([0.5000], device='cuda:0'), tensor([0.5000], device='cuda:0'), tensor([0.5000], device='cuda:0'), tensor([0.5000], device='cuda:0'), tensor([0.5000], device='cuda:0'), tensor([0.5000], device='cuda:0'), tensor([0.5000], device='cuda:0'), tensor([0.5000], device='cuda:0'), tensor([0.5000], device='cuda:0'), tensor([0.5000], device='cuda:0'), tensor([0.5000], device='cuda:0'), tensor([0.5000], device='cuda:0'), tensor([0.5000], device='cuda:0'), tensor([0.5000], device='cuda:0'), tensor([0.5000], device='cuda:0'), tensor([0.5000], device='cuda:0'), tensor([0.5000], device='cuda:0'), tensor([0.5000], device='cuda:0'), tensor([0.5000], device='cuda:0'), tensor([0.5000], device='cuda:0'), tensor([0.5000], device='cuda:0'), tensor([0.5000], device='cuda:0'), tensor([0.5000], device='cuda:0'), tensor([0.5000], device='cuda:0'), tensor([0.5000], device='cuda:0'), tensor([0.5000], device='cuda:0'), tensor([0.5000], device='cuda:0'), tensor([0.5000], device='cuda:0'), tensor([0.5000], device='cuda:0'), tensor([0.5000], device='cuda:0'), tensor([0.5000], device='cuda:0'), tensor([0.5000], device='cuda:0'), tensor([0.5000], device='cuda:0'), tensor([0.5000], device='cuda:0'), tensor([0.5000], device='cuda:0'), tensor([0.5000], device='cuda:0'), tensor([0.5000], device='cuda:0'), tensor([0.5000], device='cuda:0'), tensor([0.5000], device='cuda:0'), tensor([0.5000], device='cuda:0'), tensor([0.5000], device='cuda:0'), tensor([0.5000], device='cuda:0'), tensor([0.5000], device='cuda:0'), tensor([0.5000], device='cuda:0'), tensor([0.5000], device='cuda:0'), tensor([0.5000], device='cuda:0'), tensor([0.5000], device='cuda:0'), tensor([0.5000], device='cuda:0'), tensor([0.5000], device='cuda:0'), tensor([0.5000], device='cuda:0'), tensor([0.5000], device='cuda:0'), tensor([0.5000], device='cuda:0'), tensor([0.5000], device='cuda:0'), tensor([0.5000], device='cuda:0'), tensor([0.5000], device='cuda:0'), tensor([0.5000], device='cuda:0'), tensor([0.5000], device='cuda:0'), tensor([0.5000], device='cuda:0'), tensor([0.5000], device='cuda:0'), tensor([0.5000], device='cuda:0'), tensor([0.5000], device='cuda:0'), tensor([0.5000], device='cuda:0'), tensor([0.5000], device='cuda:0'), tensor([0.5000], device='cuda:0'), tensor([0.5000], device='cuda:0'), tensor([0.5000], device='cuda:0'), tensor([0.5000], device='cuda:0'), tensor([0.5000], device='cuda:0'), tensor([0.5000], device='cuda:0'), tensor([0.5000], device='cuda:0'), tensor([0.5000], device='cuda:0'), tensor([0.5000], device='cuda:0'), tensor([0.5000], device='cuda:0'), tensor([0.5000], device='cuda:0'), tensor([0.5000], device='cuda:0'), tensor([0.5000], device='cuda:0'), tensor([0.5000], device='cuda:0'), tensor([0.5000], device='cuda:0'), tensor([0.5000], device='cuda:0'), tensor([0.5000], device='cuda:0'), tensor([0.5000], device='cuda:0'), tensor([0.5000], device='cuda:0'), tensor([0.5000], device='cuda:0'), tensor([0.5000], device='cuda:0'), tensor([0.5000], device='cuda:0'), tensor([0.5000], device='cuda:0'), tensor([0.5000], device='cuda:0'), tensor([0.5000], device='cuda:0'), tensor([0.5000], device='cuda:0'), tensor([0.5000], device='cuda:0'), tensor([0.5000], device='cuda:0'), tensor([0.5000], device='cuda:0'), tensor([0.5000], device='cuda:0'), tensor([0.5000], device='cuda:0'), tensor([0.5000], device='cuda:0'), tensor([0.5000], device='cuda:0'), tensor([0.5000], device='cuda:0'), tensor([0.5000], device='cuda:0'), tensor([0.5000], device='cuda:0'), tensor([0.5000], device='cuda:0'), tensor([0.5000], device='cuda:0'), tensor([0.5000], device='cuda:0'), tensor([0.5000], device='cuda:0'), tensor([0.5000], device='cuda:0'), tensor([0.5000], device='cuda:0'), tensor([0.5000], device='cuda:0'), tensor([0.5000], device='cuda:0'), tensor([0.5000], device='cuda:0'), tensor([0.5000], device='cuda:0'), tensor([0.5000], device='cuda:0'), tensor([0.5000], device='cuda:0'), tensor([0.5000], device='cuda:0'), tensor([0.5000], device='cuda:0'), tensor([0.5000], device='cuda:0'), tensor([0.5000], device='cuda:0'), tensor([0.5000], device='cuda:0'), tensor([0.5000], device='cuda:0'), tensor([0.5000], device='cuda:0'), tensor([0.5000], device='cuda:0'), tensor([0.5000], device='cuda:0'), tensor([0.5000], device='cuda:0'), tensor([0.5000], device='cuda:0'), tensor([0.5000], device='cuda:0'), tensor([0.5000], device='cuda:0'), tensor([0.5000], device='cuda:0'), tensor([0.5000], device='cuda:0'), tensor([0.5000], device='cuda:0'), tensor([0.5000], device='cuda:0'), tensor([0.5000], device='cuda:0'), tensor([0.5000], device='cuda:0'), tensor([0.5000], device='cuda:0'), tensor([0.5000], device='cuda:0'), tensor([0.5000], device='cuda:0'), tensor([0.5000], device='cuda:0'), tensor([0.5000], device='cuda:0'), tensor([0.5000], device='cuda:0'), tensor([0.5000], device='cuda:0'), tensor([0.5000], device='cuda:0'), tensor([0.5000], device='cuda:0'), tensor([0.5000], device='cuda:0'), tensor([0.5000], device='cuda:0'), tensor([0.5000], device='cuda:0'), tensor([0.5000], device='cuda:0'), tensor([0.5000], device='cuda:0'), tensor([0.5000], device='cuda:0'), tensor([0.5000], device='cuda:0'), tensor([0.5000], device='cuda:0'), tensor([0.5000], device='cuda:0'), tensor([0.5000], device='cuda:0'), tensor([0.5000], device='cuda:0'), tensor([0.5000], device='cuda:0'), tensor([0.5000], device='cuda:0'), tensor([0.5000], device='cuda:0'), tensor([0.5000], device='cuda:0'), tensor([0.5000], device='cuda:0'), tensor([0.5000], device='cuda:0'), tensor([0.5000], device='cuda:0'), tensor([0.5000], device='cuda:0'), tensor([0.5000], device='cuda:0'), tensor([0.5000], device='cuda:0'), tensor([0.5000], device='cuda:0'), tensor([0.5000], device='cuda:0'), tensor([0.5000], device='cuda:0'), tensor([0.5000], device='cuda:0'), tensor([0.5000], device='cuda:0'), tensor([0.5000], device='cuda:0'), tensor([0.5000], device='cuda:0'), tensor([0.5000], device='cuda:0'), tensor([0.5000], device='cuda:0'), tensor([0.5000], device='cuda:0'), tensor([0.5000], device='cuda:0'), tensor([0.5000], device='cuda:0'), tensor([0.5000], device='cuda:0'), tensor([0.5000], device='cuda:0'), tensor([0.5000], device='cuda:0'), tensor([0.5000], device='cuda:0'), tensor([0.5000], device='cuda:0'), tensor([0.5000], device='cuda:0'), tensor([0.5000], device='cuda:0'), tensor([0.5000], device='cuda:0'), tensor([0.5000], device='cuda:0'), tensor([0.5000], device='cuda:0'), tensor([0.5000], device='cuda:0'), tensor([0.5000], device='cuda:0'), tensor([0.5000], device='cuda:0'), tensor([0.5000], device='cuda:0'), tensor([0.5000], device='cuda:0'), tensor([0.5000], device='cuda:0'), tensor([0.5000], device='cuda:0'), tensor([0.5000], device='cuda:0'), tensor([0.5000], device='cuda:0'), tensor([0.5000], device='cuda:0'), tensor([0.5000], device='cuda:0'), tensor([0.5000], device='cuda:0'), tensor([0.5000], device='cuda:0'), tensor([0.5000], device='cuda:0'), tensor([0.5000], device='cuda:0'), tensor([0.5000], device='cuda:0'), tensor([0.5000], device='cuda:0'), tensor([0.5000], device='cuda:0'), tensor([0.5000], device='cuda:0'), tensor([0.5000], device='cuda:0'), tensor([0.5000], device='cuda:0'), tensor([0.5000], device='cuda:0'), tensor([0.5000], device='cuda:0'), tensor([0.5000], device='cuda:0'), tensor([0.5000], device='cuda:0'), tensor([0.5000], device='cuda:0'), tensor([0.5000], device='cuda:0'), tensor([0.5000], device='cuda:0'), tensor([0.5000], device='cuda:0'), tensor([0.5000], device='cuda:0'), tensor([0.5000], device='cuda:0'), tensor([0.5000], device='cuda:0'), tensor([0.5000], device='cuda:0'), tensor([0.5000], device='cuda:0'), tensor([0.5000], device='cuda:0'), tensor([0.5000], device='cuda:0'), tensor([0.5000], device='cuda:0'), tensor([0.5000], device='cuda:0'), tensor([0.5000], device='cuda:0'), tensor([0.5000], device='cuda:0'), tensor([0.5000], device='cuda:0'), tensor([0.5000], device='cuda:0'), tensor([0.5000], device='cuda:0'), tensor([0.5000], device='cuda:0'), tensor([0.5000], device='cuda:0'), tensor([0.5000], device='cuda:0'), tensor([0.5000], device='cuda:0'), tensor([0.5000], device='cuda:0'), tensor([0.5000], device='cuda:0'), tensor([0.5000], device='cuda:0'), tensor([0.5000], device='cuda:0'), tensor([0.5000], device='cuda:0'), tensor([0.5000], device='cuda:0'), tensor([0.5000], device='cuda:0'), tensor([0.5000], device='cuda:0'), tensor([0.5000], device='cuda:0'), tensor([0.5000], device='cuda:0'), tensor([0.5000], device='cuda:0'), tensor([0.5000], device='cuda:0'), tensor([0.5000], device='cuda:0'), tensor([0.5000], device='cuda:0'), tensor([0.5000], device='cuda:0'), tensor([0.5000], device='cuda:0'), tensor([0.5000], device='cuda:0'), tensor([0.5000], device='cuda:0'), tensor([0.5000], device='cuda:0'), tensor([0.5000], device='cuda:0'), tensor([0.5000], device='cuda:0'), tensor([0.5000], device='cuda:0'), tensor([0.5000], device='cuda:0'), tensor([0.5000], device='cuda:0'), tensor([0.5000], device='cuda:0'), tensor([0.5000], device='cuda:0'), tensor([0.5000], device='cuda:0'), tensor([0.5000], device='cuda:0'), tensor([0.5000], device='cuda:0'), tensor([0.5000], device='cuda:0'), tensor([0.5000], device='cuda:0'), tensor([0.5000], device='cuda:0'), tensor([0.5000], device='cuda:0'), tensor([0.5000], device='cuda:0'), tensor([0.5000], device='cuda:0'), tensor([0.5000], device='cuda:0'), tensor([0.5000], device='cuda:0'), tensor([0.5000], device='cuda:0'), tensor([0.5000], device='cuda:0'), tensor([0.5000], device='cuda:0'), tensor([0.5000], device='cuda:0'), tensor([0.5000], device='cuda:0'), tensor([0.5000], device='cuda:0'), tensor([0.5000], device='cuda:0'), tensor([0.5000], device='cuda:0'), tensor([0.5000], device='cuda:0'), tensor([0.5000], device='cuda:0'), tensor([0.5000], device='cuda:0'), tensor([0.5000], device='cuda:0'), tensor([0.5000], device='cuda:0'), tensor([0.5000], device='cuda:0'), tensor([0.5000], device='cuda:0'), tensor([0.5000], device='cuda:0'), tensor([0.5000], device='cuda:0'), tensor([0.5000], device='cuda:0'), tensor([0.5000], device='cuda:0'), tensor([0.5000], device='cuda:0'), tensor([0.5000], device='cuda:0'), tensor([0.5000], device='cuda:0'), tensor([0.5000], device='cuda:0'), tensor([0.5000], device='cuda:0'), tensor([0.5000], device='cuda:0'), tensor([0.5000], device='cuda:0'), tensor([0.5000], device='cuda:0'), tensor([0.5000], device='cuda:0'), tensor([0.5000], device='cuda:0'), tensor([0.5000], device='cuda:0'), tensor([0.5000], device='cuda:0'), tensor([0.5000], device='cuda:0'), tensor([0.5000], device='cuda:0'), tensor([0.5000], device='cuda:0'), tensor([0.5000], device='cuda:0'), tensor([0.5000], device='cuda:0'), tensor([0.5000], device='cuda:0'), tensor([0.5000], device='cuda:0'), tensor([0.5000], device='cuda:0'), tensor([0.5000], device='cuda:0'), tensor([0.5000], device='cuda:0'), tensor([0.5000], device='cuda:0'), tensor([0.5000], device='cuda:0'), tensor([0.5000], device='cuda:0'), tensor([0.5000], device='cuda:0'), tensor([0.5000], device='cuda:0'), tensor([0.5000], device='cuda:0'), tensor([0.5000], device='cuda:0'), tensor([0.5000], device='cuda:0'), tensor([0.5000], device='cuda:0'), tensor([0.5000], device='cuda:0'), tensor([0.5000], device='cuda:0'), tensor([0.5000], device='cuda:0'), tensor([0.5000], device='cuda:0'), tensor([0.5000], device='cuda:0'), tensor([0.5000], device='cuda:0'), tensor([0.5000], device='cuda:0'), tensor([0.5000], device='cuda:0'), tensor([0.5000], device='cuda:0'), tensor([0.5000], device='cuda:0'), tensor([0.5000], device='cuda:0'), tensor([0.5000], device='cuda:0'), tensor([0.5000], device='cuda:0'), tensor([0.5000], device='cuda:0'), tensor([0.5000], device='cuda:0'), tensor([0.5000], device='cuda:0'), tensor([0.5000], device='cuda:0'), tensor([0.5000], device='cuda:0'), tensor([0.5000], device='cuda:0'), tensor([0.5000], device='cuda:0'), tensor([0.5000], device='cuda:0'), tensor([0.5000], device='cuda:0'), tensor([0.5000], device='cuda:0'), tensor([0.5000], device='cuda:0'), tensor([0.5000], device='cuda:0'), tensor([0.5000], device='cuda:0'), tensor([0.5000], device='cuda:0'), tensor([0.5000], device='cuda:0'), tensor([0.5000], device='cuda:0'), tensor([0.5000], device='cuda:0'), tensor([0.5000], device='cuda:0'), tensor([0.5000], device='cuda:0'), tensor([0.5000], device='cuda:0'), tensor([0.5000], device='cuda:0'), tensor([0.5000], device='cuda:0'), tensor([0.5000], device='cuda:0'), tensor([0.5000], device='cuda:0'), tensor([0.5000], device='cuda:0'), tensor([0.5000], device='cuda:0'), tensor([0.5000], device='cuda:0'), tensor([0.5000], device='cuda:0'), tensor([0.5000], device='cuda:0'), tensor([0.5000], device='cuda:0'), tensor([0.5000], device='cuda:0'), tensor([0.5000], device='cuda:0'), tensor([0.5000], device='cuda:0'), tensor([0.5000], device='cuda:0'), tensor([0.5000], device='cuda:0'), tensor([0.5000], device='cuda:0'), tensor([0.5000], device='cuda:0'), tensor([0.5000], device='cuda:0'), tensor([0.5000], device='cuda:0'), tensor([0.5000], device='cuda:0'), tensor([0.5000], device='cuda:0'), tensor([0.5000], device='cuda:0'), tensor([0.5000], device='cuda:0'), tensor([0.5000], device='cuda:0'), tensor([0.5000], device='cuda:0'), tensor([0.5000], device='cuda:0'), tensor([0.5000], device='cuda:0'), tensor([0.5000], device='cuda:0'), tensor([0.5000], device='cuda:0'), tensor([0.5000], device='cuda:0'), tensor([0.5000], device='cuda:0'), tensor([0.5000], device='cuda:0'), tensor([0.5000], device='cuda:0'), tensor([0.5000], device='cuda:0'), tensor([0.5000], device='cuda:0'), tensor([0.5000], device='cuda:0'), tensor([0.5000], device='cuda:0'), tensor([0.5000], device='cuda:0'), tensor([0.5000], device='cuda:0'), tensor([0.5000], device='cuda:0'), tensor([0.5000], device='cuda:0'), tensor([0.5000], device='cuda:0'), tensor([0.5000], device='cuda:0'), tensor([0.5000], device='cuda:0'), tensor([0.5000], device='cuda:0'), tensor([0.5000], device='cuda:0'), tensor([0.5000], device='cuda:0'), tensor([0.5000], device='cuda:0'), tensor([0.5000], device='cuda:0'), tensor([0.5000], device='cuda:0'), tensor([0.5000], device='cuda:0'), tensor([0.5000], device='cuda:0'), tensor([0.5000], device='cuda:0'), tensor([0.5000], device='cuda:0'), tensor([0.5000], device='cuda:0'), tensor([0.5000], device='cuda:0'), tensor([0.5000], device='cuda:0'), tensor([0.5000], device='cuda:0'), tensor([0.5000], device='cuda:0'), tensor([0.5000], device='cuda:0'), tensor([0.5000], device='cuda:0'), tensor([0.5000], device='cuda:0'), tensor([0.5000], device='cuda:0'), tensor([0.5000], device='cuda:0'), tensor([0.5000], device='cuda:0'), tensor([0.5000], device='cuda:0'), tensor([0.5000], device='cuda:0'), tensor([0.5000], device='cuda:0'), tensor([0.5000], device='cuda:0'), tensor([0.5000], device='cuda:0'), tensor([0.5000], device='cuda:0'), tensor([0.5000], device='cuda:0'), tensor([0.5000], device='cuda:0'), tensor([0.5000], device='cuda:0'), tensor([0.5000], device='cuda:0'), tensor([0.5000], device='cuda:0'), tensor([0.5000], device='cuda:0'), tensor([0.5000], device='cuda:0'), tensor([0.5000], device='cuda:0'), tensor([0.5000], device='cuda:0'), tensor([0.5000], device='cuda:0'), tensor([0.5000], device='cuda:0'), tensor([0.5000], device='cuda:0'), tensor([0.5000], device='cuda:0'), tensor([0.5000], device='cuda:0'), tensor([0.5000], device='cuda:0'), tensor([0.5000], device='cuda:0'), tensor([0.5000], device='cuda:0'), tensor([0.5000], device='cuda:0'), tensor([0.5000], device='cuda:0'), tensor([0.5000], device='cuda:0'), tensor([0.5000], device='cuda:0'), tensor([0.5000], device='cuda:0'), tensor([0.5000], device='cuda:0'), tensor([0.5000], device='cuda:0'), tensor([0.5000], device='cuda:0'), tensor([0.5000], device='cuda:0'), tensor([0.5000], device='cuda:0'), tensor([0.5000], device='cuda:0'), tensor([0.5000], device='cuda:0'), tensor([0.5000], device='cuda:0'), tensor([0.5000], device='cuda:0'), tensor([0.5000], device='cuda:0'), tensor([0.5000], device='cuda:0'), tensor([0.5000], device='cuda:0'), tensor([0.5000], device='cuda:0'), tensor([0.5000], device='cuda:0'), tensor([0.5000], device='cuda:0'), tensor([0.5000], device='cuda:0'), tensor([0.5000], device='cuda:0'), tensor([0.5000], device='cuda:0'), tensor([0.5000], device='cuda:0'), tensor([0.5000], device='cuda:0'), tensor([0.5000], device='cuda:0'), tensor([0.5000], device='cuda:0'), tensor([0.5000], device='cuda:0'), tensor([0.5000], device='cuda:0'), tensor([0.5000], device='cuda:0'), tensor([0.5000], device='cuda:0'), tensor([0.5000], device='cuda:0'), tensor([0.5000], device='cuda:0'), tensor([0.5000], device='cuda:0'), tensor([0.5000], device='cuda:0'), tensor([0.5000], device='cuda:0'), tensor([0.5000], device='cuda:0'), tensor([0.5000], device='cuda:0'), tensor([0.5000], device='cuda:0'), tensor([0.5000], device='cuda:0'), tensor([0.5000], device='cuda:0'), tensor([0.5000], device='cuda:0'), tensor([0.5000], device='cuda:0'), tensor([0.5000], device='cuda:0'), tensor([0.5000], device='cuda:0'), tensor([0.5000], device='cuda:0'), tensor([0.5000], device='cuda:0'), tensor([0.5000], device='cuda:0'), tensor([0.5000], device='cuda:0'), tensor([0.5000], device='cuda:0'), tensor([0.5000], device='cuda:0'), tensor([0.5000], device='cuda:0'), tensor([0.5000], device='cuda:0'), tensor([0.5000], device='cuda:0'), tensor([0.5000], device='cuda:0'), tensor([0.5000], device='cuda:0'), tensor([0.5000], device='cuda:0'), tensor([0.5000], device='cuda:0'), tensor([0.5000], device='cuda:0'), tensor([0.5000], device='cuda:0'), tensor([0.5000], device='cuda:0'), tensor([0.5000], device='cuda:0'), tensor([0.5000], device='cuda:0'), tensor([0.5000], device='cuda:0'), tensor([0.5000], device='cuda:0'), tensor([0.5000], device='cuda:0'), tensor([0.5000], device='cuda:0'), tensor([0.5000], device='cuda:0'), tensor([0.5000], device='cuda:0'), tensor([0.5000], device='cuda:0'), tensor([0.5000], device='cuda:0'), tensor([0.5000], device='cuda:0'), tensor([0.5000], device='cuda:0'), tensor([0.5000], device='cuda:0'), tensor([0.5000], device='cuda:0'), tensor([0.5000], device='cuda:0'), tensor([0.5000], device='cuda:0'), tensor([0.5000], device='cuda:0'), tensor([0.5000], device='cuda:0'), tensor([0.5000], device='cuda:0'), tensor([0.5000], device='cuda:0'), tensor([0.5000], device='cuda:0'), tensor([0.5000], device='cuda:0'), tensor([0.5000], device='cuda:0'), tensor([0.5000], device='cuda:0'), tensor([0.5000], device='cuda:0'), tensor([0.5000], device='cuda:0'), tensor([0.5000], device='cuda:0'), tensor([0.5000], device='cuda:0'), tensor([0.5000], device='cuda:0'), tensor([0.5000], device='cuda:0')]\n",
      "{'accuracy': 0.9565217391304348, 'f1': 0.0}\n"
     ]
    },
    {
     "name": "stderr",
     "output_type": "stream",
     "text": [
      "c:\\Users\\loicl\\Documents\\UniWork\\Year 3\\Dissertation\\TinyML-for-Epileptic-Seizures\\.venv\\Lib\\site-packages\\torch\\optim\\lr_scheduler.py:271: UserWarning: To get the last learning rate computed by the scheduler, please use `get_last_lr()`.\n",
      "  warnings.warn(\"To get the last learning rate computed by the scheduler, \"\n"
     ]
    },
    {
     "data": {
      "text/plain": [
       "[<matplotlib.lines.Line2D at 0x2851af329d0>]"
      ]
     },
     "execution_count": 49,
     "metadata": {},
     "output_type": "execute_result"
    },
    {
     "data": {
      "image/png": "[encoded data removed]",
      "text/plain": [
       "<Figure size 640x480 with 1 Axes>"
      ]
     },
     "metadata": {},
     "output_type": "display_data"
    }
   ],
   "source": [
    "print(f\"True Positives: {tp}\")\n",
    "print(f\"False Positives: {fp}\")\n",
    "print(f\"True Negatives: {tn}\")\n",
    "print(f\"False Negatives: {fn}\")\n",
    "print(results_list)\n",
    "print(results)\n",
    "\n",
    "# Plot schedular graph"
   ]
  },
  {
   "cell_type": "code",
   "execution_count": null,
   "metadata": {},
   "outputs": [],
   "source": [
    "# Plot losses\n",
    "plt.plot(range(len(loss_track_train)), loss_track_train, label=\"Training Loss\")\n",
    "plt.plot(range(len(loss_track_valid)), loss_track_valid, label=\"Validation Loss\")\n",
    "\n",
    "plt.title(\"Training and Validation Loss\")\n",
    "plt.xlabel(\"Epoch\")\n",
    "plt.ylabel(\"Loss\")\n",
    "\n",
    "\n",
    "plt.show()"
   ]
  },
  {
   "cell_type": "code",
   "execution_count": null,
   "metadata": {},
   "outputs": [],
   "source": [
    "torch.save(model.state_dict(), \"model_{}\".format(\"first_test\"))"
   ]
  }
 ],
 "metadata": {
  "kernelspec": {
   "display_name": ".venv",
   "language": "python",
   "name": "python3"
  },
  "language_info": {
   "codemirror_mode": {
    "name": "ipython",
    "version": 3
   },
   "file_extension": ".py",
   "mimetype": "text/x-python",
   "name": "python",
   "nbconvert_exporter": "python",
   "pygments_lexer": "ipython3",
   "version": "3.11.3"
  }
 },
 "nbformat": 4,
 "nbformat_minor": 2
}
