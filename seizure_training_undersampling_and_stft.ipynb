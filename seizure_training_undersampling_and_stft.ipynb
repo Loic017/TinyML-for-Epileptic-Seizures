{
 "cells": [
  {
   "cell_type": "markdown",
   "metadata": {},
   "source": [
    "# Import Data and Train Model\n"
   ]
  },
  {
   "cell_type": "code",
   "execution_count": 5,
   "metadata": {},
   "outputs": [],
   "source": [
    "import torch\n",
    "import torch.nn as nn\n",
    "import torch.nn.functional as F\n",
    "from torch.utils.data import Dataset, DataLoader\n",
    "from torch.utils.data.dataset import random_split\n",
    "from torchvision.transforms import ToTensor, Lambda\n",
    "import torchvision.transforms as T\n",
    "from transformers import get_scheduler, AdamW\n",
    "from datasets import load_metric\n",
    "\n",
    "import numpy as np\n",
    "from scipy.io import wavfile\n",
    "from scipy.fft import fft, fftfreq, fftshift\n",
    "from scipy.fftpack import dct\n",
    "import IPython.display\n",
    "import librosa\n",
    "from PIL import Image\n",
    "\n",
    "import matplotlib.pyplot as plt\n",
    "from matplotlib import cm\n",
    "%matplotlib inline\n",
    "import pandas as pd;\n",
    "import numpy as np\n",
    "import math\n",
    "\n",
    "from imblearn.over_sampling import SMOTE\n",
    "from imblearn.under_sampling import RandomUnderSampler\n",
    "\n",
    "import mne\n",
    "import mne.channels\n",
    "from tqdm.auto import tqdm\n"
   ]
  },
  {
   "cell_type": "markdown",
   "metadata": {},
   "source": [
    "## Load Data: Create Dataset\n"
   ]
  },
  {
   "cell_type": "markdown",
   "metadata": {},
   "source": [
    "### Load Absence Seizure Data\n"
   ]
  },
  {
   "cell_type": "code",
   "execution_count": 6,
   "metadata": {},
   "outputs": [],
   "source": [
    "class AbsenceDataset(Dataset):\n",
    "    def __init__(self, file_path, transform=None, target_transform=None):\n",
    "        self.x, self.y = self.data_get(file_path)\n",
    "        self.n_samples = len(self.x)\n",
    "\n",
    "        self.transform = transform\n",
    "        self.target_transform = target_transform\n",
    "\n",
    "    def __getitem__(self, idx):\n",
    "        sample_x, sample_y = self.x[idx], self.y[idx]\n",
    "\n",
    "        if self.transform:\n",
    "            sample_x = self.transform(sample_x)\n",
    "\n",
    "        if self.target_transform:\n",
    "            sample_y = self.target_transform(sample_y)\n",
    "\n",
    "        return sample_x.float(), sample_y.float()\n",
    "\n",
    "    def __len__(self):\n",
    "        return self.n_samples\n",
    "\n",
    "    def data_get(self, file_path):\n",
    "        data = pd.read_csv(file_path)\n",
    "        x_loaded, y_loaded = [], []\n",
    "        for index, row in data.iterrows():\n",
    "            a = np.load(row[\"labels\"])\n",
    "            for i, v in enumerate(a):\n",
    "                a[i] = int(v)\n",
    "            y_loaded.append(a)\n",
    "\n",
    "            x_loaded.append(np.load(row[\"data\"]))\n",
    "\n",
    "        continuous_x = np.concatenate(x_loaded, axis=0)\n",
    "        continuous_y = np.concatenate(y_loaded, axis=0)\n",
    "\n",
    "        return continuous_x, continuous_y"
   ]
  },
  {
   "cell_type": "code",
   "execution_count": 7,
   "metadata": {},
   "outputs": [],
   "source": [
    "%%capture\n",
    "# Load the dataset\n",
    "dataset = AbsenceDataset(\n",
    "    \"processed_data/absence/two_second_windows/epochs_files.csv\",\n",
    "    transform=torch.tensor,\n",
    "    target_transform=torch.tensor,\n",
    ")\n",
    "dataset.y = dataset.y.astype(int)"
   ]
  },
  {
   "cell_type": "code",
   "execution_count": 8,
   "metadata": {},
   "outputs": [
    {
     "data": {
      "text/plain": [
       "(8292, 5, 500)"
      ]
     },
     "execution_count": 8,
     "metadata": {},
     "output_type": "execute_result"
    }
   ],
   "source": [
    "dataset.x.shape"
   ]
  },
  {
   "cell_type": "markdown",
   "metadata": {},
   "source": [
    "# Split Data\n",
    "\n",
    "70%, 20%, 10%\n"
   ]
  },
  {
   "cell_type": "code",
   "execution_count": 9,
   "metadata": {},
   "outputs": [
    {
     "data": {
      "text/plain": [
       "8292"
      ]
     },
     "execution_count": 9,
     "metadata": {},
     "output_type": "execute_result"
    }
   ],
   "source": [
    "dataset_len = len(dataset)\n",
    "dataset_len"
   ]
  },
  {
   "cell_type": "code",
   "execution_count": 10,
   "metadata": {},
   "outputs": [
    {
     "name": "stdout",
     "output_type": "stream",
     "text": [
      "Train Split: 5805\n",
      "Eval Split: 1658\n",
      "Test Split: 829\n",
      "Total: 8292\n"
     ]
    }
   ],
   "source": [
    "if (\n",
    "    int(dataset_len * 0.7) + int(dataset_len * 0.2) + int(dataset_len * 0.1)\n",
    ") != dataset_len:\n",
    "    train_set, eval_set, test_set = random_split(\n",
    "        dataset,\n",
    "        [\n",
    "            math.ceil(dataset_len * 0.7),\n",
    "            int(dataset_len * 0.2),\n",
    "            int(dataset_len * 0.1),\n",
    "        ],\n",
    "    )\n",
    "else:\n",
    "    train_set, eval_set, test_set = random_split(\n",
    "        dataset,\n",
    "        [\n",
    "            int(dataset_len * 0.1),\n",
    "            int(dataset_len * 0.7),\n",
    "            int(dataset_len * 0.2),\n",
    "        ],\n",
    "    )\n",
    "\n",
    "print(f\"Train Split: {len(train_set)}\")\n",
    "print(f\"Eval Split: {len(eval_set)}\")\n",
    "print(f\"Test Split: {len(test_set)}\")\n",
    "print(f\"Total: {len(train_set) + len(eval_set) + len(test_set)}\")"
   ]
  },
  {
   "cell_type": "code",
   "execution_count": 11,
   "metadata": {},
   "outputs": [
    {
     "data": {
      "text/plain": [
       "((5805, 5, 500), (5805,))"
      ]
     },
     "execution_count": 11,
     "metadata": {},
     "output_type": "execute_result"
    }
   ],
   "source": [
    "train_set.dataset.x[train_set.indices].shape, train_set.dataset.y[\n",
    "    train_set.indices\n",
    "].shape"
   ]
  },
  {
   "cell_type": "markdown",
   "metadata": {},
   "source": [
    "## Random Undersampling\n"
   ]
  },
  {
   "cell_type": "code",
   "execution_count": 12,
   "metadata": {},
   "outputs": [
    {
     "name": "stdout",
     "output_type": "stream",
     "text": [
      "Background: 5558 // Absence Seizure: 247\n"
     ]
    }
   ],
   "source": [
    "bk, sz = 0, 0\n",
    "for i, v in enumerate(train_set.dataset.y[train_set.indices]):\n",
    "    if v == 1:\n",
    "        sz += 1\n",
    "    else:\n",
    "        bk += 1\n",
    "\n",
    "print(f\"Background: {bk} // Absence Seizure: {sz}\")"
   ]
  },
  {
   "cell_type": "code",
   "execution_count": 13,
   "metadata": {},
   "outputs": [
    {
     "data": {
      "text/plain": [
       "(5805, 2500)"
      ]
     },
     "execution_count": 13,
     "metadata": {},
     "output_type": "execute_result"
    }
   ],
   "source": [
    "shape = train_set.dataset.x[train_set.indices].shape\n",
    "data_reshaped = train_set.dataset.x[train_set.indices]\n",
    "data_reshaped = np.reshape(data_reshaped, (shape[0], shape[1] * shape[2]))\n",
    "data_reshaped.shape"
   ]
  },
  {
   "cell_type": "code",
   "execution_count": 14,
   "metadata": {},
   "outputs": [],
   "source": [
    "rand_us = RandomUnderSampler(random_state=42)\n",
    "train_set_x, train_set_y = rand_us.fit_resample(\n",
    "    data_reshaped, train_set.dataset.y[train_set.indices]\n",
    ")"
   ]
  },
  {
   "cell_type": "code",
   "execution_count": 15,
   "metadata": {},
   "outputs": [
    {
     "data": {
      "text/plain": [
       "((494, 5, 500), (1658, 5, 500))"
      ]
     },
     "execution_count": 15,
     "metadata": {},
     "output_type": "execute_result"
    }
   ],
   "source": [
    "train_set_x = np.reshape(train_set_x, (train_set_x.shape[0], shape[1], shape[2]))\n",
    "val_set_x = eval_set.dataset.x[eval_set.indices]\n",
    "train_set_x.shape, val_set_x.shape"
   ]
  },
  {
   "cell_type": "code",
   "execution_count": 16,
   "metadata": {},
   "outputs": [
    {
     "name": "stdout",
     "output_type": "stream",
     "text": [
      "Background: 247 // Absence Seizure: 247\n"
     ]
    }
   ],
   "source": [
    "bk, sz = 0, 0\n",
    "for i, v in enumerate(train_set_y):\n",
    "    if v == 1:\n",
    "        sz += 1\n",
    "    else:\n",
    "        bk += 1\n",
    "\n",
    "print(f\"Background: {bk} // Absence Seizure: {sz}\")"
   ]
  },
  {
   "cell_type": "markdown",
   "metadata": {},
   "source": [
    "# STFT\n"
   ]
  },
  {
   "cell_type": "markdown",
   "metadata": {},
   "source": [
    "Create STFT\n"
   ]
  },
  {
   "cell_type": "code",
   "execution_count": 17,
   "metadata": {},
   "outputs": [
    {
     "data": {
      "text/plain": [
       "((494, 5, 7, 12), (1658, 5, 7, 12))"
      ]
     },
     "execution_count": 17,
     "metadata": {},
     "output_type": "execute_result"
    }
   ],
   "source": [
    "n_fft = int(512 / 2)\n",
    "window = \"taylor\"\n",
    "hop_length = int(n_fft / 6)\n",
    "fmin = 0\n",
    "fmax = 5\n",
    "n_mels = 7\n",
    "sample_rate = 250\n",
    "\n",
    "# Train\n",
    "stft_channel_data = []\n",
    "for i, channels in enumerate(train_set_x):\n",
    "    stft_channel_data.append(\n",
    "        (\n",
    "            librosa.feature.melspectrogram(\n",
    "                y=channels,\n",
    "                sr=sample_rate,\n",
    "                n_mels=n_mels,\n",
    "                n_fft=n_fft,\n",
    "                fmin=fmin,\n",
    "                fmax=fmax,\n",
    "                hop_length=hop_length,\n",
    "                window=window,\n",
    "                center=True,\n",
    "                pad_mode=\"constant\",\n",
    "                power=3.0,\n",
    "            )\n",
    "        )\n",
    "    )\n",
    "stft_channel_data = np.array(stft_channel_data)\n",
    "\n",
    "# Val\n",
    "val_stft_channel_data = []\n",
    "for i, channels in enumerate(val_set_x):\n",
    "    val_stft_channel_data.append(\n",
    "        (\n",
    "            librosa.feature.melspectrogram(\n",
    "                y=channels,\n",
    "                sr=sample_rate,\n",
    "                n_mels=n_mels,\n",
    "                n_fft=n_fft,\n",
    "                fmin=fmin,\n",
    "                fmax=fmax,\n",
    "                hop_length=hop_length,\n",
    "                window=window,\n",
    "                center=True,\n",
    "                pad_mode=\"constant\",\n",
    "                power=3.0,\n",
    "            )\n",
    "        )\n",
    "    )\n",
    "val_stft_channel_data = np.array(val_stft_channel_data)\n",
    "\n",
    "stft_channel_data.shape, val_stft_channel_data.shape"
   ]
  },
  {
   "cell_type": "code",
   "execution_count": 18,
   "metadata": {},
   "outputs": [
    {
     "data": {
      "text/plain": [
       "((494, 5, 7, 12), (1658, 5, 7, 12))"
      ]
     },
     "execution_count": 18,
     "metadata": {},
     "output_type": "execute_result"
    }
   ],
   "source": [
    "# Train\n",
    "train_db = []\n",
    "for i, channels in enumerate(stft_channel_data):\n",
    "    train_db.append(librosa.amplitude_to_db((channels), ref=np.max))\n",
    "train_db = np.array(train_db)\n",
    "\n",
    "# Val\n",
    "val_db = []\n",
    "for i, channels in enumerate(val_stft_channel_data):\n",
    "    val_db.append(librosa.amplitude_to_db((channels), ref=np.max))\n",
    "val_db = np.array(val_db)\n",
    "\n",
    "train_db.shape, val_db.shape"
   ]
  },
  {
   "cell_type": "code",
   "execution_count": 19,
   "metadata": {},
   "outputs": [
    {
     "data": {
      "text/plain": [
       "((494, 7, 12), (1658, 7, 12))"
      ]
     },
     "execution_count": 19,
     "metadata": {},
     "output_type": "execute_result"
    }
   ],
   "source": [
    "# Train\n",
    "train_db_mean = []\n",
    "for i, channels in enumerate(stft_channel_data):\n",
    "    train_db_mean.append(np.mean(channels, axis=0))\n",
    "train_db_mean = np.array(train_db_mean)\n",
    "\n",
    "# Val\n",
    "val_db_mean = []\n",
    "for i, channels in enumerate(val_stft_channel_data):\n",
    "    val_db_mean.append(np.mean(channels, axis=0))\n",
    "val_db_mean = np.array(val_db_mean)\n",
    "\n",
    "train_db_mean.shape, val_db_mean.shape"
   ]
  },
  {
   "cell_type": "code",
   "execution_count": 20,
   "metadata": {},
   "outputs": [
    {
     "name": "stdout",
     "output_type": "stream",
     "text": [
      "1\n"
     ]
    }
   ],
   "source": [
    "x = 458\n",
    "print(train_set_y[x])"
   ]
  },
  {
   "cell_type": "code",
   "execution_count": 21,
   "metadata": {},
   "outputs": [
    {
     "data": {
      "text/plain": [
       "<matplotlib.image.AxesImage at 0x24b2c2664d0>"
      ]
     },
     "execution_count": 21,
     "metadata": {},
     "output_type": "execute_result"
    },
    {
     "data": {
      "image/png": "[encoded data removed]",
      "text/plain": [
       "<Figure size 640x480 with 1 Axes>"
      ]
     },
     "metadata": {},
     "output_type": "display_data"
    }
   ],
   "source": [
    "plt.imshow(train_db_mean[x])"
   ]
  },
  {
   "cell_type": "code",
   "execution_count": 22,
   "metadata": {},
   "outputs": [
    {
     "data": {
      "text/plain": [
       "Text(0.5, 1.0, 'Raw Channels')"
      ]
     },
     "execution_count": 22,
     "metadata": {},
     "output_type": "execute_result"
    },
    {
     "data": {
      "image/png": "[encoded data removed]",
      "text/plain": [
       "<Figure size 640x480 with 2 Axes>"
      ]
     },
     "metadata": {},
     "output_type": "display_data"
    }
   ],
   "source": [
    "plt.subplot(2, 1, 1)\n",
    "plt.plot(np.mean(train_db_mean[x], axis=1))\n",
    "plt.title(\"Mean of Mel Spectrogram\")\n",
    "plt.subplot(2, 1, 2)\n",
    "for i in train_set_x[x]:\n",
    "    plt.plot(i)\n",
    "plt.title(\"Raw Channels\")"
   ]
  },
  {
   "cell_type": "code",
   "execution_count": 23,
   "metadata": {},
   "outputs": [
    {
     "data": {
      "text/plain": [
       "((7,),\n",
       " array([1.88699942e-07, 2.42614209e-07, 1.53510071e-07, 2.07554704e-06,\n",
       "        4.51795756e-06, 1.51115316e-06, 5.13996460e-07]))"
      ]
     },
     "execution_count": 23,
     "metadata": {},
     "output_type": "execute_result"
    }
   ],
   "source": [
    "np.mean(train_db_mean[x], axis=1).shape, np.mean(train_db_mean[x], axis=1)"
   ]
  },
  {
   "cell_type": "code",
   "execution_count": 24,
   "metadata": {},
   "outputs": [],
   "source": [
    "final_train_data = []\n",
    "for i, v in enumerate(train_db_mean):\n",
    "    final_train_data.append(np.mean(v, axis=1))\n",
    "final_train_data = np.array(final_train_data)\n",
    "\n",
    "final_val_data = []\n",
    "for i, v in enumerate(val_db_mean):\n",
    "    final_val_data.append(np.mean(v, axis=1))\n",
    "final_val_data = np.array(final_val_data)"
   ]
  },
  {
   "cell_type": "code",
   "execution_count": 25,
   "metadata": {},
   "outputs": [
    {
     "data": {
      "text/plain": [
       "((7,),\n",
       " array([1.88699942e-07, 2.42614209e-07, 1.53510071e-07, 2.07554704e-06,\n",
       "        4.51795756e-06, 1.51115316e-06, 5.13996460e-07]))"
      ]
     },
     "execution_count": 25,
     "metadata": {},
     "output_type": "execute_result"
    }
   ],
   "source": [
    "final_train_data[x].shape, final_train_data[x]"
   ]
  },
  {
   "cell_type": "markdown",
   "metadata": {},
   "source": [
    "Display STFT\n"
   ]
  },
  {
   "cell_type": "markdown",
   "metadata": {},
   "source": [
    "# Remake Dataset\n"
   ]
  },
  {
   "cell_type": "code",
   "execution_count": 26,
   "metadata": {},
   "outputs": [],
   "source": [
    "class BalancedDataset(Dataset):\n",
    "    def __init__(self, data, transform=None, target_transform=None):\n",
    "        self.x, self.y = data\n",
    "        self.n_samples = len(self.x)\n",
    "\n",
    "        self.transform = transform\n",
    "        self.target_transform = target_transform\n",
    "\n",
    "    def __getitem__(self, idx):\n",
    "        sample_x, sample_y = self.x[idx], self.y[idx]\n",
    "\n",
    "        if self.transform:\n",
    "            sample_x = self.transform(sample_x)\n",
    "\n",
    "        if self.target_transform:\n",
    "            sample_y = self.target_transform(sample_y)\n",
    "\n",
    "        return sample_x.float(), sample_y.float()\n",
    "\n",
    "    def __len__(self):\n",
    "        return self.n_samples"
   ]
  },
  {
   "cell_type": "code",
   "execution_count": 27,
   "metadata": {},
   "outputs": [],
   "source": [
    "new_balanced_train_dataset = BalancedDataset(\n",
    "    (final_train_data, train_set_y),\n",
    "    transform=torch.tensor,\n",
    "    target_transform=torch.tensor,\n",
    ")\n",
    "mfcc_eval_dataset = BalancedDataset(\n",
    "    (final_val_data, eval_set.dataset.y[eval_set.indices]),\n",
    "    transform=torch.tensor,\n",
    "    target_transform=torch.tensor,\n",
    ")"
   ]
  },
  {
   "cell_type": "code",
   "execution_count": null,
   "metadata": {},
   "outputs": [],
   "source": [
    "# # Train\n",
    "# train_db = []\n",
    "# for i, channels in enumerate(stft_channel_data):\n",
    "#     train_db.append(librosa.amplitude_to_db((channels), ref=np.max))\n",
    "# train_db = np.array(train_db)\n",
    "\n",
    "# # Val\n",
    "# val_db = []\n",
    "# for i, channels in enumerate(val_stft_channel_data):\n",
    "#     val_db.append(librosa.amplitude_to_db((channels), ref=np.max))\n",
    "# val_db = np.array(val_db)\n",
    "\n",
    "# train_db.shape, val_db.shape"
   ]
  },
  {
   "cell_type": "markdown",
   "metadata": {},
   "source": [
    "# Visualize Data\n"
   ]
  },
  {
   "cell_type": "code",
   "execution_count": 28,
   "metadata": {},
   "outputs": [
    {
     "data": {
      "image/png": "[encoded data removed]",
      "text/plain": [
       "<Figure size 2000x500 with 6 Axes>"
      ]
     },
     "metadata": {},
     "output_type": "display_data"
    }
   ],
   "source": [
    "# Plot 3 of each class\n",
    "fig, axs = plt.subplots(2, 3, figsize=(20, 5))\n",
    "fig.suptitle(\n",
    "    \"3 samples of each class: Absence Seizure and Background - Plotted as images with values scaled to 0-255\"\n",
    ")\n",
    "\n",
    "c1 = 0\n",
    "c0 = 0\n",
    "\n",
    "for i, v in enumerate(train_set.dataset.y[train_set.indices]):\n",
    "    if v == 0 and c0 < 3:\n",
    "        clone = train_set.dataset.x[train_set.indices][i]\n",
    "        max_pixel = 0\n",
    "        min_pixel = 0\n",
    "        for m, b in enumerate(clone):\n",
    "            for j, n in enumerate(clone[m]):\n",
    "                if n > max_pixel:\n",
    "                    max_pixel = n\n",
    "                if n < min_pixel:\n",
    "                    min_pixel = n\n",
    "\n",
    "        for m, b in enumerate(clone):\n",
    "            for j, n in enumerate(clone[m]):\n",
    "                a = clone[m][j] - min_pixel\n",
    "                b = 255 / (max_pixel - min_pixel)\n",
    "                norm = a * b\n",
    "                if norm > 255:\n",
    "                    norm = 255\n",
    "                if norm < 0:\n",
    "                    norm = 0\n",
    "                clone[m][j] = norm\n",
    "\n",
    "        # Increase image size for better visibility if needed\n",
    "        clone = np.repeat(clone, 50, axis=0)\n",
    "\n",
    "        axs[0, c0].imshow(clone, cmap=\"gray\")\n",
    "        axs[0, c0].set_title(f\"Label 0: Background // Data Index: {i}\")\n",
    "        axs[0, c0].set_yticks([])\n",
    "        axs[0, c0].set_xticks([0, 1000])\n",
    "        axs[0, c0].set_xlabel(\"Data Points Per Window\")\n",
    "\n",
    "        c0 += 1\n",
    "\n",
    "    if v == 1 and c1 < 3:\n",
    "        clone = train_set.dataset.x[train_set.indices][i]\n",
    "        max_pixel = 0\n",
    "        min_pixel = 0\n",
    "\n",
    "        for m, b in enumerate(clone):\n",
    "            for j, n in enumerate(clone[m]):\n",
    "                if n > max_pixel:\n",
    "                    max_pixel = n\n",
    "                if n < min_pixel:\n",
    "                    min_pixel = n\n",
    "\n",
    "        for m, b in enumerate(clone):\n",
    "            for j, n in enumerate(clone[m]):\n",
    "                a = clone[m][j] - min_pixel\n",
    "                b = 255 / (max_pixel - min_pixel)\n",
    "                norm = a * b\n",
    "                if norm > 255:\n",
    "                    norm = 255\n",
    "                if norm < 0:\n",
    "                    norm = 0\n",
    "                clone[m][j] = norm\n",
    "\n",
    "        # Increase image size for better visibility if needed\n",
    "        clone = np.repeat(clone, 50, axis=0)\n",
    "\n",
    "        axs[1, c1].imshow(clone, cmap=\"gray\")\n",
    "        axs[1, c1].set_title(f\"Label 1: Absence Seizure // Data Index: {i}\")\n",
    "        axs[1, c1].set_yticks([])\n",
    "        axs[1, c1].set_xticks([0, 1000])\n",
    "        axs[1, c1].set_xlabel(\"Data Points Per Window\")\n",
    "\n",
    "        c1 += 1\n",
    "\n",
    "    if c1 == 3 and c0 == 3:\n",
    "        break\n",
    "\n",
    "    # new_img = Image.fromarray(clone)"
   ]
  },
  {
   "cell_type": "code",
   "execution_count": null,
   "metadata": {},
   "outputs": [],
   "source": [
    "# Plot 3 of each class\n",
    "fig, axs = plt.subplots(2, 3, figsize=(20, 10))\n",
    "fig.suptitle(\"3 samples of each class\")\n",
    "c0 = 0\n",
    "c1 = 0\n",
    "for i, v in enumerate(train_set.dataset.x[train_set.indices]):\n",
    "    if c0 < 3 and train_set.dataset.y[train_set.indices][i] == 0:\n",
    "        axs[0, c0].plot(train_set.dataset.x[train_set.indices][i][0], label=\"Channel 1\")\n",
    "        axs[0, c0].plot(train_set.dataset.x[train_set.indices][i][1], label=\"Channel 2\")\n",
    "        axs[0, c0].plot(train_set.dataset.x[train_set.indices][i][2], label=\"Channel 3\")\n",
    "        axs[0, c0].plot(train_set.dataset.x[train_set.indices][i][3], label=\"Channel 4\")\n",
    "        axs[0, c0].plot(train_set.dataset.x[train_set.indices][i][4], label=\"Channel 5\")\n",
    "        axs[0, c0].legend(loc=\"upper right\")\n",
    "        axs[0, c0].set_title(f\"Label 0: Background // Data Index: {i}\")\n",
    "        c0 += 1\n",
    "    elif c1 < 3 and train_set.dataset.y[train_set.indices][i] == 1:\n",
    "        axs[1, c1].plot(train_set.dataset.x[train_set.indices][i][0], label=\"Channel 1\")\n",
    "        axs[1, c1].plot(train_set.dataset.x[train_set.indices][i][1], label=\"Channel 2\")\n",
    "        axs[1, c1].plot(train_set.dataset.x[train_set.indices][i][2], label=\"Channel 3\")\n",
    "        axs[1, c1].plot(train_set.dataset.x[train_set.indices][i][3], label=\"Channel 4\")\n",
    "        axs[1, c1].plot(train_set.dataset.x[train_set.indices][i][4], label=\"Channel 5\")\n",
    "        axs[1, c1].legend(loc=\"upper right\")\n",
    "        axs[1, c1].set_title(f\"Label 1: Absence Seizure // Data Index: {i}\")\n",
    "        c1 += 1\n",
    "\n",
    "    if c0 == 3 and c1 == 3:\n",
    "        break\n",
    "plt.show()"
   ]
  },
  {
   "cell_type": "code",
   "execution_count": null,
   "metadata": {},
   "outputs": [],
   "source": [
    "# Plot 3 of each class\n",
    "fig, axs = plt.subplots(2, 3, figsize=(20, 10))\n",
    "fig.suptitle(\"3 samples of each class\")\n",
    "c0 = 0\n",
    "c1 = 0\n",
    "for i, v in enumerate(x_train_reshaped):\n",
    "    if c0 < 3 and train_set.dataset.y[train_set.indices][i] == 0:\n",
    "        axs[0, c0].plot(x_train_reshaped[i])\n",
    "        axs[0, c0].set_title(f\"Label 0: Background // Data Index: {i}\")\n",
    "        c0 += 1\n",
    "    elif c1 < 3 and train_set.dataset.y[train_set.indices][i] == 1:\n",
    "        axs[1, c1].plot(x_train_reshaped[i])\n",
    "        axs[1, c1].set_title(f\"Label 1: Absence Seizure // Data Index: {i}\")\n",
    "        c1 += 1\n",
    "\n",
    "    if c0 == 3 and c1 == 3:\n",
    "        break\n",
    "plt.show()"
   ]
  },
  {
   "cell_type": "markdown",
   "metadata": {},
   "source": [
    "# DataLoaders\n"
   ]
  },
  {
   "cell_type": "code",
   "execution_count": 29,
   "metadata": {},
   "outputs": [],
   "source": [
    "train_dataloader = DataLoader(\n",
    "    dataset=new_balanced_train_dataset,\n",
    "    batch_size=1,\n",
    "    shuffle=True,\n",
    ")\n",
    "eval_dataloader = DataLoader(dataset=mfcc_eval_dataset, batch_size=1, shuffle=True)\n",
    "test_dataloader = DataLoader(dataset=test_set, batch_size=1, shuffle=True)"
   ]
  },
  {
   "cell_type": "markdown",
   "metadata": {},
   "source": [
    "# Model\n"
   ]
  },
  {
   "cell_type": "markdown",
   "metadata": {},
   "source": [
    "## Model 1: CNN\n"
   ]
  },
  {
   "cell_type": "markdown",
   "metadata": {},
   "source": [
    "### 1D Model\n"
   ]
  },
  {
   "cell_type": "code",
   "execution_count": 40,
   "metadata": {},
   "outputs": [
    {
     "name": "stdout",
     "output_type": "stream",
     "text": [
      "Number of parameters in model: 3,606\n"
     ]
    }
   ],
   "source": [
    "class AbnormalNeuralNetwork(nn.Module):\n",
    "    def __init__(self):\n",
    "        super().__init__()\n",
    "        # Input 5 Channels\n",
    "        self.CNN1 = nn.Conv1d(in_channels=1, out_channels=20, kernel_size=2)\n",
    "        self.MaxPool1 = nn.MaxPool1d(kernel_size=2, stride=2)\n",
    "\n",
    "        self.CNN2 = nn.Conv1d(in_channels=20, out_channels=30, kernel_size=2)\n",
    "        self.MaxPool2 = nn.MaxPool1d(kernel_size=2, stride=2)\n",
    "\n",
    "        self.CNN3 = nn.Conv1d(in_channels=30, out_channels=45, kernel_size=1)\n",
    "        self.MaxPool3 = nn.MaxPool1d(kernel_size=1, stride=1)\n",
    "\n",
    "        self.global_avg = nn.AdaptiveAvgPool2d(1)\n",
    "\n",
    "        # RuntimeError: mat1 and mat2 shapes cannot be multiplied (1x38 and 6x100)\n",
    "        self.fc1 = nn.Linear(in_features=1, out_features=20)\n",
    "        self.fc2 = nn.Linear(in_features=20, out_features=40)\n",
    "        self.output = nn.Linear(in_features=40, out_features=1)\n",
    "\n",
    "    def forward(self, x):\n",
    "        out = F.relu(self.CNN1(x))\n",
    "        out = self.MaxPool1(out)\n",
    "\n",
    "        out = F.relu(self.CNN2(out))\n",
    "        out = self.MaxPool2(out)\n",
    "\n",
    "        out = F.relu(self.CNN3(out))\n",
    "        out = self.MaxPool3(out)\n",
    "\n",
    "        out = self.global_avg(out)\n",
    "        out = torch.flatten(out)\n",
    "\n",
    "        out = F.relu(self.fc1(out))\n",
    "        out = F.relu(self.fc2(out))\n",
    "        out = self.output(out)\n",
    "        return x\n",
    "\n",
    "\n",
    "# Set device to GPU\n",
    "device = torch.device(\"cuda\" if torch.cuda.is_available() else \"cpu\")\n",
    "\n",
    "# Initialize model\n",
    "model = AbnormalNeuralNetwork().to(device)\n",
    "\n",
    "# Calculate number of parameters in model\n",
    "n_params = 0\n",
    "for x in model.parameters():\n",
    "    n_params += len(torch.flatten(x))\n",
    "print(f\"Number of parameters in model: {n_params:,}\")\n",
    "\n",
    "# Print Model\n",
    "model = model.to(device)"
   ]
  },
  {
   "cell_type": "markdown",
   "metadata": {},
   "source": [
    "### 2D Model\n"
   ]
  },
  {
   "cell_type": "code",
   "execution_count": 84,
   "metadata": {},
   "outputs": [
    {
     "name": "stdout",
     "output_type": "stream",
     "text": [
      "Number of parameters in model: 1,393,538\n"
     ]
    },
    {
     "data": {
      "text/plain": [
       "AbnormalNeuralNetwork(\n",
       "  (CNN1): Conv2d(1, 64, kernel_size=(3, 3), stride=(1, 1), padding=(1, 0))\n",
       "  (MaxPool1): MaxPool2d(kernel_size=(6, 6), stride=2, padding=0, dilation=1, ceil_mode=False)\n",
       "  (CNN2): Conv2d(64, 128, kernel_size=(3, 3), stride=(1, 1), padding=(1, 0))\n",
       "  (MaxPool2): MaxPool2d(kernel_size=2, stride=2, padding=0, dilation=1, ceil_mode=False)\n",
       "  (CNN3): Conv2d(128, 1, kernel_size=(3, 3), stride=(1, 1), padding=(1, 0))\n",
       "  (MaxPool3): MaxPool2d(kernel_size=(1, 1), stride=2, padding=0, dilation=1, ceil_mode=False)\n",
       "  (fc1): Linear(in_features=260, out_features=1024, bias=True)\n",
       "  (fc2): Linear(in_features=1024, out_features=1024, bias=True)\n",
       "  (output): Linear(in_features=1024, out_features=1, bias=True)\n",
       ")"
      ]
     },
     "execution_count": 84,
     "metadata": {},
     "output_type": "execute_result"
    }
   ],
   "source": [
    "class AbnormalNeuralNetwork(nn.Module):\n",
    "    def __init__(self):\n",
    "        super().__init__()\n",
    "        # Input 5 Channels\n",
    "        self.CNN1 = nn.Conv2d(\n",
    "            in_channels=1, out_channels=64, kernel_size=3, padding=(1, 0)\n",
    "        )\n",
    "        self.MaxPool1 = nn.MaxPool2d(kernel_size=(6, 6), stride=2)\n",
    "\n",
    "        self.CNN2 = nn.Conv2d(\n",
    "            in_channels=64, out_channels=128, kernel_size=3, padding=(1, 0)\n",
    "        )\n",
    "        self.MaxPool2 = nn.MaxPool2d(kernel_size=2, stride=2)\n",
    "\n",
    "        self.CNN3 = nn.Conv2d(\n",
    "            in_channels=128, out_channels=1, kernel_size=3, padding=(1, 0)\n",
    "        )\n",
    "        self.MaxPool3 = nn.MaxPool2d(kernel_size=(1, 1), stride=2)\n",
    "\n",
    "        # RuntimeError: mat1 and mat2 shapes cannot be multiplied (64x260 and 5043x1024)\n",
    "        self.fc1 = nn.Linear(260, 1024)\n",
    "        # self.dropout1 = nn.Dropout(p=0.3)\n",
    "\n",
    "        self.fc2 = nn.Linear(1024, 1024)\n",
    "        # self.dropout2 = nn.Dropout(p=0.3)\n",
    "\n",
    "        # Output Layer\n",
    "        self.output = nn.Linear(in_features=1024, out_features=1)\n",
    "\n",
    "    def forward(self, x):\n",
    "        x = F.relu(self.CNN1(x))\n",
    "        x = self.MaxPool1(x)\n",
    "\n",
    "        x = F.relu(self.CNN2(x))\n",
    "        x = self.MaxPool2(x)\n",
    "\n",
    "        x = F.relu(self.CNN3(x))\n",
    "        x = self.MaxPool3(x)\n",
    "\n",
    "        x = torch.flatten(x)\n",
    "\n",
    "        x = F.relu(self.fc1(x))\n",
    "\n",
    "        x = F.relu(self.fc2(x))\n",
    "\n",
    "        x = self.output(x)\n",
    "        x = F.relu(x)\n",
    "        return x\n",
    "\n",
    "\n",
    "device = torch.device(\"cuda\" if torch.cuda.is_available() else \"cpu\")\n",
    "\n",
    "# Initialize model\n",
    "model = AbnormalNeuralNetwork().to(device)\n",
    "\n",
    "# Calculate number of parameters in model\n",
    "n_params = 0\n",
    "for x in model.parameters():\n",
    "    n_params += len(torch.flatten(x))\n",
    "print(f\"Number of parameters in model: {n_params:,}\")\n",
    "\n",
    "# Print Model\n",
    "model = model.to(device)\n",
    "model"
   ]
  },
  {
   "cell_type": "markdown",
   "metadata": {},
   "source": [
    "### 2D Model 2: CNN\n"
   ]
  },
  {
   "cell_type": "code",
   "execution_count": null,
   "metadata": {},
   "outputs": [],
   "source": [
    "class Net(nn.Module):\n",
    "    def __init__(self):\n",
    "        super(Net, self).__init__()\n",
    "        self.conv1 = nn.Conv2d(4, 32, kernel_size=10)\n",
    "        self.pool = nn.MaxPool2d(kernel_size=2, stride=2)\n",
    "        self.conv2 = nn.Conv2d(32, 64, kernel_size=10)\n",
    "        self.conv3 = nn.Conv2d(64, 128, kernel_size=10)\n",
    "        self.global_avg = nn.AdaptiveAvgPool2d(1)\n",
    "        self.fc1 = nn.Linear(128, 164)\n",
    "        self.fc2 = nn.Linear(164, 164)\n",
    "        self.fc3 = nn.Linear(164, 1)\n",
    "\n",
    "    def forward(self, out):\n",
    "        out = self.pool(F.relu(self.conv1(out)))\n",
    "        out = self.pool(F.relu(self.conv2(out)))\n",
    "        out = self.pool(F.relu(self.conv3(out)))\n",
    "        out = self.global_avg(out)\n",
    "        out = torch.flatten(out)\n",
    "        out = F.relu(self.fc1(out))\n",
    "        out = F.relu(self.fc2(out))\n",
    "        out = self.fc3(out)\n",
    "        return out\n",
    "\n",
    "\n",
    "device = torch.device(\"cuda\" if torch.cuda.is_available() else \"cpu\")\n",
    "\n",
    "# Initialize model\n",
    "model = Net().to(device)\n",
    "\n",
    "# Calculate number of parameters in model\n",
    "n_params = 0\n",
    "for x in model.parameters():\n",
    "    n_params += len(torch.flatten(x))\n",
    "print(f\"Number of parameters in model: {n_params:,}\")\n",
    "\n",
    "# Print Model\n",
    "model = model.to(device)\n",
    "model"
   ]
  },
  {
   "cell_type": "markdown",
   "metadata": {},
   "source": [
    "## Model 2: Linear\n"
   ]
  },
  {
   "cell_type": "markdown",
   "metadata": {},
   "source": [
    "### 1\n"
   ]
  },
  {
   "cell_type": "code",
   "execution_count": 97,
   "metadata": {},
   "outputs": [
    {
     "name": "stdout",
     "output_type": "stream",
     "text": [
      "Number of parameters in model: 16,637\n"
     ]
    }
   ],
   "source": [
    "class LinearRegression(nn.Module):\n",
    "    def __init__(self):\n",
    "        super().__init__()\n",
    "        self.linear1 = nn.Linear(7, 64)\n",
    "        self.linear2 = nn.Linear(64, 124)\n",
    "        self.linear3 = nn.Linear(124, 64)\n",
    "        self.output = nn.Linear(64, 1)\n",
    "\n",
    "    def forward(self, out):\n",
    "        out = F.relu(self.linear1(out))\n",
    "        out = F.relu(self.linear2(out))\n",
    "        out = F.relu(self.linear3(out))\n",
    "        out = self.output(out)\n",
    "        return out\n",
    "\n",
    "\n",
    "device = torch.device(\"cuda\" if torch.cuda.is_available() else \"cpu\")\n",
    "model = LinearRegression().to(device)\n",
    "\n",
    "optimizer = torch.optim.SGD(model.parameters(), lr=0.01)\n",
    "loss_fn = nn.MSELoss()\n",
    "\n",
    "n_params = 0\n",
    "for x in model.parameters():\n",
    "    n_params += len(torch.flatten(x))\n",
    "print(f\"Number of parameters in model: {n_params:,}\")"
   ]
  },
  {
   "cell_type": "markdown",
   "metadata": {},
   "source": [
    "## RNN\n"
   ]
  },
  {
   "cell_type": "code",
   "execution_count": 30,
   "metadata": {},
   "outputs": [],
   "source": [
    "class RNN(nn.Module):\n",
    "    def __init__(self):\n",
    "        super(RNN, self).__init__()\n",
    "        self.rnn = nn.RNN(\n",
    "            input_size=7,\n",
    "            hidden_size=78,\n",
    "            num_layers=10,\n",
    "            batch_first=True,\n",
    "            nonlinearity=\"relu\",\n",
    "        )\n",
    "        self.fc = nn.Linear(78, 1)\n",
    "\n",
    "    def forward(self, x):\n",
    "        out, _ = self.rnn(x)\n",
    "        out = self.fc(out[-1])\n",
    "        return out\n",
    "\n",
    "\n",
    "device = torch.device(\"cuda\" if torch.cuda.is_available() else \"cpu\")\n",
    "model = RNN().to(device)"
   ]
  },
  {
   "cell_type": "markdown",
   "metadata": {},
   "source": [
    "# Train\n"
   ]
  },
  {
   "cell_type": "markdown",
   "metadata": {},
   "source": [
    "## Training Loop\n"
   ]
  },
  {
   "cell_type": "markdown",
   "metadata": {},
   "source": [
    "### Print Inputs\n"
   ]
  },
  {
   "cell_type": "code",
   "execution_count": 31,
   "metadata": {},
   "outputs": [
    {
     "name": "stdout",
     "output_type": "stream",
     "text": [
      "Train // Background: 247 // Absence Seizure: 247\n",
      "Validation // Background: 1580 // Absence Seizure: 78\n"
     ]
    }
   ],
   "source": [
    "# Plot distribution of the dataset before balancing\n",
    "# 0 - Background epoch\n",
    "# 1 - Absence seizure epoch\n",
    "\n",
    "bk = 0\n",
    "sz = 0\n",
    "for i, v in enumerate(train_dataloader):\n",
    "    if v[1].squeeze() == torch.tensor([1.0]):\n",
    "        sz += 1\n",
    "    else:\n",
    "        bk += 1\n",
    "\n",
    "print(f\"Train // Background: {bk} // Absence Seizure: {sz}\")\n",
    "\n",
    "bk = 0\n",
    "sz = 0\n",
    "for i, v in enumerate(eval_dataloader):\n",
    "    if v[1].squeeze() == torch.tensor([1.0]):\n",
    "        sz += 1\n",
    "    else:\n",
    "        bk += 1\n",
    "\n",
    "print(f\"Validation // Background: {bk} // Absence Seizure: {sz}\")"
   ]
  },
  {
   "cell_type": "markdown",
   "metadata": {},
   "source": [
    "### Training\n"
   ]
  },
  {
   "cell_type": "code",
   "execution_count": 98,
   "metadata": {},
   "outputs": [
    {
     "name": "stdout",
     "output_type": "stream",
     "text": [
      "torch.Size([1, 7]) tensor([0.])\n",
      "torch.Size([1, 7]) tensor([0.])\n"
     ]
    }
   ],
   "source": [
    "for i, v in enumerate(eval_dataloader):\n",
    "    first_input = v[0]\n",
    "    first_label = v[1]\n",
    "    break\n",
    "\n",
    "print(first_input.shape, first_label)\n",
    "\n",
    "for i, v in enumerate(train_dataloader):\n",
    "    first_input = v[0]\n",
    "    first_label = v[1]\n",
    "    break\n",
    "\n",
    "print(first_input.shape, first_label)"
   ]
  },
  {
   "cell_type": "code",
   "execution_count": 104,
   "metadata": {},
   "outputs": [],
   "source": [
    "num_epochs = 300\n",
    "optimizer = torch.optim.SGD(model.parameters(), lr=0.001)\n",
    "loss_fn = nn.CrossEntropyLoss()\n",
    "scheduler = get_scheduler(\n",
    "    \"linear\",\n",
    "    optimizer,\n",
    "    num_warmup_steps=0,\n",
    "    num_training_steps=num_epochs * len(train_dataloader),\n",
    ")"
   ]
  },
  {
   "cell_type": "code",
   "execution_count": 105,
   "metadata": {},
   "outputs": [],
   "source": [
    "# for batch in train_dataloader:\n",
    "#         inputs, labels = batch\n",
    "#         inputs, labels = inputs.to(device), labels.to(device)\n",
    "#         plt.plot(inputs[0].cpu().numpy())\n",
    "#         print(labels)\n",
    "#         break"
   ]
  },
  {
   "cell_type": "code",
   "execution_count": 106,
   "metadata": {},
   "outputs": [
    {
     "name": "stderr",
     "output_type": "stream",
     "text": [
      "100%|██████████| 24700/24700 [01:07<00:00, 367.58it/s]\n"
     ]
    },
    {
     "name": "stdout",
     "output_type": "stream",
     "text": [
      "Done\n"
     ]
    }
   ],
   "source": [
    "progress_bar = tqdm(range(num_epochs * len(train_dataloader)))\n",
    "\n",
    "loss_track = []\n",
    "model.train()\n",
    "for epoch in range(num_epochs):\n",
    "    running_loss = 0.0\n",
    "    for batch in train_dataloader:\n",
    "        inputs, labels = batch\n",
    "        inputs, labels = inputs.to(device), labels.to(device)\n",
    "        inputs = inputs.squeeze()\n",
    "        # print(inputs.shape, labels.shape)\n",
    "\n",
    "        # print(type(inputs))\n",
    "        # numpy_inputs = inputs.cpu().detach().numpy()\n",
    "        # image = numpy_inputs.transpose(1, 2, 0)\n",
    "        # image = image.astype(\"uint8\")\n",
    "        # image = Image.fromarray(image)\n",
    "        # image.show()\n",
    "        # print(labels)\n",
    "        # break\n",
    "\n",
    "        optimizer.zero_grad()\n",
    "\n",
    "        outputs = model(inputs)\n",
    "\n",
    "        # outputs = outputs.squeeze(-1)  # Not needed for LR\n",
    "        # outputs = outputs.squeeze(-1)  # Not needed for LR\n",
    "\n",
    "        loss = loss_fn(outputs, labels)\n",
    "        loss.backward()\n",
    "        optimizer.step()\n",
    "\n",
    "        scheduler.step()\n",
    "        progress_bar.update(1)\n",
    "\n",
    "        loss_track.append(loss)\n",
    "    # break\n",
    "\n",
    "print(\"Done\")"
   ]
  },
  {
   "cell_type": "code",
   "execution_count": 108,
   "metadata": {},
   "outputs": [
    {
     "name": "stderr",
     "output_type": "stream",
     "text": [
      "c:\\Users\\loicl\\Documents\\UniWork\\Year 3\\Dissertation\\TinyML-for-Epileptic-Seizures\\.venv\\Lib\\site-packages\\datasets\\load.py:756: FutureWarning: The repository for glue contains custom code which must be executed to correctly load the metric. You can inspect the repository content at https://raw.githubusercontent.com/huggingface/datasets/2.18.0/metrics/glue/glue.py\n",
      "You can avoid this message in future by passing the argument `trust_remote_code=True`.\n",
      "Passing `trust_remote_code=True` will be mandatory to load this metric from the next major release of `datasets`.\n",
      "  warnings.warn(\n"
     ]
    }
   ],
   "source": [
    "metric = load_metric(\"glue\", \"mrpc\")\n",
    "model.eval()\n",
    "tp, fp, tn, fn = 0, 0, 0, 0\n",
    "results_list = []\n",
    "for batch in eval_dataloader:\n",
    "    inputs, labels = batch\n",
    "    inputs, labels = inputs.to(device), labels.to(device)\n",
    "\n",
    "    # inputs = inputs.squeeze(0)\n",
    "\n",
    "    with torch.no_grad():\n",
    "        outputs = model(inputs)\n",
    "        outputs = outputs.squeeze(-1)  # Not needed for LR\n",
    "\n",
    "    results_list.append(outputs)\n",
    "    # print(outputs)\n",
    "    if outputs > 0.5:\n",
    "        if labels == 1:\n",
    "            tp += 1\n",
    "        else:\n",
    "            fp += 1\n",
    "    else:\n",
    "        if labels == 0:\n",
    "            tn += 1\n",
    "        else:\n",
    "            fn += 1\n",
    "\n",
    "    # logits = outputs.logits\n",
    "    # predictions = torch.argmax(logits, dim=-1)\n",
    "    # metric.add_batch(predictions=outputs, references=labels)\n",
    "\n",
    "# results = metric.compute()\n",
    "# for i, v in enumerate(eval_dataloader):\n",
    "#     if v[1].squeeze() == torch.tensor([1.0]):\n",
    "#         print(results_list[i])"
   ]
  },
  {
   "cell_type": "code",
   "execution_count": 109,
   "metadata": {},
   "outputs": [
    {
     "name": "stdout",
     "output_type": "stream",
     "text": [
      "True Positives: 0\n",
      "False Positives: 0\n",
      "True Negatives: 1580\n",
      "False Negatives: 78\n",
      "[tensor([0.0449], device='cuda:0'), tensor([0.0449], device='cuda:0'), tensor([0.0449], device='cuda:0'), tensor([0.0449], device='cuda:0'), tensor([0.0449], device='cuda:0'), tensor([0.0449], device='cuda:0'), tensor([0.0449], device='cuda:0'), tensor([0.0449], device='cuda:0'), tensor([0.0449], device='cuda:0'), tensor([0.0449], device='cuda:0'), tensor([0.0449], device='cuda:0'), tensor([0.0449], device='cuda:0'), tensor([0.0449], device='cuda:0'), tensor([0.0449], device='cuda:0'), tensor([0.0449], device='cuda:0'), tensor([0.0449], device='cuda:0'), tensor([0.0449], device='cuda:0'), tensor([0.0449], device='cuda:0'), tensor([0.0449], device='cuda:0'), tensor([0.0449], device='cuda:0'), tensor([0.0449], device='cuda:0'), tensor([0.0449], device='cuda:0'), tensor([0.0449], device='cuda:0'), tensor([0.0449], device='cuda:0'), tensor([0.0449], device='cuda:0'), tensor([0.0449], device='cuda:0'), tensor([0.0449], device='cuda:0'), tensor([0.0449], device='cuda:0'), tensor([0.0449], device='cuda:0'), tensor([0.0449], device='cuda:0'), tensor([0.0449], device='cuda:0'), tensor([0.0449], device='cuda:0'), tensor([0.0449], device='cuda:0'), tensor([0.0449], device='cuda:0'), tensor([0.0449], device='cuda:0'), tensor([0.0449], device='cuda:0'), tensor([0.0449], device='cuda:0'), tensor([0.0449], device='cuda:0'), tensor([0.0449], device='cuda:0'), tensor([0.0449], device='cuda:0'), tensor([0.0449], device='cuda:0'), tensor([0.0449], device='cuda:0'), tensor([0.0449], device='cuda:0'), tensor([0.0449], device='cuda:0'), tensor([0.0449], device='cuda:0'), tensor([0.0449], device='cuda:0'), tensor([0.0449], device='cuda:0'), tensor([0.0449], device='cuda:0'), tensor([0.0449], device='cuda:0'), tensor([0.0449], device='cuda:0'), tensor([0.0449], device='cuda:0'), tensor([0.0449], device='cuda:0'), tensor([0.0449], device='cuda:0'), tensor([0.0449], device='cuda:0'), tensor([0.0449], device='cuda:0'), tensor([0.0449], device='cuda:0'), tensor([0.0449], device='cuda:0'), tensor([0.0449], device='cuda:0'), tensor([0.0449], device='cuda:0'), tensor([0.0449], device='cuda:0'), tensor([0.0449], device='cuda:0'), tensor([0.0449], device='cuda:0'), tensor([0.0449], device='cuda:0'), tensor([0.0449], device='cuda:0'), tensor([0.0449], device='cuda:0'), tensor([0.0449], device='cuda:0'), tensor([0.0449], device='cuda:0'), tensor([0.0449], device='cuda:0'), tensor([0.0449], device='cuda:0'), tensor([0.0449], device='cuda:0'), tensor([0.0449], device='cuda:0'), tensor([0.0449], device='cuda:0'), tensor([0.0449], device='cuda:0'), tensor([0.0449], device='cuda:0'), tensor([0.0449], device='cuda:0'), tensor([0.0449], device='cuda:0'), tensor([0.0449], device='cuda:0'), tensor([0.0449], device='cuda:0'), tensor([0.0449], device='cuda:0'), tensor([0.0449], device='cuda:0'), tensor([0.0449], device='cuda:0'), tensor([0.0449], device='cuda:0'), tensor([0.0449], device='cuda:0'), tensor([0.0449], device='cuda:0'), tensor([0.0449], device='cuda:0'), tensor([0.0449], device='cuda:0'), tensor([0.0449], device='cuda:0'), tensor([0.0449], device='cuda:0'), tensor([0.0449], device='cuda:0'), tensor([0.0449], device='cuda:0'), tensor([0.0449], device='cuda:0'), tensor([0.0449], device='cuda:0'), tensor([0.0449], device='cuda:0'), tensor([0.0449], device='cuda:0'), tensor([0.0449], device='cuda:0'), tensor([0.0449], device='cuda:0'), tensor([0.0449], device='cuda:0'), tensor([0.0449], device='cuda:0'), tensor([0.0449], device='cuda:0'), tensor([0.0449], device='cuda:0'), tensor([0.0449], device='cuda:0'), tensor([0.0449], device='cuda:0'), tensor([0.0449], device='cuda:0'), tensor([0.0449], device='cuda:0'), tensor([0.0449], device='cuda:0'), tensor([0.0449], device='cuda:0'), tensor([0.0449], device='cuda:0'), tensor([0.0449], device='cuda:0'), tensor([0.0449], device='cuda:0'), tensor([0.0449], device='cuda:0'), tensor([0.0449], device='cuda:0'), tensor([0.0449], device='cuda:0'), tensor([0.0449], device='cuda:0'), tensor([0.0449], device='cuda:0'), tensor([0.0449], device='cuda:0'), tensor([0.0449], device='cuda:0'), tensor([0.0449], device='cuda:0'), tensor([0.0449], device='cuda:0'), tensor([0.0449], device='cuda:0'), tensor([0.0449], device='cuda:0'), tensor([0.0449], device='cuda:0'), tensor([0.0449], device='cuda:0'), tensor([0.0449], device='cuda:0'), tensor([0.0449], device='cuda:0'), tensor([0.0449], device='cuda:0'), tensor([0.0449], device='cuda:0'), tensor([0.0449], device='cuda:0'), tensor([0.0449], device='cuda:0'), tensor([0.0449], device='cuda:0'), tensor([0.0449], device='cuda:0'), tensor([0.0449], device='cuda:0'), tensor([0.0449], device='cuda:0'), tensor([0.0449], device='cuda:0'), tensor([0.0449], device='cuda:0'), tensor([0.0449], device='cuda:0'), tensor([0.0449], device='cuda:0'), tensor([0.0449], device='cuda:0'), tensor([0.0449], device='cuda:0'), tensor([0.0449], device='cuda:0'), tensor([0.0449], device='cuda:0'), tensor([0.0449], device='cuda:0'), tensor([0.0449], device='cuda:0'), tensor([0.0449], device='cuda:0'), tensor([0.0449], device='cuda:0'), tensor([0.0449], device='cuda:0'), tensor([0.0449], device='cuda:0'), tensor([0.0449], device='cuda:0'), tensor([0.0449], device='cuda:0'), tensor([0.0449], device='cuda:0'), tensor([0.0449], device='cuda:0'), tensor([0.0449], device='cuda:0'), tensor([0.0449], device='cuda:0'), tensor([0.0449], device='cuda:0'), tensor([0.0449], device='cuda:0'), tensor([0.0449], device='cuda:0'), tensor([0.0449], device='cuda:0'), tensor([0.0449], device='cuda:0'), tensor([0.0449], device='cuda:0'), tensor([0.0449], device='cuda:0'), tensor([0.0449], device='cuda:0'), tensor([0.0449], device='cuda:0'), tensor([0.0449], device='cuda:0'), tensor([0.0449], device='cuda:0'), tensor([0.0449], device='cuda:0'), tensor([0.0449], device='cuda:0'), tensor([0.0449], device='cuda:0'), tensor([0.0449], device='cuda:0'), tensor([0.0449], device='cuda:0'), tensor([0.0449], device='cuda:0'), tensor([0.0449], device='cuda:0'), tensor([0.0449], device='cuda:0'), tensor([0.0449], device='cuda:0'), tensor([0.0449], device='cuda:0'), tensor([0.0449], device='cuda:0'), tensor([0.0449], device='cuda:0'), tensor([0.0449], device='cuda:0'), tensor([0.0449], device='cuda:0'), tensor([0.0449], device='cuda:0'), tensor([0.0449], device='cuda:0'), tensor([0.0449], device='cuda:0'), tensor([0.0449], device='cuda:0'), tensor([0.0449], device='cuda:0'), tensor([0.0449], device='cuda:0'), tensor([0.0449], device='cuda:0'), tensor([0.0449], device='cuda:0'), tensor([0.0449], device='cuda:0'), tensor([0.0449], device='cuda:0'), tensor([0.0449], device='cuda:0'), tensor([0.0449], device='cuda:0'), tensor([0.0449], device='cuda:0'), tensor([0.0449], device='cuda:0'), tensor([0.0449], device='cuda:0'), tensor([0.0449], device='cuda:0'), tensor([0.0449], device='cuda:0'), tensor([0.0449], device='cuda:0'), tensor([0.0449], device='cuda:0'), tensor([0.0449], device='cuda:0'), tensor([0.0449], device='cuda:0'), tensor([0.0449], device='cuda:0'), tensor([0.0449], device='cuda:0'), tensor([0.0449], device='cuda:0'), tensor([0.0449], device='cuda:0'), tensor([0.0449], device='cuda:0'), tensor([0.0449], device='cuda:0'), tensor([0.0449], device='cuda:0'), tensor([0.0449], device='cuda:0'), tensor([0.0449], device='cuda:0'), tensor([0.0449], device='cuda:0'), tensor([0.0449], device='cuda:0'), tensor([0.0449], device='cuda:0'), tensor([0.0449], device='cuda:0'), tensor([0.0449], device='cuda:0'), tensor([0.0449], device='cuda:0'), tensor([0.0449], device='cuda:0'), tensor([0.0449], device='cuda:0'), tensor([0.0449], device='cuda:0'), tensor([0.0449], device='cuda:0'), tensor([0.0449], device='cuda:0'), tensor([0.0449], device='cuda:0'), tensor([0.0449], device='cuda:0'), tensor([0.0449], device='cuda:0'), tensor([0.0449], device='cuda:0'), tensor([0.0449], device='cuda:0'), tensor([0.0449], device='cuda:0'), tensor([0.0449], device='cuda:0'), tensor([0.0449], device='cuda:0'), tensor([0.0449], device='cuda:0'), tensor([0.0449], device='cuda:0'), tensor([0.0449], device='cuda:0'), tensor([0.0449], device='cuda:0'), tensor([0.0449], device='cuda:0'), tensor([0.0449], device='cuda:0'), tensor([0.0449], device='cuda:0'), tensor([0.0449], device='cuda:0'), tensor([0.0449], device='cuda:0'), tensor([0.0449], device='cuda:0'), tensor([0.0449], device='cuda:0'), tensor([0.0449], device='cuda:0'), tensor([0.0449], device='cuda:0'), tensor([0.0449], device='cuda:0'), tensor([0.0449], device='cuda:0'), tensor([0.0449], device='cuda:0'), tensor([0.0449], device='cuda:0'), tensor([0.0449], device='cuda:0'), tensor([0.0449], device='cuda:0'), tensor([0.0449], device='cuda:0'), tensor([0.0449], device='cuda:0'), tensor([0.0449], device='cuda:0'), tensor([0.0449], device='cuda:0'), tensor([0.0449], device='cuda:0'), tensor([0.0449], device='cuda:0'), tensor([0.0449], device='cuda:0'), tensor([0.0449], device='cuda:0'), tensor([0.0449], device='cuda:0'), tensor([0.0449], device='cuda:0'), tensor([0.0449], device='cuda:0'), tensor([0.0449], device='cuda:0'), tensor([0.0449], device='cuda:0'), tensor([0.0449], device='cuda:0'), tensor([0.0449], device='cuda:0'), tensor([0.0449], device='cuda:0'), tensor([0.0449], device='cuda:0'), tensor([0.0449], device='cuda:0'), tensor([0.0449], device='cuda:0'), tensor([0.0449], device='cuda:0'), tensor([0.0449], device='cuda:0'), tensor([0.0449], device='cuda:0'), tensor([0.0449], device='cuda:0'), tensor([0.0449], device='cuda:0'), tensor([0.0449], device='cuda:0'), tensor([0.0449], device='cuda:0'), tensor([0.0449], device='cuda:0'), tensor([0.0449], device='cuda:0'), tensor([0.0449], device='cuda:0'), tensor([0.0449], device='cuda:0'), tensor([0.0449], device='cuda:0'), tensor([0.0449], device='cuda:0'), tensor([0.0449], device='cuda:0'), tensor([0.0449], device='cuda:0'), tensor([0.0449], device='cuda:0'), tensor([0.0449], device='cuda:0'), tensor([0.0449], device='cuda:0'), tensor([0.0449], device='cuda:0'), tensor([0.0449], device='cuda:0'), tensor([0.0449], device='cuda:0'), tensor([0.0449], device='cuda:0'), tensor([0.0449], device='cuda:0'), tensor([0.0449], device='cuda:0'), tensor([0.0449], device='cuda:0'), tensor([0.0449], device='cuda:0'), tensor([0.0449], device='cuda:0'), tensor([0.0449], device='cuda:0'), tensor([0.0449], device='cuda:0'), tensor([0.0449], device='cuda:0'), tensor([0.0449], device='cuda:0'), tensor([0.0449], device='cuda:0'), tensor([0.0449], device='cuda:0'), tensor([0.0449], device='cuda:0'), tensor([0.0449], device='cuda:0'), tensor([0.0449], device='cuda:0'), tensor([0.0449], device='cuda:0'), tensor([0.0449], device='cuda:0'), tensor([0.0449], device='cuda:0'), tensor([0.0449], device='cuda:0'), tensor([0.0449], device='cuda:0'), tensor([0.0449], device='cuda:0'), tensor([0.0449], device='cuda:0'), tensor([0.0449], device='cuda:0'), tensor([0.0449], device='cuda:0'), tensor([0.0449], device='cuda:0'), tensor([0.0449], device='cuda:0'), tensor([0.0449], device='cuda:0'), tensor([0.0449], device='cuda:0'), tensor([0.0449], device='cuda:0'), tensor([0.0449], device='cuda:0'), tensor([0.0449], device='cuda:0'), tensor([0.0449], device='cuda:0'), tensor([0.0449], device='cuda:0'), tensor([0.0449], device='cuda:0'), tensor([0.0449], device='cuda:0'), tensor([0.0449], device='cuda:0'), tensor([0.0449], device='cuda:0'), tensor([0.0449], device='cuda:0'), tensor([0.0449], device='cuda:0'), tensor([0.0449], device='cuda:0'), tensor([0.0449], device='cuda:0'), tensor([0.0449], device='cuda:0'), tensor([0.0449], device='cuda:0'), tensor([0.0449], device='cuda:0'), tensor([0.0449], device='cuda:0'), tensor([0.0449], device='cuda:0'), tensor([0.0449], device='cuda:0'), tensor([0.0449], device='cuda:0'), tensor([0.0449], device='cuda:0'), tensor([0.0449], device='cuda:0'), tensor([0.0449], device='cuda:0'), tensor([0.0449], device='cuda:0'), tensor([0.0449], device='cuda:0'), tensor([0.0449], device='cuda:0'), tensor([0.0449], device='cuda:0'), tensor([0.0449], device='cuda:0'), tensor([0.0449], device='cuda:0'), tensor([0.0449], device='cuda:0'), tensor([0.0449], device='cuda:0'), tensor([0.0449], device='cuda:0'), tensor([0.0449], device='cuda:0'), tensor([0.0449], device='cuda:0'), tensor([0.0449], device='cuda:0'), tensor([0.0449], device='cuda:0'), tensor([0.0449], device='cuda:0'), tensor([0.0449], device='cuda:0'), tensor([0.0449], device='cuda:0'), tensor([0.0449], device='cuda:0'), tensor([0.0449], device='cuda:0'), tensor([0.0449], device='cuda:0'), tensor([0.0449], device='cuda:0'), tensor([0.0449], device='cuda:0'), tensor([0.0449], device='cuda:0'), tensor([0.0449], device='cuda:0'), tensor([0.0449], device='cuda:0'), tensor([0.0449], device='cuda:0'), tensor([0.0449], device='cuda:0'), tensor([0.0449], device='cuda:0'), tensor([0.0449], device='cuda:0'), tensor([0.0449], device='cuda:0'), tensor([0.0449], device='cuda:0'), tensor([0.0449], device='cuda:0'), tensor([0.0449], device='cuda:0'), tensor([0.0449], device='cuda:0'), tensor([0.0449], device='cuda:0'), tensor([0.0449], device='cuda:0'), tensor([0.0449], device='cuda:0'), tensor([0.0449], device='cuda:0'), tensor([0.0449], device='cuda:0'), tensor([0.0449], device='cuda:0'), tensor([0.0449], device='cuda:0'), tensor([0.0449], device='cuda:0'), tensor([0.0449], device='cuda:0'), tensor([0.0449], device='cuda:0'), tensor([0.0449], device='cuda:0'), tensor([0.0449], device='cuda:0'), tensor([0.0449], device='cuda:0'), tensor([0.0449], device='cuda:0'), tensor([0.0449], device='cuda:0'), tensor([0.0449], device='cuda:0'), tensor([0.0449], device='cuda:0'), tensor([0.0449], device='cuda:0'), tensor([0.0449], device='cuda:0'), tensor([0.0449], device='cuda:0'), tensor([0.0449], device='cuda:0'), tensor([0.0449], device='cuda:0'), tensor([0.0449], device='cuda:0'), tensor([0.0449], device='cuda:0'), tensor([0.0449], device='cuda:0'), tensor([0.0449], device='cuda:0'), tensor([0.0449], device='cuda:0'), tensor([0.0449], device='cuda:0'), tensor([0.0449], device='cuda:0'), tensor([0.0449], device='cuda:0'), tensor([0.0449], device='cuda:0'), tensor([0.0449], device='cuda:0'), tensor([0.0449], device='cuda:0'), tensor([0.0449], device='cuda:0'), tensor([0.0449], device='cuda:0'), tensor([0.0449], device='cuda:0'), tensor([0.0449], device='cuda:0'), tensor([0.0449], device='cuda:0'), tensor([0.0449], device='cuda:0'), tensor([0.0449], device='cuda:0'), tensor([0.0449], device='cuda:0'), tensor([0.0449], device='cuda:0'), tensor([0.0449], device='cuda:0'), tensor([0.0449], device='cuda:0'), tensor([0.0449], device='cuda:0'), tensor([0.0449], device='cuda:0'), tensor([0.0449], device='cuda:0'), tensor([0.0449], device='cuda:0'), tensor([0.0449], device='cuda:0'), tensor([0.0449], device='cuda:0'), tensor([0.0449], device='cuda:0'), tensor([0.0449], device='cuda:0'), tensor([0.0449], device='cuda:0'), tensor([0.0449], device='cuda:0'), tensor([0.0449], device='cuda:0'), tensor([0.0449], device='cuda:0'), tensor([0.0449], device='cuda:0'), tensor([0.0449], device='cuda:0'), tensor([0.0449], device='cuda:0'), tensor([0.0449], device='cuda:0'), tensor([0.0449], device='cuda:0'), tensor([0.0449], device='cuda:0'), tensor([0.0449], device='cuda:0'), tensor([0.0449], device='cuda:0'), tensor([0.0449], device='cuda:0'), tensor([0.0449], device='cuda:0'), tensor([0.0449], device='cuda:0'), tensor([0.0449], device='cuda:0'), tensor([0.0449], device='cuda:0'), tensor([0.0449], device='cuda:0'), tensor([0.0449], device='cuda:0'), tensor([0.0449], device='cuda:0'), tensor([0.0449], device='cuda:0'), tensor([0.0449], device='cuda:0'), tensor([0.0449], device='cuda:0'), tensor([0.0449], device='cuda:0'), tensor([0.0449], device='cuda:0'), tensor([0.0449], device='cuda:0'), tensor([0.0449], device='cuda:0'), tensor([0.0449], device='cuda:0'), tensor([0.0449], device='cuda:0'), tensor([0.0449], device='cuda:0'), tensor([0.0449], device='cuda:0'), tensor([0.0449], device='cuda:0'), tensor([0.0449], device='cuda:0'), tensor([0.0449], device='cuda:0'), tensor([0.0449], device='cuda:0'), tensor([0.0449], device='cuda:0'), tensor([0.0449], device='cuda:0'), tensor([0.0449], device='cuda:0'), tensor([0.0449], device='cuda:0'), tensor([0.0449], device='cuda:0'), tensor([0.0449], device='cuda:0'), tensor([0.0449], device='cuda:0'), tensor([0.0449], device='cuda:0'), tensor([0.0449], device='cuda:0'), tensor([0.0449], device='cuda:0'), tensor([0.0449], device='cuda:0'), tensor([0.0449], device='cuda:0'), tensor([0.0449], device='cuda:0'), tensor([0.0449], device='cuda:0'), tensor([0.0449], device='cuda:0'), tensor([0.0449], device='cuda:0'), tensor([0.0449], device='cuda:0'), tensor([0.0449], device='cuda:0'), tensor([0.0449], device='cuda:0'), tensor([0.0449], device='cuda:0'), tensor([0.0449], device='cuda:0'), tensor([0.0449], device='cuda:0'), tensor([0.0449], device='cuda:0'), tensor([0.0449], device='cuda:0'), tensor([0.0449], device='cuda:0'), tensor([0.0449], device='cuda:0'), tensor([0.0449], device='cuda:0'), tensor([0.0449], device='cuda:0'), tensor([0.0449], device='cuda:0'), tensor([0.0449], device='cuda:0'), tensor([0.0449], device='cuda:0'), tensor([0.0449], device='cuda:0'), tensor([0.0449], device='cuda:0'), tensor([0.0449], device='cuda:0'), tensor([0.0449], device='cuda:0'), tensor([0.0449], device='cuda:0'), tensor([0.0449], device='cuda:0'), tensor([0.0449], device='cuda:0'), tensor([0.0449], device='cuda:0'), tensor([0.0449], device='cuda:0'), tensor([0.0449], device='cuda:0'), tensor([0.0449], device='cuda:0'), tensor([0.0449], device='cuda:0'), tensor([0.0449], device='cuda:0'), tensor([0.0449], device='cuda:0'), tensor([0.0449], device='cuda:0'), tensor([0.0449], device='cuda:0'), tensor([0.0449], device='cuda:0'), tensor([0.0449], device='cuda:0'), tensor([0.0449], device='cuda:0'), tensor([0.0449], device='cuda:0'), tensor([0.0449], device='cuda:0'), tensor([0.0449], device='cuda:0'), tensor([0.0449], device='cuda:0'), tensor([0.0449], device='cuda:0'), tensor([0.0449], device='cuda:0'), tensor([0.0449], device='cuda:0'), tensor([0.0449], device='cuda:0'), tensor([0.0449], device='cuda:0'), tensor([0.0449], device='cuda:0'), tensor([0.0449], device='cuda:0'), tensor([0.0449], device='cuda:0'), tensor([0.0449], device='cuda:0'), tensor([0.0449], device='cuda:0'), tensor([0.0449], device='cuda:0'), tensor([0.0449], device='cuda:0'), tensor([0.0449], device='cuda:0'), tensor([0.0449], device='cuda:0'), tensor([0.0449], device='cuda:0'), tensor([0.0449], device='cuda:0'), tensor([0.0449], device='cuda:0'), tensor([0.0449], device='cuda:0'), tensor([0.0449], device='cuda:0'), tensor([0.0449], device='cuda:0'), tensor([0.0449], device='cuda:0'), tensor([0.0449], device='cuda:0'), tensor([0.0449], device='cuda:0'), tensor([0.0449], device='cuda:0'), tensor([0.0449], device='cuda:0'), tensor([0.0449], device='cuda:0'), tensor([0.0449], device='cuda:0'), tensor([0.0449], device='cuda:0'), tensor([0.0449], device='cuda:0'), tensor([0.0449], device='cuda:0'), tensor([0.0449], device='cuda:0'), tensor([0.0449], device='cuda:0'), tensor([0.0449], device='cuda:0'), tensor([0.0449], device='cuda:0'), tensor([0.0449], device='cuda:0'), tensor([0.0449], device='cuda:0'), tensor([0.0449], device='cuda:0'), tensor([0.0449], device='cuda:0'), tensor([0.0449], device='cuda:0'), tensor([0.0449], device='cuda:0'), tensor([0.0449], device='cuda:0'), tensor([0.0449], device='cuda:0'), tensor([0.0449], device='cuda:0'), tensor([0.0449], device='cuda:0'), tensor([0.0449], device='cuda:0'), tensor([0.0449], device='cuda:0'), tensor([0.0449], device='cuda:0'), tensor([0.0449], device='cuda:0'), tensor([0.0449], device='cuda:0'), tensor([0.0449], device='cuda:0'), tensor([0.0449], device='cuda:0'), tensor([0.0449], device='cuda:0'), tensor([0.0449], device='cuda:0'), tensor([0.0449], device='cuda:0'), tensor([0.0449], device='cuda:0'), tensor([0.0449], device='cuda:0'), tensor([0.0449], device='cuda:0'), tensor([0.0449], device='cuda:0'), tensor([0.0449], device='cuda:0'), tensor([0.0449], device='cuda:0'), tensor([0.0449], device='cuda:0'), tensor([0.0449], device='cuda:0'), tensor([0.0449], device='cuda:0'), tensor([0.0449], device='cuda:0'), tensor([0.0449], device='cuda:0'), tensor([0.0449], device='cuda:0'), tensor([0.0449], device='cuda:0'), tensor([0.0449], device='cuda:0'), tensor([0.0449], device='cuda:0'), tensor([0.0449], device='cuda:0'), tensor([0.0449], device='cuda:0'), tensor([0.0449], device='cuda:0'), tensor([0.0449], device='cuda:0'), tensor([0.0449], device='cuda:0'), tensor([0.0449], device='cuda:0'), tensor([0.0449], device='cuda:0'), tensor([0.0449], device='cuda:0'), tensor([0.0449], device='cuda:0'), tensor([0.0449], device='cuda:0'), tensor([0.0449], device='cuda:0'), tensor([0.0449], device='cuda:0'), tensor([0.0449], device='cuda:0'), tensor([0.0449], device='cuda:0'), tensor([0.0449], device='cuda:0'), tensor([0.0449], device='cuda:0'), tensor([0.0449], device='cuda:0'), tensor([0.0449], device='cuda:0'), tensor([0.0449], device='cuda:0'), tensor([0.0449], device='cuda:0'), tensor([0.0449], device='cuda:0'), tensor([0.0449], device='cuda:0'), tensor([0.0449], device='cuda:0'), tensor([0.0449], device='cuda:0'), tensor([0.0449], device='cuda:0'), tensor([0.0449], device='cuda:0'), tensor([0.0449], device='cuda:0'), tensor([0.0449], device='cuda:0'), tensor([0.0449], device='cuda:0'), tensor([0.0449], device='cuda:0'), tensor([0.0449], device='cuda:0'), tensor([0.0449], device='cuda:0'), tensor([0.0449], device='cuda:0'), tensor([0.0449], device='cuda:0'), tensor([0.0449], device='cuda:0'), tensor([0.0449], device='cuda:0'), tensor([0.0449], device='cuda:0'), tensor([0.0449], device='cuda:0'), tensor([0.0449], device='cuda:0'), tensor([0.0449], device='cuda:0'), tensor([0.0449], device='cuda:0'), tensor([0.0449], device='cuda:0'), tensor([0.0449], device='cuda:0'), tensor([0.0449], device='cuda:0'), tensor([0.0449], device='cuda:0'), tensor([0.0449], device='cuda:0'), tensor([0.0449], device='cuda:0'), tensor([0.0449], device='cuda:0'), tensor([0.0449], device='cuda:0'), tensor([0.0449], device='cuda:0'), tensor([0.0449], device='cuda:0'), tensor([0.0449], device='cuda:0'), tensor([0.0449], device='cuda:0'), tensor([0.0449], device='cuda:0'), tensor([0.0449], device='cuda:0'), tensor([0.0449], device='cuda:0'), tensor([0.0449], device='cuda:0'), tensor([0.0449], device='cuda:0'), tensor([0.0449], device='cuda:0'), tensor([0.0449], device='cuda:0'), tensor([0.0449], device='cuda:0'), tensor([0.0449], device='cuda:0'), tensor([0.0449], device='cuda:0'), tensor([0.0449], device='cuda:0'), tensor([0.0449], device='cuda:0'), tensor([0.0449], device='cuda:0'), tensor([0.0449], device='cuda:0'), tensor([0.0449], device='cuda:0'), tensor([0.0449], device='cuda:0'), tensor([0.0449], device='cuda:0'), tensor([0.0449], device='cuda:0'), tensor([0.0449], device='cuda:0'), tensor([0.0449], device='cuda:0'), tensor([0.0449], device='cuda:0'), tensor([0.0449], device='cuda:0'), tensor([0.0449], device='cuda:0'), tensor([0.0449], device='cuda:0'), tensor([0.0449], device='cuda:0'), tensor([0.0449], device='cuda:0'), tensor([0.0449], device='cuda:0'), tensor([0.0449], device='cuda:0'), tensor([0.0449], device='cuda:0'), tensor([0.0449], device='cuda:0'), tensor([0.0449], device='cuda:0'), tensor([0.0449], device='cuda:0'), tensor([0.0449], device='cuda:0'), tensor([0.0449], device='cuda:0'), tensor([0.0449], device='cuda:0'), tensor([0.0449], device='cuda:0'), tensor([0.0449], device='cuda:0'), tensor([0.0449], device='cuda:0'), tensor([0.0449], device='cuda:0'), tensor([0.0449], device='cuda:0'), tensor([0.0449], device='cuda:0'), tensor([0.0449], device='cuda:0'), tensor([0.0449], device='cuda:0'), tensor([0.0449], device='cuda:0'), tensor([0.0449], device='cuda:0'), tensor([0.0449], device='cuda:0'), tensor([0.0449], device='cuda:0'), tensor([0.0449], device='cuda:0'), tensor([0.0449], device='cuda:0'), tensor([0.0449], device='cuda:0'), tensor([0.0449], device='cuda:0'), tensor([0.0449], device='cuda:0'), tensor([0.0449], device='cuda:0'), tensor([0.0449], device='cuda:0'), tensor([0.0449], device='cuda:0'), tensor([0.0449], device='cuda:0'), tensor([0.0449], device='cuda:0'), tensor([0.0449], device='cuda:0'), tensor([0.0449], device='cuda:0'), tensor([0.0449], device='cuda:0'), tensor([0.0449], device='cuda:0'), tensor([0.0449], device='cuda:0'), tensor([0.0449], device='cuda:0'), tensor([0.0449], device='cuda:0'), tensor([0.0449], device='cuda:0'), tensor([0.0449], device='cuda:0'), tensor([0.0449], device='cuda:0'), tensor([0.0449], device='cuda:0'), tensor([0.0449], device='cuda:0'), tensor([0.0449], device='cuda:0'), tensor([0.0449], device='cuda:0'), tensor([0.0449], device='cuda:0'), tensor([0.0449], device='cuda:0'), tensor([0.0449], device='cuda:0'), tensor([0.0449], device='cuda:0'), tensor([0.0449], device='cuda:0'), tensor([0.0449], device='cuda:0'), tensor([0.0449], device='cuda:0'), tensor([0.0449], device='cuda:0'), tensor([0.0449], device='cuda:0'), tensor([0.0449], device='cuda:0'), tensor([0.0449], device='cuda:0'), tensor([0.0449], device='cuda:0'), tensor([0.0449], device='cuda:0'), tensor([0.0449], device='cuda:0'), tensor([0.0449], device='cuda:0'), tensor([0.0449], device='cuda:0'), tensor([0.0449], device='cuda:0'), tensor([0.0449], device='cuda:0'), tensor([0.0449], device='cuda:0'), tensor([0.0449], device='cuda:0'), tensor([0.0449], device='cuda:0'), tensor([0.0449], device='cuda:0'), tensor([0.0449], device='cuda:0'), tensor([0.0449], device='cuda:0'), tensor([0.0449], device='cuda:0'), tensor([0.0449], device='cuda:0'), tensor([0.0449], device='cuda:0'), tensor([0.0449], device='cuda:0'), tensor([0.0449], device='cuda:0'), tensor([0.0449], device='cuda:0'), tensor([0.0449], device='cuda:0'), tensor([0.0449], device='cuda:0'), tensor([0.0449], device='cuda:0'), tensor([0.0449], device='cuda:0'), tensor([0.0449], device='cuda:0'), tensor([0.0449], device='cuda:0'), tensor([0.0449], device='cuda:0'), tensor([0.0449], device='cuda:0'), tensor([0.0449], device='cuda:0'), tensor([0.0449], device='cuda:0'), tensor([0.0449], device='cuda:0'), tensor([0.0449], device='cuda:0'), tensor([0.0449], device='cuda:0'), tensor([0.0449], device='cuda:0'), tensor([0.0449], device='cuda:0'), tensor([0.0449], device='cuda:0'), tensor([0.0449], device='cuda:0'), tensor([0.0449], device='cuda:0'), tensor([0.0449], device='cuda:0'), tensor([0.0449], device='cuda:0'), tensor([0.0449], device='cuda:0'), tensor([0.0449], device='cuda:0'), tensor([0.0449], device='cuda:0'), tensor([0.0449], device='cuda:0'), tensor([0.0449], device='cuda:0'), tensor([0.0449], device='cuda:0'), tensor([0.0449], device='cuda:0'), tensor([0.0449], device='cuda:0'), tensor([0.0449], device='cuda:0'), tensor([0.0449], device='cuda:0'), tensor([0.0449], device='cuda:0'), tensor([0.0449], device='cuda:0'), tensor([0.0449], device='cuda:0'), tensor([0.0449], device='cuda:0'), tensor([0.0449], device='cuda:0'), tensor([0.0449], device='cuda:0'), tensor([0.0449], device='cuda:0'), tensor([0.0449], device='cuda:0'), tensor([0.0449], device='cuda:0'), tensor([0.0449], device='cuda:0'), tensor([0.0449], device='cuda:0'), tensor([0.0449], device='cuda:0'), tensor([0.0449], device='cuda:0'), tensor([0.0449], device='cuda:0'), tensor([0.0449], device='cuda:0'), tensor([0.0449], device='cuda:0'), tensor([0.0449], device='cuda:0'), tensor([0.0449], device='cuda:0'), tensor([0.0449], device='cuda:0'), tensor([0.0449], device='cuda:0'), tensor([0.0449], device='cuda:0'), tensor([0.0449], device='cuda:0'), tensor([0.0449], device='cuda:0'), tensor([0.0449], device='cuda:0'), tensor([0.0449], device='cuda:0'), tensor([0.0449], device='cuda:0'), tensor([0.0449], device='cuda:0'), tensor([0.0449], device='cuda:0'), tensor([0.0449], device='cuda:0'), tensor([0.0449], device='cuda:0'), tensor([0.0449], device='cuda:0'), tensor([0.0449], device='cuda:0'), tensor([0.0449], device='cuda:0'), tensor([0.0449], device='cuda:0'), tensor([0.0449], device='cuda:0'), tensor([0.0449], device='cuda:0'), tensor([0.0449], device='cuda:0'), tensor([0.0449], device='cuda:0'), tensor([0.0449], device='cuda:0'), tensor([0.0449], device='cuda:0'), tensor([0.0449], device='cuda:0'), tensor([0.0449], device='cuda:0'), tensor([0.0449], device='cuda:0'), tensor([0.0449], device='cuda:0'), tensor([0.0449], device='cuda:0'), tensor([0.0449], device='cuda:0'), tensor([0.0449], device='cuda:0'), tensor([0.0449], device='cuda:0'), tensor([0.0449], device='cuda:0'), tensor([0.0449], device='cuda:0'), tensor([0.0449], device='cuda:0'), tensor([0.0449], device='cuda:0'), tensor([0.0449], device='cuda:0'), tensor([0.0449], device='cuda:0'), tensor([0.0449], device='cuda:0'), tensor([0.0449], device='cuda:0'), tensor([0.0449], device='cuda:0'), tensor([0.0449], device='cuda:0'), tensor([0.0449], device='cuda:0'), tensor([0.0449], device='cuda:0'), tensor([0.0449], device='cuda:0'), tensor([0.0449], device='cuda:0'), tensor([0.0449], device='cuda:0'), tensor([0.0449], device='cuda:0'), tensor([0.0449], device='cuda:0'), tensor([0.0449], device='cuda:0'), tensor([0.0449], device='cuda:0'), tensor([0.0449], device='cuda:0'), tensor([0.0449], device='cuda:0'), tensor([0.0449], device='cuda:0'), tensor([0.0449], device='cuda:0'), tensor([0.0449], device='cuda:0'), tensor([0.0449], device='cuda:0'), tensor([0.0449], device='cuda:0'), tensor([0.0449], device='cuda:0'), tensor([0.0449], device='cuda:0'), tensor([0.0449], device='cuda:0'), tensor([0.0449], device='cuda:0'), tensor([0.0449], device='cuda:0'), tensor([0.0449], device='cuda:0'), tensor([0.0449], device='cuda:0'), tensor([0.0449], device='cuda:0'), tensor([0.0449], device='cuda:0'), tensor([0.0449], device='cuda:0'), tensor([0.0449], device='cuda:0'), tensor([0.0449], device='cuda:0'), tensor([0.0449], device='cuda:0'), tensor([0.0449], device='cuda:0'), tensor([0.0449], device='cuda:0'), tensor([0.0449], device='cuda:0'), tensor([0.0449], device='cuda:0'), tensor([0.0449], device='cuda:0'), tensor([0.0449], device='cuda:0'), tensor([0.0449], device='cuda:0'), tensor([0.0449], device='cuda:0'), tensor([0.0449], device='cuda:0'), tensor([0.0449], device='cuda:0'), tensor([0.0449], device='cuda:0'), tensor([0.0449], device='cuda:0'), tensor([0.0449], device='cuda:0'), tensor([0.0449], device='cuda:0'), tensor([0.0449], device='cuda:0'), tensor([0.0449], device='cuda:0'), tensor([0.0449], device='cuda:0'), tensor([0.0449], device='cuda:0'), tensor([0.0449], device='cuda:0'), tensor([0.0449], device='cuda:0'), tensor([0.0449], device='cuda:0'), tensor([0.0449], device='cuda:0'), tensor([0.0449], device='cuda:0'), tensor([0.0449], device='cuda:0'), tensor([0.0449], device='cuda:0'), tensor([0.0449], device='cuda:0'), tensor([0.0449], device='cuda:0'), tensor([0.0449], device='cuda:0'), tensor([0.0449], device='cuda:0'), tensor([0.0449], device='cuda:0'), tensor([0.0449], device='cuda:0'), tensor([0.0449], device='cuda:0'), tensor([0.0449], device='cuda:0'), tensor([0.0449], device='cuda:0'), tensor([0.0449], device='cuda:0'), tensor([0.0449], device='cuda:0'), tensor([0.0449], device='cuda:0'), tensor([0.0449], device='cuda:0'), tensor([0.0449], device='cuda:0'), tensor([0.0449], device='cuda:0'), tensor([0.0449], device='cuda:0'), tensor([0.0449], device='cuda:0'), tensor([0.0449], device='cuda:0'), tensor([0.0449], device='cuda:0'), tensor([0.0449], device='cuda:0'), tensor([0.0449], device='cuda:0'), tensor([0.0449], device='cuda:0'), tensor([0.0449], device='cuda:0'), tensor([0.0449], device='cuda:0'), tensor([0.0449], device='cuda:0'), tensor([0.0449], device='cuda:0'), tensor([0.0449], device='cuda:0'), tensor([0.0449], device='cuda:0'), tensor([0.0449], device='cuda:0'), tensor([0.0449], device='cuda:0'), tensor([0.0449], device='cuda:0'), tensor([0.0449], device='cuda:0'), tensor([0.0449], device='cuda:0'), tensor([0.0449], device='cuda:0'), tensor([0.0449], device='cuda:0'), tensor([0.0449], device='cuda:0'), tensor([0.0449], device='cuda:0'), tensor([0.0449], device='cuda:0'), tensor([0.0449], device='cuda:0'), tensor([0.0449], device='cuda:0'), tensor([0.0449], device='cuda:0'), tensor([0.0449], device='cuda:0'), tensor([0.0449], device='cuda:0'), tensor([0.0449], device='cuda:0'), tensor([0.0449], device='cuda:0'), tensor([0.0449], device='cuda:0'), tensor([0.0449], device='cuda:0'), tensor([0.0449], device='cuda:0'), tensor([0.0449], device='cuda:0'), tensor([0.0449], device='cuda:0'), tensor([0.0449], device='cuda:0'), tensor([0.0449], device='cuda:0'), tensor([0.0449], device='cuda:0'), tensor([0.0449], device='cuda:0'), tensor([0.0449], device='cuda:0'), tensor([0.0449], device='cuda:0'), tensor([0.0449], device='cuda:0'), tensor([0.0449], device='cuda:0'), tensor([0.0449], device='cuda:0'), tensor([0.0449], device='cuda:0'), tensor([0.0449], device='cuda:0'), tensor([0.0449], device='cuda:0'), tensor([0.0449], device='cuda:0'), tensor([0.0449], device='cuda:0'), tensor([0.0449], device='cuda:0'), tensor([0.0449], device='cuda:0'), tensor([0.0449], device='cuda:0'), tensor([0.0449], device='cuda:0'), tensor([0.0449], device='cuda:0'), tensor([0.0449], device='cuda:0'), tensor([0.0449], device='cuda:0'), tensor([0.0449], device='cuda:0'), tensor([0.0449], device='cuda:0'), tensor([0.0449], device='cuda:0'), tensor([0.0449], device='cuda:0'), tensor([0.0449], device='cuda:0'), tensor([0.0449], device='cuda:0'), tensor([0.0449], device='cuda:0'), tensor([0.0449], device='cuda:0'), tensor([0.0449], device='cuda:0'), tensor([0.0449], device='cuda:0'), tensor([0.0449], device='cuda:0'), tensor([0.0449], device='cuda:0'), tensor([0.0449], device='cuda:0'), tensor([0.0449], device='cuda:0'), tensor([0.0449], device='cuda:0'), tensor([0.0449], device='cuda:0'), tensor([0.0449], device='cuda:0'), tensor([0.0449], device='cuda:0'), tensor([0.0449], device='cuda:0'), tensor([0.0449], device='cuda:0'), tensor([0.0449], device='cuda:0'), tensor([0.0449], device='cuda:0'), tensor([0.0449], device='cuda:0'), tensor([0.0449], device='cuda:0'), tensor([0.0449], device='cuda:0'), tensor([0.0449], device='cuda:0'), tensor([0.0449], device='cuda:0'), tensor([0.0449], device='cuda:0'), tensor([0.0449], device='cuda:0'), tensor([0.0449], device='cuda:0'), tensor([0.0449], device='cuda:0'), tensor([0.0449], device='cuda:0'), tensor([0.0449], device='cuda:0'), tensor([0.0449], device='cuda:0'), tensor([0.0449], device='cuda:0'), tensor([0.0449], device='cuda:0'), tensor([0.0449], device='cuda:0'), tensor([0.0449], device='cuda:0'), tensor([0.0449], device='cuda:0'), tensor([0.0449], device='cuda:0'), tensor([0.0449], device='cuda:0'), tensor([0.0449], device='cuda:0'), tensor([0.0449], device='cuda:0'), tensor([0.0449], device='cuda:0'), tensor([0.0449], device='cuda:0'), tensor([0.0449], device='cuda:0'), tensor([0.0449], device='cuda:0'), tensor([0.0449], device='cuda:0'), tensor([0.0449], device='cuda:0'), tensor([0.0449], device='cuda:0'), tensor([0.0449], device='cuda:0'), tensor([0.0449], device='cuda:0'), tensor([0.0449], device='cuda:0'), tensor([0.0449], device='cuda:0'), tensor([0.0449], device='cuda:0'), tensor([0.0449], device='cuda:0'), tensor([0.0449], device='cuda:0'), tensor([0.0449], device='cuda:0'), tensor([0.0449], device='cuda:0'), tensor([0.0449], device='cuda:0'), tensor([0.0449], device='cuda:0'), tensor([0.0449], device='cuda:0'), tensor([0.0449], device='cuda:0'), tensor([0.0449], device='cuda:0'), tensor([0.0449], device='cuda:0'), tensor([0.0449], device='cuda:0'), tensor([0.0449], device='cuda:0'), tensor([0.0449], device='cuda:0'), tensor([0.0449], device='cuda:0'), tensor([0.0449], device='cuda:0'), tensor([0.0449], device='cuda:0'), tensor([0.0449], device='cuda:0'), tensor([0.0449], device='cuda:0'), tensor([0.0449], device='cuda:0'), tensor([0.0449], device='cuda:0'), tensor([0.0449], device='cuda:0'), tensor([0.0449], device='cuda:0'), tensor([0.0449], device='cuda:0'), tensor([0.0449], device='cuda:0'), tensor([0.0449], device='cuda:0'), tensor([0.0449], device='cuda:0'), tensor([0.0449], device='cuda:0'), tensor([0.0449], device='cuda:0'), tensor([0.0449], device='cuda:0'), tensor([0.0449], device='cuda:0'), tensor([0.0449], device='cuda:0'), tensor([0.0449], device='cuda:0'), tensor([0.0449], device='cuda:0'), tensor([0.0449], device='cuda:0'), tensor([0.0449], device='cuda:0'), tensor([0.0449], device='cuda:0'), tensor([0.0449], device='cuda:0'), tensor([0.0449], device='cuda:0'), tensor([0.0449], device='cuda:0'), tensor([0.0449], device='cuda:0'), tensor([0.0449], device='cuda:0'), tensor([0.0449], device='cuda:0'), tensor([0.0449], device='cuda:0'), tensor([0.0449], device='cuda:0'), tensor([0.0449], device='cuda:0'), tensor([0.0449], device='cuda:0'), tensor([0.0449], device='cuda:0'), tensor([0.0449], device='cuda:0'), tensor([0.0449], device='cuda:0'), tensor([0.0449], device='cuda:0'), tensor([0.0449], device='cuda:0'), tensor([0.0449], device='cuda:0'), tensor([0.0449], device='cuda:0'), tensor([0.0449], device='cuda:0'), tensor([0.0449], device='cuda:0'), tensor([0.0449], device='cuda:0'), tensor([0.0449], device='cuda:0'), tensor([0.0449], device='cuda:0'), tensor([0.0449], device='cuda:0'), tensor([0.0449], device='cuda:0'), tensor([0.0449], device='cuda:0'), tensor([0.0449], device='cuda:0'), tensor([0.0449], device='cuda:0'), tensor([0.0449], device='cuda:0'), tensor([0.0449], device='cuda:0'), tensor([0.0449], device='cuda:0'), tensor([0.0449], device='cuda:0'), tensor([0.0449], device='cuda:0'), tensor([0.0449], device='cuda:0'), tensor([0.0449], device='cuda:0'), tensor([0.0449], device='cuda:0'), tensor([0.0449], device='cuda:0'), tensor([0.0449], device='cuda:0'), tensor([0.0449], device='cuda:0'), tensor([0.0449], device='cuda:0'), tensor([0.0449], device='cuda:0'), tensor([0.0449], device='cuda:0'), tensor([0.0449], device='cuda:0'), tensor([0.0449], device='cuda:0'), tensor([0.0449], device='cuda:0'), tensor([0.0449], device='cuda:0'), tensor([0.0449], device='cuda:0'), tensor([0.0449], device='cuda:0'), tensor([0.0449], device='cuda:0'), tensor([0.0449], device='cuda:0'), tensor([0.0449], device='cuda:0'), tensor([0.0449], device='cuda:0'), tensor([0.0449], device='cuda:0'), tensor([0.0449], device='cuda:0'), tensor([0.0449], device='cuda:0'), tensor([0.0449], device='cuda:0'), tensor([0.0449], device='cuda:0'), tensor([0.0449], device='cuda:0'), tensor([0.0449], device='cuda:0'), tensor([0.0449], device='cuda:0'), tensor([0.0449], device='cuda:0'), tensor([0.0449], device='cuda:0'), tensor([0.0449], device='cuda:0'), tensor([0.0449], device='cuda:0'), tensor([0.0449], device='cuda:0'), tensor([0.0449], device='cuda:0'), tensor([0.0449], device='cuda:0'), tensor([0.0449], device='cuda:0'), tensor([0.0449], device='cuda:0'), tensor([0.0449], device='cuda:0'), tensor([0.0449], device='cuda:0'), tensor([0.0449], device='cuda:0'), tensor([0.0449], device='cuda:0'), tensor([0.0449], device='cuda:0'), tensor([0.0449], device='cuda:0'), tensor([0.0449], device='cuda:0'), tensor([0.0449], device='cuda:0'), tensor([0.0449], device='cuda:0'), tensor([0.0449], device='cuda:0'), tensor([0.0449], device='cuda:0'), tensor([0.0449], device='cuda:0'), tensor([0.0449], device='cuda:0'), tensor([0.0449], device='cuda:0'), tensor([0.0449], device='cuda:0'), tensor([0.0449], device='cuda:0'), tensor([0.0449], device='cuda:0'), tensor([0.0449], device='cuda:0'), tensor([0.0449], device='cuda:0'), tensor([0.0449], device='cuda:0'), tensor([0.0449], device='cuda:0'), tensor([0.0449], device='cuda:0'), tensor([0.0449], device='cuda:0'), tensor([0.0449], device='cuda:0'), tensor([0.0449], device='cuda:0'), tensor([0.0449], device='cuda:0'), tensor([0.0449], device='cuda:0'), tensor([0.0449], device='cuda:0'), tensor([0.0449], device='cuda:0'), tensor([0.0449], device='cuda:0'), tensor([0.0449], device='cuda:0'), tensor([0.0449], device='cuda:0'), tensor([0.0449], device='cuda:0'), tensor([0.0449], device='cuda:0'), tensor([0.0449], device='cuda:0'), tensor([0.0449], device='cuda:0'), tensor([0.0449], device='cuda:0'), tensor([0.0449], device='cuda:0'), tensor([0.0449], device='cuda:0'), tensor([0.0449], device='cuda:0'), tensor([0.0449], device='cuda:0'), tensor([0.0449], device='cuda:0'), tensor([0.0449], device='cuda:0'), tensor([0.0449], device='cuda:0'), tensor([0.0449], device='cuda:0'), tensor([0.0449], device='cuda:0'), tensor([0.0449], device='cuda:0'), tensor([0.0449], device='cuda:0'), tensor([0.0449], device='cuda:0'), tensor([0.0449], device='cuda:0'), tensor([0.0449], device='cuda:0'), tensor([0.0449], device='cuda:0'), tensor([0.0449], device='cuda:0'), tensor([0.0449], device='cuda:0'), tensor([0.0449], device='cuda:0'), tensor([0.0449], device='cuda:0'), tensor([0.0449], device='cuda:0'), tensor([0.0449], device='cuda:0'), tensor([0.0449], device='cuda:0'), tensor([0.0449], device='cuda:0'), tensor([0.0449], device='cuda:0'), tensor([0.0449], device='cuda:0'), tensor([0.0449], device='cuda:0'), tensor([0.0449], device='cuda:0'), tensor([0.0449], device='cuda:0'), tensor([0.0449], device='cuda:0'), tensor([0.0449], device='cuda:0'), tensor([0.0449], device='cuda:0'), tensor([0.0449], device='cuda:0'), tensor([0.0449], device='cuda:0'), tensor([0.0449], device='cuda:0'), tensor([0.0449], device='cuda:0'), tensor([0.0449], device='cuda:0'), tensor([0.0449], device='cuda:0'), tensor([0.0449], device='cuda:0'), tensor([0.0449], device='cuda:0'), tensor([0.0449], device='cuda:0'), tensor([0.0449], device='cuda:0'), tensor([0.0449], device='cuda:0'), tensor([0.0449], device='cuda:0'), tensor([0.0449], device='cuda:0'), tensor([0.0449], device='cuda:0'), tensor([0.0449], device='cuda:0'), tensor([0.0449], device='cuda:0'), tensor([0.0449], device='cuda:0'), tensor([0.0449], device='cuda:0'), tensor([0.0449], device='cuda:0'), tensor([0.0449], device='cuda:0'), tensor([0.0449], device='cuda:0'), tensor([0.0449], device='cuda:0'), tensor([0.0449], device='cuda:0'), tensor([0.0449], device='cuda:0'), tensor([0.0449], device='cuda:0'), tensor([0.0449], device='cuda:0'), tensor([0.0449], device='cuda:0'), tensor([0.0449], device='cuda:0'), tensor([0.0449], device='cuda:0'), tensor([0.0449], device='cuda:0'), tensor([0.0449], device='cuda:0'), tensor([0.0449], device='cuda:0'), tensor([0.0449], device='cuda:0'), tensor([0.0449], device='cuda:0'), tensor([0.0449], device='cuda:0'), tensor([0.0449], device='cuda:0'), tensor([0.0449], device='cuda:0'), tensor([0.0449], device='cuda:0'), tensor([0.0449], device='cuda:0'), tensor([0.0449], device='cuda:0'), tensor([0.0449], device='cuda:0'), tensor([0.0449], device='cuda:0'), tensor([0.0449], device='cuda:0'), tensor([0.0449], device='cuda:0'), tensor([0.0449], device='cuda:0'), tensor([0.0449], device='cuda:0'), tensor([0.0449], device='cuda:0'), tensor([0.0449], device='cuda:0'), tensor([0.0449], device='cuda:0'), tensor([0.0449], device='cuda:0'), tensor([0.0449], device='cuda:0'), tensor([0.0449], device='cuda:0'), tensor([0.0449], device='cuda:0'), tensor([0.0449], device='cuda:0'), tensor([0.0449], device='cuda:0'), tensor([0.0449], device='cuda:0'), tensor([0.0449], device='cuda:0'), tensor([0.0449], device='cuda:0'), tensor([0.0449], device='cuda:0'), tensor([0.0449], device='cuda:0'), tensor([0.0449], device='cuda:0'), tensor([0.0449], device='cuda:0'), tensor([0.0449], device='cuda:0'), tensor([0.0449], device='cuda:0'), tensor([0.0449], device='cuda:0'), tensor([0.0449], device='cuda:0'), tensor([0.0449], device='cuda:0'), tensor([0.0449], device='cuda:0'), tensor([0.0449], device='cuda:0'), tensor([0.0449], device='cuda:0'), tensor([0.0449], device='cuda:0'), tensor([0.0449], device='cuda:0'), tensor([0.0449], device='cuda:0'), tensor([0.0449], device='cuda:0'), tensor([0.0449], device='cuda:0'), tensor([0.0449], device='cuda:0'), tensor([0.0449], device='cuda:0'), tensor([0.0449], device='cuda:0'), tensor([0.0449], device='cuda:0'), tensor([0.0449], device='cuda:0'), tensor([0.0449], device='cuda:0'), tensor([0.0449], device='cuda:0'), tensor([0.0449], device='cuda:0'), tensor([0.0449], device='cuda:0'), tensor([0.0449], device='cuda:0'), tensor([0.0449], device='cuda:0'), tensor([0.0449], device='cuda:0'), tensor([0.0449], device='cuda:0'), tensor([0.0449], device='cuda:0'), tensor([0.0449], device='cuda:0'), tensor([0.0449], device='cuda:0'), tensor([0.0449], device='cuda:0'), tensor([0.0449], device='cuda:0'), tensor([0.0449], device='cuda:0'), tensor([0.0449], device='cuda:0'), tensor([0.0449], device='cuda:0'), tensor([0.0449], device='cuda:0'), tensor([0.0449], device='cuda:0'), tensor([0.0449], device='cuda:0'), tensor([0.0449], device='cuda:0'), tensor([0.0449], device='cuda:0'), tensor([0.0449], device='cuda:0'), tensor([0.0449], device='cuda:0'), tensor([0.0449], device='cuda:0'), tensor([0.0449], device='cuda:0'), tensor([0.0449], device='cuda:0'), tensor([0.0449], device='cuda:0'), tensor([0.0449], device='cuda:0'), tensor([0.0449], device='cuda:0'), tensor([0.0449], device='cuda:0'), tensor([0.0449], device='cuda:0'), tensor([0.0449], device='cuda:0'), tensor([0.0449], device='cuda:0'), tensor([0.0449], device='cuda:0'), tensor([0.0449], device='cuda:0'), tensor([0.0449], device='cuda:0'), tensor([0.0449], device='cuda:0'), tensor([0.0449], device='cuda:0'), tensor([0.0449], device='cuda:0'), tensor([0.0449], device='cuda:0'), tensor([0.0449], device='cuda:0'), tensor([0.0449], device='cuda:0'), tensor([0.0449], device='cuda:0'), tensor([0.0449], device='cuda:0'), tensor([0.0449], device='cuda:0'), tensor([0.0449], device='cuda:0'), tensor([0.0449], device='cuda:0'), tensor([0.0449], device='cuda:0'), tensor([0.0449], device='cuda:0'), tensor([0.0449], device='cuda:0'), tensor([0.0449], device='cuda:0'), tensor([0.0449], device='cuda:0'), tensor([0.0449], device='cuda:0'), tensor([0.0449], device='cuda:0'), tensor([0.0449], device='cuda:0'), tensor([0.0449], device='cuda:0'), tensor([0.0449], device='cuda:0'), tensor([0.0449], device='cuda:0'), tensor([0.0449], device='cuda:0'), tensor([0.0449], device='cuda:0'), tensor([0.0449], device='cuda:0'), tensor([0.0449], device='cuda:0'), tensor([0.0449], device='cuda:0'), tensor([0.0449], device='cuda:0'), tensor([0.0449], device='cuda:0'), tensor([0.0449], device='cuda:0'), tensor([0.0449], device='cuda:0'), tensor([0.0449], device='cuda:0'), tensor([0.0449], device='cuda:0'), tensor([0.0449], device='cuda:0'), tensor([0.0449], device='cuda:0'), tensor([0.0449], device='cuda:0'), tensor([0.0449], device='cuda:0'), tensor([0.0449], device='cuda:0'), tensor([0.0449], device='cuda:0'), tensor([0.0449], device='cuda:0'), tensor([0.0449], device='cuda:0'), tensor([0.0449], device='cuda:0'), tensor([0.0449], device='cuda:0'), tensor([0.0449], device='cuda:0'), tensor([0.0449], device='cuda:0'), tensor([0.0449], device='cuda:0'), tensor([0.0449], device='cuda:0'), tensor([0.0449], device='cuda:0'), tensor([0.0449], device='cuda:0'), tensor([0.0449], device='cuda:0'), tensor([0.0449], device='cuda:0'), tensor([0.0449], device='cuda:0'), tensor([0.0449], device='cuda:0'), tensor([0.0449], device='cuda:0'), tensor([0.0449], device='cuda:0'), tensor([0.0449], device='cuda:0'), tensor([0.0449], device='cuda:0'), tensor([0.0449], device='cuda:0'), tensor([0.0449], device='cuda:0'), tensor([0.0449], device='cuda:0'), tensor([0.0449], device='cuda:0'), tensor([0.0449], device='cuda:0'), tensor([0.0449], device='cuda:0'), tensor([0.0449], device='cuda:0'), tensor([0.0449], device='cuda:0'), tensor([0.0449], device='cuda:0'), tensor([0.0449], device='cuda:0'), tensor([0.0449], device='cuda:0'), tensor([0.0449], device='cuda:0'), tensor([0.0449], device='cuda:0'), tensor([0.0449], device='cuda:0'), tensor([0.0449], device='cuda:0'), tensor([0.0449], device='cuda:0'), tensor([0.0449], device='cuda:0'), tensor([0.0449], device='cuda:0'), tensor([0.0449], device='cuda:0'), tensor([0.0449], device='cuda:0'), tensor([0.0449], device='cuda:0'), tensor([0.0449], device='cuda:0'), tensor([0.0449], device='cuda:0'), tensor([0.0449], device='cuda:0'), tensor([0.0449], device='cuda:0'), tensor([0.0449], device='cuda:0'), tensor([0.0449], device='cuda:0'), tensor([0.0449], device='cuda:0'), tensor([0.0449], device='cuda:0'), tensor([0.0449], device='cuda:0'), tensor([0.0449], device='cuda:0'), tensor([0.0449], device='cuda:0'), tensor([0.0449], device='cuda:0'), tensor([0.0449], device='cuda:0'), tensor([0.0449], device='cuda:0'), tensor([0.0449], device='cuda:0'), tensor([0.0449], device='cuda:0'), tensor([0.0449], device='cuda:0'), tensor([0.0449], device='cuda:0'), tensor([0.0449], device='cuda:0'), tensor([0.0449], device='cuda:0'), tensor([0.0449], device='cuda:0'), tensor([0.0449], device='cuda:0'), tensor([0.0449], device='cuda:0'), tensor([0.0449], device='cuda:0'), tensor([0.0449], device='cuda:0'), tensor([0.0449], device='cuda:0'), tensor([0.0449], device='cuda:0'), tensor([0.0449], device='cuda:0'), tensor([0.0449], device='cuda:0'), tensor([0.0449], device='cuda:0'), tensor([0.0449], device='cuda:0'), tensor([0.0449], device='cuda:0'), tensor([0.0449], device='cuda:0'), tensor([0.0449], device='cuda:0'), tensor([0.0449], device='cuda:0'), tensor([0.0449], device='cuda:0'), tensor([0.0449], device='cuda:0'), tensor([0.0449], device='cuda:0'), tensor([0.0449], device='cuda:0'), tensor([0.0449], device='cuda:0'), tensor([0.0449], device='cuda:0'), tensor([0.0449], device='cuda:0'), tensor([0.0449], device='cuda:0'), tensor([0.0449], device='cuda:0'), tensor([0.0449], device='cuda:0'), tensor([0.0449], device='cuda:0'), tensor([0.0449], device='cuda:0'), tensor([0.0449], device='cuda:0'), tensor([0.0449], device='cuda:0'), tensor([0.0449], device='cuda:0'), tensor([0.0449], device='cuda:0'), tensor([0.0449], device='cuda:0'), tensor([0.0449], device='cuda:0'), tensor([0.0449], device='cuda:0'), tensor([0.0449], device='cuda:0'), tensor([0.0449], device='cuda:0'), tensor([0.0449], device='cuda:0'), tensor([0.0449], device='cuda:0'), tensor([0.0449], device='cuda:0'), tensor([0.0449], device='cuda:0'), tensor([0.0449], device='cuda:0'), tensor([0.0449], device='cuda:0'), tensor([0.0449], device='cuda:0'), tensor([0.0449], device='cuda:0'), tensor([0.0449], device='cuda:0'), tensor([0.0449], device='cuda:0'), tensor([0.0449], device='cuda:0'), tensor([0.0449], device='cuda:0'), tensor([0.0449], device='cuda:0'), tensor([0.0449], device='cuda:0'), tensor([0.0449], device='cuda:0'), tensor([0.0449], device='cuda:0'), tensor([0.0449], device='cuda:0'), tensor([0.0449], device='cuda:0'), tensor([0.0449], device='cuda:0'), tensor([0.0449], device='cuda:0'), tensor([0.0449], device='cuda:0'), tensor([0.0449], device='cuda:0'), tensor([0.0449], device='cuda:0'), tensor([0.0449], device='cuda:0'), tensor([0.0449], device='cuda:0'), tensor([0.0449], device='cuda:0'), tensor([0.0449], device='cuda:0'), tensor([0.0449], device='cuda:0'), tensor([0.0449], device='cuda:0'), tensor([0.0449], device='cuda:0'), tensor([0.0449], device='cuda:0'), tensor([0.0449], device='cuda:0'), tensor([0.0449], device='cuda:0'), tensor([0.0449], device='cuda:0'), tensor([0.0449], device='cuda:0'), tensor([0.0449], device='cuda:0'), tensor([0.0449], device='cuda:0'), tensor([0.0449], device='cuda:0'), tensor([0.0449], device='cuda:0'), tensor([0.0449], device='cuda:0'), tensor([0.0449], device='cuda:0'), tensor([0.0449], device='cuda:0'), tensor([0.0449], device='cuda:0'), tensor([0.0449], device='cuda:0'), tensor([0.0449], device='cuda:0'), tensor([0.0449], device='cuda:0'), tensor([0.0449], device='cuda:0'), tensor([0.0449], device='cuda:0'), tensor([0.0449], device='cuda:0'), tensor([0.0449], device='cuda:0'), tensor([0.0449], device='cuda:0'), tensor([0.0449], device='cuda:0'), tensor([0.0449], device='cuda:0'), tensor([0.0449], device='cuda:0'), tensor([0.0449], device='cuda:0'), tensor([0.0449], device='cuda:0'), tensor([0.0449], device='cuda:0'), tensor([0.0449], device='cuda:0'), tensor([0.0449], device='cuda:0'), tensor([0.0449], device='cuda:0'), tensor([0.0449], device='cuda:0'), tensor([0.0449], device='cuda:0'), tensor([0.0449], device='cuda:0'), tensor([0.0449], device='cuda:0'), tensor([0.0449], device='cuda:0'), tensor([0.0449], device='cuda:0'), tensor([0.0449], device='cuda:0'), tensor([0.0449], device='cuda:0'), tensor([0.0449], device='cuda:0'), tensor([0.0449], device='cuda:0'), tensor([0.0449], device='cuda:0'), tensor([0.0449], device='cuda:0'), tensor([0.0449], device='cuda:0'), tensor([0.0449], device='cuda:0'), tensor([0.0449], device='cuda:0'), tensor([0.0449], device='cuda:0'), tensor([0.0449], device='cuda:0'), tensor([0.0449], device='cuda:0'), tensor([0.0449], device='cuda:0'), tensor([0.0449], device='cuda:0'), tensor([0.0449], device='cuda:0'), tensor([0.0449], device='cuda:0'), tensor([0.0449], device='cuda:0'), tensor([0.0449], device='cuda:0'), tensor([0.0449], device='cuda:0'), tensor([0.0449], device='cuda:0'), tensor([0.0449], device='cuda:0'), tensor([0.0449], device='cuda:0'), tensor([0.0449], device='cuda:0'), tensor([0.0449], device='cuda:0'), tensor([0.0449], device='cuda:0'), tensor([0.0449], device='cuda:0'), tensor([0.0449], device='cuda:0'), tensor([0.0449], device='cuda:0'), tensor([0.0449], device='cuda:0'), tensor([0.0449], device='cuda:0'), tensor([0.0449], device='cuda:0'), tensor([0.0449], device='cuda:0'), tensor([0.0449], device='cuda:0'), tensor([0.0449], device='cuda:0'), tensor([0.0449], device='cuda:0'), tensor([0.0449], device='cuda:0'), tensor([0.0449], device='cuda:0'), tensor([0.0449], device='cuda:0'), tensor([0.0449], device='cuda:0'), tensor([0.0449], device='cuda:0'), tensor([0.0449], device='cuda:0'), tensor([0.0449], device='cuda:0'), tensor([0.0449], device='cuda:0'), tensor([0.0449], device='cuda:0'), tensor([0.0449], device='cuda:0'), tensor([0.0449], device='cuda:0'), tensor([0.0449], device='cuda:0'), tensor([0.0449], device='cuda:0'), tensor([0.0449], device='cuda:0'), tensor([0.0449], device='cuda:0'), tensor([0.0449], device='cuda:0'), tensor([0.0449], device='cuda:0'), tensor([0.0449], device='cuda:0'), tensor([0.0449], device='cuda:0'), tensor([0.0449], device='cuda:0'), tensor([0.0449], device='cuda:0'), tensor([0.0449], device='cuda:0'), tensor([0.0449], device='cuda:0'), tensor([0.0449], device='cuda:0'), tensor([0.0449], device='cuda:0'), tensor([0.0449], device='cuda:0'), tensor([0.0449], device='cuda:0'), tensor([0.0449], device='cuda:0'), tensor([0.0449], device='cuda:0'), tensor([0.0449], device='cuda:0'), tensor([0.0449], device='cuda:0'), tensor([0.0449], device='cuda:0'), tensor([0.0449], device='cuda:0'), tensor([0.0449], device='cuda:0'), tensor([0.0449], device='cuda:0'), tensor([0.0449], device='cuda:0'), tensor([0.0449], device='cuda:0'), tensor([0.0449], device='cuda:0'), tensor([0.0449], device='cuda:0'), tensor([0.0449], device='cuda:0'), tensor([0.0449], device='cuda:0'), tensor([0.0449], device='cuda:0'), tensor([0.0449], device='cuda:0'), tensor([0.0449], device='cuda:0'), tensor([0.0449], device='cuda:0'), tensor([0.0449], device='cuda:0'), tensor([0.0449], device='cuda:0'), tensor([0.0449], device='cuda:0'), tensor([0.0449], device='cuda:0'), tensor([0.0449], device='cuda:0'), tensor([0.0449], device='cuda:0'), tensor([0.0449], device='cuda:0'), tensor([0.0449], device='cuda:0'), tensor([0.0449], device='cuda:0'), tensor([0.0449], device='cuda:0'), tensor([0.0449], device='cuda:0'), tensor([0.0449], device='cuda:0'), tensor([0.0449], device='cuda:0'), tensor([0.0449], device='cuda:0'), tensor([0.0449], device='cuda:0'), tensor([0.0449], device='cuda:0'), tensor([0.0449], device='cuda:0'), tensor([0.0449], device='cuda:0'), tensor([0.0449], device='cuda:0'), tensor([0.0449], device='cuda:0'), tensor([0.0449], device='cuda:0'), tensor([0.0449], device='cuda:0'), tensor([0.0449], device='cuda:0'), tensor([0.0449], device='cuda:0'), tensor([0.0449], device='cuda:0'), tensor([0.0449], device='cuda:0'), tensor([0.0449], device='cuda:0'), tensor([0.0449], device='cuda:0'), tensor([0.0449], device='cuda:0'), tensor([0.0449], device='cuda:0'), tensor([0.0449], device='cuda:0'), tensor([0.0449], device='cuda:0'), tensor([0.0449], device='cuda:0'), tensor([0.0449], device='cuda:0'), tensor([0.0449], device='cuda:0'), tensor([0.0449], device='cuda:0'), tensor([0.0449], device='cuda:0'), tensor([0.0449], device='cuda:0'), tensor([0.0449], device='cuda:0'), tensor([0.0449], device='cuda:0'), tensor([0.0449], device='cuda:0'), tensor([0.0449], device='cuda:0'), tensor([0.0449], device='cuda:0'), tensor([0.0449], device='cuda:0'), tensor([0.0449], device='cuda:0'), tensor([0.0449], device='cuda:0'), tensor([0.0449], device='cuda:0'), tensor([0.0449], device='cuda:0'), tensor([0.0449], device='cuda:0'), tensor([0.0449], device='cuda:0'), tensor([0.0449], device='cuda:0'), tensor([0.0449], device='cuda:0'), tensor([0.0449], device='cuda:0'), tensor([0.0449], device='cuda:0'), tensor([0.0449], device='cuda:0'), tensor([0.0449], device='cuda:0'), tensor([0.0449], device='cuda:0'), tensor([0.0449], device='cuda:0'), tensor([0.0449], device='cuda:0'), tensor([0.0449], device='cuda:0'), tensor([0.0449], device='cuda:0'), tensor([0.0449], device='cuda:0'), tensor([0.0449], device='cuda:0'), tensor([0.0449], device='cuda:0'), tensor([0.0449], device='cuda:0'), tensor([0.0449], device='cuda:0'), tensor([0.0449], device='cuda:0'), tensor([0.0449], device='cuda:0'), tensor([0.0449], device='cuda:0'), tensor([0.0449], device='cuda:0'), tensor([0.0449], device='cuda:0'), tensor([0.0449], device='cuda:0'), tensor([0.0449], device='cuda:0'), tensor([0.0449], device='cuda:0'), tensor([0.0449], device='cuda:0'), tensor([0.0449], device='cuda:0'), tensor([0.0449], device='cuda:0'), tensor([0.0449], device='cuda:0'), tensor([0.0449], device='cuda:0'), tensor([0.0449], device='cuda:0'), tensor([0.0449], device='cuda:0'), tensor([0.0449], device='cuda:0'), tensor([0.0449], device='cuda:0'), tensor([0.0449], device='cuda:0'), tensor([0.0449], device='cuda:0'), tensor([0.0449], device='cuda:0'), tensor([0.0449], device='cuda:0'), tensor([0.0449], device='cuda:0'), tensor([0.0449], device='cuda:0')]\n"
     ]
    }
   ],
   "source": [
    "print(f\"True Positives: {tp}\")\n",
    "print(f\"False Positives: {fp}\")\n",
    "print(f\"True Negatives: {tn}\")\n",
    "print(f\"False Negatives: {fn}\")\n",
    "print(results_list)\n",
    "# Plot schedular graph"
   ]
  },
  {
   "cell_type": "code",
   "execution_count": 107,
   "metadata": {},
   "outputs": [
    {
     "data": {
      "image/png": "[encoded data removed]",
      "text/plain": [
       "<Figure size 640x480 with 1 Axes>"
      ]
     },
     "metadata": {},
     "output_type": "display_data"
    },
    {
     "name": "stderr",
     "output_type": "stream",
     "text": []
    }
   ],
   "source": [
    "# Plot losses\n",
    "a = []\n",
    "for i in range(len(loss_track)):\n",
    "    a.append(loss_track[i].item())\n",
    "\n",
    "plt.plot(range(len(a)), a, label=\"Training Loss\")\n",
    "# plt.plot(range(len(loss_track_valid)), loss_track_valid, label=\"Validation Loss\")\n",
    "\n",
    "plt.title(\"Training and Validation Loss\")\n",
    "plt.xlabel(\"Epoch\")\n",
    "plt.ylabel(\"Loss\")\n",
    "plt.show()"
   ]
  },
  {
   "cell_type": "code",
   "execution_count": null,
   "metadata": {},
   "outputs": [],
   "source": []
  },
  {
   "cell_type": "code",
   "execution_count": 115,
   "metadata": {},
   "outputs": [
    {
     "name": "stdout",
     "output_type": "stream",
     "text": [
      "tensor(-0., device='cuda:0', grad_fn=<DivBackward1>)\n"
     ]
    }
   ],
   "source": [
    "print(loss_track[4])"
   ]
  }
 ],
 "metadata": {
  "kernelspec": {
   "display_name": ".venv",
   "language": "python",
   "name": "python3"
  },
  "language_info": {
   "codemirror_mode": {
    "name": "ipython",
    "version": 3
   },
   "file_extension": ".py",
   "mimetype": "text/x-python",
   "name": "python",
   "nbconvert_exporter": "python",
   "pygments_lexer": "ipython3",
   "version": "3.11.3"
  }
 },
 "nbformat": 4,
 "nbformat_minor": 2
}
