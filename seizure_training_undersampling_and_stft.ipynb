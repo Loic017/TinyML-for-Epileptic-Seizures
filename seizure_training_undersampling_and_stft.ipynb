{
 "cells": [
  {
   "cell_type": "markdown",
   "metadata": {},
   "source": [
    "# Import Data and Train Model\n"
   ]
  },
  {
   "cell_type": "code",
   "execution_count": 1,
   "metadata": {},
   "outputs": [
    {
     "name": "stderr",
     "output_type": "stream",
     "text": [
      "c:\\Users\\loicl\\Documents\\UniWork\\Year 3\\Dissertation\\TinyML-for-Epileptic-Seizures\\.venv\\Lib\\site-packages\\tqdm\\auto.py:21: TqdmWarning: IProgress not found. Please update jupyter and ipywidgets. See https://ipywidgets.readthedocs.io/en/stable/user_install.html\n",
      "  from .autonotebook import tqdm as notebook_tqdm\n"
     ]
    }
   ],
   "source": [
    "import torch\n",
    "import torch.nn as nn\n",
    "import torch.nn.functional as F\n",
    "from torch.utils.data import Dataset, DataLoader\n",
    "from torch.utils.data.dataset import random_split\n",
    "from torchvision.transforms import ToTensor, Lambda\n",
    "import torchvision.transforms as T\n",
    "from transformers import get_scheduler, AdamW\n",
    "from datasets import load_metric\n",
    "\n",
    "import numpy as np\n",
    "from scipy.io import wavfile\n",
    "from scipy.fft import fft, fftfreq, fftshift\n",
    "from scipy.fftpack import dct\n",
    "import IPython.display\n",
    "import librosa\n",
    "from PIL import Image\n",
    "\n",
    "import matplotlib.pyplot as plt\n",
    "from matplotlib import cm\n",
    "%matplotlib inline\n",
    "import pandas as pd;\n",
    "import numpy as np\n",
    "import math\n",
    "\n",
    "from imblearn.over_sampling import SMOTE\n",
    "from imblearn.under_sampling import RandomUnderSampler\n",
    "\n",
    "import mne\n",
    "import mne.channels\n",
    "from tqdm.auto import tqdm\n"
   ]
  },
  {
   "cell_type": "markdown",
   "metadata": {},
   "source": [
    "## Load Data: Create Dataset\n"
   ]
  },
  {
   "cell_type": "markdown",
   "metadata": {},
   "source": [
    "### Load Absence Seizure Data\n"
   ]
  },
  {
   "cell_type": "code",
   "execution_count": 2,
   "metadata": {},
   "outputs": [],
   "source": [
    "class AbsenceDataset(Dataset):\n",
    "    def __init__(self, file_path, transform=None, target_transform=None):\n",
    "        self.x, self.y = self.data_get(file_path)\n",
    "        self.n_samples = len(self.x)\n",
    "\n",
    "        self.transform = transform\n",
    "        self.target_transform = target_transform\n",
    "\n",
    "    def __getitem__(self, idx):\n",
    "        sample_x, sample_y = self.x[idx], self.y[idx]\n",
    "\n",
    "        if self.transform:\n",
    "            sample_x = self.transform(sample_x)\n",
    "\n",
    "        if self.target_transform:\n",
    "            sample_y = self.target_transform(sample_y)\n",
    "\n",
    "        return sample_x.float(), sample_y.float()\n",
    "\n",
    "    def __len__(self):\n",
    "        return self.n_samples\n",
    "\n",
    "    def data_get(self, file_path):\n",
    "        data = pd.read_csv(file_path)\n",
    "        x_loaded, y_loaded = [], []\n",
    "        for index, row in data.iterrows():\n",
    "            a = np.load(row[\"labels\"])\n",
    "            for i, v in enumerate(a):\n",
    "                a[i] = int(v)\n",
    "            y_loaded.append(a)\n",
    "\n",
    "            x_loaded.append(np.load(row[\"data\"]))\n",
    "\n",
    "        continuous_x = np.concatenate(x_loaded, axis=0)\n",
    "        continuous_y = np.concatenate(y_loaded, axis=0)\n",
    "\n",
    "        return continuous_x, continuous_y"
   ]
  },
  {
   "cell_type": "code",
   "execution_count": 3,
   "metadata": {},
   "outputs": [],
   "source": [
    "%%capture\n",
    "# Load the dataset\n",
    "dataset = AbsenceDataset(\n",
    "    \"processed_data/absence/five_channels_il_075/epochs_files.csv\",\n",
    "    transform=torch.tensor,\n",
    "    target_transform=torch.tensor,\n",
    ")\n",
    "dataset.y = dataset.y.astype(int)"
   ]
  },
  {
   "cell_type": "code",
   "execution_count": 4,
   "metadata": {},
   "outputs": [
    {
     "data": {
      "text/plain": [
       "(4141, 11, 1000)"
      ]
     },
     "execution_count": 4,
     "metadata": {},
     "output_type": "execute_result"
    }
   ],
   "source": [
    "dataset.x.shape"
   ]
  },
  {
   "cell_type": "markdown",
   "metadata": {},
   "source": [
    "# Split Data\n",
    "\n",
    "70%, 20%, 10%\n"
   ]
  },
  {
   "cell_type": "code",
   "execution_count": 5,
   "metadata": {},
   "outputs": [
    {
     "data": {
      "text/plain": [
       "4141"
      ]
     },
     "execution_count": 5,
     "metadata": {},
     "output_type": "execute_result"
    }
   ],
   "source": [
    "dataset_len = len(dataset)\n",
    "dataset_len"
   ]
  },
  {
   "cell_type": "code",
   "execution_count": 6,
   "metadata": {},
   "outputs": [
    {
     "name": "stdout",
     "output_type": "stream",
     "text": [
      "Train Split: 2899\n",
      "Eval Split: 828\n",
      "Test Split: 414\n",
      "Total: 4141\n"
     ]
    }
   ],
   "source": [
    "if (\n",
    "    int(dataset_len * 0.7) + int(dataset_len * 0.2) + int(dataset_len * 0.1)\n",
    ") != dataset_len:\n",
    "    train_set, eval_set, test_set = random_split(\n",
    "        dataset,\n",
    "        [\n",
    "            math.ceil(dataset_len * 0.7),\n",
    "            int(dataset_len * 0.2),\n",
    "            int(dataset_len * 0.1),\n",
    "        ],\n",
    "    )\n",
    "else:\n",
    "    train_set, eval_set, test_set = random_split(\n",
    "        dataset,\n",
    "        [\n",
    "            int(dataset_len * 0.1),\n",
    "            int(dataset_len * 0.7),\n",
    "            int(dataset_len * 0.2),\n",
    "        ],\n",
    "    )\n",
    "\n",
    "print(f\"Train Split: {len(train_set)}\")\n",
    "print(f\"Eval Split: {len(eval_set)}\")\n",
    "print(f\"Test Split: {len(test_set)}\")\n",
    "print(f\"Total: {len(train_set) + len(eval_set) + len(test_set)}\")"
   ]
  },
  {
   "cell_type": "code",
   "execution_count": 7,
   "metadata": {},
   "outputs": [
    {
     "data": {
      "text/plain": [
       "((2899, 11, 1000), (2899,))"
      ]
     },
     "execution_count": 7,
     "metadata": {},
     "output_type": "execute_result"
    }
   ],
   "source": [
    "train_set.dataset.x[train_set.indices].shape, train_set.dataset.y[\n",
    "    train_set.indices\n",
    "].shape"
   ]
  },
  {
   "cell_type": "markdown",
   "metadata": {},
   "source": [
    "## Random Undersampling\n"
   ]
  },
  {
   "cell_type": "code",
   "execution_count": 8,
   "metadata": {},
   "outputs": [
    {
     "name": "stdout",
     "output_type": "stream",
     "text": [
      "Background: 2784 // Absence Seizure: 115\n"
     ]
    }
   ],
   "source": [
    "bk, sz = 0, 0\n",
    "for i, v in enumerate(train_set.dataset.y[train_set.indices]):\n",
    "    if v == 1:\n",
    "        sz += 1\n",
    "    else:\n",
    "        bk += 1\n",
    "\n",
    "print(f\"Background: {bk} // Absence Seizure: {sz}\")"
   ]
  },
  {
   "cell_type": "code",
   "execution_count": 9,
   "metadata": {},
   "outputs": [
    {
     "data": {
      "text/plain": [
       "(2899, 11000)"
      ]
     },
     "execution_count": 9,
     "metadata": {},
     "output_type": "execute_result"
    }
   ],
   "source": [
    "shape = train_set.dataset.x[train_set.indices].shape\n",
    "data_reshaped = train_set.dataset.x[train_set.indices]\n",
    "data_reshaped = np.reshape(data_reshaped, (shape[0], shape[1] * shape[2]))\n",
    "data_reshaped.shape"
   ]
  },
  {
   "cell_type": "code",
   "execution_count": 10,
   "metadata": {},
   "outputs": [],
   "source": [
    "rand_us = RandomUnderSampler(random_state=42)\n",
    "train_set_x, train_set_y = rand_us.fit_resample(\n",
    "    data_reshaped, train_set.dataset.y[train_set.indices]\n",
    ")"
   ]
  },
  {
   "cell_type": "code",
   "execution_count": 11,
   "metadata": {},
   "outputs": [
    {
     "data": {
      "text/plain": [
       "((230, 11, 1000), (828, 11, 1000))"
      ]
     },
     "execution_count": 11,
     "metadata": {},
     "output_type": "execute_result"
    }
   ],
   "source": [
    "train_set_x = np.reshape(train_set_x, (train_set_x.shape[0], shape[1], shape[2]))\n",
    "val_set_x = eval_set.dataset.x[eval_set.indices]\n",
    "train_set_x.shape, val_set_x.shape"
   ]
  },
  {
   "cell_type": "code",
   "execution_count": 12,
   "metadata": {},
   "outputs": [
    {
     "name": "stdout",
     "output_type": "stream",
     "text": [
      "Background: 115 // Absence Seizure: 115\n"
     ]
    }
   ],
   "source": [
    "bk, sz = 0, 0\n",
    "for i, v in enumerate(train_set_y):\n",
    "    if v == 1:\n",
    "        sz += 1\n",
    "    else:\n",
    "        bk += 1\n",
    "\n",
    "print(f\"Background: {bk} // Absence Seizure: {sz}\")"
   ]
  },
  {
   "cell_type": "markdown",
   "metadata": {},
   "source": [
    "# STFT\n"
   ]
  },
  {
   "cell_type": "markdown",
   "metadata": {},
   "source": [
    "Create STFT\n"
   ]
  },
  {
   "cell_type": "code",
   "execution_count": 593,
   "metadata": {},
   "outputs": [
    {
     "data": {
      "text/plain": [
       "((230, 11, 4, 6), (828, 11, 4, 6))"
      ]
     },
     "execution_count": 593,
     "metadata": {},
     "output_type": "execute_result"
    }
   ],
   "source": [
    "n_fft = int(1024 / 6)\n",
    "window = \"taylor\"\n",
    "hop_length = int(n_fft)\n",
    "\n",
    "# Train\n",
    "stft_channel_data = []\n",
    "for i, channels in enumerate(train_set_x):\n",
    "    stft_channel_data.append(\n",
    "        (\n",
    "            librosa.feature.melspectrogram(\n",
    "                y=channels,\n",
    "                sr=250,\n",
    "                n_mels=4,\n",
    "                n_fft=n_fft,\n",
    "                fmin=0,\n",
    "                fmax=4,\n",
    "                hop_length=hop_length,\n",
    "                window=window,\n",
    "                center=True,\n",
    "                pad_mode=\"reflect\",\n",
    "            )\n",
    "        )\n",
    "    )\n",
    "stft_channel_data = np.array(stft_channel_data)\n",
    "\n",
    "# Val\n",
    "val_stft_channel_data = []\n",
    "for i, channels in enumerate(val_set_x):\n",
    "    val_stft_channel_data.append(\n",
    "        (\n",
    "            librosa.feature.melspectrogram(\n",
    "                y=channels,\n",
    "                sr=250,\n",
    "                n_mels=4,\n",
    "                n_fft=n_fft,\n",
    "                fmin=0,\n",
    "                fmax=5,\n",
    "                hop_length=hop_length,\n",
    "                window=window,\n",
    "            )\n",
    "        )\n",
    "    )\n",
    "val_stft_channel_data = np.array(val_stft_channel_data)\n",
    "\n",
    "stft_channel_data.shape, val_stft_channel_data.shape"
   ]
  },
  {
   "cell_type": "code",
   "execution_count": 594,
   "metadata": {},
   "outputs": [
    {
     "data": {
      "text/plain": [
       "((230, 11, 4, 6), (828, 11, 4, 6))"
      ]
     },
     "execution_count": 594,
     "metadata": {},
     "output_type": "execute_result"
    }
   ],
   "source": [
    "# Train\n",
    "train_db = []\n",
    "for i, channels in enumerate(stft_channel_data):\n",
    "    train_db.append(librosa.amplitude_to_db((channels), ref=np.max))\n",
    "train_db = np.array(train_db)\n",
    "\n",
    "# Val\n",
    "val_db = []\n",
    "for i, channels in enumerate(val_stft_channel_data):\n",
    "    val_db.append(librosa.amplitude_to_db((channels), ref=np.max))\n",
    "val_db = np.array(val_db)\n",
    "\n",
    "train_db.shape, val_db.shape"
   ]
  },
  {
   "cell_type": "code",
   "execution_count": 595,
   "metadata": {},
   "outputs": [
    {
     "data": {
      "text/plain": [
       "((230, 4, 6), (828, 4, 6))"
      ]
     },
     "execution_count": 595,
     "metadata": {},
     "output_type": "execute_result"
    }
   ],
   "source": [
    "# Train\n",
    "train_db_mean = []\n",
    "for i, channels in enumerate(stft_channel_data):\n",
    "    train_db_mean.append(np.mean(channels, axis=0))\n",
    "train_db_mean = np.array(train_db_mean)\n",
    "\n",
    "# Val\n",
    "val_db_mean = []\n",
    "for i, channels in enumerate(val_stft_channel_data):\n",
    "    val_db_mean.append(np.mean(channels, axis=0))\n",
    "val_db_mean = np.array(val_db_mean)\n",
    "\n",
    "train_db_mean.shape, val_db_mean.shape"
   ]
  },
  {
   "cell_type": "code",
   "execution_count": 616,
   "metadata": {},
   "outputs": [
    {
     "ename": "AttributeError",
     "evalue": "QuadMesh.set() got an unexpected keyword argument 'center'",
     "output_type": "error",
     "traceback": [
      "\u001b[1;31m---------------------------------------------------------------------------\u001b[0m",
      "\u001b[1;31mAttributeError\u001b[0m                            Traceback (most recent call last)",
      "Cell \u001b[1;32mIn[616], line 8\u001b[0m\n\u001b[0;32m      6\u001b[0m ax\u001b[38;5;241m.\u001b[39mset_axis_off()\n\u001b[0;32m      7\u001b[0m f\u001b[38;5;241m.\u001b[39madd_axes(ax)\n\u001b[1;32m----> 8\u001b[0m img \u001b[38;5;241m=\u001b[39m \u001b[43mlibrosa\u001b[49m\u001b[38;5;241;43m.\u001b[39;49m\u001b[43mdisplay\u001b[49m\u001b[38;5;241;43m.\u001b[39;49m\u001b[43mspecshow\u001b[49m\u001b[43m(\u001b[49m\u001b[43mdata\u001b[49m\u001b[43m,\u001b[49m\u001b[43m \u001b[49m\u001b[43msr\u001b[49m\u001b[38;5;241;43m=\u001b[39;49m\u001b[38;5;241;43m250\u001b[39;49m\u001b[43m,\u001b[49m\u001b[43m \u001b[49m\u001b[43mx_axis\u001b[49m\u001b[38;5;241;43m=\u001b[39;49m\u001b[38;5;124;43m\"\u001b[39;49m\u001b[38;5;124;43mtime\u001b[39;49m\u001b[38;5;124;43m\"\u001b[39;49m\u001b[43m,\u001b[49m\u001b[43m \u001b[49m\u001b[43my_axis\u001b[49m\u001b[38;5;241;43m=\u001b[39;49m\u001b[38;5;124;43m\"\u001b[39;49m\u001b[38;5;124;43mmel\u001b[39;49m\u001b[38;5;124;43m\"\u001b[39;49m\u001b[43m,\u001b[49m\u001b[43m \u001b[49m\u001b[43mcenter\u001b[49m\u001b[38;5;241;43m=\u001b[39;49m\u001b[38;5;28;43;01mTrue\u001b[39;49;00m\u001b[43m,\u001b[49m\u001b[43m \u001b[49m\u001b[43mpad_mode\u001b[49m\u001b[38;5;241;43m=\u001b[39;49m\u001b[38;5;124;43m\"\u001b[39;49m\u001b[38;5;124;43mreflect\u001b[39;49m\u001b[38;5;124;43m\"\u001b[39;49m\u001b[43m)\u001b[49m\n\u001b[0;32m      9\u001b[0m plt\u001b[38;5;241m.\u001b[39msavefig(\u001b[38;5;124m\"\u001b[39m\u001b[38;5;124mimage_process.png\u001b[39m\u001b[38;5;124m\"\u001b[39m)\n\u001b[0;32m     11\u001b[0m img \u001b[38;5;241m=\u001b[39m Image\u001b[38;5;241m.\u001b[39mopen(\u001b[38;5;124m\"\u001b[39m\u001b[38;5;124mimage_process.png\u001b[39m\u001b[38;5;124m\"\u001b[39m)\n",
      "File \u001b[1;32mc:\\Users\\loicl\\Documents\\UniWork\\Year 3\\Dissertation\\TinyML-for-Epileptic-Seizures\\.venv\\Lib\\site-packages\\librosa\\display.py:1208\u001b[0m, in \u001b[0;36mspecshow\u001b[1;34m(data, x_coords, y_coords, x_axis, y_axis, sr, hop_length, n_fft, win_length, fmin, fmax, tuning, bins_per_octave, key, Sa, mela, thaat, auto_aspect, htk, unicode, intervals, unison, ax, **kwargs)\u001b[0m\n\u001b[0;32m   1204\u001b[0m x_coords \u001b[38;5;241m=\u001b[39m __mesh_coords(x_axis, x_coords, data\u001b[38;5;241m.\u001b[39mshape[\u001b[38;5;241m1\u001b[39m], \u001b[38;5;241m*\u001b[39m\u001b[38;5;241m*\u001b[39mall_params)\n\u001b[0;32m   1206\u001b[0m axes \u001b[38;5;241m=\u001b[39m __check_axes(ax)\n\u001b[1;32m-> 1208\u001b[0m out \u001b[38;5;241m=\u001b[39m \u001b[43maxes\u001b[49m\u001b[38;5;241;43m.\u001b[39;49m\u001b[43mpcolormesh\u001b[49m\u001b[43m(\u001b[49m\u001b[43mx_coords\u001b[49m\u001b[43m,\u001b[49m\u001b[43m \u001b[49m\u001b[43my_coords\u001b[49m\u001b[43m,\u001b[49m\u001b[43m \u001b[49m\u001b[43mdata\u001b[49m\u001b[43m,\u001b[49m\u001b[43m \u001b[49m\u001b[38;5;241;43m*\u001b[39;49m\u001b[38;5;241;43m*\u001b[39;49m\u001b[43mkwargs\u001b[49m\u001b[43m)\u001b[49m\n\u001b[0;32m   1210\u001b[0m __set_current_image(ax, out)\n\u001b[0;32m   1212\u001b[0m \u001b[38;5;66;03m# Set up axis scaling\u001b[39;00m\n",
      "File \u001b[1;32mc:\\Users\\loicl\\Documents\\UniWork\\Year 3\\Dissertation\\TinyML-for-Epileptic-Seizures\\.venv\\Lib\\site-packages\\matplotlib\\__init__.py:1478\u001b[0m, in \u001b[0;36m_preprocess_data.<locals>.inner\u001b[1;34m(ax, data, *args, **kwargs)\u001b[0m\n\u001b[0;32m   1475\u001b[0m \u001b[38;5;129m@functools\u001b[39m\u001b[38;5;241m.\u001b[39mwraps(func)\n\u001b[0;32m   1476\u001b[0m \u001b[38;5;28;01mdef\u001b[39;00m \u001b[38;5;21minner\u001b[39m(ax, \u001b[38;5;241m*\u001b[39margs, data\u001b[38;5;241m=\u001b[39m\u001b[38;5;28;01mNone\u001b[39;00m, \u001b[38;5;241m*\u001b[39m\u001b[38;5;241m*\u001b[39mkwargs):\n\u001b[0;32m   1477\u001b[0m     \u001b[38;5;28;01mif\u001b[39;00m data \u001b[38;5;129;01mis\u001b[39;00m \u001b[38;5;28;01mNone\u001b[39;00m:\n\u001b[1;32m-> 1478\u001b[0m         \u001b[38;5;28;01mreturn\u001b[39;00m \u001b[43mfunc\u001b[49m\u001b[43m(\u001b[49m\u001b[43max\u001b[49m\u001b[43m,\u001b[49m\u001b[43m \u001b[49m\u001b[38;5;241;43m*\u001b[39;49m\u001b[38;5;28;43mmap\u001b[39;49m\u001b[43m(\u001b[49m\u001b[43msanitize_sequence\u001b[49m\u001b[43m,\u001b[49m\u001b[43m \u001b[49m\u001b[43margs\u001b[49m\u001b[43m)\u001b[49m\u001b[43m,\u001b[49m\u001b[43m \u001b[49m\u001b[38;5;241;43m*\u001b[39;49m\u001b[38;5;241;43m*\u001b[39;49m\u001b[43mkwargs\u001b[49m\u001b[43m)\u001b[49m\n\u001b[0;32m   1480\u001b[0m     bound \u001b[38;5;241m=\u001b[39m new_sig\u001b[38;5;241m.\u001b[39mbind(ax, \u001b[38;5;241m*\u001b[39margs, \u001b[38;5;241m*\u001b[39m\u001b[38;5;241m*\u001b[39mkwargs)\n\u001b[0;32m   1481\u001b[0m     auto_label \u001b[38;5;241m=\u001b[39m (bound\u001b[38;5;241m.\u001b[39marguments\u001b[38;5;241m.\u001b[39mget(label_namer)\n\u001b[0;32m   1482\u001b[0m                   \u001b[38;5;129;01mor\u001b[39;00m bound\u001b[38;5;241m.\u001b[39mkwargs\u001b[38;5;241m.\u001b[39mget(label_namer))\n",
      "File \u001b[1;32mc:\\Users\\loicl\\Documents\\UniWork\\Year 3\\Dissertation\\TinyML-for-Epileptic-Seizures\\.venv\\Lib\\site-packages\\matplotlib\\axes\\_axes.py:6295\u001b[0m, in \u001b[0;36mAxes.pcolormesh\u001b[1;34m(self, alpha, norm, cmap, vmin, vmax, shading, antialiased, *args, **kwargs)\u001b[0m\n\u001b[0;32m   6291\u001b[0m coords \u001b[38;5;241m=\u001b[39m np\u001b[38;5;241m.\u001b[39mstack([X, Y], axis\u001b[38;5;241m=\u001b[39m\u001b[38;5;241m-\u001b[39m\u001b[38;5;241m1\u001b[39m)\n\u001b[0;32m   6293\u001b[0m kwargs\u001b[38;5;241m.\u001b[39msetdefault(\u001b[38;5;124m'\u001b[39m\u001b[38;5;124msnap\u001b[39m\u001b[38;5;124m'\u001b[39m, mpl\u001b[38;5;241m.\u001b[39mrcParams[\u001b[38;5;124m'\u001b[39m\u001b[38;5;124mpcolormesh.snap\u001b[39m\u001b[38;5;124m'\u001b[39m])\n\u001b[1;32m-> 6295\u001b[0m collection \u001b[38;5;241m=\u001b[39m \u001b[43mmcoll\u001b[49m\u001b[38;5;241;43m.\u001b[39;49m\u001b[43mQuadMesh\u001b[49m\u001b[43m(\u001b[49m\n\u001b[0;32m   6296\u001b[0m \u001b[43m    \u001b[49m\u001b[43mcoords\u001b[49m\u001b[43m,\u001b[49m\u001b[43m \u001b[49m\u001b[43mantialiased\u001b[49m\u001b[38;5;241;43m=\u001b[39;49m\u001b[43mantialiased\u001b[49m\u001b[43m,\u001b[49m\u001b[43m \u001b[49m\u001b[43mshading\u001b[49m\u001b[38;5;241;43m=\u001b[39;49m\u001b[43mshading\u001b[49m\u001b[43m,\u001b[49m\n\u001b[0;32m   6297\u001b[0m \u001b[43m    \u001b[49m\u001b[43marray\u001b[49m\u001b[38;5;241;43m=\u001b[39;49m\u001b[43mC\u001b[49m\u001b[43m,\u001b[49m\u001b[43m \u001b[49m\u001b[43mcmap\u001b[49m\u001b[38;5;241;43m=\u001b[39;49m\u001b[43mcmap\u001b[49m\u001b[43m,\u001b[49m\u001b[43m \u001b[49m\u001b[43mnorm\u001b[49m\u001b[38;5;241;43m=\u001b[39;49m\u001b[43mnorm\u001b[49m\u001b[43m,\u001b[49m\u001b[43m \u001b[49m\u001b[43malpha\u001b[49m\u001b[38;5;241;43m=\u001b[39;49m\u001b[43malpha\u001b[49m\u001b[43m,\u001b[49m\u001b[43m \u001b[49m\u001b[38;5;241;43m*\u001b[39;49m\u001b[38;5;241;43m*\u001b[39;49m\u001b[43mkwargs\u001b[49m\u001b[43m)\u001b[49m\n\u001b[0;32m   6298\u001b[0m collection\u001b[38;5;241m.\u001b[39m_scale_norm(norm, vmin, vmax)\n\u001b[0;32m   6300\u001b[0m coords \u001b[38;5;241m=\u001b[39m coords\u001b[38;5;241m.\u001b[39mreshape(\u001b[38;5;241m-\u001b[39m\u001b[38;5;241m1\u001b[39m, \u001b[38;5;241m2\u001b[39m)  \u001b[38;5;66;03m# flatten the grid structure; keep x, y\u001b[39;00m\n",
      "File \u001b[1;32mc:\\Users\\loicl\\Documents\\UniWork\\Year 3\\Dissertation\\TinyML-for-Epileptic-Seizures\\.venv\\Lib\\site-packages\\matplotlib\\collections.py:2164\u001b[0m, in \u001b[0;36mQuadMesh.__init__\u001b[1;34m(self, coordinates, antialiased, shading, **kwargs)\u001b[0m\n\u001b[0;32m   2162\u001b[0m kwargs\u001b[38;5;241m.\u001b[39msetdefault(\u001b[38;5;124m\"\u001b[39m\u001b[38;5;124mpickradius\u001b[39m\u001b[38;5;124m\"\u001b[39m, \u001b[38;5;241m0\u001b[39m)\n\u001b[0;32m   2163\u001b[0m \u001b[38;5;28msuper\u001b[39m()\u001b[38;5;241m.\u001b[39m\u001b[38;5;21m__init__\u001b[39m(coordinates\u001b[38;5;241m=\u001b[39mcoordinates, shading\u001b[38;5;241m=\u001b[39mshading)\n\u001b[1;32m-> 2164\u001b[0m \u001b[43mCollection\u001b[49m\u001b[38;5;241;43m.\u001b[39;49m\u001b[38;5;21;43m__init__\u001b[39;49m\u001b[43m(\u001b[49m\u001b[38;5;28;43mself\u001b[39;49m\u001b[43m,\u001b[49m\u001b[43m \u001b[49m\u001b[38;5;241;43m*\u001b[39;49m\u001b[38;5;241;43m*\u001b[39;49m\u001b[43mkwargs\u001b[49m\u001b[43m)\u001b[49m\n\u001b[0;32m   2166\u001b[0m \u001b[38;5;28mself\u001b[39m\u001b[38;5;241m.\u001b[39m_antialiased \u001b[38;5;241m=\u001b[39m antialiased\n\u001b[0;32m   2167\u001b[0m \u001b[38;5;28mself\u001b[39m\u001b[38;5;241m.\u001b[39m_bbox \u001b[38;5;241m=\u001b[39m transforms\u001b[38;5;241m.\u001b[39mBbox\u001b[38;5;241m.\u001b[39munit()\n",
      "File \u001b[1;32mc:\\Users\\loicl\\Documents\\UniWork\\Year 3\\Dissertation\\TinyML-for-Epileptic-Seizures\\.venv\\Lib\\site-packages\\matplotlib\\collections.py:203\u001b[0m, in \u001b[0;36mCollection.__init__\u001b[1;34m(self, edgecolors, facecolors, linewidths, linestyles, capstyle, joinstyle, antialiaseds, offsets, offset_transform, norm, cmap, pickradius, hatch, urls, zorder, **kwargs)\u001b[0m\n\u001b[0;32m    200\u001b[0m \u001b[38;5;28mself\u001b[39m\u001b[38;5;241m.\u001b[39m_offset_transform \u001b[38;5;241m=\u001b[39m offset_transform\n\u001b[0;32m    202\u001b[0m \u001b[38;5;28mself\u001b[39m\u001b[38;5;241m.\u001b[39m_path_effects \u001b[38;5;241m=\u001b[39m \u001b[38;5;28;01mNone\u001b[39;00m\n\u001b[1;32m--> 203\u001b[0m \u001b[38;5;28;43mself\u001b[39;49m\u001b[38;5;241;43m.\u001b[39;49m\u001b[43m_internal_update\u001b[49m\u001b[43m(\u001b[49m\u001b[43mkwargs\u001b[49m\u001b[43m)\u001b[49m\n\u001b[0;32m    204\u001b[0m \u001b[38;5;28mself\u001b[39m\u001b[38;5;241m.\u001b[39m_paths \u001b[38;5;241m=\u001b[39m \u001b[38;5;28;01mNone\u001b[39;00m\n",
      "File \u001b[1;32mc:\\Users\\loicl\\Documents\\UniWork\\Year 3\\Dissertation\\TinyML-for-Epileptic-Seizures\\.venv\\Lib\\site-packages\\matplotlib\\artist.py:1219\u001b[0m, in \u001b[0;36mArtist._internal_update\u001b[1;34m(self, kwargs)\u001b[0m\n\u001b[0;32m   1212\u001b[0m \u001b[38;5;28;01mdef\u001b[39;00m \u001b[38;5;21m_internal_update\u001b[39m(\u001b[38;5;28mself\u001b[39m, kwargs):\n\u001b[0;32m   1213\u001b[0m \u001b[38;5;250m    \u001b[39m\u001b[38;5;124;03m\"\"\"\u001b[39;00m\n\u001b[0;32m   1214\u001b[0m \u001b[38;5;124;03m    Update artist properties without prenormalizing them, but generating\u001b[39;00m\n\u001b[0;32m   1215\u001b[0m \u001b[38;5;124;03m    errors as if calling `set`.\u001b[39;00m\n\u001b[0;32m   1216\u001b[0m \n\u001b[0;32m   1217\u001b[0m \u001b[38;5;124;03m    The lack of prenormalization is to maintain backcompatibility.\u001b[39;00m\n\u001b[0;32m   1218\u001b[0m \u001b[38;5;124;03m    \"\"\"\u001b[39;00m\n\u001b[1;32m-> 1219\u001b[0m     \u001b[38;5;28;01mreturn\u001b[39;00m \u001b[38;5;28;43mself\u001b[39;49m\u001b[38;5;241;43m.\u001b[39;49m\u001b[43m_update_props\u001b[49m\u001b[43m(\u001b[49m\n\u001b[0;32m   1220\u001b[0m \u001b[43m        \u001b[49m\u001b[43mkwargs\u001b[49m\u001b[43m,\u001b[49m\u001b[43m \u001b[49m\u001b[38;5;124;43m\"\u001b[39;49m\u001b[38;5;132;43;01m{cls.__name__}\u001b[39;49;00m\u001b[38;5;124;43m.set() got an unexpected keyword argument \u001b[39;49m\u001b[38;5;124;43m\"\u001b[39;49m\n\u001b[0;32m   1221\u001b[0m \u001b[43m        \u001b[49m\u001b[38;5;124;43m\"\u001b[39;49m\u001b[38;5;132;43;01m{prop_name!r}\u001b[39;49;00m\u001b[38;5;124;43m\"\u001b[39;49m\u001b[43m)\u001b[49m\n",
      "File \u001b[1;32mc:\\Users\\loicl\\Documents\\UniWork\\Year 3\\Dissertation\\TinyML-for-Epileptic-Seizures\\.venv\\Lib\\site-packages\\matplotlib\\artist.py:1193\u001b[0m, in \u001b[0;36mArtist._update_props\u001b[1;34m(self, props, errfmt)\u001b[0m\n\u001b[0;32m   1191\u001b[0m             func \u001b[38;5;241m=\u001b[39m \u001b[38;5;28mgetattr\u001b[39m(\u001b[38;5;28mself\u001b[39m, \u001b[38;5;124mf\u001b[39m\u001b[38;5;124m\"\u001b[39m\u001b[38;5;124mset_\u001b[39m\u001b[38;5;132;01m{\u001b[39;00mk\u001b[38;5;132;01m}\u001b[39;00m\u001b[38;5;124m\"\u001b[39m, \u001b[38;5;28;01mNone\u001b[39;00m)\n\u001b[0;32m   1192\u001b[0m             \u001b[38;5;28;01mif\u001b[39;00m \u001b[38;5;129;01mnot\u001b[39;00m \u001b[38;5;28mcallable\u001b[39m(func):\n\u001b[1;32m-> 1193\u001b[0m                 \u001b[38;5;28;01mraise\u001b[39;00m \u001b[38;5;167;01mAttributeError\u001b[39;00m(\n\u001b[0;32m   1194\u001b[0m                     errfmt\u001b[38;5;241m.\u001b[39mformat(\u001b[38;5;28mcls\u001b[39m\u001b[38;5;241m=\u001b[39m\u001b[38;5;28mtype\u001b[39m(\u001b[38;5;28mself\u001b[39m), prop_name\u001b[38;5;241m=\u001b[39mk))\n\u001b[0;32m   1195\u001b[0m             ret\u001b[38;5;241m.\u001b[39mappend(func(v))\n\u001b[0;32m   1196\u001b[0m \u001b[38;5;28;01mif\u001b[39;00m ret:\n",
      "\u001b[1;31mAttributeError\u001b[0m: QuadMesh.set() got an unexpected keyword argument 'center'"
     ]
    },
    {
     "data": {
      "image/png": "[encoded data removed]",
      "text/plain": [
       "<Figure size 640x480 with 1 Axes>"
      ]
     },
     "metadata": {},
     "output_type": "display_data"
    }
   ],
   "source": [
    "# %% capture\n",
    "image_train = []\n",
    "for i, data in enumerate(train_db_mean):\n",
    "    f = plt.figure(frameon=False)\n",
    "    ax = plt.Axes(f, [0.0, 0.0, 1.0, 1.0])\n",
    "    ax.set_axis_off()\n",
    "    f.add_axes(ax)\n",
    "    img = librosa.display.specshow(data, sr=250, x_axis=\"time\", y_axis=\"mel\")\n",
    "    plt.savefig(\"image_process.png\")\n",
    "\n",
    "    img = Image.open(\"image_process.png\")\n",
    "    img = img.resize((120, 160))\n",
    "    image_train.append(img)\n",
    "    plt.close(\"all\")\n",
    "image_train = np.array(image_train)\n",
    "\n",
    "image_val = []\n",
    "for i, data in enumerate(val_db_mean):\n",
    "    f = plt.figure(frameon=False)\n",
    "    ax = plt.Axes(f, [0.0, 0.0, 1.0, 1.0])\n",
    "    ax.set_axis_off()\n",
    "    f.add_axes(ax)\n",
    "    img = librosa.display.specshow(data, sr=250, x_axis=\"time\", y_axis=\"mel\")\n",
    "    plt.savefig(\"image_process.png\")\n",
    "\n",
    "    img = Image.open(\"image_process.png\")\n",
    "    img = img.resize((120, 160))\n",
    "    image_val.append(img)\n",
    "    plt.close(\"all\")\n",
    "image_val = np.array(image_val)"
   ]
  },
  {
   "cell_type": "code",
   "execution_count": null,
   "metadata": {},
   "outputs": [
    {
     "data": {
      "text/plain": [
       "((230, 160, 120, 4), (828, 160, 120, 4))"
      ]
     },
     "execution_count": 597,
     "metadata": {},
     "output_type": "execute_result"
    }
   ],
   "source": [
    "image_train.shape, image_val.shape"
   ]
  },
  {
   "cell_type": "code",
   "execution_count": null,
   "metadata": {},
   "outputs": [
    {
     "data": {
      "text/plain": [
       "((230, 4, 160, 120), (828, 4, 160, 120))"
      ]
     },
     "execution_count": 598,
     "metadata": {},
     "output_type": "execute_result"
    }
   ],
   "source": [
    "fix_shape = []\n",
    "for i, image in enumerate(image_train):\n",
    "    image = image.transpose((2, 0, 1))\n",
    "    fix_shape.append(image)\n",
    "fix_shape = np.array(fix_shape)\n",
    "\n",
    "fix_shape_val = []\n",
    "for i, image in enumerate(image_val):\n",
    "    image = image.transpose((2, 0, 1))\n",
    "    fix_shape_val.append(image)\n",
    "fix_shape_val = np.array(fix_shape_val)\n",
    "\n",
    "image_train = fix_shape\n",
    "image_val = fix_shape_val\n",
    "\n",
    "fix_shape.shape, fix_shape_val.shape"
   ]
  },
  {
   "cell_type": "code",
   "execution_count": 617,
   "metadata": {},
   "outputs": [
    {
     "ename": "IndexError",
     "evalue": "list index out of range",
     "output_type": "error",
     "traceback": [
      "\u001b[1;31m---------------------------------------------------------------------------\u001b[0m",
      "\u001b[1;31mIndexError\u001b[0m                                Traceback (most recent call last)",
      "Cell \u001b[1;32mIn[617], line 2\u001b[0m\n\u001b[0;32m      1\u001b[0m x \u001b[38;5;241m=\u001b[39m \u001b[38;5;241m166\u001b[39m\n\u001b[1;32m----> 2\u001b[0m \u001b[38;5;28mprint\u001b[39m(\u001b[43mimage_train\u001b[49m\u001b[43m[\u001b[49m\u001b[38;5;241;43m0\u001b[39;49m\u001b[43m]\u001b[49m\u001b[38;5;241m.\u001b[39mshape)\n\u001b[0;32m      4\u001b[0m a \u001b[38;5;241m=\u001b[39m image_train[x]\u001b[38;5;241m.\u001b[39mtranspose(\u001b[38;5;241m1\u001b[39m, \u001b[38;5;241m2\u001b[39m, \u001b[38;5;241m0\u001b[39m)\n\u001b[0;32m      5\u001b[0m \u001b[38;5;28mprint\u001b[39m(train_set_y[x])\n",
      "\u001b[1;31mIndexError\u001b[0m: list index out of range"
     ]
    }
   ],
   "source": [
    "x = 166\n",
    "print(image_train[0].shape)\n",
    "\n",
    "a = image_train[x].transpose(1, 2, 0)\n",
    "print(train_set_y[x])\n",
    "\n",
    "Image.fromarray(a)"
   ]
  },
  {
   "cell_type": "markdown",
   "metadata": {},
   "source": [
    "Display STFT\n"
   ]
  },
  {
   "cell_type": "markdown",
   "metadata": {},
   "source": [
    "# Remake Dataset\n"
   ]
  },
  {
   "cell_type": "code",
   "execution_count": 259,
   "metadata": {},
   "outputs": [],
   "source": [
    "class BalancedDataset(Dataset):\n",
    "    def __init__(self, data, transform=None, target_transform=None):\n",
    "        self.x, self.y = data\n",
    "        self.n_samples = len(self.x)\n",
    "\n",
    "        self.transform = transform\n",
    "        self.target_transform = target_transform\n",
    "\n",
    "    def __getitem__(self, idx):\n",
    "        sample_x, sample_y = self.x[idx], self.y[idx]\n",
    "\n",
    "        if self.transform:\n",
    "            sample_x = self.transform(sample_x)\n",
    "\n",
    "        if self.target_transform:\n",
    "            sample_y = self.target_transform(sample_y)\n",
    "\n",
    "        return sample_x.float(), sample_y.float()\n",
    "\n",
    "    def __len__(self):\n",
    "        return self.n_samples"
   ]
  },
  {
   "cell_type": "code",
   "execution_count": 260,
   "metadata": {},
   "outputs": [],
   "source": [
    "new_balanced_train_dataset = BalancedDataset(\n",
    "    (image_train, train_set_y), transform=torch.tensor, target_transform=torch.tensor\n",
    ")\n",
    "mfcc_eval_dataset = BalancedDataset(\n",
    "    (image_val, eval_set.dataset.y[eval_set.indices]),\n",
    "    transform=torch.tensor,\n",
    "    target_transform=torch.tensor,\n",
    ")"
   ]
  },
  {
   "cell_type": "markdown",
   "metadata": {},
   "source": [
    "# Visualize Data\n"
   ]
  },
  {
   "cell_type": "code",
   "execution_count": null,
   "metadata": {},
   "outputs": [],
   "source": [
    "# Plot 3 of each class\n",
    "fig, axs = plt.subplots(2, 3, figsize=(20, 5))\n",
    "fig.suptitle(\n",
    "    \"3 samples of each class: Absence Seizure and Background - Plotted as images with values scaled to 0-255\"\n",
    ")\n",
    "\n",
    "c1 = 0\n",
    "c0 = 0\n",
    "\n",
    "for i, v in enumerate(train_set.dataset.y[train_set.indices]):\n",
    "    if v == 0 and c0 < 3:\n",
    "        clone = train_set.dataset.x[train_set.indices][i]\n",
    "        max_pixel = 0\n",
    "        min_pixel = 0\n",
    "        for m, b in enumerate(clone):\n",
    "            for j, n in enumerate(clone[m]):\n",
    "                if n > max_pixel:\n",
    "                    max_pixel = n\n",
    "                if n < min_pixel:\n",
    "                    min_pixel = n\n",
    "\n",
    "        for m, b in enumerate(clone):\n",
    "            for j, n in enumerate(clone[m]):\n",
    "                a = clone[m][j] - min_pixel\n",
    "                b = 255 / (max_pixel - min_pixel)\n",
    "                norm = a * b\n",
    "                if norm > 255:\n",
    "                    norm = 255\n",
    "                if norm < 0:\n",
    "                    norm = 0\n",
    "                clone[m][j] = norm\n",
    "\n",
    "        # Increase image size for better visibility if needed\n",
    "        clone = np.repeat(clone, 50, axis=0)\n",
    "\n",
    "        axs[0, c0].imshow(clone, cmap=\"gray\")\n",
    "        axs[0, c0].set_title(f\"Label 0: Background // Data Index: {i}\")\n",
    "        axs[0, c0].set_yticks([])\n",
    "        axs[0, c0].set_xticks([0, 1000])\n",
    "        axs[0, c0].set_xlabel(\"Data Points Per Window\")\n",
    "\n",
    "        c0 += 1\n",
    "\n",
    "    if v == 1 and c1 < 3:\n",
    "        clone = train_set.dataset.x[train_set.indices][i]\n",
    "        max_pixel = 0\n",
    "        min_pixel = 0\n",
    "\n",
    "        for m, b in enumerate(clone):\n",
    "            for j, n in enumerate(clone[m]):\n",
    "                if n > max_pixel:\n",
    "                    max_pixel = n\n",
    "                if n < min_pixel:\n",
    "                    min_pixel = n\n",
    "\n",
    "        for m, b in enumerate(clone):\n",
    "            for j, n in enumerate(clone[m]):\n",
    "                a = clone[m][j] - min_pixel\n",
    "                b = 255 / (max_pixel - min_pixel)\n",
    "                norm = a * b\n",
    "                if norm > 255:\n",
    "                    norm = 255\n",
    "                if norm < 0:\n",
    "                    norm = 0\n",
    "                clone[m][j] = norm\n",
    "\n",
    "        # Increase image size for better visibility if needed\n",
    "        clone = np.repeat(clone, 50, axis=0)\n",
    "\n",
    "        axs[1, c1].imshow(clone, cmap=\"gray\")\n",
    "        axs[1, c1].set_title(f\"Label 1: Absence Seizure // Data Index: {i}\")\n",
    "        axs[1, c1].set_yticks([])\n",
    "        axs[1, c1].set_xticks([0, 1000])\n",
    "        axs[1, c1].set_xlabel(\"Data Points Per Window\")\n",
    "\n",
    "        c1 += 1\n",
    "\n",
    "    if c1 == 3 and c0 == 3:\n",
    "        break\n",
    "\n",
    "    # new_img = Image.fromarray(clone)"
   ]
  },
  {
   "cell_type": "code",
   "execution_count": null,
   "metadata": {},
   "outputs": [],
   "source": [
    "# Plot 3 of each class\n",
    "fig, axs = plt.subplots(2, 3, figsize=(20, 10))\n",
    "fig.suptitle(\"3 samples of each class\")\n",
    "c0 = 0\n",
    "c1 = 0\n",
    "for i, v in enumerate(train_set.dataset.x[train_set.indices]):\n",
    "    if c0 < 3 and train_set.dataset.y[train_set.indices][i] == 0:\n",
    "        axs[0, c0].plot(train_set.dataset.x[train_set.indices][i][0], label=\"Channel 1\")\n",
    "        axs[0, c0].plot(train_set.dataset.x[train_set.indices][i][1], label=\"Channel 2\")\n",
    "        axs[0, c0].plot(train_set.dataset.x[train_set.indices][i][2], label=\"Channel 3\")\n",
    "        axs[0, c0].plot(train_set.dataset.x[train_set.indices][i][3], label=\"Channel 4\")\n",
    "        axs[0, c0].plot(train_set.dataset.x[train_set.indices][i][4], label=\"Channel 5\")\n",
    "        axs[0, c0].legend(loc=\"upper right\")\n",
    "        axs[0, c0].set_title(f\"Label 0: Background // Data Index: {i}\")\n",
    "        c0 += 1\n",
    "    elif c1 < 3 and train_set.dataset.y[train_set.indices][i] == 1:\n",
    "        axs[1, c1].plot(train_set.dataset.x[train_set.indices][i][0], label=\"Channel 1\")\n",
    "        axs[1, c1].plot(train_set.dataset.x[train_set.indices][i][1], label=\"Channel 2\")\n",
    "        axs[1, c1].plot(train_set.dataset.x[train_set.indices][i][2], label=\"Channel 3\")\n",
    "        axs[1, c1].plot(train_set.dataset.x[train_set.indices][i][3], label=\"Channel 4\")\n",
    "        axs[1, c1].plot(train_set.dataset.x[train_set.indices][i][4], label=\"Channel 5\")\n",
    "        axs[1, c1].legend(loc=\"upper right\")\n",
    "        axs[1, c1].set_title(f\"Label 1: Absence Seizure // Data Index: {i}\")\n",
    "        c1 += 1\n",
    "\n",
    "    if c0 == 3 and c1 == 3:\n",
    "        break\n",
    "plt.show()"
   ]
  },
  {
   "cell_type": "code",
   "execution_count": null,
   "metadata": {},
   "outputs": [],
   "source": [
    "# Plot 3 of each class\n",
    "fig, axs = plt.subplots(2, 3, figsize=(20, 10))\n",
    "fig.suptitle(\"3 samples of each class\")\n",
    "c0 = 0\n",
    "c1 = 0\n",
    "for i, v in enumerate(x_train_reshaped):\n",
    "    if c0 < 3 and train_set.dataset.y[train_set.indices][i] == 0:\n",
    "        axs[0, c0].plot(x_train_reshaped[i])\n",
    "        axs[0, c0].set_title(f\"Label 0: Background // Data Index: {i}\")\n",
    "        c0 += 1\n",
    "    elif c1 < 3 and train_set.dataset.y[train_set.indices][i] == 1:\n",
    "        axs[1, c1].plot(x_train_reshaped[i])\n",
    "        axs[1, c1].set_title(f\"Label 1: Absence Seizure // Data Index: {i}\")\n",
    "        c1 += 1\n",
    "\n",
    "    if c0 == 3 and c1 == 3:\n",
    "        break\n",
    "plt.show()"
   ]
  },
  {
   "cell_type": "markdown",
   "metadata": {},
   "source": [
    "# DataLoaders\n"
   ]
  },
  {
   "cell_type": "code",
   "execution_count": 261,
   "metadata": {},
   "outputs": [],
   "source": [
    "train_dataloader = DataLoader(\n",
    "    dataset=new_balanced_train_dataset,\n",
    "    batch_size=1,\n",
    "    shuffle=True,\n",
    ")\n",
    "eval_dataloader = DataLoader(dataset=mfcc_eval_dataset, batch_size=1, shuffle=True)\n",
    "test_dataloader = DataLoader(dataset=test_set, batch_size=1, shuffle=True)"
   ]
  },
  {
   "cell_type": "markdown",
   "metadata": {},
   "source": [
    "# Model\n"
   ]
  },
  {
   "cell_type": "markdown",
   "metadata": {},
   "source": [
    "## Model 1: CNN\n"
   ]
  },
  {
   "cell_type": "markdown",
   "metadata": {},
   "source": [
    "### 1D Model\n"
   ]
  },
  {
   "cell_type": "code",
   "execution_count": 341,
   "metadata": {},
   "outputs": [
    {
     "name": "stdout",
     "output_type": "stream",
     "text": [
      "Number of parameters in model: 13,582\n"
     ]
    }
   ],
   "source": [
    "class AbnormalNeuralNetwork(nn.Module):\n",
    "    def __init__(self):\n",
    "        super().__init__()\n",
    "        # Input 5 Channels\n",
    "        self.CNN1 = nn.Conv1d(in_channels=13, out_channels=20, kernel_size=3)\n",
    "        self.MaxPool1 = nn.MaxPool1d(kernel_size=2, stride=2)\n",
    "\n",
    "        self.CNN2 = nn.Conv1d(in_channels=20, out_channels=60, kernel_size=3)\n",
    "        self.MaxPool2 = nn.MaxPool1d(kernel_size=2, stride=2)\n",
    "\n",
    "        self.CNN3 = nn.Conv1d(in_channels=60, out_channels=1, kernel_size=2)\n",
    "        self.MaxPool3 = nn.MaxPool1d(kernel_size=2, stride=1)\n",
    "\n",
    "        # RuntimeError: mat1 and mat2 shapes cannot be multiplied (1x38 and 6x100)\n",
    "        self.fc1 = nn.Linear(in_features=38, out_features=100)\n",
    "        self.fc2 = nn.Linear(in_features=100, out_features=50)\n",
    "        self.output = nn.Linear(in_features=50, out_features=1)\n",
    "\n",
    "    def forward(self, x):\n",
    "        x = F.relu(self.CNN1(x))\n",
    "        x = self.MaxPool1(x)\n",
    "\n",
    "        x = F.relu(self.CNN2(x))\n",
    "        x = self.MaxPool2(x)\n",
    "\n",
    "        x = F.relu(self.CNN3(x))\n",
    "        x = self.MaxPool3(x)\n",
    "\n",
    "        x = F.relu(self.fc1(x))\n",
    "        x = F.relu(self.fc2(x))\n",
    "        x = self.output(x)\n",
    "        return x\n",
    "\n",
    "\n",
    "# Set device to GPU\n",
    "device = torch.device(\"cuda\" if torch.cuda.is_available() else \"cpu\")\n",
    "\n",
    "# Initialize model\n",
    "model = AbnormalNeuralNetwork().to(device)\n",
    "\n",
    "# Set optimizer and loss function\n",
    "optimizer = torch.optim.Adam(model.parameters(), lr=1e-3)\n",
    "loss_fn = nn.MSELoss()\n",
    "\n",
    "# Calculate number of parameters in model\n",
    "n_params = 0\n",
    "for x in model.parameters():\n",
    "    n_params += len(torch.flatten(x))\n",
    "print(f\"Number of parameters in model: {n_params:,}\")\n",
    "\n",
    "# Print Model\n",
    "model = model.to(device)"
   ]
  },
  {
   "cell_type": "markdown",
   "metadata": {},
   "source": [
    "### 2D Model\n"
   ]
  },
  {
   "cell_type": "code",
   "execution_count": 190,
   "metadata": {},
   "outputs": [
    {
     "name": "stdout",
     "output_type": "stream",
     "text": [
      "Number of parameters in model: 1,395,266\n"
     ]
    },
    {
     "data": {
      "text/plain": [
       "AbnormalNeuralNetwork(\n",
       "  (CNN1): Conv2d(4, 64, kernel_size=(3, 3), stride=(1, 1), padding=(1, 0))\n",
       "  (MaxPool1): MaxPool2d(kernel_size=(6, 6), stride=2, padding=0, dilation=1, ceil_mode=False)\n",
       "  (CNN2): Conv2d(64, 128, kernel_size=(3, 3), stride=(1, 1), padding=(1, 0))\n",
       "  (MaxPool2): MaxPool2d(kernel_size=2, stride=2, padding=0, dilation=1, ceil_mode=False)\n",
       "  (CNN3): Conv2d(128, 1, kernel_size=(3, 3), stride=(1, 1), padding=(1, 0))\n",
       "  (MaxPool3): MaxPool2d(kernel_size=(1, 1), stride=2, padding=0, dilation=1, ceil_mode=False)\n",
       "  (fc1): Linear(in_features=260, out_features=1024, bias=True)\n",
       "  (fc2): Linear(in_features=1024, out_features=1024, bias=True)\n",
       "  (output): Linear(in_features=1024, out_features=1, bias=True)\n",
       ")"
      ]
     },
     "execution_count": 190,
     "metadata": {},
     "output_type": "execute_result"
    }
   ],
   "source": [
    "class AbnormalNeuralNetwork(nn.Module):\n",
    "    def __init__(self):\n",
    "        super().__init__()\n",
    "        # Input 5 Channels\n",
    "        self.CNN1 = nn.Conv2d(\n",
    "            in_channels=4, out_channels=64, kernel_size=3, padding=(1, 0)\n",
    "        )\n",
    "        self.MaxPool1 = nn.MaxPool2d(kernel_size=(6, 6), stride=2)\n",
    "\n",
    "        self.CNN2 = nn.Conv2d(\n",
    "            in_channels=64, out_channels=128, kernel_size=3, padding=(1, 0)\n",
    "        )\n",
    "        self.MaxPool2 = nn.MaxPool2d(kernel_size=2, stride=2)\n",
    "\n",
    "        self.CNN3 = nn.Conv2d(\n",
    "            in_channels=128, out_channels=1, kernel_size=3, padding=(1, 0)\n",
    "        )\n",
    "        self.MaxPool3 = nn.MaxPool2d(kernel_size=(1, 1), stride=2)\n",
    "\n",
    "        # RuntimeError: mat1 and mat2 shapes cannot be multiplied (64x260 and 5043x1024)\n",
    "        self.fc1 = nn.Linear(260, 1024)\n",
    "        # self.dropout1 = nn.Dropout(p=0.3)\n",
    "\n",
    "        self.fc2 = nn.Linear(1024, 1024)\n",
    "        # self.dropout2 = nn.Dropout(p=0.3)\n",
    "\n",
    "        # Output Layer\n",
    "        self.output = nn.Linear(in_features=1024, out_features=1)\n",
    "\n",
    "    def forward(self, x):\n",
    "        x = F.relu(self.CNN1(x))\n",
    "        x = self.MaxPool1(x)\n",
    "\n",
    "        x = F.relu(self.CNN2(x))\n",
    "        x = self.MaxPool2(x)\n",
    "\n",
    "        x = F.relu(self.CNN3(x))\n",
    "        x = self.MaxPool3(x)\n",
    "\n",
    "        x = torch.flatten(x)\n",
    "\n",
    "        x = F.relu(self.fc1(x))\n",
    "\n",
    "        x = F.relu(self.fc2(x))\n",
    "\n",
    "        x = self.output(x)\n",
    "        x = F.relu(x)\n",
    "        return x\n",
    "\n",
    "\n",
    "device = torch.device(\"cuda\" if torch.cuda.is_available() else \"cpu\")\n",
    "\n",
    "# Initialize model\n",
    "model = AbnormalNeuralNetwork().to(device)\n",
    "\n",
    "# Calculate number of parameters in model\n",
    "n_params = 0\n",
    "for x in model.parameters():\n",
    "    n_params += len(torch.flatten(x))\n",
    "print(f\"Number of parameters in model: {n_params:,}\")\n",
    "\n",
    "# Print Model\n",
    "model = model.to(device)\n",
    "model"
   ]
  },
  {
   "cell_type": "markdown",
   "metadata": {},
   "source": [
    "### 2D Model 2: CNN\n"
   ]
  },
  {
   "cell_type": "code",
   "execution_count": 369,
   "metadata": {},
   "outputs": [
    {
     "name": "stdout",
     "output_type": "stream",
     "text": [
      "Number of parameters in model: 1,085,405\n"
     ]
    },
    {
     "data": {
      "text/plain": [
       "Net(\n",
       "  (conv1): Conv2d(4, 32, kernel_size=(10, 10), stride=(1, 1))\n",
       "  (pool): MaxPool2d(kernel_size=2, stride=2, padding=0, dilation=1, ceil_mode=False)\n",
       "  (conv2): Conv2d(32, 64, kernel_size=(10, 10), stride=(1, 1))\n",
       "  (conv3): Conv2d(64, 128, kernel_size=(10, 10), stride=(1, 1))\n",
       "  (global_avg): AdaptiveAvgPool2d(output_size=1)\n",
       "  (fc1): Linear(in_features=128, out_features=164, bias=True)\n",
       "  (fc2): Linear(in_features=164, out_features=164, bias=True)\n",
       "  (fc3): Linear(in_features=164, out_features=1, bias=True)\n",
       ")"
      ]
     },
     "execution_count": 369,
     "metadata": {},
     "output_type": "execute_result"
    }
   ],
   "source": [
    "class Net(nn.Module):\n",
    "    def __init__(self):\n",
    "        super(Net, self).__init__()\n",
    "        self.conv1 = nn.Conv2d(4, 32, kernel_size=10)\n",
    "        self.pool = nn.MaxPool2d(kernel_size=2, stride=2)\n",
    "        self.conv2 = nn.Conv2d(32, 64, kernel_size=10)\n",
    "        self.conv3 = nn.Conv2d(64, 128, kernel_size=10)\n",
    "        self.global_avg = nn.AdaptiveAvgPool2d(1)\n",
    "        self.fc1 = nn.Linear(128, 164)\n",
    "        self.fc2 = nn.Linear(164, 164)\n",
    "        self.fc3 = nn.Linear(164, 1)\n",
    "\n",
    "    def forward(self, out):\n",
    "        out = self.pool(F.relu(self.conv1(out)))\n",
    "        out = self.pool(F.relu(self.conv2(out)))\n",
    "        out = self.pool(F.relu(self.conv3(out)))\n",
    "        out = self.global_avg(out)\n",
    "        out = torch.flatten(out)\n",
    "        out = F.relu(self.fc1(out))\n",
    "        out = F.relu(self.fc2(out))\n",
    "        out = self.fc3(out)\n",
    "        return out\n",
    "\n",
    "\n",
    "device = torch.device(\"cuda\" if torch.cuda.is_available() else \"cpu\")\n",
    "\n",
    "# Initialize model\n",
    "model = Net().to(device)\n",
    "\n",
    "# Calculate number of parameters in model\n",
    "n_params = 0\n",
    "for x in model.parameters():\n",
    "    n_params += len(torch.flatten(x))\n",
    "print(f\"Number of parameters in model: {n_params:,}\")\n",
    "\n",
    "# Print Model\n",
    "model = model.to(device)\n",
    "model"
   ]
  },
  {
   "cell_type": "markdown",
   "metadata": {},
   "source": [
    "## Model 2: Linear\n"
   ]
  },
  {
   "cell_type": "markdown",
   "metadata": {},
   "source": [
    "### 1\n"
   ]
  },
  {
   "cell_type": "code",
   "execution_count": null,
   "metadata": {},
   "outputs": [],
   "source": [
    "class LinearRegression(nn.Module):\n",
    "    def __init__(self):\n",
    "        super().__init__()\n",
    "        self.linear1 = nn.Linear(39, 78)\n",
    "        self.linear2 = nn.Linear(78, 78)\n",
    "        self.output = nn.Linear(78, 1)\n",
    "\n",
    "    def forward(self, out):\n",
    "        out = F.relu(self.linear1(out))\n",
    "        out = F.relu(self.linear2(out))\n",
    "        out = self.output(out)\n",
    "        return out\n",
    "\n",
    "\n",
    "model = LinearRegression().to(device)\n",
    "\n",
    "optimizer = torch.optim.SGD(model.parameters(), lr=0.01)\n",
    "loss_fn = nn.MSELoss()\n",
    "\n",
    "n_params = 0\n",
    "for x in model.parameters():\n",
    "    n_params += len(torch.flatten(x))\n",
    "print(f\"Number of parameters in model: {n_params:,}\")"
   ]
  },
  {
   "cell_type": "markdown",
   "metadata": {},
   "source": [
    "### 2\n"
   ]
  },
  {
   "cell_type": "code",
   "execution_count": null,
   "metadata": {},
   "outputs": [],
   "source": []
  },
  {
   "cell_type": "markdown",
   "metadata": {},
   "source": [
    "# Train\n"
   ]
  },
  {
   "cell_type": "markdown",
   "metadata": {},
   "source": [
    "## Training Loop\n"
   ]
  },
  {
   "cell_type": "markdown",
   "metadata": {},
   "source": [
    "### Print Inputs\n"
   ]
  },
  {
   "cell_type": "code",
   "execution_count": 263,
   "metadata": {},
   "outputs": [
    {
     "name": "stdout",
     "output_type": "stream",
     "text": [
      "Train // Background: 115 // Absence Seizure: 115\n",
      "Validation // Background: 787 // Absence Seizure: 41\n"
     ]
    }
   ],
   "source": [
    "# Plot distribution of the dataset before balancing\n",
    "# 0 - Background epoch\n",
    "# 1 - Absence seizure epoch\n",
    "\n",
    "bk = 0\n",
    "sz = 0\n",
    "for i, v in enumerate(train_dataloader):\n",
    "    if v[1].squeeze() == torch.tensor([1.0]):\n",
    "        sz += 1\n",
    "    else:\n",
    "        bk += 1\n",
    "\n",
    "print(f\"Train // Background: {bk} // Absence Seizure: {sz}\")\n",
    "\n",
    "bk = 0\n",
    "sz = 0\n",
    "for i, v in enumerate(eval_dataloader):\n",
    "    if v[1].squeeze() == torch.tensor([1.0]):\n",
    "        sz += 1\n",
    "    else:\n",
    "        bk += 1\n",
    "\n",
    "print(f\"Validation // Background: {bk} // Absence Seizure: {sz}\")"
   ]
  },
  {
   "cell_type": "markdown",
   "metadata": {},
   "source": [
    "### Training\n"
   ]
  },
  {
   "cell_type": "code",
   "execution_count": 187,
   "metadata": {},
   "outputs": [
    {
     "name": "stdout",
     "output_type": "stream",
     "text": [
      "torch.Size([1, 4, 160, 120]) tensor([0.])\n",
      "torch.Size([1, 4, 160, 120]) tensor([1.])\n"
     ]
    }
   ],
   "source": [
    "for i, v in enumerate(eval_dataloader):\n",
    "    first_input = v[0]\n",
    "    first_label = v[1]\n",
    "    break\n",
    "\n",
    "print(first_input.shape, first_label)\n",
    "\n",
    "for i, v in enumerate(train_dataloader):\n",
    "    first_input = v[0]\n",
    "    first_label = v[1]\n",
    "    break\n",
    "\n",
    "print(first_input.shape, first_label)"
   ]
  },
  {
   "cell_type": "code",
   "execution_count": 265,
   "metadata": {},
   "outputs": [],
   "source": [
    "num_epochs = 300\n",
    "optimizer = torch.optim.SGD(model.parameters(), lr=0.001)\n",
    "loss_fn = nn.CrossEntropyLoss()\n",
    "scheduler = get_scheduler(\n",
    "    \"linear\",\n",
    "    optimizer,\n",
    "    num_warmup_steps=0,\n",
    "    num_training_steps=num_epochs * len(train_dataloader),\n",
    ")"
   ]
  },
  {
   "cell_type": "code",
   "execution_count": 370,
   "metadata": {},
   "outputs": [
    {
     "name": "stderr",
     "output_type": "stream",
     "text": [
      "  0%|          | 0/69000 [01:09<?, ?it/s]\n"
     ]
    },
    {
     "name": "stdout",
     "output_type": "stream",
     "text": [
      "Done\n"
     ]
    }
   ],
   "source": [
    "progress_bar = tqdm(range(num_epochs * len(train_dataloader)))\n",
    "\n",
    "loss_track = []\n",
    "model.train()\n",
    "for epoch in range(num_epochs):\n",
    "    running_loss = 0.0\n",
    "    for batch in train_dataloader:\n",
    "        inputs, labels = batch\n",
    "        inputs, labels = inputs.to(device), labels.to(device)\n",
    "        inputs = inputs.squeeze(0)\n",
    "\n",
    "        # print(type(inputs))\n",
    "        # numpy_inputs = inputs.cpu().detach().numpy()\n",
    "        # image = numpy_inputs.transpose(1, 2, 0)\n",
    "        # image = image.astype(\"uint8\")\n",
    "        # image = Image.fromarray(image)\n",
    "        # image.show()\n",
    "        # print(labels)\n",
    "        # break\n",
    "\n",
    "        optimizer.zero_grad()\n",
    "\n",
    "        outputs = model(inputs)\n",
    "\n",
    "        # outputs = outputs.squeeze(-1)  # Not needed for LR\n",
    "        # outputs = outputs.squeeze(-1)  # Not needed for LR\n",
    "\n",
    "        loss = loss_fn(outputs, labels)\n",
    "        loss.backward()\n",
    "        optimizer.step()\n",
    "\n",
    "        scheduler.step()\n",
    "        progress_bar.update(1)\n",
    "\n",
    "    loss_track.append(loss)\n",
    "    # break\n",
    "\n",
    "print(\"Done\")"
   ]
  },
  {
   "cell_type": "code",
   "execution_count": 305,
   "metadata": {},
   "outputs": [
    {
     "name": "stdout",
     "output_type": "stream",
     "text": [
      "tensor([-1.9973], device='cuda:0', grad_fn=<ViewBackward0>)\n"
     ]
    }
   ],
   "source": [
    "print(outputs_log[44])"
   ]
  },
  {
   "cell_type": "code",
   "execution_count": 371,
   "metadata": {},
   "outputs": [
    {
     "name": "stderr",
     "output_type": "stream",
     "text": [
      "c:\\Users\\loicl\\Documents\\UniWork\\Year 3\\Dissertation\\TinyML-for-Epileptic-Seizures\\.venv\\Lib\\site-packages\\datasets\\load.py:756: FutureWarning: The repository for glue contains custom code which must be executed to correctly load the metric. You can inspect the repository content at https://raw.githubusercontent.com/huggingface/datasets/2.18.0/metrics/glue/glue.py\n",
      "You can avoid this message in future by passing the argument `trust_remote_code=True`.\n",
      "Passing `trust_remote_code=True` will be mandatory to load this metric from the next major release of `datasets`.\n",
      "  warnings.warn(\n"
     ]
    },
    {
     "name": "stdout",
     "output_type": "stream",
     "text": [
      "tensor(0.3796, device='cuda:0')\n",
      "tensor(0.3229, device='cuda:0')\n",
      "tensor(0.3561, device='cuda:0')\n",
      "tensor(0.3079, device='cuda:0')\n",
      "tensor(0.3478, device='cuda:0')\n",
      "tensor(0.3513, device='cuda:0')\n",
      "tensor(0.3317, device='cuda:0')\n",
      "tensor(0.3275, device='cuda:0')\n",
      "tensor(0.3642, device='cuda:0')\n",
      "tensor(0.3198, device='cuda:0')\n",
      "tensor(0.3752, device='cuda:0')\n",
      "tensor(0.3490, device='cuda:0')\n",
      "tensor(0.3573, device='cuda:0')\n",
      "tensor(0.3578, device='cuda:0')\n",
      "tensor(0.4532, device='cuda:0')\n",
      "tensor(0.3577, device='cuda:0')\n",
      "tensor(0.3466, device='cuda:0')\n",
      "tensor(0.3024, device='cuda:0')\n",
      "tensor(0.2859, device='cuda:0')\n",
      "tensor(0.3214, device='cuda:0')\n",
      "tensor(0.3561, device='cuda:0')\n",
      "tensor(0.3557, device='cuda:0')\n",
      "tensor(0.3567, device='cuda:0')\n",
      "tensor(0.3277, device='cuda:0')\n",
      "tensor(0.3671, device='cuda:0')\n",
      "tensor(0.3228, device='cuda:0')\n",
      "tensor(0.3507, device='cuda:0')\n",
      "tensor(0.3332, device='cuda:0')\n",
      "tensor(0.3740, device='cuda:0')\n",
      "tensor(0.3930, device='cuda:0')\n",
      "tensor(0.3372, device='cuda:0')\n",
      "tensor(0.3474, device='cuda:0')\n",
      "tensor(0.3501, device='cuda:0')\n",
      "tensor(0.3834, device='cuda:0')\n",
      "tensor(0.3512, device='cuda:0')\n",
      "tensor(0.3485, device='cuda:0')\n",
      "tensor(0.3279, device='cuda:0')\n",
      "tensor(0.3899, device='cuda:0')\n",
      "tensor(0.3584, device='cuda:0')\n",
      "tensor(0.3512, device='cuda:0')\n",
      "tensor(0.3995, device='cuda:0')\n"
     ]
    }
   ],
   "source": [
    "metric = load_metric(\"glue\", \"mrpc\")\n",
    "model.eval()\n",
    "tp, fp, tn, fn = 0, 0, 0, 0\n",
    "results_list = []\n",
    "for batch in eval_dataloader:\n",
    "    inputs, labels = batch\n",
    "    inputs, labels = inputs.to(device), labels.to(device)\n",
    "\n",
    "    inputs = inputs.squeeze(0)\n",
    "\n",
    "    with torch.no_grad():\n",
    "        outputs = model(inputs)\n",
    "        outputs = outputs.squeeze(-1)  # Not needed for LR\n",
    "\n",
    "    results_list.append(outputs)\n",
    "    # print(outputs)\n",
    "    if outputs > 0.5:\n",
    "        if labels == 1:\n",
    "            tp += 1\n",
    "        else:\n",
    "            fp += 1\n",
    "    else:\n",
    "        if labels == 0:\n",
    "            tn += 1\n",
    "        else:\n",
    "            fn += 1\n",
    "\n",
    "    # logits = outputs.logits\n",
    "    # predictions = torch.argmax(logits, dim=-1)\n",
    "    # metric.add_batch(predictions=outputs, references=labels)\n",
    "\n",
    "# results = metric.compute()\n",
    "for i, v in enumerate(eval_dataloader):\n",
    "    if v[1].squeeze() == torch.tensor([1.0]):\n",
    "        print(results_list[i])"
   ]
  },
  {
   "cell_type": "code",
   "execution_count": 372,
   "metadata": {},
   "outputs": [
    {
     "name": "stdout",
     "output_type": "stream",
     "text": [
      "True Positives: 0\n",
      "False Positives: 0\n",
      "True Negatives: 787\n",
      "False Negatives: 41\n",
      "[tensor(0.3467, device='cuda:0'), tensor(0.3404, device='cuda:0'), tensor(0.3549, device='cuda:0'), tensor(0.3458, device='cuda:0'), tensor(0.3343, device='cuda:0'), tensor(0.3309, device='cuda:0'), tensor(0.3506, device='cuda:0'), tensor(0.3133, device='cuda:0'), tensor(0.3479, device='cuda:0'), tensor(0.3609, device='cuda:0'), tensor(0.3611, device='cuda:0'), tensor(0.3495, device='cuda:0'), tensor(0.4138, device='cuda:0'), tensor(0.3857, device='cuda:0'), tensor(0.3482, device='cuda:0'), tensor(0.3357, device='cuda:0'), tensor(0.3575, device='cuda:0'), tensor(0.4087, device='cuda:0'), tensor(0.3451, device='cuda:0'), tensor(0.3289, device='cuda:0'), tensor(0.3691, device='cuda:0'), tensor(0.3707, device='cuda:0'), tensor(0.3654, device='cuda:0'), tensor(0.3586, device='cuda:0'), tensor(0.3551, device='cuda:0'), tensor(0.3562, device='cuda:0'), tensor(0.3591, device='cuda:0'), tensor(0.3327, device='cuda:0'), tensor(0.3006, device='cuda:0'), tensor(0.3497, device='cuda:0'), tensor(0.4261, device='cuda:0'), tensor(0.3489, device='cuda:0'), tensor(0.3285, device='cuda:0'), tensor(0.3609, device='cuda:0'), tensor(0.3537, device='cuda:0'), tensor(0.3123, device='cuda:0'), tensor(0.3415, device='cuda:0'), tensor(0.3590, device='cuda:0'), tensor(0.3570, device='cuda:0'), tensor(0.3448, device='cuda:0'), tensor(0.3022, device='cuda:0'), tensor(0.3366, device='cuda:0'), tensor(0.2353, device='cuda:0'), tensor(0.3461, device='cuda:0'), tensor(0.3651, device='cuda:0'), tensor(0.3202, device='cuda:0'), tensor(0.3486, device='cuda:0'), tensor(0.3591, device='cuda:0'), tensor(0.3333, device='cuda:0'), tensor(0.3189, device='cuda:0'), tensor(0.3340, device='cuda:0'), tensor(0.2493, device='cuda:0'), tensor(0.3512, device='cuda:0'), tensor(0.3354, device='cuda:0'), tensor(0.2452, device='cuda:0'), tensor(0.3535, device='cuda:0'), tensor(0.3597, device='cuda:0'), tensor(0.3247, device='cuda:0'), tensor(0.3570, device='cuda:0'), tensor(0.3513, device='cuda:0'), tensor(0.3608, device='cuda:0'), tensor(0.3303, device='cuda:0'), tensor(0.3426, device='cuda:0'), tensor(0.3765, device='cuda:0'), tensor(0.3299, device='cuda:0'), tensor(0.3776, device='cuda:0'), tensor(0.3529, device='cuda:0'), tensor(0.3371, device='cuda:0'), tensor(0.2972, device='cuda:0'), tensor(0.3605, device='cuda:0'), tensor(0.3665, device='cuda:0'), tensor(0.3213, device='cuda:0'), tensor(0.3435, device='cuda:0'), tensor(0.3304, device='cuda:0'), tensor(0.3454, device='cuda:0'), tensor(0.3796, device='cuda:0'), tensor(0.3300, device='cuda:0'), tensor(0.3604, device='cuda:0'), tensor(0.3475, device='cuda:0'), tensor(0.3400, device='cuda:0'), tensor(0.3529, device='cuda:0'), tensor(0.3500, device='cuda:0'), tensor(0.3509, device='cuda:0'), tensor(0.3547, device='cuda:0'), tensor(0.3510, device='cuda:0'), tensor(0.3526, device='cuda:0'), tensor(0.3304, device='cuda:0'), tensor(0.3593, device='cuda:0'), tensor(0.3387, device='cuda:0'), tensor(0.3543, device='cuda:0'), tensor(0.3434, device='cuda:0'), tensor(0.2926, device='cuda:0'), tensor(0.3229, device='cuda:0'), tensor(0.3515, device='cuda:0'), tensor(0.3442, device='cuda:0'), tensor(0.3560, device='cuda:0'), tensor(0.3599, device='cuda:0'), tensor(0.3561, device='cuda:0'), tensor(0.3531, device='cuda:0'), tensor(0.3623, device='cuda:0'), tensor(0.3079, device='cuda:0'), tensor(0.3415, device='cuda:0'), tensor(0.3467, device='cuda:0'), tensor(0.3515, device='cuda:0'), tensor(0.3590, device='cuda:0'), tensor(0.3326, device='cuda:0'), tensor(0.3570, device='cuda:0'), tensor(0.3427, device='cuda:0'), tensor(0.3605, device='cuda:0'), tensor(0.3594, device='cuda:0'), tensor(0.3577, device='cuda:0'), tensor(0.3519, device='cuda:0'), tensor(0.3684, device='cuda:0'), tensor(0.3557, device='cuda:0'), tensor(0.3586, device='cuda:0'), tensor(0.3759, device='cuda:0'), tensor(0.3686, device='cuda:0'), tensor(0.2983, device='cuda:0'), tensor(0.3517, device='cuda:0'), tensor(0.3485, device='cuda:0'), tensor(0.3160, device='cuda:0'), tensor(0.3462, device='cuda:0'), tensor(0.3602, device='cuda:0'), tensor(0.3215, device='cuda:0'), tensor(0.3532, device='cuda:0'), tensor(0.3060, device='cuda:0'), tensor(0.3615, device='cuda:0'), tensor(0.3481, device='cuda:0'), tensor(0.3501, device='cuda:0'), tensor(0.3332, device='cuda:0'), tensor(0.3458, device='cuda:0'), tensor(0.3416, device='cuda:0'), tensor(0.3699, device='cuda:0'), tensor(0.3452, device='cuda:0'), tensor(0.3684, device='cuda:0'), tensor(0.3942, device='cuda:0'), tensor(0.3017, device='cuda:0'), tensor(0.3539, device='cuda:0'), tensor(0.4256, device='cuda:0'), tensor(0.3787, device='cuda:0'), tensor(0.3314, device='cuda:0'), tensor(0.2879, device='cuda:0'), tensor(0.3359, device='cuda:0'), tensor(0.3364, device='cuda:0'), tensor(0.3504, device='cuda:0'), tensor(0.3303, device='cuda:0'), tensor(0.3416, device='cuda:0'), tensor(0.3525, device='cuda:0'), tensor(0.3350, device='cuda:0'), tensor(0.3402, device='cuda:0'), tensor(0.3536, device='cuda:0'), tensor(0.3511, device='cuda:0'), tensor(0.3459, device='cuda:0'), tensor(0.3290, device='cuda:0'), tensor(0.4029, device='cuda:0'), tensor(0.3549, device='cuda:0'), tensor(0.3613, device='cuda:0'), tensor(0.3478, device='cuda:0'), tensor(0.3142, device='cuda:0'), tensor(0.3435, device='cuda:0'), tensor(0.3513, device='cuda:0'), tensor(0.3371, device='cuda:0'), tensor(0.3317, device='cuda:0'), tensor(0.3496, device='cuda:0'), tensor(0.3369, device='cuda:0'), tensor(0.3533, device='cuda:0'), tensor(0.3342, device='cuda:0'), tensor(0.3545, device='cuda:0'), tensor(0.3555, device='cuda:0'), tensor(0.3334, device='cuda:0'), tensor(0.3478, device='cuda:0'), tensor(0.3824, device='cuda:0'), tensor(0.3799, device='cuda:0'), tensor(0.3590, device='cuda:0'), tensor(0.3576, device='cuda:0'), tensor(0.3594, device='cuda:0'), tensor(0.3490, device='cuda:0'), tensor(0.3491, device='cuda:0'), tensor(0.3417, device='cuda:0'), tensor(0.3576, device='cuda:0'), tensor(0.3579, device='cuda:0'), tensor(0.3542, device='cuda:0'), tensor(0.3479, device='cuda:0'), tensor(0.3770, device='cuda:0'), tensor(0.3477, device='cuda:0'), tensor(0.3275, device='cuda:0'), tensor(0.3469, device='cuda:0'), tensor(0.3542, device='cuda:0'), tensor(0.3319, device='cuda:0'), tensor(0.3481, device='cuda:0'), tensor(0.3641, device='cuda:0'), tensor(0.3281, device='cuda:0'), tensor(0.3074, device='cuda:0'), tensor(0.2926, device='cuda:0'), tensor(0.3413, device='cuda:0'), tensor(0.3642, device='cuda:0'), tensor(0.3185, device='cuda:0'), tensor(0.3550, device='cuda:0'), tensor(0.3638, device='cuda:0'), tensor(0.3334, device='cuda:0'), tensor(0.3588, device='cuda:0'), tensor(0.3198, device='cuda:0'), tensor(0.3604, device='cuda:0'), tensor(0.3367, device='cuda:0'), tensor(0.3588, device='cuda:0'), tensor(0.3435, device='cuda:0'), tensor(0.3404, device='cuda:0'), tensor(0.3234, device='cuda:0'), tensor(0.3544, device='cuda:0'), tensor(0.3386, device='cuda:0'), tensor(0.3446, device='cuda:0'), tensor(0.3559, device='cuda:0'), tensor(0.3363, device='cuda:0'), tensor(0.1973, device='cuda:0'), tensor(0.3530, device='cuda:0'), tensor(0.2141, device='cuda:0'), tensor(0.3691, device='cuda:0'), tensor(0.3005, device='cuda:0'), tensor(0.3582, device='cuda:0'), tensor(0.3284, device='cuda:0'), tensor(0.3548, device='cuda:0'), tensor(0.3500, device='cuda:0'), tensor(0.3631, device='cuda:0'), tensor(0.3511, device='cuda:0'), tensor(0.3405, device='cuda:0'), tensor(0.3539, device='cuda:0'), tensor(0.3523, device='cuda:0'), tensor(0.3631, device='cuda:0'), tensor(0.3565, device='cuda:0'), tensor(0.3314, device='cuda:0'), tensor(0.3544, device='cuda:0'), tensor(0.3752, device='cuda:0'), tensor(0.3429, device='cuda:0'), tensor(0.3572, device='cuda:0'), tensor(0.3460, device='cuda:0'), tensor(0.3684, device='cuda:0'), tensor(0.3435, device='cuda:0'), tensor(0.3486, device='cuda:0'), tensor(0.3784, device='cuda:0'), tensor(0.2679, device='cuda:0'), tensor(0.3508, device='cuda:0'), tensor(0.3263, device='cuda:0'), tensor(0.3718, device='cuda:0'), tensor(0.3529, device='cuda:0'), tensor(0.4473, device='cuda:0'), tensor(0.3236, device='cuda:0'), tensor(0.3573, device='cuda:0'), tensor(0.2567, device='cuda:0'), tensor(0.3734, device='cuda:0'), tensor(0.3432, device='cuda:0'), tensor(0.3869, device='cuda:0'), tensor(0.3487, device='cuda:0'), tensor(0.3500, device='cuda:0'), tensor(0.2986, device='cuda:0'), tensor(0.3488, device='cuda:0'), tensor(0.3416, device='cuda:0'), tensor(0.3360, device='cuda:0'), tensor(0.3584, device='cuda:0'), tensor(0.3551, device='cuda:0'), tensor(0.3496, device='cuda:0'), tensor(0.3346, device='cuda:0'), tensor(0.3531, device='cuda:0'), tensor(0.3440, device='cuda:0'), tensor(0.4056, device='cuda:0'), tensor(0.3722, device='cuda:0'), tensor(0.3813, device='cuda:0'), tensor(0.3347, device='cuda:0'), tensor(0.3365, device='cuda:0'), tensor(0.3545, device='cuda:0'), tensor(0.3591, device='cuda:0'), tensor(0.3365, device='cuda:0'), tensor(0.3274, device='cuda:0'), tensor(0.3259, device='cuda:0'), tensor(0.3433, device='cuda:0'), tensor(0.3625, device='cuda:0'), tensor(0.3479, device='cuda:0'), tensor(0.3539, device='cuda:0'), tensor(0.4414, device='cuda:0'), tensor(0.2753, device='cuda:0'), tensor(0.3607, device='cuda:0'), tensor(0.3542, device='cuda:0'), tensor(0.3442, device='cuda:0'), tensor(0.3374, device='cuda:0'), tensor(0.3405, device='cuda:0'), tensor(0.3664, device='cuda:0'), tensor(0.3405, device='cuda:0'), tensor(0.2264, device='cuda:0'), tensor(0.3571, device='cuda:0'), tensor(0.3225, device='cuda:0'), tensor(0.2406, device='cuda:0'), tensor(0.3810, device='cuda:0'), tensor(0.3513, device='cuda:0'), tensor(0.3490, device='cuda:0'), tensor(0.3340, device='cuda:0'), tensor(0.3556, device='cuda:0'), tensor(0.2601, device='cuda:0'), tensor(0.3607, device='cuda:0'), tensor(0.4031, device='cuda:0'), tensor(0.3458, device='cuda:0'), tensor(0.3565, device='cuda:0'), tensor(0.3273, device='cuda:0'), tensor(0.2871, device='cuda:0'), tensor(0.3240, device='cuda:0'), tensor(0.3455, device='cuda:0'), tensor(0.3455, device='cuda:0'), tensor(0.3532, device='cuda:0'), tensor(0.3557, device='cuda:0'), tensor(0.4395, device='cuda:0'), tensor(0.3709, device='cuda:0'), tensor(0.3504, device='cuda:0'), tensor(0.4537, device='cuda:0'), tensor(0.3600, device='cuda:0'), tensor(0.4225, device='cuda:0'), tensor(0.3523, device='cuda:0'), tensor(0.3445, device='cuda:0'), tensor(0.3167, device='cuda:0'), tensor(0.3606, device='cuda:0'), tensor(0.3513, device='cuda:0'), tensor(0.3699, device='cuda:0'), tensor(0.3363, device='cuda:0'), tensor(0.3321, device='cuda:0'), tensor(0.3653, device='cuda:0'), tensor(0.3475, device='cuda:0'), tensor(0.3573, device='cuda:0'), tensor(0.3377, device='cuda:0'), tensor(0.3366, device='cuda:0'), tensor(0.3324, device='cuda:0'), tensor(0.2936, device='cuda:0'), tensor(0.3452, device='cuda:0'), tensor(0.3120, device='cuda:0'), tensor(0.3465, device='cuda:0'), tensor(0.3566, device='cuda:0'), tensor(0.3311, device='cuda:0'), tensor(0.3821, device='cuda:0'), tensor(0.3620, device='cuda:0'), tensor(0.3113, device='cuda:0'), tensor(0.4270, device='cuda:0'), tensor(0.3620, device='cuda:0'), tensor(0.3502, device='cuda:0'), tensor(0.3554, device='cuda:0'), tensor(0.3467, device='cuda:0'), tensor(0.3258, device='cuda:0'), tensor(0.3470, device='cuda:0'), tensor(0.3554, device='cuda:0'), tensor(0.3562, device='cuda:0'), tensor(0.3597, device='cuda:0'), tensor(0.3762, device='cuda:0'), tensor(0.3590, device='cuda:0'), tensor(0.3552, device='cuda:0'), tensor(0.3503, device='cuda:0'), tensor(0.3550, device='cuda:0'), tensor(0.3227, device='cuda:0'), tensor(0.2679, device='cuda:0'), tensor(0.3223, device='cuda:0'), tensor(0.3491, device='cuda:0'), tensor(0.3415, device='cuda:0'), tensor(0.3717, device='cuda:0'), tensor(0.3731, device='cuda:0'), tensor(0.3508, device='cuda:0'), tensor(0.3608, device='cuda:0'), tensor(0.3886, device='cuda:0'), tensor(0.3578, device='cuda:0'), tensor(0.3586, device='cuda:0'), tensor(0.3550, device='cuda:0'), tensor(0.3449, device='cuda:0'), tensor(0.3792, device='cuda:0'), tensor(0.3569, device='cuda:0'), tensor(0.3228, device='cuda:0'), tensor(0.4072, device='cuda:0'), tensor(0.3371, device='cuda:0'), tensor(0.3217, device='cuda:0'), tensor(0.3581, device='cuda:0'), tensor(0.4546, device='cuda:0'), tensor(0.3385, device='cuda:0'), tensor(0.3560, device='cuda:0'), tensor(0.2649, device='cuda:0'), tensor(0.3604, device='cuda:0'), tensor(0.3554, device='cuda:0'), tensor(0.3494, device='cuda:0'), tensor(0.3614, device='cuda:0'), tensor(0.3496, device='cuda:0'), tensor(0.3432, device='cuda:0'), tensor(0.3604, device='cuda:0'), tensor(0.3475, device='cuda:0'), tensor(0.3374, device='cuda:0'), tensor(0.3607, device='cuda:0'), tensor(0.3680, device='cuda:0'), tensor(0.3355, device='cuda:0'), tensor(0.4532, device='cuda:0'), tensor(0.3231, device='cuda:0'), tensor(0.3577, device='cuda:0'), tensor(0.3521, device='cuda:0'), tensor(0.3501, device='cuda:0'), tensor(0.2792, device='cuda:0'), tensor(0.3401, device='cuda:0'), tensor(0.3554, device='cuda:0'), tensor(0.3495, device='cuda:0'), tensor(0.3288, device='cuda:0'), tensor(0.3556, device='cuda:0'), tensor(0.3644, device='cuda:0'), tensor(0.4005, device='cuda:0'), tensor(0.4002, device='cuda:0'), tensor(0.3407, device='cuda:0'), tensor(0.3510, device='cuda:0'), tensor(0.3540, device='cuda:0'), tensor(0.3451, device='cuda:0'), tensor(0.3378, device='cuda:0'), tensor(0.3527, device='cuda:0'), tensor(0.3617, device='cuda:0'), tensor(0.3564, device='cuda:0'), tensor(0.3537, device='cuda:0'), tensor(0.3540, device='cuda:0'), tensor(0.3534, device='cuda:0'), tensor(0.3438, device='cuda:0'), tensor(0.3806, device='cuda:0'), tensor(0.3537, device='cuda:0'), tensor(0.3466, device='cuda:0'), tensor(0.4116, device='cuda:0'), tensor(0.3392, device='cuda:0'), tensor(0.3485, device='cuda:0'), tensor(0.3555, device='cuda:0'), tensor(0.3490, device='cuda:0'), tensor(0.3182, device='cuda:0'), tensor(0.3469, device='cuda:0'), tensor(0.2848, device='cuda:0'), tensor(0.4377, device='cuda:0'), tensor(0.3511, device='cuda:0'), tensor(0.3133, device='cuda:0'), tensor(0.3518, device='cuda:0'), tensor(0.3703, device='cuda:0'), tensor(0.3607, device='cuda:0'), tensor(0.3541, device='cuda:0'), tensor(0.4139, device='cuda:0'), tensor(0.3026, device='cuda:0'), tensor(0.3572, device='cuda:0'), tensor(0.3513, device='cuda:0'), tensor(0.3580, device='cuda:0'), tensor(0.3586, device='cuda:0'), tensor(0.3270, device='cuda:0'), tensor(0.4403, device='cuda:0'), tensor(0.3510, device='cuda:0'), tensor(0.3499, device='cuda:0'), tensor(0.3564, device='cuda:0'), tensor(0.3540, device='cuda:0'), tensor(0.3442, device='cuda:0'), tensor(0.3024, device='cuda:0'), tensor(0.3342, device='cuda:0'), tensor(0.3128, device='cuda:0'), tensor(0.2859, device='cuda:0'), tensor(0.3409, device='cuda:0'), tensor(0.3174, device='cuda:0'), tensor(0.3476, device='cuda:0'), tensor(0.3594, device='cuda:0'), tensor(0.2142, device='cuda:0'), tensor(0.3900, device='cuda:0'), tensor(0.2826, device='cuda:0'), tensor(0.3659, device='cuda:0'), tensor(0.3556, device='cuda:0'), tensor(0.3716, device='cuda:0'), tensor(0.3531, device='cuda:0'), tensor(0.3360, device='cuda:0'), tensor(0.3271, device='cuda:0'), tensor(0.3574, device='cuda:0'), tensor(0.3578, device='cuda:0'), tensor(0.3214, device='cuda:0'), tensor(0.3435, device='cuda:0'), tensor(0.3403, device='cuda:0'), tensor(0.2888, device='cuda:0'), tensor(0.3350, device='cuda:0'), tensor(0.3410, device='cuda:0'), tensor(0.3443, device='cuda:0'), tensor(0.3447, device='cuda:0'), tensor(0.3435, device='cuda:0'), tensor(0.2631, device='cuda:0'), tensor(0.4560, device='cuda:0'), tensor(0.3561, device='cuda:0'), tensor(0.3579, device='cuda:0'), tensor(0.3775, device='cuda:0'), tensor(0.3430, device='cuda:0'), tensor(0.3553, device='cuda:0'), tensor(0.3372, device='cuda:0'), tensor(0.3567, device='cuda:0'), tensor(0.3408, device='cuda:0'), tensor(0.3573, device='cuda:0'), tensor(0.3540, device='cuda:0'), tensor(0.3927, device='cuda:0'), tensor(0.3455, device='cuda:0'), tensor(0.3461, device='cuda:0'), tensor(0.3554, device='cuda:0'), tensor(0.3376, device='cuda:0'), tensor(0.3610, device='cuda:0'), tensor(0.3476, device='cuda:0'), tensor(0.3605, device='cuda:0'), tensor(0.3557, device='cuda:0'), tensor(0.3424, device='cuda:0'), tensor(0.3578, device='cuda:0'), tensor(0.3567, device='cuda:0'), tensor(0.3501, device='cuda:0'), tensor(0.3454, device='cuda:0'), tensor(0.3346, device='cuda:0'), tensor(0.3507, device='cuda:0'), tensor(0.3079, device='cuda:0'), tensor(0.4262, device='cuda:0'), tensor(0.3568, device='cuda:0'), tensor(0.3662, device='cuda:0'), tensor(0.3492, device='cuda:0'), tensor(0.3472, device='cuda:0'), tensor(0.3635, device='cuda:0'), tensor(0.3424, device='cuda:0'), tensor(0.2593, device='cuda:0'), tensor(0.3580, device='cuda:0'), tensor(0.3277, device='cuda:0'), tensor(0.3628, device='cuda:0'), tensor(0.3148, device='cuda:0'), tensor(0.3220, device='cuda:0'), tensor(0.2839, device='cuda:0'), tensor(0.3745, device='cuda:0'), tensor(0.3435, device='cuda:0'), tensor(0.3601, device='cuda:0'), tensor(0.3671, device='cuda:0'), tensor(0.3537, device='cuda:0'), tensor(0.3729, device='cuda:0'), tensor(0.3215, device='cuda:0'), tensor(0.3855, device='cuda:0'), tensor(0.3416, device='cuda:0'), tensor(0.3332, device='cuda:0'), tensor(0.3519, device='cuda:0'), tensor(0.3118, device='cuda:0'), tensor(0.3639, device='cuda:0'), tensor(0.3586, device='cuda:0'), tensor(0.3228, device='cuda:0'), tensor(0.3424, device='cuda:0'), tensor(0.3423, device='cuda:0'), tensor(0.3734, device='cuda:0'), tensor(0.3516, device='cuda:0'), tensor(0.2491, device='cuda:0'), tensor(0.3360, device='cuda:0'), tensor(0.3659, device='cuda:0'), tensor(0.3431, device='cuda:0'), tensor(0.3753, device='cuda:0'), tensor(0.3507, device='cuda:0'), tensor(0.3736, device='cuda:0'), tensor(0.3393, device='cuda:0'), tensor(0.3525, device='cuda:0'), tensor(0.3616, device='cuda:0'), tensor(0.3442, device='cuda:0'), tensor(0.3439, device='cuda:0'), tensor(0.3297, device='cuda:0'), tensor(0.3537, device='cuda:0'), tensor(0.3426, device='cuda:0'), tensor(0.3891, device='cuda:0'), tensor(0.3588, device='cuda:0'), tensor(0.3291, device='cuda:0'), tensor(0.3416, device='cuda:0'), tensor(0.3294, device='cuda:0'), tensor(0.3485, device='cuda:0'), tensor(0.3988, device='cuda:0'), tensor(0.3603, device='cuda:0'), tensor(0.3497, device='cuda:0'), tensor(0.3579, device='cuda:0'), tensor(0.3356, device='cuda:0'), tensor(0.3053, device='cuda:0'), tensor(0.3906, device='cuda:0'), tensor(0.3446, device='cuda:0'), tensor(0.3614, device='cuda:0'), tensor(0.3501, device='cuda:0'), tensor(0.3470, device='cuda:0'), tensor(0.3564, device='cuda:0'), tensor(0.3577, device='cuda:0'), tensor(0.3705, device='cuda:0'), tensor(0.3351, device='cuda:0'), tensor(0.3499, device='cuda:0'), tensor(0.3573, device='cuda:0'), tensor(0.3457, device='cuda:0'), tensor(0.3310, device='cuda:0'), tensor(0.3442, device='cuda:0'), tensor(0.3852, device='cuda:0'), tensor(0.3183, device='cuda:0'), tensor(0.2689, device='cuda:0'), tensor(0.3930, device='cuda:0'), tensor(0.3073, device='cuda:0'), tensor(0.3231, device='cuda:0'), tensor(0.3533, device='cuda:0'), tensor(0.3794, device='cuda:0'), tensor(0.3370, device='cuda:0'), tensor(0.3569, device='cuda:0'), tensor(0.3480, device='cuda:0'), tensor(0.3500, device='cuda:0'), tensor(0.3526, device='cuda:0'), tensor(0.3451, device='cuda:0'), tensor(0.3601, device='cuda:0'), tensor(0.3591, device='cuda:0'), tensor(0.3542, device='cuda:0'), tensor(0.4092, device='cuda:0'), tensor(0.3456, device='cuda:0'), tensor(0.3393, device='cuda:0'), tensor(0.3337, device='cuda:0'), tensor(0.3546, device='cuda:0'), tensor(0.3127, device='cuda:0'), tensor(0.3539, device='cuda:0'), tensor(0.3408, device='cuda:0'), tensor(0.3518, device='cuda:0'), tensor(0.3332, device='cuda:0'), tensor(0.3466, device='cuda:0'), tensor(0.3153, device='cuda:0'), tensor(0.3629, device='cuda:0'), tensor(0.2492, device='cuda:0'), tensor(0.3442, device='cuda:0'), tensor(0.3740, device='cuda:0'), tensor(0.3516, device='cuda:0'), tensor(0.3497, device='cuda:0'), tensor(0.3237, device='cuda:0'), tensor(0.3579, device='cuda:0'), tensor(0.3514, device='cuda:0'), tensor(0.3419, device='cuda:0'), tensor(0.4117, device='cuda:0'), tensor(0.3555, device='cuda:0'), tensor(0.3145, device='cuda:0'), tensor(0.3680, device='cuda:0'), tensor(0.3235, device='cuda:0'), tensor(0.3930, device='cuda:0'), tensor(0.3665, device='cuda:0'), tensor(0.3424, device='cuda:0'), tensor(0.3202, device='cuda:0'), tensor(0.3483, device='cuda:0'), tensor(0.3430, device='cuda:0'), tensor(0.3793, device='cuda:0'), tensor(0.4350, device='cuda:0'), tensor(0.3487, device='cuda:0'), tensor(0.3372, device='cuda:0'), tensor(0.3474, device='cuda:0'), tensor(0.3596, device='cuda:0'), tensor(0.3502, device='cuda:0'), tensor(0.3799, device='cuda:0'), tensor(0.3534, device='cuda:0'), tensor(0.2984, device='cuda:0'), tensor(0.3603, device='cuda:0'), tensor(0.3554, device='cuda:0'), tensor(0.3158, device='cuda:0'), tensor(0.3468, device='cuda:0'), tensor(0.3576, device='cuda:0'), tensor(0.2732, device='cuda:0'), tensor(0.3364, device='cuda:0'), tensor(0.3059, device='cuda:0'), tensor(0.3851, device='cuda:0'), tensor(0.3240, device='cuda:0'), tensor(0.2000, device='cuda:0'), tensor(0.3570, device='cuda:0'), tensor(0.3437, device='cuda:0'), tensor(0.3487, device='cuda:0'), tensor(0.3325, device='cuda:0'), tensor(0.3557, device='cuda:0'), tensor(0.3195, device='cuda:0'), tensor(0.3474, device='cuda:0'), tensor(0.3343, device='cuda:0'), tensor(0.3620, device='cuda:0'), tensor(0.3305, device='cuda:0'), tensor(0.3576, device='cuda:0'), tensor(0.3411, device='cuda:0'), tensor(0.3449, device='cuda:0'), tensor(0.3582, device='cuda:0'), tensor(0.3529, device='cuda:0'), tensor(0.3501, device='cuda:0'), tensor(0.3475, device='cuda:0'), tensor(0.3531, device='cuda:0'), tensor(0.3433, device='cuda:0'), tensor(0.3486, device='cuda:0'), tensor(0.2912, device='cuda:0'), tensor(0.3491, device='cuda:0'), tensor(0.3348, device='cuda:0'), tensor(0.3208, device='cuda:0'), tensor(0.3176, device='cuda:0'), tensor(0.2983, device='cuda:0'), tensor(0.3487, device='cuda:0'), tensor(0.3516, device='cuda:0'), tensor(0.3450, device='cuda:0'), tensor(0.3621, device='cuda:0'), tensor(0.3561, device='cuda:0'), tensor(0.3709, device='cuda:0'), tensor(0.3589, device='cuda:0'), tensor(0.3834, device='cuda:0'), tensor(0.3542, device='cuda:0'), tensor(0.3642, device='cuda:0'), tensor(0.3559, device='cuda:0'), tensor(0.3453, device='cuda:0'), tensor(0.4592, device='cuda:0'), tensor(0.3575, device='cuda:0'), tensor(0.3875, device='cuda:0'), tensor(0.3608, device='cuda:0'), tensor(0.3512, device='cuda:0'), tensor(0.3551, device='cuda:0'), tensor(0.3770, device='cuda:0'), tensor(0.4066, device='cuda:0'), tensor(0.3540, device='cuda:0'), tensor(0.3407, device='cuda:0'), tensor(0.3551, device='cuda:0'), tensor(0.2243, device='cuda:0'), tensor(0.3165, device='cuda:0'), tensor(0.3665, device='cuda:0'), tensor(0.3622, device='cuda:0'), tensor(0.3532, device='cuda:0'), tensor(0.3765, device='cuda:0'), tensor(0.3576, device='cuda:0'), tensor(0.3712, device='cuda:0'), tensor(0.3415, device='cuda:0'), tensor(0.4035, device='cuda:0'), tensor(0.3423, device='cuda:0'), tensor(0.3229, device='cuda:0'), tensor(0.3574, device='cuda:0'), tensor(0.3208, device='cuda:0'), tensor(0.3659, device='cuda:0'), tensor(0.3615, device='cuda:0'), tensor(0.1949, device='cuda:0'), tensor(0.4049, device='cuda:0'), tensor(0.3477, device='cuda:0'), tensor(0.4288, device='cuda:0'), tensor(0.3691, device='cuda:0'), tensor(0.3485, device='cuda:0'), tensor(0.3279, device='cuda:0'), tensor(0.3629, device='cuda:0'), tensor(0.2774, device='cuda:0'), tensor(0.3657, device='cuda:0'), tensor(0.3293, device='cuda:0'), tensor(0.3592, device='cuda:0'), tensor(0.3392, device='cuda:0'), tensor(0.3399, device='cuda:0'), tensor(0.3102, device='cuda:0'), tensor(0.3900, device='cuda:0'), tensor(0.3645, device='cuda:0'), tensor(0.3696, device='cuda:0'), tensor(0.3399, device='cuda:0'), tensor(0.3446, device='cuda:0'), tensor(0.3397, device='cuda:0'), tensor(0.3482, device='cuda:0'), tensor(0.3673, device='cuda:0'), tensor(0.3608, device='cuda:0'), tensor(0.3423, device='cuda:0'), tensor(0.3693, device='cuda:0'), tensor(0.2919, device='cuda:0'), tensor(0.3216, device='cuda:0'), tensor(0.3512, device='cuda:0'), tensor(0.3899, device='cuda:0'), tensor(0.3512, device='cuda:0'), tensor(0.3618, device='cuda:0'), tensor(0.3620, device='cuda:0'), tensor(0.3557, device='cuda:0'), tensor(0.3514, device='cuda:0'), tensor(0.3497, device='cuda:0'), tensor(0.3061, device='cuda:0'), tensor(0.3533, device='cuda:0'), tensor(0.3146, device='cuda:0'), tensor(0.3482, device='cuda:0'), tensor(0.3580, device='cuda:0'), tensor(0.4309, device='cuda:0'), tensor(0.3517, device='cuda:0'), tensor(0.3572, device='cuda:0'), tensor(0.3241, device='cuda:0'), tensor(0.3421, device='cuda:0'), tensor(0.3546, device='cuda:0'), tensor(0.3015, device='cuda:0'), tensor(0.3644, device='cuda:0'), tensor(0.3491, device='cuda:0'), tensor(0.3575, device='cuda:0'), tensor(0.3451, device='cuda:0'), tensor(0.3463, device='cuda:0'), tensor(0.2465, device='cuda:0'), tensor(0.3344, device='cuda:0'), tensor(0.3446, device='cuda:0'), tensor(0.3584, device='cuda:0'), tensor(0.3380, device='cuda:0'), tensor(0.3549, device='cuda:0'), tensor(0.3507, device='cuda:0'), tensor(0.3557, device='cuda:0'), tensor(0.3430, device='cuda:0'), tensor(0.3467, device='cuda:0'), tensor(0.3527, device='cuda:0'), tensor(0.4238, device='cuda:0'), tensor(0.3481, device='cuda:0'), tensor(0.3470, device='cuda:0'), tensor(0.3616, device='cuda:0'), tensor(0.3438, device='cuda:0'), tensor(0.3548, device='cuda:0'), tensor(0.3512, device='cuda:0'), tensor(0.3259, device='cuda:0'), tensor(0.3570, device='cuda:0'), tensor(0.3490, device='cuda:0'), tensor(0.3239, device='cuda:0'), tensor(0.3167, device='cuda:0'), tensor(0.3588, device='cuda:0'), tensor(0.3499, device='cuda:0'), tensor(0.3450, device='cuda:0'), tensor(0.3368, device='cuda:0'), tensor(0.3725, device='cuda:0'), tensor(0.3403, device='cuda:0'), tensor(0.3510, device='cuda:0'), tensor(0.3524, device='cuda:0'), tensor(0.3511, device='cuda:0'), tensor(0.3556, device='cuda:0'), tensor(0.3995, device='cuda:0'), tensor(0.3511, device='cuda:0'), tensor(0.3219, device='cuda:0'), tensor(0.3514, device='cuda:0'), tensor(0.3418, device='cuda:0'), tensor(0.3522, device='cuda:0'), tensor(0.3410, device='cuda:0'), tensor(0.3083, device='cuda:0'), tensor(0.3411, device='cuda:0'), tensor(0.3673, device='cuda:0'), tensor(0.3622, device='cuda:0'), tensor(0.3784, device='cuda:0'), tensor(0.3630, device='cuda:0'), tensor(0.2991, device='cuda:0'), tensor(0.3498, device='cuda:0'), tensor(0.3344, device='cuda:0'), tensor(0.2423, device='cuda:0'), tensor(0.3425, device='cuda:0'), tensor(0.3342, device='cuda:0'), tensor(0.3658, device='cuda:0'), tensor(0.4143, device='cuda:0'), tensor(0.2452, device='cuda:0'), tensor(0.3545, device='cuda:0'), tensor(0.2672, device='cuda:0'), tensor(0.3527, device='cuda:0'), tensor(0.3533, device='cuda:0'), tensor(0.3321, device='cuda:0'), tensor(0.4775, device='cuda:0'), tensor(0.3483, device='cuda:0'), tensor(0.3298, device='cuda:0')]\n"
     ]
    }
   ],
   "source": [
    "print(f\"True Positives: {tp}\")\n",
    "print(f\"False Positives: {fp}\")\n",
    "print(f\"True Negatives: {tn}\")\n",
    "print(f\"False Negatives: {fn}\")\n",
    "print(results_list)\n",
    "# Plot schedular graph"
   ]
  },
  {
   "cell_type": "code",
   "execution_count": 373,
   "metadata": {},
   "outputs": [
    {
     "data": {
      "image/png": "[encoded data removed]",
      "text/plain": [
       "<Figure size 640x480 with 1 Axes>"
      ]
     },
     "metadata": {},
     "output_type": "display_data"
    }
   ],
   "source": [
    "# Plot losses\n",
    "a = []\n",
    "for i in range(len(loss_track)):\n",
    "    a.append(i)\n",
    "\n",
    "plt.plot(range(len(a)), a, label=\"Training Loss\")\n",
    "\n",
    "# plt.plot(range(len(loss_track_valid)), loss_track_valid, label=\"Validation Loss\")\n",
    "\n",
    "\n",
    "plt.title(\"Training and Validation Loss\")\n",
    "\n",
    "plt.xlabel(\"Epoch\")\n",
    "\n",
    "plt.ylabel(\"Loss\")\n",
    "\n",
    "\n",
    "plt.show()"
   ]
  },
  {
   "cell_type": "code",
   "execution_count": null,
   "metadata": {},
   "outputs": [],
   "source": [
    "torch.save(model.state_dict(), \"model_{}\".format(\"first_test\"))"
   ]
  }
 ],
 "metadata": {
  "kernelspec": {
   "display_name": ".venv",
   "language": "python",
   "name": "python3"
  },
  "language_info": {
   "codemirror_mode": {
    "name": "ipython",
    "version": 3
   },
   "file_extension": ".py",
   "mimetype": "text/x-python",
   "name": "python",
   "nbconvert_exporter": "python",
   "pygments_lexer": "ipython3",
   "version": "3.11.3"
  }
 },
 "nbformat": 4,
 "nbformat_minor": 2
}
