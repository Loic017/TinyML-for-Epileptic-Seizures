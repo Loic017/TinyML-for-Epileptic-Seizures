{
 "cells": [
  {
   "cell_type": "markdown",
   "metadata": {},
   "source": [
    "# Import Data and Train Model\n"
   ]
  },
  {
   "cell_type": "code",
   "execution_count": 46,
   "metadata": {},
   "outputs": [],
   "source": [
    "import torch\n",
    "import torch.nn as nn\n",
    "import torch.nn.functional as F\n",
    "from torch.utils.data import Dataset, DataLoader\n",
    "from torch.utils.data.dataset import random_split\n",
    "from torchvision.transforms import ToTensor, Lambda\n",
    "\n",
    "import matplotlib.pyplot as plt\n",
    "import matplotlib.ticker as mticker\n",
    "%matplotlib inline\n",
    "import pandas as pd;\n",
    "import numpy as np\n",
    "import math\n",
    "\n",
    "from sklearn.model_selection import train_test_split\n",
    "from imblearn.over_sampling import SMOTE\n",
    "from imblearn.over_sampling import SMOTENC"
   ]
  },
  {
   "cell_type": "markdown",
   "metadata": {},
   "source": [
    "## Load Data: Create Dataset\n"
   ]
  },
  {
   "cell_type": "markdown",
   "metadata": {},
   "source": [
    "### Load Absence Seizure Data\n"
   ]
  },
  {
   "cell_type": "code",
   "execution_count": 59,
   "metadata": {},
   "outputs": [],
   "source": [
    "class AbsenceDataset(Dataset):\n",
    "    def __init__(self, file_path, transform=None, target_transform=None):\n",
    "        self.x, self.y = self.data_get(file_path)\n",
    "        self.n_samples = len(self.x)\n",
    "\n",
    "        self.transform = transform\n",
    "        self.target_transform = target_transform\n",
    "\n",
    "    def __getitem__(self, idx):\n",
    "        sample_x, sample_y = self.x[idx], self.y[idx]\n",
    "\n",
    "        if self.transform:\n",
    "            sample_x = self.transform(sample_x)\n",
    "\n",
    "        if self.target_transform:\n",
    "            sample_y = self.target_transform(sample_y)\n",
    "\n",
    "        return sample_x.float(), sample_y.float()\n",
    "\n",
    "    def __len__(self):\n",
    "        return self.n_samples\n",
    "\n",
    "    def data_get(self, file_path):\n",
    "        data = pd.read_csv(file_path)\n",
    "        x_loaded, y_loaded = [], []\n",
    "        for index, row in data.iterrows():\n",
    "            x_loaded.append(np.load(row[\"data\"]))\n",
    "            y_loaded.append(np.load(row[\"labels\"]))\n",
    "\n",
    "        continuous_x = np.concatenate(x_loaded, axis=0)\n",
    "        continuous_y = np.concatenate(y_loaded, axis=0)\n",
    "\n",
    "        return continuous_x, continuous_y"
   ]
  },
  {
   "cell_type": "code",
   "execution_count": 60,
   "metadata": {},
   "outputs": [],
   "source": [
    "# Load the dataset\n",
    "\n",
    "dataset = AbsenceDataset(\n",
    "    \"processed_data/absence/epochs_files.csv\",\n",
    "    transform=torch.tensor,\n",
    "    target_transform=torch.tensor,\n",
    ")"
   ]
  },
  {
   "cell_type": "markdown",
   "metadata": {},
   "source": [
    "### Split Data\n",
    "\n",
    "70%, 20%, 10%\n"
   ]
  },
  {
   "cell_type": "code",
   "execution_count": 62,
   "metadata": {},
   "outputs": [],
   "source": [
    "if (int(len(dataset) * 0.7) + int(len(dataset) * 0.2) + int(len(dataset) * 0.1)) != len(\n",
    "    dataset\n",
    "):\n",
    "    train_set, eval_set, test_set = random_split(\n",
    "        dataset,\n",
    "        [\n",
    "            math.ceil(len(dataset) * 0.7),\n",
    "            int(len(dataset) * 0.2),\n",
    "            int(len(dataset) * 0.1),\n",
    "        ],\n",
    "    )\n",
    "else:\n",
    "    train_set, eval_set, test_set = random_split(\n",
    "        dataset,\n",
    "        [int(len(dataset) * 0.7), int(len(dataset) * 0.2), int(len(dataset) * 0.1)],\n",
    "    )"
   ]
  },
  {
   "cell_type": "markdown",
   "metadata": {},
   "source": [
    "### Balance Dataset\n"
   ]
  },
  {
   "cell_type": "code",
   "execution_count": 67,
   "metadata": {},
   "outputs": [
    {
     "data": {
      "image/png": "[encoded data removed]",
      "text/plain": [
       "<Figure size 640x480 with 1 Axes>"
      ]
     },
     "metadata": {},
     "output_type": "display_data"
    }
   ],
   "source": [
    "# Plot distribution of the dataset before balancing\n",
    "# 0 - Background epoch\n",
    "# 1 - Absence seizure epoch\n",
    "\n",
    "l = []\n",
    "for i in train_set:\n",
    "    l.append(i[1].item())\n",
    "\n",
    "a1, b1, bars = plt.hist(l, bins=2, edgecolor=\"white\", linewidth=5, range=(0, 1))\n",
    "plt.gca().xaxis.set_major_locator(mticker.MultipleLocator(1))\n",
    "plt.title(\"Distribution of the dataset before applying SMOTE\")\n",
    "plt.xlabel(\"Class Label\")\n",
    "plt.ylabel(\"Frequency\")\n",
    "bars[0].set_facecolor(\"green\")\n",
    "bars[1].set_facecolor(\"purple\")\n",
    "plt.show()"
   ]
  },
  {
   "cell_type": "code",
   "execution_count": 4,
   "metadata": {},
   "outputs": [
    {
     "name": "stdout",
     "output_type": "stream",
     "text": [
      "2734\n"
     ]
    }
   ],
   "source": [
    "len(dataset)\n",
    "\n",
    "count = 0\n",
    "for i, (inputs, labels) in enumerate(train_set):\n",
    "    if labels == 0:\n",
    "        count += 1\n",
    "print(count)"
   ]
  },
  {
   "cell_type": "code",
   "execution_count": 6,
   "metadata": {},
   "outputs": [
    {
     "name": "stdout",
     "output_type": "stream",
     "text": [
      "2734\n",
      "165\n"
     ]
    }
   ],
   "source": [
    "count = 0\n",
    "for i, (inputs, labels) in enumerate(train_set):\n",
    "    if labels == 0:\n",
    "        count += 1\n",
    "print(count)\n",
    "\n",
    "count = 0\n",
    "for i, (inputs, labels) in enumerate(train_set):\n",
    "    if labels == 1:\n",
    "        count += 1\n",
    "print(count)"
   ]
  },
  {
   "cell_type": "code",
   "execution_count": 7,
   "metadata": {},
   "outputs": [],
   "source": [
    "train_dataloader = DataLoader(dataset=train_set, batch_size=1, shuffle=True)\n",
    "eval_dataloader = DataLoader(dataset=eval_set, batch_size=1, shuffle=True)\n",
    "test_dataloader = DataLoader(dataset=test_set, batch_size=1, shuffle=True)"
   ]
  },
  {
   "cell_type": "code",
   "execution_count": 8,
   "metadata": {},
   "outputs": [
    {
     "name": "stdout",
     "output_type": "stream",
     "text": [
      "Number of parameters in model: 130,303,233\n"
     ]
    },
    {
     "data": {
      "text/plain": [
       "AbnormalNeuralNetwork(\n",
       "  (CNN1): Conv1d(5, 256, kernel_size=(10,), stride=(1,))\n",
       "  (MaxPool1): MaxPool1d(kernel_size=2, stride=2, padding=0, dilation=1, ceil_mode=False)\n",
       "  (CNN2): Conv1d(256, 512, kernel_size=(10,), stride=(1,))\n",
       "  (MaxPool2): MaxPool1d(kernel_size=2, stride=2, padding=0, dilation=1, ceil_mode=False)\n",
       "  (CNN3): Conv1d(512, 1024, kernel_size=(10,), stride=(1,))\n",
       "  (MaxPool3): MaxPool1d(kernel_size=2, stride=2, padding=0, dilation=1, ceil_mode=False)\n",
       "  (flatten): Flatten(start_dim=1, end_dim=-1)\n",
       "  (fc1): Linear(in_features=119808, out_features=1024, bias=True)\n",
       "  (dropout1): Dropout(p=0.3, inplace=False)\n",
       "  (fc2): Linear(in_features=1024, out_features=1024, bias=True)\n",
       "  (dropout2): Dropout(p=0.3, inplace=False)\n",
       "  (output): Linear(in_features=1024, out_features=1, bias=True)\n",
       ")"
      ]
     },
     "execution_count": 8,
     "metadata": {},
     "output_type": "execute_result"
    }
   ],
   "source": [
    "class AbnormalNeuralNetwork(nn.Module):\n",
    "    def __init__(self):\n",
    "        super().__init__()\n",
    "        # Input 5 Channels\n",
    "        self.CNN1 = nn.Conv1d(in_channels=5, out_channels=256, kernel_size=10)\n",
    "        self.MaxPool1 = nn.MaxPool1d(kernel_size=2, stride=2)\n",
    "\n",
    "        self.CNN2 = nn.Conv1d(in_channels=256, out_channels=512, kernel_size=10)\n",
    "        self.MaxPool2 = nn.MaxPool1d(kernel_size=2, stride=2)\n",
    "\n",
    "        self.CNN3 = nn.Conv1d(in_channels=512, out_channels=1024, kernel_size=10)\n",
    "        self.MaxPool3 = nn.MaxPool1d(kernel_size=2, stride=2)\n",
    "\n",
    "        self.flatten = nn.Flatten()\n",
    "\n",
    "        self.fc1 = nn.Linear(119808, 1024)\n",
    "        self.dropout1 = nn.Dropout(p=0.3)\n",
    "\n",
    "        self.fc2 = nn.Linear(1024, 1024)\n",
    "        self.dropout2 = nn.Dropout(p=0.3)\n",
    "\n",
    "        # Output Layer\n",
    "        self.output = nn.Linear(in_features=1024, out_features=1)\n",
    "\n",
    "    def forward(self, x):\n",
    "        x = F.relu(self.CNN1(x))\n",
    "        x = self.MaxPool1(x)\n",
    "\n",
    "        x = F.relu(self.CNN2(x))\n",
    "        x = self.MaxPool2(x)\n",
    "\n",
    "        x = F.relu(self.CNN3(x))\n",
    "        x = self.MaxPool3(x)\n",
    "\n",
    "        x = self.flatten(x)\n",
    "\n",
    "        x = F.relu(self.fc1(x))\n",
    "        x = self.dropout1(x)\n",
    "\n",
    "        x = F.relu(self.fc2(x))\n",
    "        x = self.dropout2(x)\n",
    "\n",
    "        x = self.output(x)\n",
    "        return x\n",
    "\n",
    "\n",
    "# Set device to GPU\n",
    "device = torch.device(\"cuda\" if torch.cuda.is_available() else \"cpu\")\n",
    "\n",
    "# Initialize model\n",
    "model = AbnormalNeuralNetwork().to(device)\n",
    "\n",
    "# Set optimizer and loss function\n",
    "optimizer = torch.optim.Adam(model.parameters(), lr=1e-3)\n",
    "loss_function = nn.MSELoss()\n",
    "\n",
    "# Calculate number of parameters in model\n",
    "n_params = 0\n",
    "for x in model.parameters():\n",
    "    n_params += len(torch.flatten(x))\n",
    "print(f\"Number of parameters in model: {n_params:,}\")\n",
    "\n",
    "# Print Model\n",
    "model"
   ]
  },
  {
   "cell_type": "code",
   "execution_count": 9,
   "metadata": {},
   "outputs": [
    {
     "name": "stdout",
     "output_type": "stream",
     "text": [
      "torch.Size([10, 5, 1000])\n",
      "torch.Size([10, 1])\n",
      "torch.Size([10])\n"
     ]
    }
   ],
   "source": [
    "# Test Model on 1 Batch\n",
    "for i, (inputs, labels) in enumerate(train_dataloader):\n",
    "    inputs, labels = inputs.to(device), labels.to(device)\n",
    "    outputs = model(inputs)\n",
    "    print(inputs.shape)\n",
    "    print(outputs.shape)\n",
    "    print(labels.shape)\n",
    "    break"
   ]
  },
  {
   "cell_type": "code",
   "execution_count": 18,
   "metadata": {},
   "outputs": [
    {
     "name": "stdout",
     "output_type": "stream",
     "text": [
      "Epoch: 1\n",
      "          Epoch Completed: 1\n",
      "Epoch: 2\n",
      "          Epoch Completed: 2\n",
      "Epoch: 3\n",
      "          Epoch Completed: 3\n",
      "Epoch: 4\n",
      "          Epoch Completed: 4\n",
      "Epoch: 5\n",
      "          Epoch Completed: 5\n",
      "Epoch: 6\n",
      "          Epoch Completed: 6\n",
      "Epoch: 7\n",
      "          Epoch Completed: 7\n",
      "Epoch: 8\n",
      "          Epoch Completed: 8\n",
      "Epoch: 9\n",
      "          Epoch Completed: 9\n",
      "Epoch: 10\n",
      "          Epoch Completed: 10\n",
      "Epoch: 11\n",
      "          Epoch Completed: 11\n",
      "Epoch: 12\n",
      "          Epoch Completed: 12\n",
      "Epoch: 13\n",
      "          Epoch Completed: 13\n",
      "Epoch: 14\n",
      "          Epoch Completed: 14\n",
      "Epoch: 15\n",
      "          Epoch Completed: 15\n",
      "Epoch: 16\n",
      "          Epoch Completed: 16\n",
      "Epoch: 17\n",
      "          Epoch Completed: 17\n",
      "Epoch: 18\n",
      "          Epoch Completed: 18\n",
      "Epoch: 19\n",
      "          Epoch Completed: 19\n",
      "Epoch: 20\n",
      "          Epoch Completed: 20\n",
      "Epoch: 21\n",
      "          Epoch Completed: 21\n",
      "Epoch: 22\n",
      "          Epoch Completed: 22\n",
      "Epoch: 23\n",
      "          Epoch Completed: 23\n",
      "Epoch: 24\n",
      "          Epoch Completed: 24\n",
      "Epoch: 25\n",
      "          Epoch Completed: 25\n",
      "Epoch: 26\n",
      "          Epoch Completed: 26\n",
      "Epoch: 27\n",
      "          Epoch Completed: 27\n",
      "Epoch: 28\n",
      "          Epoch Completed: 28\n",
      "Epoch: 29\n",
      "          Epoch Completed: 29\n",
      "Epoch: 30\n",
      "          Epoch Completed: 30\n",
      "Epoch: 31\n",
      "          Epoch Completed: 31\n",
      "Epoch: 32\n",
      "          Epoch Completed: 32\n",
      "Epoch: 33\n",
      "          Epoch Completed: 33\n",
      "Epoch: 34\n",
      "          Epoch Completed: 34\n",
      "Epoch: 35\n",
      "          Epoch Completed: 35\n",
      "Epoch: 36\n",
      "          Epoch Completed: 36\n",
      "Epoch: 37\n",
      "          Epoch Completed: 37\n",
      "Epoch: 38\n",
      "          Epoch Completed: 38\n",
      "Epoch: 39\n",
      "          Epoch Completed: 39\n",
      "Epoch: 40\n",
      "          Epoch Completed: 40\n",
      "Epoch: 41\n",
      "          Epoch Completed: 41\n",
      "Epoch: 42\n",
      "          Epoch Completed: 42\n",
      "Epoch: 43\n",
      "          Epoch Completed: 43\n",
      "Epoch: 44\n",
      "          Epoch Completed: 44\n",
      "Epoch: 45\n",
      "          Epoch Completed: 45\n",
      "Epoch: 46\n",
      "          Epoch Completed: 46\n",
      "Epoch: 47\n",
      "          Epoch Completed: 47\n",
      "Epoch: 48\n",
      "          Epoch Completed: 48\n",
      "Epoch: 49\n",
      "          Epoch Completed: 49\n",
      "Epoch: 50\n",
      "          Epoch Completed: 50\n",
      "Epoch: 51\n",
      "          Epoch Completed: 51\n",
      "Epoch: 52\n",
      "          Epoch Completed: 52\n",
      "Epoch: 53\n",
      "          Epoch Completed: 53\n",
      "Epoch: 54\n",
      "          Epoch Completed: 54\n",
      "Epoch: 55\n",
      "          Epoch Completed: 55\n",
      "Epoch: 56\n",
      "          Epoch Completed: 56\n",
      "Epoch: 57\n",
      "          Epoch Completed: 57\n",
      "Epoch: 58\n",
      "          Epoch Completed: 58\n",
      "Epoch: 59\n",
      "          Epoch Completed: 59\n",
      "Epoch: 60\n",
      "          Epoch Completed: 60\n",
      "Epoch: 61\n",
      "          Epoch Completed: 61\n",
      "Epoch: 62\n",
      "          Epoch Completed: 62\n",
      "Epoch: 63\n",
      "          Epoch Completed: 63\n",
      "Epoch: 64\n",
      "          Epoch Completed: 64\n",
      "Epoch: 65\n",
      "          Epoch Completed: 65\n",
      "Epoch: 66\n",
      "          Epoch Completed: 66\n",
      "Epoch: 67\n",
      "          Epoch Completed: 67\n",
      "Epoch: 68\n",
      "          Epoch Completed: 68\n",
      "Epoch: 69\n",
      "          Epoch Completed: 69\n",
      "Epoch: 70\n",
      "          Epoch Completed: 70\n",
      "Epoch: 71\n",
      "          Epoch Completed: 71\n",
      "Epoch: 72\n",
      "          Epoch Completed: 72\n",
      "Epoch: 73\n",
      "          Epoch Completed: 73\n",
      "Epoch: 74\n",
      "          Epoch Completed: 74\n",
      "Epoch: 75\n",
      "          Epoch Completed: 75\n",
      "Epoch: 76\n",
      "          Epoch Completed: 76\n",
      "Epoch: 77\n",
      "          Epoch Completed: 77\n",
      "Epoch: 78\n",
      "          Epoch Completed: 78\n",
      "Epoch: 79\n",
      "          Epoch Completed: 79\n",
      "Epoch: 80\n",
      "          Epoch Completed: 80\n",
      "Epoch: 81\n",
      "          Epoch Completed: 81\n",
      "Epoch: 82\n",
      "          Epoch Completed: 82\n",
      "Epoch: 83\n",
      "          Epoch Completed: 83\n",
      "Epoch: 84\n",
      "          Epoch Completed: 84\n",
      "Epoch: 85\n",
      "          Epoch Completed: 85\n",
      "Epoch: 86\n",
      "          Epoch Completed: 86\n",
      "Epoch: 87\n",
      "          Epoch Completed: 87\n",
      "Epoch: 88\n",
      "          Epoch Completed: 88\n",
      "Epoch: 89\n",
      "          Epoch Completed: 89\n",
      "Epoch: 90\n",
      "          Epoch Completed: 90\n",
      "Epoch: 91\n",
      "          Epoch Completed: 91\n",
      "Epoch: 92\n",
      "          Epoch Completed: 92\n",
      "Epoch: 93\n",
      "          Epoch Completed: 93\n",
      "Epoch: 94\n",
      "          Epoch Completed: 94\n",
      "Epoch: 95\n",
      "          Epoch Completed: 95\n",
      "Epoch: 96\n",
      "          Epoch Completed: 96\n",
      "Epoch: 97\n",
      "          Epoch Completed: 97\n",
      "Epoch: 98\n",
      "          Epoch Completed: 98\n",
      "Epoch: 99\n",
      "          Epoch Completed: 99\n",
      "Epoch: 100\n",
      "          Epoch Completed: 100\n"
     ]
    }
   ],
   "source": [
    "epochs = 100  # Number of training iterations\n",
    "losses_train_batch = []\n",
    "losses_train_epoch = []\n",
    "\n",
    "for i in range(epochs):\n",
    "    print(f\"Epoch: {i+1}\")\n",
    "\n",
    "    for j, (x_sample, y_sample) in enumerate(train_dataloader):\n",
    "        # print(f\"        Batch: {i+1}\")\n",
    "        x, y = x_sample.to(device), y_sample.to(device)  # Move batch data to GPU\n",
    "        y = y.unsqueeze(1)\n",
    "\n",
    "        optimizer.zero_grad()\n",
    "\n",
    "        y_pred = model(x)  # Input into model forward pass\n",
    "        # print(y_pred.shape, y.shape)\n",
    "        loss = loss_function(y_pred, y)  # Calculate the loss\n",
    "\n",
    "        # Zero gradients, backward pass, update weights\n",
    "        loss.backward()\n",
    "        optimizer.step()\n",
    "\n",
    "        losses_train_batch.append(loss.item())\n",
    "\n",
    "    losses_train_epoch.append(loss.item())\n",
    "\n",
    "    print(f\"          Epoch Completed: {i+1}\")"
   ]
  },
  {
   "cell_type": "code",
   "execution_count": 21,
   "metadata": {},
   "outputs": [
    {
     "data": {
      "image/png": "[encoded data removed]",
      "text/plain": [
       "<Figure size 640x480 with 1 Axes>"
      ]
     },
     "metadata": {},
     "output_type": "display_data"
    }
   ],
   "source": [
    "# Plot losses\n",
    "plt.plot(range(len(losses_train_epoch)), losses_train_epoch, label=\"Training Loss\")\n",
    "\n",
    "\n",
    "plt.title(\"Training and Validation Loss\")\n",
    "\n",
    "plt.xlabel(\"Epoch\")\n",
    "\n",
    "plt.ylabel(\"Loss\")\n",
    "\n",
    "\n",
    "plt.show()"
   ]
  },
  {
   "cell_type": "code",
   "execution_count": null,
   "metadata": {},
   "outputs": [],
   "source": []
  }
 ],
 "metadata": {
  "kernelspec": {
   "display_name": ".venv",
   "language": "python",
   "name": "python3"
  },
  "language_info": {
   "codemirror_mode": {
    "name": "ipython",
    "version": 3
   },
   "file_extension": ".py",
   "mimetype": "text/x-python",
   "name": "python",
   "nbconvert_exporter": "python",
   "pygments_lexer": "ipython3",
   "version": "3.11.3"
  }
 },
 "nbformat": 4,
 "nbformat_minor": 2
}
