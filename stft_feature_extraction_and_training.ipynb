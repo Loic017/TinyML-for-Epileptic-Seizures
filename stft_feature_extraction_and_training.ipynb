{
 "cells": [
  {
   "cell_type": "markdown",
   "metadata": {},
   "source": [
    "# Import Data and Train Model\n"
   ]
  },
  {
   "cell_type": "code",
   "execution_count": 314,
   "metadata": {},
   "outputs": [],
   "source": [
    "import torch\n",
    "import torch.nn as nn\n",
    "import torch.nn.functional as F\n",
    "from torch.utils.data import Dataset, DataLoader\n",
    "from torch.utils.data.dataset import random_split\n",
    "from transformers import get_scheduler, AdamW\n",
    "from datasets import load_metric\n",
    "\n",
    "import numpy as np\n",
    "import librosa\n",
    "\n",
    "import matplotlib.pyplot as plt\n",
    "%matplotlib inline\n",
    "import pandas as pd;\n",
    "import numpy as np\n",
    "import math\n",
    "\n",
    "from imblearn.over_sampling import SMOTE\n",
    "from imblearn.under_sampling import RandomUnderSampler\n",
    "\n",
    "import mne.channels\n",
    "from tqdm.auto import tqdm\n",
    "import random\n",
    "\n",
    "seed_number = 69\n",
    "torch.manual_seed(seed_number)\n",
    "np.random.seed(seed_number)\n",
    "random.seed(seed_number)"
   ]
  },
  {
   "cell_type": "markdown",
   "metadata": {},
   "source": [
    "## Load Data: Create Dataset\n"
   ]
  },
  {
   "cell_type": "markdown",
   "metadata": {},
   "source": [
    "### Load Absence Seizure Data\n"
   ]
  },
  {
   "cell_type": "code",
   "execution_count": 315,
   "metadata": {},
   "outputs": [],
   "source": [
    "class AbsenceDataset(Dataset):\n",
    "    def __init__(self, file_path, transform=None, target_transform=None):\n",
    "        self.x, self.y = self.data_get(file_path)\n",
    "        self.n_samples = len(self.x)\n",
    "\n",
    "        self.transform = transform\n",
    "        self.target_transform = target_transform\n",
    "\n",
    "    def __getitem__(self, idx):\n",
    "        sample_x, sample_y = self.x[idx], self.y[idx]\n",
    "\n",
    "        if self.transform:\n",
    "            sample_x = self.transform(sample_x)\n",
    "\n",
    "        if self.target_transform:\n",
    "            sample_y = self.target_transform(sample_y)\n",
    "\n",
    "        return sample_x.float(), sample_y.float()\n",
    "\n",
    "    def __len__(self):\n",
    "        return self.n_samples\n",
    "\n",
    "    def data_get(self, file_path):\n",
    "        data = pd.read_csv(file_path)\n",
    "        x_loaded, y_loaded = [], []\n",
    "        for index, row in data.iterrows():\n",
    "            a = np.load(row[\"labels\"])\n",
    "            for i, v in enumerate(a):\n",
    "                a[i] = int(v)\n",
    "            y_loaded.append(a)\n",
    "\n",
    "            x_loaded.append(np.load(row[\"data\"]))\n",
    "\n",
    "        continuous_x = np.concatenate(x_loaded, axis=0)\n",
    "        continuous_y = np.concatenate(y_loaded, axis=0)\n",
    "\n",
    "        cleaned_x = []\n",
    "        cleaned_y = []\n",
    "        for i, v in enumerate(continuous_y):\n",
    "            if v != \"2\":\n",
    "                cleaned_x.append(continuous_x[i])\n",
    "                cleaned_y.append(v)\n",
    "\n",
    "        continuous_x = np.array(cleaned_x)\n",
    "        continuous_y = np.array(cleaned_y)\n",
    "        return continuous_x, continuous_y"
   ]
  },
  {
   "cell_type": "code",
   "execution_count": 316,
   "metadata": {},
   "outputs": [],
   "source": [
    "# %%capture\n",
    "# Load the dataset\n",
    "seizure_type = \"absence\"\n",
    "dataset = AbsenceDataset(\n",
    "    f\"processed_data/{seizure_type}/two_second_windows/epochs_files.csv\",\n",
    "    transform=torch.tensor,\n",
    "    target_transform=torch.tensor,\n",
    ")\n",
    "dataset.y = dataset.y.astype(int)"
   ]
  },
  {
   "cell_type": "code",
   "execution_count": 317,
   "metadata": {},
   "outputs": [
    {
     "data": {
      "text/plain": [
       "(8292, 5, 500)"
      ]
     },
     "execution_count": 317,
     "metadata": {},
     "output_type": "execute_result"
    }
   ],
   "source": [
    "dataset.x.shape"
   ]
  },
  {
   "cell_type": "markdown",
   "metadata": {},
   "source": [
    "# Split Data\n",
    "\n",
    "70%, 20%, 10%\n"
   ]
  },
  {
   "cell_type": "code",
   "execution_count": 318,
   "metadata": {},
   "outputs": [
    {
     "data": {
      "text/plain": [
       "8292"
      ]
     },
     "execution_count": 318,
     "metadata": {},
     "output_type": "execute_result"
    }
   ],
   "source": [
    "dataset_len = len(dataset)\n",
    "dataset_len"
   ]
  },
  {
   "cell_type": "code",
   "execution_count": 319,
   "metadata": {},
   "outputs": [
    {
     "data": {
      "text/plain": [
       "355"
      ]
     },
     "execution_count": 319,
     "metadata": {},
     "output_type": "execute_result"
    }
   ],
   "source": [
    "aaaa = 0\n",
    "for i, v in enumerate(dataset.y):\n",
    "    if v == 1:\n",
    "        aaaa += 1\n",
    "aaaa"
   ]
  },
  {
   "cell_type": "code",
   "execution_count": 320,
   "metadata": {},
   "outputs": [
    {
     "name": "stdout",
     "output_type": "stream",
     "text": [
      "Train Split: 5805\n",
      "Eval Split: 1658\n",
      "Test Split: 829\n",
      "Total: 8292\n"
     ]
    }
   ],
   "source": [
    "if (\n",
    "    int(dataset_len * 0.7) + int(dataset_len * 0.2) + int(dataset_len * 0.1)\n",
    ") != dataset_len:\n",
    "    train_set, eval_set, test_set = random_split(\n",
    "        dataset,\n",
    "        [\n",
    "            math.ceil(dataset_len * 0.7),\n",
    "            int(dataset_len * 0.2),  # math.ceil\n",
    "            int(dataset_len * 0.1),\n",
    "        ],\n",
    "    )\n",
    "else:\n",
    "    train_set, eval_set, test_set = random_split(\n",
    "        dataset,\n",
    "        [\n",
    "            int(dataset_len * 0.7),\n",
    "            int(dataset_len * 0.1),\n",
    "            int(dataset_len * 0.2),\n",
    "        ],\n",
    "    )\n",
    "\n",
    "print(f\"Train Split: {len(train_set)}\")\n",
    "print(f\"Eval Split: {len(eval_set)}\")\n",
    "print(f\"Test Split: {len(test_set)}\")\n",
    "print(f\"Total: {len(train_set) + len(eval_set) + len(test_set)}\")"
   ]
  },
  {
   "cell_type": "code",
   "execution_count": 321,
   "metadata": {},
   "outputs": [
    {
     "data": {
      "text/plain": [
       "((5805, 5, 500), (5805,))"
      ]
     },
     "execution_count": 321,
     "metadata": {},
     "output_type": "execute_result"
    }
   ],
   "source": [
    "train_set.dataset.x[train_set.indices].shape, train_set.dataset.y[\n",
    "    train_set.indices\n",
    "].shape"
   ]
  },
  {
   "cell_type": "markdown",
   "metadata": {},
   "source": [
    "## SMOTE\n"
   ]
  },
  {
   "cell_type": "code",
   "execution_count": 322,
   "metadata": {},
   "outputs": [
    {
     "name": "stdout",
     "output_type": "stream",
     "text": [
      "Background: 5554 // absence Seizure: 251\n"
     ]
    }
   ],
   "source": [
    "bk, sz = (\n",
    "    0,\n",
    "    0,\n",
    ")\n",
    "for i, v in enumerate(train_set.dataset.y[train_set.indices]):\n",
    "    if v == 1:\n",
    "        sz += 1\n",
    "    else:\n",
    "        bk += 1\n",
    "\n",
    "print(f\"Background: {bk} // {seizure_type} Seizure: {sz}\")"
   ]
  },
  {
   "cell_type": "code",
   "execution_count": 323,
   "metadata": {},
   "outputs": [
    {
     "data": {
      "image/png": "[encoded data removed]",
      "text/plain": [
       "<Figure size 640x480 with 1 Axes>"
      ]
     },
     "metadata": {},
     "output_type": "display_data"
    }
   ],
   "source": [
    "n, bins, p = plt.hist(\n",
    "    train_set.dataset.y[train_set.indices],\n",
    "    bins=2,\n",
    "    edgecolor=\"white\",\n",
    "    linewidth=5,\n",
    "    range=(0, 1),\n",
    ")\n",
    "plt.xticks([0.25, 0.75], [\"Background\", f\"{seizure_type} Seizure\"])\n",
    "plt.ylabel(\"Number of Samples\")\n",
    "plt.xlabel(\"Sample Class\")\n",
    "p[0].set_facecolor(\"navy\")\n",
    "p[1].set_facecolor(\"purple\")"
   ]
  },
  {
   "cell_type": "code",
   "execution_count": 324,
   "metadata": {},
   "outputs": [
    {
     "data": {
      "text/plain": [
       "(5805, 2500)"
      ]
     },
     "execution_count": 324,
     "metadata": {},
     "output_type": "execute_result"
    }
   ],
   "source": [
    "shape = train_set.dataset.x[train_set.indices].shape\n",
    "data_reshaped = train_set.dataset.x[train_set.indices]\n",
    "data_reshaped = np.reshape(data_reshaped, (shape[0], shape[1] * shape[2]))\n",
    "data_reshaped.shape"
   ]
  },
  {
   "cell_type": "code",
   "execution_count": 325,
   "metadata": {},
   "outputs": [],
   "source": [
    "train_set_x, train_set_y = SMOTE(\n",
    "    sampling_strategy=\"not majority\", random_state=42\n",
    ").fit_resample(data_reshaped, train_set.dataset.y[train_set.indices])\n",
    "# train_set_x = train_set.dataset.x[train_set.indices]\n",
    "# train_set_y = train_set.dataset.y[train_set.indices]"
   ]
  },
  {
   "cell_type": "code",
   "execution_count": 326,
   "metadata": {},
   "outputs": [],
   "source": [
    "# rand_us = RandomUnderSampler(random_state=42)\n",
    "# train_set_x, train_set_y = rand_us.fit_resample(\n",
    "#     data_reshaped, train_set.dataset.y[train_set.indices]\n",
    "# )"
   ]
  },
  {
   "cell_type": "code",
   "execution_count": 327,
   "metadata": {},
   "outputs": [
    {
     "data": {
      "image/png": "[encoded data removed]",
      "text/plain": [
       "<Figure size 640x480 with 1 Axes>"
      ]
     },
     "metadata": {},
     "output_type": "display_data"
    }
   ],
   "source": [
    "n, bins, p = plt.hist(\n",
    "    train_set_y,\n",
    "    bins=2,\n",
    "    edgecolor=\"white\",\n",
    "    linewidth=5,\n",
    "    range=(0, 1),\n",
    ")\n",
    "\n",
    "plt.xticks([0.25, 0.75], [\"Background\", f\"{seizure_type} Seizure\"])\n",
    "plt.ylabel(\"Number of Samples\")\n",
    "plt.xlabel(\"Sample Class\")\n",
    "p[0].set_facecolor(\"navy\")\n",
    "p[1].set_facecolor(\"purple\")"
   ]
  },
  {
   "cell_type": "code",
   "execution_count": 328,
   "metadata": {},
   "outputs": [
    {
     "data": {
      "text/plain": [
       "((11108, 5, 500), (1658, 5, 500), (829, 5, 500))"
      ]
     },
     "execution_count": 328,
     "metadata": {},
     "output_type": "execute_result"
    }
   ],
   "source": [
    "train_set_x = np.reshape(train_set_x, (train_set_x.shape[0], shape[1], shape[2]))\n",
    "val_set_x = eval_set.dataset.x[eval_set.indices]\n",
    "test_set_x = test_set.dataset.x[test_set.indices]\n",
    "train_set_x.shape, val_set_x.shape, test_set_x.shape"
   ]
  },
  {
   "cell_type": "code",
   "execution_count": 329,
   "metadata": {},
   "outputs": [
    {
     "name": "stdout",
     "output_type": "stream",
     "text": [
      "Background: 5554 // absence Seizure: 5554\n"
     ]
    }
   ],
   "source": [
    "bk, sz = 0, 0\n",
    "for i, v in enumerate(train_set_y):\n",
    "    if v == 1:\n",
    "        sz += 1\n",
    "    else:\n",
    "        bk += 1\n",
    "\n",
    "print(f\"Background: {bk} // {seizure_type} Seizure: {sz}\")"
   ]
  },
  {
   "cell_type": "markdown",
   "metadata": {},
   "source": [
    "# STFT\n"
   ]
  },
  {
   "cell_type": "markdown",
   "metadata": {},
   "source": [
    "Create STFT\n"
   ]
  },
  {
   "cell_type": "code",
   "execution_count": 330,
   "metadata": {},
   "outputs": [
    {
     "data": {
      "text/plain": [
       "((11108, 5, 13, 7), (1658, 5, 13, 7), (829, 5, 13, 7))"
      ]
     },
     "execution_count": 330,
     "metadata": {},
     "output_type": "execute_result"
    }
   ],
   "source": [
    "n_fft = 150\n",
    "window = \"taylor\"\n",
    "hop_length = int(n_fft / 2)\n",
    "fmin = 0\n",
    "fmax = 15\n",
    "n_mels = 13\n",
    "sample_rate = 250\n",
    "power = 3.0\n",
    "\n",
    "\n",
    "# Train\n",
    "\n",
    "stft_channel_data = []\n",
    "\n",
    "for i, channels in enumerate(train_set_x):\n",
    "    mels = librosa.feature.melspectrogram(\n",
    "        y=channels,\n",
    "        sr=sample_rate,\n",
    "        n_mels=n_mels,\n",
    "        n_fft=n_fft,\n",
    "        fmin=fmin,\n",
    "        fmax=fmax,\n",
    "        hop_length=hop_length,\n",
    "        window=window,\n",
    "        center=True,\n",
    "        power=power,\n",
    "    )\n",
    "    # mels = np.log(mels + 1e-9)\n",
    "    stft_channel_data.append((mels))\n",
    "\n",
    "stft_channel_data = np.array(stft_channel_data)\n",
    "\n",
    "\n",
    "# Val\n",
    "\n",
    "val_stft_channel_data = []\n",
    "\n",
    "for i, channels in enumerate(val_set_x):\n",
    "\n",
    "    mels = librosa.feature.melspectrogram(\n",
    "        y=channels,\n",
    "        sr=sample_rate,\n",
    "        n_mels=n_mels,\n",
    "        n_fft=n_fft,\n",
    "        fmin=fmin,\n",
    "        fmax=fmax,\n",
    "        hop_length=hop_length,\n",
    "        window=window,\n",
    "        center=True,\n",
    "        power=power,\n",
    "    )\n",
    "    # mels = np.log(mels + 1e-9)\n",
    "    val_stft_channel_data.append((mels))\n",
    "\n",
    "val_stft_channel_data = np.array(val_stft_channel_data)\n",
    "\n",
    "\n",
    "# Test\n",
    "\n",
    "test_stft_channel_data = []\n",
    "\n",
    "for i, channels in enumerate(test_set_x):\n",
    "\n",
    "    mels = librosa.feature.melspectrogram(\n",
    "        y=channels,\n",
    "        sr=sample_rate,\n",
    "        n_mels=n_mels,\n",
    "        n_fft=n_fft,\n",
    "        fmin=fmin,\n",
    "        fmax=fmax,\n",
    "        hop_length=hop_length,\n",
    "        window=window,\n",
    "        center=True,\n",
    "        power=power,\n",
    "    )\n",
    "    # mels = np.log(mels + 1e-9)\n",
    "    test_stft_channel_data.append((mels))\n",
    "\n",
    "test_stft_channel_data = np.array(test_stft_channel_data)\n",
    "\n",
    "\n",
    "stft_channel_data.shape, val_stft_channel_data.shape, test_stft_channel_data.shape"
   ]
  },
  {
   "cell_type": "code",
   "execution_count": 331,
   "metadata": {},
   "outputs": [
    {
     "data": {
      "text/plain": [
       "((11108, 5, 13, 7), (1658, 5, 13, 7), (829, 5, 13, 7))"
      ]
     },
     "execution_count": 331,
     "metadata": {},
     "output_type": "execute_result"
    }
   ],
   "source": [
    "# Train\n",
    "train_db = []\n",
    "for i, channels in enumerate(stft_channel_data):\n",
    "    train_db.append(librosa.power_to_db((channels)))\n",
    "train_db = np.array(train_db)\n",
    "\n",
    "# Val\n",
    "val_db = []\n",
    "for i, channels in enumerate(val_stft_channel_data):\n",
    "    val_db.append(librosa.power_to_db((channels)))\n",
    "val_db = np.array(val_db)\n",
    "\n",
    "# Test\n",
    "test_db = []\n",
    "for i, channels in enumerate(test_stft_channel_data):\n",
    "    test_db.append(librosa.power_to_db((channels)))\n",
    "test_db = np.array(test_db)\n",
    "\n",
    "train_db.shape, val_db.shape, test_db.shape"
   ]
  },
  {
   "cell_type": "code",
   "execution_count": 332,
   "metadata": {},
   "outputs": [
    {
     "data": {
      "text/plain": [
       "((11108, 13, 7), (1658, 13, 7), (829, 13, 7))"
      ]
     },
     "execution_count": 332,
     "metadata": {},
     "output_type": "execute_result"
    }
   ],
   "source": [
    "# Train\n",
    "train_db_mean = []\n",
    "for i, channels in enumerate(train_db):\n",
    "    train_db_mean.append(np.mean(channels, axis=0))\n",
    "train_db_mean = np.array(train_db_mean)\n",
    "\n",
    "# Val\n",
    "val_db_mean = []\n",
    "for i, channels in enumerate(val_db):\n",
    "    val_db_mean.append(np.mean(channels, axis=0))\n",
    "val_db_mean = np.array(val_db_mean)\n",
    "\n",
    "# Test\n",
    "test_db_mean = []\n",
    "for i, channels in enumerate(test_db):\n",
    "    test_db_mean.append(np.mean(channels, axis=0))\n",
    "test_db_mean = np.array(test_db_mean)\n",
    "\n",
    "train_db_mean.shape, val_db_mean.shape, test_db_mean.shape"
   ]
  },
  {
   "cell_type": "code",
   "execution_count": 333,
   "metadata": {},
   "outputs": [
    {
     "data": {
      "text/plain": [
       "[28, 31, 45, 113, 156, 212, 222, 232, 300, 309, 311, 315, 324, 330, 334]"
      ]
     },
     "execution_count": 333,
     "metadata": {},
     "output_type": "execute_result"
    }
   ],
   "source": [
    "bbbb = []\n",
    "for i, v in enumerate(train_set_y):\n",
    "    if v == 1:\n",
    "        bbbb.append(i)\n",
    "bbbb[:15]"
   ]
  },
  {
   "cell_type": "code",
   "execution_count": 334,
   "metadata": {},
   "outputs": [
    {
     "name": "stdout",
     "output_type": "stream",
     "text": [
      "absence\n",
      "0\n"
     ]
    },
    {
     "data": {
      "text/plain": [
       "([], [])"
      ]
     },
     "execution_count": 334,
     "metadata": {},
     "output_type": "execute_result"
    },
    {
     "data": {
      "image/png": "[encoded data removed]",
      "text/plain": [
       "<Figure size 640x480 with 1 Axes>"
      ]
     },
     "metadata": {},
     "output_type": "display_data"
    }
   ],
   "source": [
    "x = 7\n",
    "\n",
    "print(seizure_type)\n",
    "print(train_set_y[x])\n",
    "plt.imshow(train_db_mean[x])\n",
    "plt.yticks(\n",
    "    [-0.5, (n_mels / 4) / 2 - 0.5, n_mels / 4 - 0.5, n_mels / 2 - 0.5, n_mels - 0.5],\n",
    "    labels=[\n",
    "        f\"{fmin} Hz\",\n",
    "        f\"{int(fmax/4/2)} Hz\",\n",
    "        f\"{int(fmax/4)} Hz\",\n",
    "        f\"{int(fmax/2)} Hz\",\n",
    "        f\"{fmax} Hz\",\n",
    "    ],\n",
    ")\n",
    "\n",
    "plt.xticks([])"
   ]
  },
  {
   "cell_type": "code",
   "execution_count": 335,
   "metadata": {},
   "outputs": [
    {
     "data": {
      "text/plain": [
       "Text(0.5, 1.0, 'Raw Channels: All 5 Channels')"
      ]
     },
     "execution_count": 335,
     "metadata": {},
     "output_type": "execute_result"
    },
    {
     "data": {
      "image/png": "[encoded data removed]",
      "text/plain": [
       "<Figure size 500x500 with 2 Axes>"
      ]
     },
     "metadata": {},
     "output_type": "display_data"
    }
   ],
   "source": [
    "plt.figure(figsize=(5, 5))\n",
    "plt.subplot(2, 1, 1)\n",
    "plt.plot(np.mean(train_db_mean[x], axis=1))\n",
    "plt.title(\"Mean of Mel Spectrogram\")\n",
    "plt.subplot(2, 1, 2)\n",
    "for i in train_set_x[x]:\n",
    "    plt.plot(i)\n",
    "plt.title(\"Raw Channels: All 5 Channels\")"
   ]
  },
  {
   "cell_type": "markdown",
   "metadata": {},
   "source": [
    "Convert STFT to Image for Input\n"
   ]
  },
  {
   "cell_type": "code",
   "execution_count": 336,
   "metadata": {},
   "outputs": [],
   "source": [
    "from skimage import io\n",
    "from sklearn import preprocessing"
   ]
  },
  {
   "cell_type": "code",
   "execution_count": 337,
   "metadata": {},
   "outputs": [],
   "source": [
    "# Output MFCC or Mel Spectrogram\n",
    "to_image_train = train_db_mean\n",
    "to_image_val = val_db_mean\n",
    "to_image_test = test_db_mean"
   ]
  },
  {
   "cell_type": "code",
   "execution_count": 338,
   "metadata": {},
   "outputs": [],
   "source": [
    "def sklearn_minnax(min, max, X):\n",
    "    X_std = (X - X.min()) / (X.max() - X.min())\n",
    "    X_scaled = X_std * (max - min) + min\n",
    "    return X_scaled"
   ]
  },
  {
   "cell_type": "code",
   "execution_count": 339,
   "metadata": {},
   "outputs": [],
   "source": [
    "train_input_x = []\n",
    "for i, melspec in enumerate(to_image_train):\n",
    "    img = 255 - (sklearn_minnax(0, 255, melspec).astype(np.uint8))\n",
    "    img = np.repeat(img[..., np.newaxis], 3, -1)\n",
    "    img = np.transpose(img, (2, 0, 1))\n",
    "    train_input_x.append(img.astype(np.uint8))\n",
    "train_input_x = np.array(train_input_x)\n",
    "\n",
    "val_input_x = []\n",
    "for i, melspec in enumerate(to_image_val):\n",
    "    img = 255 - (sklearn_minnax(0, 255, melspec).astype(np.uint8))\n",
    "    img = np.repeat(img[..., np.newaxis], 3, -1)\n",
    "    img = np.transpose(img, (2, 0, 1))\n",
    "    val_input_x.append(img.astype(np.uint8))\n",
    "val_input_x = np.array(val_input_x)\n",
    "\n",
    "test_input_x = []\n",
    "for i, melspec in enumerate(to_image_test):\n",
    "    img = 255 - (sklearn_minnax(0, 255, melspec).astype(np.uint8))\n",
    "    img = np.repeat(img[..., np.newaxis], 3, -1)\n",
    "    img = np.transpose(img, (2, 0, 1))\n",
    "    test_input_x.append(img.astype(np.uint8))\n",
    "test_input_x = np.array(test_input_x)\n",
    "\n",
    "# https://stackoverflow.com/questions/56719138/how-can-i-save-a-librosa-spectrogram-plot-as-a-specific-sized-image"
   ]
  },
  {
   "cell_type": "code",
   "execution_count": 340,
   "metadata": {},
   "outputs": [
    {
     "name": "stdout",
     "output_type": "stream",
     "text": [
      "0\n"
     ]
    },
    {
     "data": {
      "image/png": "[encoded data removed]",
      "text/plain": [
       "<Figure size 500x500 with 1 Axes>"
      ]
     },
     "metadata": {},
     "output_type": "display_data"
    }
   ],
   "source": [
    "plt.figure(figsize=(5, 5))\n",
    "plt.axis(\"off\")\n",
    "\n",
    "io.imshow(np.transpose(train_input_x[x], (1, 2, 0)))\n",
    "print(train_set_y[x])"
   ]
  },
  {
   "cell_type": "markdown",
   "metadata": {},
   "source": [
    "# Remake Dataset\n"
   ]
  },
  {
   "cell_type": "code",
   "execution_count": 341,
   "metadata": {},
   "outputs": [],
   "source": [
    "class BalancedDataset(Dataset):\n",
    "    def __init__(self, data, transform=None, target_transform=None):\n",
    "        self.x, self.y = data\n",
    "        self.n_samples = len(self.x)\n",
    "\n",
    "        self.transform = transform\n",
    "        self.target_transform = target_transform\n",
    "\n",
    "    def __getitem__(self, idx):\n",
    "        sample_x, sample_y = self.x[idx], self.y[idx]\n",
    "\n",
    "        if self.transform:\n",
    "            sample_x = self.transform(sample_x)\n",
    "\n",
    "        if self.target_transform:\n",
    "            sample_y = self.target_transform(sample_y)\n",
    "\n",
    "        return sample_x.float(), sample_y.float()\n",
    "\n",
    "    def __len__(self):\n",
    "        return self.n_samples"
   ]
  },
  {
   "cell_type": "code",
   "execution_count": 342,
   "metadata": {},
   "outputs": [],
   "source": [
    "train_dataset = BalancedDataset(\n",
    "    (train_input_x, train_set_y),\n",
    "    transform=torch.tensor,\n",
    "    target_transform=torch.tensor,\n",
    ")\n",
    "eval_dataset = BalancedDataset(\n",
    "    (val_input_x, eval_set.dataset.y[eval_set.indices]),\n",
    "    transform=torch.tensor,\n",
    "    target_transform=torch.tensor,\n",
    ")\n",
    "test_dataset = BalancedDataset(\n",
    "    (test_input_x, test_set.dataset.y[test_set.indices]),\n",
    "    transform=torch.tensor,\n",
    "    target_transform=torch.tensor,\n",
    ")"
   ]
  },
  {
   "cell_type": "markdown",
   "metadata": {},
   "source": [
    "# DataLoaders\n"
   ]
  },
  {
   "cell_type": "code",
   "execution_count": 443,
   "metadata": {},
   "outputs": [],
   "source": [
    "train_dataloader = DataLoader(\n",
    "    dataset=train_dataset,\n",
    "    batch_size=256,\n",
    "    shuffle=True,\n",
    ")\n",
    "eval_dataloader = DataLoader(dataset=eval_dataset, batch_size=256, shuffle=True)\n",
    "test_dataloader = DataLoader(dataset=test_dataset, batch_size=2, shuffle=True)"
   ]
  },
  {
   "cell_type": "markdown",
   "metadata": {},
   "source": [
    "# Model\n",
    "\n",
    "Mobilenet\n"
   ]
  },
  {
   "cell_type": "code",
   "execution_count": 444,
   "metadata": {},
   "outputs": [],
   "source": [
    "device = torch.device(\"cuda\" if torch.cuda.is_available() else \"cpu\")"
   ]
  },
  {
   "cell_type": "code",
   "execution_count": 445,
   "metadata": {},
   "outputs": [],
   "source": [
    "import os\n",
    "\n",
    "os.environ[\"CUDA_LAUNCH_BLOCKING\"] = \"1\""
   ]
  },
  {
   "cell_type": "code",
   "execution_count": 446,
   "metadata": {},
   "outputs": [],
   "source": [
    "from torchvision.models import mobilenet_v2, mobilenet_v3_small, mobilenet_v3_large\n",
    "from torchvision.models import shufflenet_v2_x1_0"
   ]
  },
  {
   "cell_type": "code",
   "execution_count": 447,
   "metadata": {},
   "outputs": [],
   "source": [
    "%%capture\n",
    "model = shufflenet_v2_x1_0()\n",
    "model.fc = nn.Linear(1024, 2)\n",
    "model = nn.Sequential(\n",
    "    model,\n",
    "    nn.Dropout(p=0.3)\n",
    ")\n",
    "model = model.to(device)\n",
    "model_name = \"shufflenet\"\n",
    "\n",
    "c = 0\n",
    "for i, v in enumerate((model.parameters())):\n",
    "    c += 1\n",
    "print(c)\n",
    "\n",
    "model"
   ]
  },
  {
   "cell_type": "code",
   "execution_count": 455,
   "metadata": {},
   "outputs": [],
   "source": [
    "%%capture\n",
    "model = mobilenet_v2()\n",
    "model.classifier[0] = nn.Dropout(p=0.3)\n",
    "model.classifier[1] = nn.Linear(1280, 2)\n",
    "model = model.to(device)\n",
    "model_name = \"mobilenet\"\n",
    "\n",
    "c = 0\n",
    "for i, v in enumerate((model.parameters())):\n",
    "    c += 1\n",
    "print(c)\n",
    "\n",
    "model"
   ]
  },
  {
   "cell_type": "markdown",
   "metadata": {},
   "source": [
    "# Train\n"
   ]
  },
  {
   "cell_type": "markdown",
   "metadata": {},
   "source": [
    "## Training Loop\n"
   ]
  },
  {
   "cell_type": "markdown",
   "metadata": {},
   "source": [
    "### Print Inputs\n"
   ]
  },
  {
   "cell_type": "code",
   "execution_count": 456,
   "metadata": {},
   "outputs": [
    {
     "name": "stdout",
     "output_type": "stream",
     "text": [
      "Train // Background: 5554 // absence Seizure: 5554\n",
      "Validation // Background: 1582 // absence Seizure: 76\n"
     ]
    }
   ],
   "source": [
    "# Plot distribution of the dataset before balancing\n",
    "# 0 - Background epoch\n",
    "# 1 - Absence seizure epoch\n",
    "\n",
    "bk = 0\n",
    "sz = 0\n",
    "for i, v in enumerate(train_dataloader):\n",
    "    for i in v[1]:\n",
    "        if i == torch.tensor([1.0]):\n",
    "            sz += 1\n",
    "        else:\n",
    "            bk += 1\n",
    "\n",
    "print(f\"Train // Background: {bk} // {seizure_type} Seizure: {sz}\")\n",
    "\n",
    "bk = 0\n",
    "sz = 0\n",
    "for i, v in enumerate(eval_dataloader):\n",
    "    for i in v[1]:\n",
    "        if i == torch.tensor([1.0]):\n",
    "            sz += 1\n",
    "        else:\n",
    "            bk += 1\n",
    "\n",
    "print(f\"Validation // Background: {bk} // {seizure_type} Seizure: {sz}\")"
   ]
  },
  {
   "cell_type": "markdown",
   "metadata": {},
   "source": [
    "### Training\n"
   ]
  },
  {
   "cell_type": "code",
   "execution_count": 457,
   "metadata": {},
   "outputs": [],
   "source": [
    "num_epochs = 100\n",
    "optimizer = torch.optim.SGD(model.parameters(), lr=0.00001, momentum=0.9)\n",
    "loss_fn = nn.CrossEntropyLoss()\n",
    "# loss_fn = nn.BCELoss()\n",
    "scheduler = get_scheduler(\n",
    "    \"linear\",\n",
    "    optimizer,\n",
    "    num_warmup_steps=0,\n",
    "    num_training_steps=num_epochs * len(train_dataloader),\n",
    ")"
   ]
  },
  {
   "cell_type": "code",
   "execution_count": 458,
   "metadata": {},
   "outputs": [
    {
     "name": "stdout",
     "output_type": "stream",
     "text": [
      "cuda\n",
      "mobilenet\n",
      "absence\n"
     ]
    }
   ],
   "source": [
    "print(device)\n",
    "print(model_name)\n",
    "print(seizure_type)"
   ]
  },
  {
   "cell_type": "code",
   "execution_count": 459,
   "metadata": {},
   "outputs": [
    {
     "name": "stderr",
     "output_type": "stream",
     "text": [
      "100%|██████████| 4400/4400 [04:27<00:00, 16.44it/s]\n"
     ]
    }
   ],
   "source": [
    "progress_bar = tqdm(range(num_epochs * len(train_dataloader)))"
   ]
  },
  {
   "cell_type": "code",
   "execution_count": 460,
   "metadata": {},
   "outputs": [
    {
     "name": "stderr",
     "output_type": "stream",
     "text": [
      "  0%|          | 0/4400 [00:00<?, ?it/s]\n"
     ]
    },
    {
     "name": "stdout",
     "output_type": "stream",
     "text": [
      "Training absence on mobilenet for 100 epochs\n"
     ]
    },
    {
     "name": "stderr",
     "output_type": "stream",
     "text": [
      "100%|█████████▉| 4399/4400 [04:07<00:00, 23.53it/s]"
     ]
    },
    {
     "name": "stdout",
     "output_type": "stream",
     "text": [
      "Done\n"
     ]
    },
    {
     "name": "stderr",
     "output_type": "stream",
     "text": [
      "100%|██████████| 4400/4400 [04:17<00:00, 23.53it/s]"
     ]
    }
   ],
   "source": [
    "progress_bar = tqdm(range(num_epochs * len(train_dataloader)))\n",
    "\n",
    "print(f\"Training {seizure_type} on {model_name} for {num_epochs} epochs\")\n",
    "\n",
    "tp, tn, fp, fn = 0, 0, 0, 0\n",
    "actual, predicted = [], []\n",
    "\n",
    "loss_track = []\n",
    "valid_loss_track = []\n",
    "for epoch in range(num_epochs):\n",
    "\n",
    "    model.train()\n",
    "    loss_batch = []\n",
    "    for batch in train_dataloader:\n",
    "        inputs, labels = batch\n",
    "        inputs, labels = inputs.to(device), labels.to(device)\n",
    "        labels = labels.to(torch.int64)\n",
    "        optimizer.zero_grad()\n",
    "\n",
    "        outputs = model(inputs)\n",
    "\n",
    "        loss = loss_fn(outputs, labels)\n",
    "        loss.backward()\n",
    "        optimizer.step()\n",
    "\n",
    "        scheduler.step()\n",
    "        progress_bar.update(1)\n",
    "\n",
    "        loss_batch.append(loss.detach())\n",
    "\n",
    "    model.eval()\n",
    "    valid_loss_batch = []\n",
    "    with torch.no_grad():\n",
    "        for batch in eval_dataloader:\n",
    "            inputs, labels = batch\n",
    "            inputs, labels = inputs.to(device), labels.to(device)\n",
    "            labels = labels.to(torch.int64)\n",
    "\n",
    "            outputs = model(inputs)\n",
    "\n",
    "            valid_loss_batch.append(loss_fn(outputs, labels).detach())\n",
    "\n",
    "            outputs = nn.functional.softmax(outputs, dim=1)\n",
    "\n",
    "            for i, v in enumerate(outputs):\n",
    "                if labels[i] == torch.tensor([1]).to(device):\n",
    "                    if v[1] > v[0]:\n",
    "                        tp += 1\n",
    "                    else:\n",
    "                        fp += 1\n",
    "                elif labels[i] == torch.tensor([0]).to(device):\n",
    "                    if v[0] > v[1]:\n",
    "                        tn += 1\n",
    "                    else:\n",
    "                        fn += 1\n",
    "\n",
    "    loss_track.append(sum(loss_batch) / len(loss_batch))\n",
    "    valid_loss_track.append(sum(valid_loss_batch) / len(valid_loss_batch))\n",
    "    # break\n",
    "    torch.cuda.empty_cache()\n",
    "\n",
    "print(\"Done\")"
   ]
  },
  {
   "cell_type": "code",
   "execution_count": 461,
   "metadata": {},
   "outputs": [
    {
     "name": "stdout",
     "output_type": "stream",
     "text": [
      "Confusion Matrix:\n",
      "\n",
      "      ////                 Is Seizure, Is Not Seizure\n",
      "      Is Seizure           6217 (0.04%)   1383(0.01%)\n",
      "      Is Not Seizure       1735 (0.01%)   156465(0.94%)\n",
      "\n",
      "      Sensitivity: 0.7818158953722334\n",
      "      Specificity: 0.9912384065683443\n",
      "      Precision: 0.8180263157894737\n",
      "      Accuracy: 0.9811942098914355\n",
      "      \n"
     ]
    }
   ],
   "source": [
    "sensitivity = (tp) / (tp + fn)\n",
    "specificity = (tn) / (tn + fp)\n",
    "precision = (tp) / (tp + fp)\n",
    "accuracy = (tp + tn) / (tp + tn + fp + fn)\n",
    "\n",
    "print(\"Confusion Matrix:\")\n",
    "print(\n",
    "    f\"\"\"\n",
    "      ////                 Is Seizure, Is Not Seizure\n",
    "      Is Seizure           {tp} ({round(tp/(tp + tn + fp + fn),2)}%)   {fp}({round(fp/(tp + tn + fp + fn),2)}%)\n",
    "      Is Not Seizure       {fn} ({round(fn/(tp + tn + fp + fn),2)}%)   {tn}({round(tn/(tp + tn + fp + fn),2)}%)\n",
    "\n",
    "      Sensitivity: {sensitivity}\n",
    "      Specificity: {specificity}\n",
    "      Precision: {precision}\n",
    "      Accuracy: {accuracy}\n",
    "      \"\"\"\n",
    ")"
   ]
  },
  {
   "cell_type": "code",
   "execution_count": 472,
   "metadata": {},
   "outputs": [
    {
     "data": {
      "image/png": "[encoded data removed]",
      "text/plain": [
       "<Figure size 640x480 with 1 Axes>"
      ]
     },
     "metadata": {},
     "output_type": "display_data"
    }
   ],
   "source": [
    "# Plot losses\n",
    "a = []\n",
    "for i in range(len(loss_track)):\n",
    "    a.append(loss_track[i].to(\"cpu\"))\n",
    "\n",
    "b = []\n",
    "for i in range(len(valid_loss_track)):\n",
    "    b.append(valid_loss_track[i].to(\"cpu\"))\n",
    "\n",
    "plt.plot(range(len(a)), a, label=\"Training Loss\")\n",
    "plt.plot(range(len(b)), b, label=\"Validation Loss\")\n",
    "\n",
    "plt.title(\"Training and Validation Loss\")\n",
    "plt.xlabel(\"Epoch\")\n",
    "plt.ylabel(\"Loss\")\n",
    "plt.legend()\n",
    "plt.show()"
   ]
  },
  {
   "cell_type": "code",
   "execution_count": 468,
   "metadata": {},
   "outputs": [],
   "source": [
    "tp, fp, tn, fn = 0, 0, 0, 0\n",
    "\n",
    "actual_test = []\n",
    "predicted_test = []\n",
    "\n",
    "for batch in test_dataloader:\n",
    "    inputs, labels = batch\n",
    "    inputs, labels = inputs.to(device), labels.to(device)\n",
    "    labels = labels.to(torch.int64)\n",
    "\n",
    "    model.eval()\n",
    "    with torch.no_grad():\n",
    "        output = model(inputs)\n",
    "\n",
    "    output = nn.functional.softmax(output, dim=1)\n",
    "\n",
    "    actual_test.append(labels)\n",
    "    predicted_test.append(output)\n",
    "\n",
    "    for i, v in enumerate(output):\n",
    "        if labels[i] == torch.tensor([1]).to(device):\n",
    "            if v[1] >= v[0]:\n",
    "                tp += 1\n",
    "            else:\n",
    "                fp += 1\n",
    "        elif labels[i] == torch.tensor([0]).to(device):\n",
    "            if v[0] >= v[1]:\n",
    "                tn += 1\n",
    "            else:\n",
    "                fn += 1"
   ]
  },
  {
   "cell_type": "code",
   "execution_count": 420,
   "metadata": {},
   "outputs": [
    {
     "name": "stdout",
     "output_type": "stream",
     "text": [
      "0.7309585214 0.2690414488\n",
      "0.7310487032 0.2689512968\n",
      "tensor([0, 0], device='cuda:0')\n"
     ]
    }
   ],
   "source": [
    "s = 55\n",
    "m = nn.Softmax(dim=1)\n",
    "a = m(predicted_test[s])\n",
    "a1 = a[0]\n",
    "a11 = round(float(a1[0]), 10)\n",
    "a12 = round(float(a1[1]), 10)\n",
    "\n",
    "a2 = a[1]\n",
    "a21 = round(float(a2[0]), 10)\n",
    "a22 = round(float(a2[1]), 10)\n",
    "print(a11, a12)\n",
    "print(a21, a22)\n",
    "print(actual_test[s])"
   ]
  },
  {
   "cell_type": "code",
   "execution_count": 470,
   "metadata": {},
   "outputs": [
    {
     "name": "stdout",
     "output_type": "stream",
     "text": [
      "Confusion Matrix:\n",
      "\n",
      "      ////                 Is Seizure, Is Not Seizure\n",
      "      Is Seizure           28 (0.03%)   0(0.0%)\n",
      "      Is Not Seizure       8 (0.01%)   793(0.96%)\n",
      "\n",
      "      Sensitivity: 0.7777777777777778\n",
      "      Specificity: 1.0\n",
      "      Precision: 1.0\n",
      "      Accuracy: 0.9903498190591074\n",
      "      \n"
     ]
    }
   ],
   "source": [
    "sensitivity = (tp) / (tp + fn)\n",
    "specificity = (tn) / (tn + fp)\n",
    "precision = (tp) / (tp + fp)\n",
    "accuracy = (tp + tn) / (tp + tn + fp + fn)\n",
    "\n",
    "print(\"Confusion Matrix:\")\n",
    "print(\n",
    "    f\"\"\"\n",
    "      ////                 Is Seizure, Is Not Seizure\n",
    "      Is Seizure           {tp} ({round(tp/(tp + tn + fp + fn),2)}%)   {fp}({round(fp/(tp + tn + fp + fn),2)}%)\n",
    "      Is Not Seizure       {fn} ({round(fn/(tp + tn + fp + fn),2)}%)   {tn}({round(tn/(tp + tn + fp + fn),2)}%)\n",
    "\n",
    "      Sensitivity: {sensitivity}\n",
    "      Specificity: {specificity}\n",
    "      Precision: {precision}\n",
    "      Accuracy: {accuracy}\n",
    "      \"\"\"\n",
    ")"
   ]
  },
  {
   "cell_type": "code",
   "execution_count": 471,
   "metadata": {},
   "outputs": [
    {
     "data": {
      "text/plain": [
       "<sklearn.metrics._plot.roc_curve.RocCurveDisplay at 0x1a334e50490>"
      ]
     },
     "execution_count": 471,
     "metadata": {},
     "output_type": "execute_result"
    },
    {
     "data": {
      "image/png": "[encoded data removed]",
      "text/plain": [
       "<Figure size 640x480 with 1 Axes>"
      ]
     },
     "metadata": {},
     "output_type": "display_data"
    }
   ],
   "source": [
    "from sklearn import metrics\n",
    "\n",
    "y_true, y_score = [], []\n",
    "\n",
    "\n",
    "for i in actual_test:\n",
    "\n",
    "    for j in i:\n",
    "\n",
    "        y_true.append(j.to(\"cpu\"))\n",
    "\n",
    "\n",
    "for i in predicted_test:\n",
    "\n",
    "    for j in i:\n",
    "\n",
    "        if j[0] > j[1]:\n",
    "\n",
    "            y_score.append(0)\n",
    "\n",
    "        else:\n",
    "\n",
    "            y_score.append(1)\n",
    "\n",
    "\n",
    "# y_true = y_true.detach().cpu()\n",
    "\n",
    "\n",
    "# y_score = y_score.detach().cpu()\n",
    "\n",
    "\n",
    "fpr, tpr, thresholds = metrics.roc_curve(y_true=y_true, y_score=y_score)\n",
    "\n",
    "\n",
    "roc_auc = metrics.auc(fpr, tpr)\n",
    "\n",
    "\n",
    "# dis = metrics.RocCurveDisplay(fpr=fpr, tpr=tpr, roc_auc=roc_auc)\n",
    "\n",
    "\n",
    "# dis.plot()\n",
    "\n",
    "\n",
    "dis = metrics.RocCurveDisplay(fpr=fpr, tpr=tpr, roc_auc=roc_auc)\n",
    "dis.plot()"
   ]
  },
  {
   "cell_type": "code",
   "execution_count": 46,
   "metadata": {},
   "outputs": [
    {
     "name": "stderr",
     "output_type": "stream",
     "text": [
      "100%|██████████| 177408/177408 [1:47:55<00:00, 29.37it/s]"
     ]
    }
   ],
   "source": [
    "torch.save(model.state_dict(), \"absence while away.pt\")"
   ]
  },
  {
   "cell_type": "code",
   "execution_count": null,
   "metadata": {},
   "outputs": [],
   "source": [
    "model = model\n",
    "model.load_state_dict(torch.load(\"mfcc.pt\"))"
   ]
  }
 ],
 "metadata": {
  "kernelspec": {
   "display_name": ".venv",
   "language": "python",
   "name": "python3"
  },
  "language_info": {
   "codemirror_mode": {
    "name": "ipython",
    "version": 3
   },
   "file_extension": ".py",
   "mimetype": "text/x-python",
   "name": "python",
   "nbconvert_exporter": "python",
   "pygments_lexer": "ipython3",
   "version": "3.11.3"
  }
 },
 "nbformat": 4,
 "nbformat_minor": 2
}
