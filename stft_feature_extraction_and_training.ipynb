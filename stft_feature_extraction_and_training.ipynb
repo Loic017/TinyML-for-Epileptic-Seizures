{
 "cells": [
  {
   "cell_type": "markdown",
   "metadata": {},
   "source": [
    "# Import Data and Train Model\n"
   ]
  },
  {
   "cell_type": "code",
   "execution_count": 9,
   "metadata": {},
   "outputs": [
    {
     "name": "stderr",
     "output_type": "stream",
     "text": [
      "c:\\Users\\loicl\\Documents\\UniWork\\Year 3\\Dissertation\\TinyML-for-Epileptic-Seizures\\.venv\\Lib\\site-packages\\tqdm\\auto.py:21: TqdmWarning: IProgress not found. Please update jupyter and ipywidgets. See https://ipywidgets.readthedocs.io/en/stable/user_install.html\n",
      "  from .autonotebook import tqdm as notebook_tqdm\n"
     ]
    }
   ],
   "source": [
    "import torch\n",
    "import torch.nn as nn\n",
    "import torch.nn.functional as F\n",
    "from torch.utils.data import Dataset, DataLoader\n",
    "from torch.utils.data.dataset import random_split\n",
    "from transformers import get_scheduler, AdamW\n",
    "from datasets import load_metric\n",
    "\n",
    "import numpy as np\n",
    "import librosa\n",
    "\n",
    "import matplotlib.pyplot as plt\n",
    "%matplotlib inline\n",
    "import pandas as pd;\n",
    "import numpy as np\n",
    "import math\n",
    "\n",
    "from imblearn.over_sampling import SMOTE\n",
    "from imblearn.under_sampling import RandomUnderSampler\n",
    "\n",
    "import mne.channels\n",
    "from tqdm.auto import tqdm\n",
    "import random\n",
    "\n",
    "torch.manual_seed(42)\n",
    "np.random.seed(42)\n",
    "random.seed(42)"
   ]
  },
  {
   "cell_type": "markdown",
   "metadata": {},
   "source": [
    "## Load Data: Create Dataset\n"
   ]
  },
  {
   "cell_type": "markdown",
   "metadata": {},
   "source": [
    "### Load Absence Seizure Data\n"
   ]
  },
  {
   "cell_type": "code",
   "execution_count": 10,
   "metadata": {},
   "outputs": [],
   "source": [
    "class AbsenceDataset(Dataset):\n",
    "    def __init__(self, file_path, transform=None, target_transform=None):\n",
    "        self.x, self.y = self.data_get(file_path)\n",
    "        self.n_samples = len(self.x)\n",
    "\n",
    "        self.transform = transform\n",
    "        self.target_transform = target_transform\n",
    "\n",
    "    def __getitem__(self, idx):\n",
    "        sample_x, sample_y = self.x[idx], self.y[idx]\n",
    "\n",
    "        if self.transform:\n",
    "            sample_x = self.transform(sample_x)\n",
    "\n",
    "        if self.target_transform:\n",
    "            sample_y = self.target_transform(sample_y)\n",
    "\n",
    "        return sample_x.float(), sample_y.float()\n",
    "\n",
    "    def __len__(self):\n",
    "        return self.n_samples\n",
    "\n",
    "    def data_get(self, file_path):\n",
    "        data = pd.read_csv(file_path)\n",
    "        x_loaded, y_loaded = [], []\n",
    "        for index, row in data.iterrows():\n",
    "            a = np.load(row[\"labels\"])\n",
    "            for i, v in enumerate(a):\n",
    "                a[i] = int(v)\n",
    "            y_loaded.append(a)\n",
    "\n",
    "            x_loaded.append(np.load(row[\"data\"]))\n",
    "\n",
    "        continuous_x = np.concatenate(x_loaded, axis=0)\n",
    "        continuous_y = np.concatenate(y_loaded, axis=0)\n",
    "\n",
    "        return continuous_x, continuous_y"
   ]
  },
  {
   "cell_type": "code",
   "execution_count": 11,
   "metadata": {},
   "outputs": [],
   "source": [
    "# %%capture\n",
    "# Load the dataset\n",
    "seizure_type = \"tonic-clonic\"\n",
    "dataset = AbsenceDataset(\n",
    "    f\"processed_data/{seizure_type}/two_second_windows/epochs_files.csv\",\n",
    "    transform=torch.tensor,\n",
    "    target_transform=torch.tensor,\n",
    ")\n",
    "dataset.y = dataset.y.astype(int)"
   ]
  },
  {
   "cell_type": "code",
   "execution_count": 12,
   "metadata": {},
   "outputs": [
    {
     "data": {
      "text/plain": [
       "(2616, 7, 500)"
      ]
     },
     "execution_count": 12,
     "metadata": {},
     "output_type": "execute_result"
    }
   ],
   "source": [
    "dataset.x.shape"
   ]
  },
  {
   "cell_type": "markdown",
   "metadata": {},
   "source": [
    "# Split Data\n",
    "\n",
    "70%, 20%, 10%\n"
   ]
  },
  {
   "cell_type": "code",
   "execution_count": 13,
   "metadata": {},
   "outputs": [
    {
     "data": {
      "text/plain": [
       "2616"
      ]
     },
     "execution_count": 13,
     "metadata": {},
     "output_type": "execute_result"
    }
   ],
   "source": [
    "dataset_len = len(dataset)\n",
    "dataset_len"
   ]
  },
  {
   "cell_type": "code",
   "execution_count": 14,
   "metadata": {},
   "outputs": [
    {
     "data": {
      "text/plain": [
       "547"
      ]
     },
     "execution_count": 14,
     "metadata": {},
     "output_type": "execute_result"
    }
   ],
   "source": [
    "aaaa = 0\n",
    "for i, v in enumerate(dataset.y):\n",
    "    if v == 1:\n",
    "        aaaa += 1\n",
    "aaaa"
   ]
  },
  {
   "cell_type": "code",
   "execution_count": 15,
   "metadata": {},
   "outputs": [
    {
     "name": "stdout",
     "output_type": "stream",
     "text": [
      "Train Split: 1832\n",
      "Eval Split: 523\n",
      "Test Split: 261\n",
      "Total: 2616\n"
     ]
    }
   ],
   "source": [
    "if (\n",
    "    int(dataset_len * 0.7) + int(dataset_len * 0.2) + int(dataset_len * 0.1)\n",
    ") != dataset_len:\n",
    "    train_set, eval_set, test_set = random_split(\n",
    "        dataset,\n",
    "        [\n",
    "            math.ceil(dataset_len * 0.7),\n",
    "            int(dataset_len * 0.2),  # math.ceil\n",
    "            int(dataset_len * 0.1),\n",
    "        ],\n",
    "    )\n",
    "else:\n",
    "    train_set, eval_set, test_set = random_split(\n",
    "        dataset,\n",
    "        [\n",
    "            int(dataset_len * 0.7),\n",
    "            int(dataset_len * 0.1),\n",
    "            int(dataset_len * 0.2),\n",
    "        ],\n",
    "    )\n",
    "\n",
    "print(f\"Train Split: {len(train_set)}\")\n",
    "print(f\"Eval Split: {len(eval_set)}\")\n",
    "print(f\"Test Split: {len(test_set)}\")\n",
    "print(f\"Total: {len(train_set) + len(eval_set) + len(test_set)}\")"
   ]
  },
  {
   "cell_type": "code",
   "execution_count": 16,
   "metadata": {},
   "outputs": [
    {
     "data": {
      "text/plain": [
       "((1832, 7, 500), (1832,))"
      ]
     },
     "execution_count": 16,
     "metadata": {},
     "output_type": "execute_result"
    }
   ],
   "source": [
    "train_set.dataset.x[train_set.indices].shape, train_set.dataset.y[\n",
    "    train_set.indices\n",
    "].shape"
   ]
  },
  {
   "cell_type": "markdown",
   "metadata": {},
   "source": [
    "## SMOTE\n"
   ]
  },
  {
   "cell_type": "code",
   "execution_count": 17,
   "metadata": {},
   "outputs": [
    {
     "name": "stdout",
     "output_type": "stream",
     "text": [
      "Background: 1447 // tonic-clonic Seizure: 385\n"
     ]
    }
   ],
   "source": [
    "bk, sz = (\n",
    "    0,\n",
    "    0,\n",
    ")\n",
    "for i, v in enumerate(train_set.dataset.y[train_set.indices]):\n",
    "    if v == 1:\n",
    "        sz += 1\n",
    "    else:\n",
    "        bk += 1\n",
    "\n",
    "print(f\"Background: {bk} // {seizure_type} Seizure: {sz}\")"
   ]
  },
  {
   "cell_type": "code",
   "execution_count": 18,
   "metadata": {},
   "outputs": [
    {
     "data": {
      "image/png": "[encoded data removed]",
      "text/plain": [
       "<Figure size 640x480 with 1 Axes>"
      ]
     },
     "metadata": {},
     "output_type": "display_data"
    }
   ],
   "source": [
    "n, bins, p = plt.hist(\n",
    "    train_set.dataset.y[train_set.indices],\n",
    "    bins=2,\n",
    "    edgecolor=\"white\",\n",
    "    linewidth=5,\n",
    "    range=(0, 1),\n",
    ")\n",
    "plt.xticks([0.25, 0.75], [\"Background\", f\"{seizure_type} Seizure\"])\n",
    "plt.ylabel(\"Number of Samples\")\n",
    "plt.xlabel(\"Sample Class\")\n",
    "p[0].set_facecolor(\"navy\")\n",
    "p[1].set_facecolor(\"purple\")"
   ]
  },
  {
   "cell_type": "code",
   "execution_count": 19,
   "metadata": {},
   "outputs": [
    {
     "data": {
      "text/plain": [
       "(1832, 3500)"
      ]
     },
     "execution_count": 19,
     "metadata": {},
     "output_type": "execute_result"
    }
   ],
   "source": [
    "shape = train_set.dataset.x[train_set.indices].shape\n",
    "data_reshaped = train_set.dataset.x[train_set.indices]\n",
    "data_reshaped = np.reshape(data_reshaped, (shape[0], shape[1] * shape[2]))\n",
    "data_reshaped.shape"
   ]
  },
  {
   "cell_type": "code",
   "execution_count": 20,
   "metadata": {},
   "outputs": [],
   "source": [
    "train_set_x, train_set_y = SMOTE(\n",
    "    sampling_strategy=\"not majority\", random_state=42\n",
    ").fit_resample(data_reshaped, train_set.dataset.y[train_set.indices])\n",
    "# train_set_x = train_set.dataset.x[train_set.indices]\n",
    "# train_set_y = train_set.dataset.y[train_set.indices]"
   ]
  },
  {
   "cell_type": "code",
   "execution_count": 21,
   "metadata": {},
   "outputs": [],
   "source": [
    "# rand_us = RandomUnderSampler(random_state=42)\n",
    "# train_set_x, train_set_y = rand_us.fit_resample(\n",
    "#     data_reshaped, train_set.dataset.y[train_set.indices]\n",
    "# )"
   ]
  },
  {
   "cell_type": "code",
   "execution_count": 22,
   "metadata": {},
   "outputs": [
    {
     "data": {
      "image/png": "[encoded data removed]",
      "text/plain": [
       "<Figure size 640x480 with 1 Axes>"
      ]
     },
     "metadata": {},
     "output_type": "display_data"
    }
   ],
   "source": [
    "n, bins, p = plt.hist(\n",
    "    train_set_y,\n",
    "    bins=2,\n",
    "    edgecolor=\"white\",\n",
    "    linewidth=5,\n",
    "    range=(0, 1),\n",
    ")\n",
    "\n",
    "plt.xticks([0.25, 0.75], [\"Background\", f\"{seizure_type} Seizure\"])\n",
    "plt.ylabel(\"Number of Samples\")\n",
    "plt.xlabel(\"Sample Class\")\n",
    "p[0].set_facecolor(\"navy\")\n",
    "p[1].set_facecolor(\"purple\")"
   ]
  },
  {
   "cell_type": "code",
   "execution_count": 23,
   "metadata": {},
   "outputs": [
    {
     "data": {
      "text/plain": [
       "((2894, 7, 500), (523, 7, 500))"
      ]
     },
     "execution_count": 23,
     "metadata": {},
     "output_type": "execute_result"
    }
   ],
   "source": [
    "train_set_x = np.reshape(train_set_x, (train_set_x.shape[0], shape[1], shape[2]))\n",
    "val_set_x = eval_set.dataset.x[eval_set.indices]\n",
    "train_set_x.shape, val_set_x.shape"
   ]
  },
  {
   "cell_type": "code",
   "execution_count": 24,
   "metadata": {},
   "outputs": [
    {
     "name": "stdout",
     "output_type": "stream",
     "text": [
      "Background: 1447 // tonic-clonic Seizure: 1447\n"
     ]
    }
   ],
   "source": [
    "bk, sz = 0, 0\n",
    "for i, v in enumerate(train_set_y):\n",
    "    if v == 1:\n",
    "        sz += 1\n",
    "    else:\n",
    "        bk += 1\n",
    "\n",
    "print(f\"Background: {bk} // {seizure_type} Seizure: {sz}\")"
   ]
  },
  {
   "cell_type": "markdown",
   "metadata": {},
   "source": [
    "# STFT\n"
   ]
  },
  {
   "cell_type": "markdown",
   "metadata": {},
   "source": [
    "Create STFT\n"
   ]
  },
  {
   "cell_type": "code",
   "execution_count": 25,
   "metadata": {},
   "outputs": [
    {
     "data": {
      "text/plain": [
       "((2894, 7, 15, 32), (523, 7, 15, 32))"
      ]
     },
     "execution_count": 25,
     "metadata": {},
     "output_type": "execute_result"
    }
   ],
   "source": [
    "n_fft = int(512 / 4)\n",
    "window = \"taylor\"\n",
    "hop_length = int(n_fft / 8)\n",
    "fmin = 0\n",
    "fmax = 20\n",
    "n_mels = 15\n",
    "sample_rate = 250\n",
    "\n",
    "# Train\n",
    "stft_channel_data = []\n",
    "for i, channels in enumerate(train_set_x):\n",
    "    stft_channel_data.append(\n",
    "        (\n",
    "            librosa.feature.melspectrogram(\n",
    "                y=channels,\n",
    "                sr=sample_rate,\n",
    "                n_mels=n_mels,\n",
    "                n_fft=n_fft,\n",
    "                fmin=fmin,\n",
    "                fmax=fmax,\n",
    "                hop_length=hop_length,\n",
    "                window=window,\n",
    "                center=True,\n",
    "                pad_mode=\"constant\",\n",
    "                power=2.0,\n",
    "            )\n",
    "        )\n",
    "    )\n",
    "stft_channel_data = np.array(stft_channel_data)\n",
    "\n",
    "# Val\n",
    "val_stft_channel_data = []\n",
    "for i, channels in enumerate(val_set_x):\n",
    "    val_stft_channel_data.append(\n",
    "        (\n",
    "            librosa.feature.melspectrogram(\n",
    "                y=channels,\n",
    "                sr=sample_rate,\n",
    "                n_mels=n_mels,\n",
    "                n_fft=n_fft,\n",
    "                fmin=fmin,\n",
    "                fmax=fmax,\n",
    "                hop_length=hop_length,\n",
    "                window=window,\n",
    "                center=True,\n",
    "                pad_mode=\"constant\",\n",
    "                power=2.0,\n",
    "            )\n",
    "        )\n",
    "    )\n",
    "val_stft_channel_data = np.array(val_stft_channel_data)\n",
    "\n",
    "stft_channel_data.shape, val_stft_channel_data.shape"
   ]
  },
  {
   "cell_type": "code",
   "execution_count": 26,
   "metadata": {},
   "outputs": [
    {
     "data": {
      "text/plain": [
       "((2894, 7, 15, 32), (523, 7, 15, 32))"
      ]
     },
     "execution_count": 26,
     "metadata": {},
     "output_type": "execute_result"
    }
   ],
   "source": [
    "# Train\n",
    "train_db = []\n",
    "for i, channels in enumerate(stft_channel_data):\n",
    "    train_db.append(librosa.amplitude_to_db((channels), ref=np.max))\n",
    "train_db = np.array(train_db)\n",
    "\n",
    "# Val\n",
    "val_db = []\n",
    "for i, channels in enumerate(val_stft_channel_data):\n",
    "    val_db.append(librosa.amplitude_to_db((channels), ref=np.max))\n",
    "val_db = np.array(val_db)\n",
    "\n",
    "train_db.shape, val_db.shape"
   ]
  },
  {
   "cell_type": "code",
   "execution_count": 27,
   "metadata": {},
   "outputs": [
    {
     "data": {
      "text/plain": [
       "((2894, 15, 32), (523, 15, 32))"
      ]
     },
     "execution_count": 27,
     "metadata": {},
     "output_type": "execute_result"
    }
   ],
   "source": [
    "# Train\n",
    "train_db_mean = []\n",
    "for i, channels in enumerate(stft_channel_data):\n",
    "    train_db_mean.append(np.mean(channels, axis=0))\n",
    "train_db_mean = np.array(train_db_mean)\n",
    "\n",
    "# Val\n",
    "val_db_mean = []\n",
    "for i, channels in enumerate(val_stft_channel_data):\n",
    "    val_db_mean.append(np.mean(channels, axis=0))\n",
    "val_db_mean = np.array(val_db_mean)\n",
    "\n",
    "train_db_mean.shape, val_db_mean.shape"
   ]
  },
  {
   "cell_type": "code",
   "execution_count": 28,
   "metadata": {},
   "outputs": [
    {
     "data": {
      "text/plain": [
       "[5, 12, 19, 21, 25, 26, 41, 43, 46, 47]"
      ]
     },
     "execution_count": 28,
     "metadata": {},
     "output_type": "execute_result"
    }
   ],
   "source": [
    "bbbb = []\n",
    "for i, v in enumerate(train_set_y):\n",
    "    if v == 1:\n",
    "        bbbb.append(i)\n",
    "bbbb[:10]"
   ]
  },
  {
   "cell_type": "code",
   "execution_count": 29,
   "metadata": {},
   "outputs": [
    {
     "name": "stdout",
     "output_type": "stream",
     "text": [
      "0\n"
     ]
    },
    {
     "data": {
      "text/plain": [
       "<matplotlib.colorbar.Colorbar at 0x2bc5094de10>"
      ]
     },
     "execution_count": 29,
     "metadata": {},
     "output_type": "execute_result"
    },
    {
     "data": {
      "image/png": "[encoded data removed]",
      "text/plain": [
       "<Figure size 640x480 with 2 Axes>"
      ]
     },
     "metadata": {},
     "output_type": "display_data"
    }
   ],
   "source": [
    "x = 56\n",
    "print(train_set_y[x])\n",
    "plt.imshow(train_db_mean[x])\n",
    "# tick_list = [-0.5]\n",
    "# label_list = [\"-0.5Hz\"]\n",
    "# for i in range(fmax):\n",
    "#     if i != 0:\n",
    "#         tick_list.append((n_mels / fmax) * i - 0.5)\n",
    "#         label_list.append(f\"{i}Hz\")\n",
    "# plt.yticks(tick_list, labels=label_list)\n",
    "plt.yticks(\n",
    "    [-0.5, n_mels / 4 - 0.5, n_mels / 2 - 0.5, n_mels - 0.5],\n",
    "    labels=[f\"{fmin} Hz\", f\"{int(fmax/4)} Hz\", f\"{int(fmax/2)} Hz\", f\"{fmax} Hz\"],\n",
    ")\n",
    "plt.xticks([])\n",
    "plt.colorbar()"
   ]
  },
  {
   "cell_type": "code",
   "execution_count": 30,
   "metadata": {},
   "outputs": [
    {
     "data": {
      "text/plain": [
       "Text(0.5, 1.0, 'Raw Channels: All 5 Channels')"
      ]
     },
     "execution_count": 30,
     "metadata": {},
     "output_type": "execute_result"
    },
    {
     "data": {
      "image/png": "[encoded data removed]",
      "text/plain": [
       "<Figure size 500x500 with 2 Axes>"
      ]
     },
     "metadata": {},
     "output_type": "display_data"
    }
   ],
   "source": [
    "plt.figure(figsize=(5, 5))\n",
    "plt.subplot(2, 1, 1)\n",
    "\n",
    "\n",
    "plt.plot(np.mean(train_db_mean[x], axis=1))\n",
    "\n",
    "\n",
    "plt.title(\"Mean of Mel Spectrogram\")\n",
    "\n",
    "\n",
    "plt.subplot(2, 1, 2)\n",
    "\n",
    "\n",
    "for i in train_set_x[x]:\n",
    "    plt.plot(i)\n",
    "\n",
    "\n",
    "plt.title(\"Raw Channels: All 5 Channels\")"
   ]
  },
  {
   "cell_type": "code",
   "execution_count": 31,
   "metadata": {},
   "outputs": [
    {
     "data": {
      "text/plain": [
       "<matplotlib.image.AxesImage at 0x2bc50b52ad0>"
      ]
     },
     "execution_count": 31,
     "metadata": {},
     "output_type": "execute_result"
    },
    {
     "data": {
      "image/png": "[encoded data removed]",
      "text/plain": [
       "<Figure size 640x480 with 1 Axes>"
      ]
     },
     "metadata": {},
     "output_type": "display_data"
    }
   ],
   "source": [
    "n_mfcc = 10\n",
    "\n",
    "mfccs_train = []\n",
    "for i, channels in enumerate(train_db_mean):\n",
    "    mfccs_train.append(\n",
    "        librosa.feature.mfcc(\n",
    "            S=channels,\n",
    "            n_mfcc=n_mfcc,\n",
    "        )\n",
    "    )\n",
    "mfccs_train = np.array(mfccs_train)\n",
    "\n",
    "mfccs_val = []\n",
    "for i, channels in enumerate(val_db_mean):\n",
    "    mfccs_val.append(\n",
    "        librosa.feature.mfcc(\n",
    "            S=channels,\n",
    "            n_mfcc=n_mfcc,\n",
    "        )\n",
    "    )\n",
    "mfccs_val = np.array(mfccs_val)\n",
    "\n",
    "mfccs = librosa.feature.mfcc(\n",
    "    S=train_db_mean[x],\n",
    "    n_mfcc=10,\n",
    ")\n",
    "plt.imshow(mfccs)"
   ]
  },
  {
   "cell_type": "markdown",
   "metadata": {},
   "source": [
    "Convert STFT to Image for Input\n"
   ]
  },
  {
   "cell_type": "code",
   "execution_count": 32,
   "metadata": {},
   "outputs": [],
   "source": [
    "from skimage import io\n",
    "from sklearn import preprocessing"
   ]
  },
  {
   "cell_type": "code",
   "execution_count": 33,
   "metadata": {},
   "outputs": [],
   "source": [
    "# Output MFCC or Mel Spectrogram\n",
    "to_image_train = mfccs_train\n",
    "to_image_val = mfccs_val"
   ]
  },
  {
   "cell_type": "code",
   "execution_count": 34,
   "metadata": {},
   "outputs": [],
   "source": [
    "def sklearn_minnax(min, max, X):\n",
    "    X_std = (X - X.min()) / (X.max() - X.min())\n",
    "    X_scaled = X_std * (max - min) + min\n",
    "    return X_scaled"
   ]
  },
  {
   "cell_type": "code",
   "execution_count": 35,
   "metadata": {},
   "outputs": [],
   "source": [
    "train_input_x = []\n",
    "for i, melspec in enumerate(to_image_train):\n",
    "    img = 255 - (sklearn_minnax(0, 255, melspec).astype(np.uint8))\n",
    "    img = np.repeat(img[..., np.newaxis], 3, -1)\n",
    "    img = np.transpose(img, (2, 0, 1))\n",
    "    train_input_x.append(img.astype(np.uint8))\n",
    "train_input_x = np.array(train_input_x)\n",
    "\n",
    "val_input_x = []\n",
    "for i, melspec in enumerate(to_image_val):\n",
    "    img = 255 - (sklearn_minnax(0, 255, melspec).astype(np.uint8))\n",
    "    img = np.repeat(img[..., np.newaxis], 3, -1)\n",
    "    img = np.transpose(img, (2, 0, 1))\n",
    "    val_input_x.append(img.astype(np.uint8))\n",
    "val_input_x = np.array(val_input_x)"
   ]
  },
  {
   "cell_type": "code",
   "execution_count": 36,
   "metadata": {},
   "outputs": [
    {
     "name": "stdout",
     "output_type": "stream",
     "text": [
      "0\n"
     ]
    },
    {
     "data": {
      "image/png": "[encoded data removed]",
      "text/plain": [
       "<Figure size 500x500 with 1 Axes>"
      ]
     },
     "metadata": {},
     "output_type": "display_data"
    }
   ],
   "source": [
    "plt.figure(figsize=(5, 5))\n",
    "plt.axis(\"off\")\n",
    "\n",
    "io.imshow(np.transpose(train_input_x[x], (1, 2, 0)))\n",
    "print(train_set_y[x])"
   ]
  },
  {
   "cell_type": "markdown",
   "metadata": {},
   "source": [
    "# Remake Dataset\n"
   ]
  },
  {
   "cell_type": "code",
   "execution_count": 37,
   "metadata": {},
   "outputs": [],
   "source": [
    "class BalancedDataset(Dataset):\n",
    "    def __init__(self, data, transform=None, target_transform=None):\n",
    "        self.x, self.y = data\n",
    "        self.n_samples = len(self.x)\n",
    "\n",
    "        self.transform = transform\n",
    "        self.target_transform = target_transform\n",
    "\n",
    "    def __getitem__(self, idx):\n",
    "        sample_x, sample_y = self.x[idx], self.y[idx]\n",
    "\n",
    "        if self.transform:\n",
    "            sample_x = self.transform(sample_x)\n",
    "\n",
    "        if self.target_transform:\n",
    "            sample_y = self.target_transform(sample_y)\n",
    "\n",
    "        return sample_x.float(), sample_y.float()\n",
    "\n",
    "    def __len__(self):\n",
    "        return self.n_samples"
   ]
  },
  {
   "cell_type": "code",
   "execution_count": 38,
   "metadata": {},
   "outputs": [],
   "source": [
    "train_dataset = BalancedDataset(\n",
    "    (train_input_x, train_set_y),\n",
    "    transform=torch.tensor,\n",
    "    target_transform=torch.tensor,\n",
    ")\n",
    "eval_dataset = BalancedDataset(\n",
    "    (val_input_x, eval_set.dataset.y[eval_set.indices]),\n",
    "    transform=torch.tensor,\n",
    "    target_transform=torch.tensor,\n",
    ")"
   ]
  },
  {
   "cell_type": "code",
   "execution_count": 39,
   "metadata": {},
   "outputs": [],
   "source": [
    "# # Train\n",
    "# train_db = []\n",
    "# for i, channels in enumerate(stft_channel_data):\n",
    "#     train_db.append(librosa.amplitude_to_db((channels), ref=np.max))\n",
    "# train_db = np.array(train_db)\n",
    "\n",
    "# # Val\n",
    "# val_db = []\n",
    "# for i, channels in enumerate(val_stft_channel_data):\n",
    "#     val_db.append(librosa.amplitude_to_db((channels), ref=np.max))\n",
    "# val_db = np.array(val_db)\n",
    "\n",
    "# train_db.shape, val_db.shape"
   ]
  },
  {
   "cell_type": "markdown",
   "metadata": {},
   "source": [
    "# DataLoaders\n"
   ]
  },
  {
   "cell_type": "code",
   "execution_count": 40,
   "metadata": {},
   "outputs": [],
   "source": [
    "train_dataloader = DataLoader(\n",
    "    dataset=train_dataset,\n",
    "    batch_size=32,\n",
    "    shuffle=True,\n",
    ")\n",
    "eval_dataloader = DataLoader(dataset=eval_dataset, batch_size=32, shuffle=True)\n",
    "test_dataloader = DataLoader(dataset=test_set, batch_size=32, shuffle=True)"
   ]
  },
  {
   "cell_type": "markdown",
   "metadata": {},
   "source": [
    "# Model\n",
    "\n",
    "Mobilenet\n"
   ]
  },
  {
   "cell_type": "code",
   "execution_count": 41,
   "metadata": {},
   "outputs": [],
   "source": [
    "device = torch.device(\"cuda\" if torch.cuda.is_available() else \"cpu\")"
   ]
  },
  {
   "cell_type": "code",
   "execution_count": 42,
   "metadata": {},
   "outputs": [],
   "source": [
    "import os\n",
    "\n",
    "os.environ[\"CUDA_LAUNCH_BLOCKING\"] = \"1\""
   ]
  },
  {
   "cell_type": "code",
   "execution_count": 43,
   "metadata": {},
   "outputs": [],
   "source": [
    "from torchvision.models import mobilenet_v2, mobilenet_v3_small, mobilenet_v3_large\n",
    "from torchvision.models import shufflenet_v2_x1_0"
   ]
  },
  {
   "cell_type": "code",
   "execution_count": 84,
   "metadata": {},
   "outputs": [
    {
     "name": "stdout",
     "output_type": "stream",
     "text": [
      "170\n"
     ]
    },
    {
     "data": {
      "text/plain": [
       "Sequential(\n",
       "  (0): ShuffleNetV2(\n",
       "    (conv1): Sequential(\n",
       "      (0): Conv2d(3, 24, kernel_size=(3, 3), stride=(2, 2), padding=(1, 1), bias=False)\n",
       "      (1): BatchNorm2d(24, eps=1e-05, momentum=0.1, affine=True, track_running_stats=True)\n",
       "      (2): ReLU(inplace=True)\n",
       "    )\n",
       "    (maxpool): MaxPool2d(kernel_size=3, stride=2, padding=1, dilation=1, ceil_mode=False)\n",
       "    (stage2): Sequential(\n",
       "      (0): InvertedResidual(\n",
       "        (branch1): Sequential(\n",
       "          (0): Conv2d(24, 24, kernel_size=(3, 3), stride=(2, 2), padding=(1, 1), groups=24, bias=False)\n",
       "          (1): BatchNorm2d(24, eps=1e-05, momentum=0.1, affine=True, track_running_stats=True)\n",
       "          (2): Conv2d(24, 58, kernel_size=(1, 1), stride=(1, 1), bias=False)\n",
       "          (3): BatchNorm2d(58, eps=1e-05, momentum=0.1, affine=True, track_running_stats=True)\n",
       "          (4): ReLU(inplace=True)\n",
       "        )\n",
       "        (branch2): Sequential(\n",
       "          (0): Conv2d(24, 58, kernel_size=(1, 1), stride=(1, 1), bias=False)\n",
       "          (1): BatchNorm2d(58, eps=1e-05, momentum=0.1, affine=True, track_running_stats=True)\n",
       "          (2): ReLU(inplace=True)\n",
       "          (3): Conv2d(58, 58, kernel_size=(3, 3), stride=(2, 2), padding=(1, 1), groups=58, bias=False)\n",
       "          (4): BatchNorm2d(58, eps=1e-05, momentum=0.1, affine=True, track_running_stats=True)\n",
       "          (5): Conv2d(58, 58, kernel_size=(1, 1), stride=(1, 1), bias=False)\n",
       "          (6): BatchNorm2d(58, eps=1e-05, momentum=0.1, affine=True, track_running_stats=True)\n",
       "          (7): ReLU(inplace=True)\n",
       "        )\n",
       "      )\n",
       "      (1): InvertedResidual(\n",
       "        (branch1): Sequential()\n",
       "        (branch2): Sequential(\n",
       "          (0): Conv2d(58, 58, kernel_size=(1, 1), stride=(1, 1), bias=False)\n",
       "          (1): BatchNorm2d(58, eps=1e-05, momentum=0.1, affine=True, track_running_stats=True)\n",
       "          (2): ReLU(inplace=True)\n",
       "          (3): Conv2d(58, 58, kernel_size=(3, 3), stride=(1, 1), padding=(1, 1), groups=58, bias=False)\n",
       "          (4): BatchNorm2d(58, eps=1e-05, momentum=0.1, affine=True, track_running_stats=True)\n",
       "          (5): Conv2d(58, 58, kernel_size=(1, 1), stride=(1, 1), bias=False)\n",
       "          (6): BatchNorm2d(58, eps=1e-05, momentum=0.1, affine=True, track_running_stats=True)\n",
       "          (7): ReLU(inplace=True)\n",
       "        )\n",
       "      )\n",
       "      (2): InvertedResidual(\n",
       "        (branch1): Sequential()\n",
       "        (branch2): Sequential(\n",
       "          (0): Conv2d(58, 58, kernel_size=(1, 1), stride=(1, 1), bias=False)\n",
       "          (1): BatchNorm2d(58, eps=1e-05, momentum=0.1, affine=True, track_running_stats=True)\n",
       "          (2): ReLU(inplace=True)\n",
       "          (3): Conv2d(58, 58, kernel_size=(3, 3), stride=(1, 1), padding=(1, 1), groups=58, bias=False)\n",
       "          (4): BatchNorm2d(58, eps=1e-05, momentum=0.1, affine=True, track_running_stats=True)\n",
       "          (5): Conv2d(58, 58, kernel_size=(1, 1), stride=(1, 1), bias=False)\n",
       "          (6): BatchNorm2d(58, eps=1e-05, momentum=0.1, affine=True, track_running_stats=True)\n",
       "          (7): ReLU(inplace=True)\n",
       "        )\n",
       "      )\n",
       "      (3): InvertedResidual(\n",
       "        (branch1): Sequential()\n",
       "        (branch2): Sequential(\n",
       "          (0): Conv2d(58, 58, kernel_size=(1, 1), stride=(1, 1), bias=False)\n",
       "          (1): BatchNorm2d(58, eps=1e-05, momentum=0.1, affine=True, track_running_stats=True)\n",
       "          (2): ReLU(inplace=True)\n",
       "          (3): Conv2d(58, 58, kernel_size=(3, 3), stride=(1, 1), padding=(1, 1), groups=58, bias=False)\n",
       "          (4): BatchNorm2d(58, eps=1e-05, momentum=0.1, affine=True, track_running_stats=True)\n",
       "          (5): Conv2d(58, 58, kernel_size=(1, 1), stride=(1, 1), bias=False)\n",
       "          (6): BatchNorm2d(58, eps=1e-05, momentum=0.1, affine=True, track_running_stats=True)\n",
       "          (7): ReLU(inplace=True)\n",
       "        )\n",
       "      )\n",
       "    )\n",
       "    (stage3): Sequential(\n",
       "      (0): InvertedResidual(\n",
       "        (branch1): Sequential(\n",
       "          (0): Conv2d(116, 116, kernel_size=(3, 3), stride=(2, 2), padding=(1, 1), groups=116, bias=False)\n",
       "          (1): BatchNorm2d(116, eps=1e-05, momentum=0.1, affine=True, track_running_stats=True)\n",
       "          (2): Conv2d(116, 116, kernel_size=(1, 1), stride=(1, 1), bias=False)\n",
       "          (3): BatchNorm2d(116, eps=1e-05, momentum=0.1, affine=True, track_running_stats=True)\n",
       "          (4): ReLU(inplace=True)\n",
       "        )\n",
       "        (branch2): Sequential(\n",
       "          (0): Conv2d(116, 116, kernel_size=(1, 1), stride=(1, 1), bias=False)\n",
       "          (1): BatchNorm2d(116, eps=1e-05, momentum=0.1, affine=True, track_running_stats=True)\n",
       "          (2): ReLU(inplace=True)\n",
       "          (3): Conv2d(116, 116, kernel_size=(3, 3), stride=(2, 2), padding=(1, 1), groups=116, bias=False)\n",
       "          (4): BatchNorm2d(116, eps=1e-05, momentum=0.1, affine=True, track_running_stats=True)\n",
       "          (5): Conv2d(116, 116, kernel_size=(1, 1), stride=(1, 1), bias=False)\n",
       "          (6): BatchNorm2d(116, eps=1e-05, momentum=0.1, affine=True, track_running_stats=True)\n",
       "          (7): ReLU(inplace=True)\n",
       "        )\n",
       "      )\n",
       "      (1): InvertedResidual(\n",
       "        (branch1): Sequential()\n",
       "        (branch2): Sequential(\n",
       "          (0): Conv2d(116, 116, kernel_size=(1, 1), stride=(1, 1), bias=False)\n",
       "          (1): BatchNorm2d(116, eps=1e-05, momentum=0.1, affine=True, track_running_stats=True)\n",
       "          (2): ReLU(inplace=True)\n",
       "          (3): Conv2d(116, 116, kernel_size=(3, 3), stride=(1, 1), padding=(1, 1), groups=116, bias=False)\n",
       "          (4): BatchNorm2d(116, eps=1e-05, momentum=0.1, affine=True, track_running_stats=True)\n",
       "          (5): Conv2d(116, 116, kernel_size=(1, 1), stride=(1, 1), bias=False)\n",
       "          (6): BatchNorm2d(116, eps=1e-05, momentum=0.1, affine=True, track_running_stats=True)\n",
       "          (7): ReLU(inplace=True)\n",
       "        )\n",
       "      )\n",
       "      (2): InvertedResidual(\n",
       "        (branch1): Sequential()\n",
       "        (branch2): Sequential(\n",
       "          (0): Conv2d(116, 116, kernel_size=(1, 1), stride=(1, 1), bias=False)\n",
       "          (1): BatchNorm2d(116, eps=1e-05, momentum=0.1, affine=True, track_running_stats=True)\n",
       "          (2): ReLU(inplace=True)\n",
       "          (3): Conv2d(116, 116, kernel_size=(3, 3), stride=(1, 1), padding=(1, 1), groups=116, bias=False)\n",
       "          (4): BatchNorm2d(116, eps=1e-05, momentum=0.1, affine=True, track_running_stats=True)\n",
       "          (5): Conv2d(116, 116, kernel_size=(1, 1), stride=(1, 1), bias=False)\n",
       "          (6): BatchNorm2d(116, eps=1e-05, momentum=0.1, affine=True, track_running_stats=True)\n",
       "          (7): ReLU(inplace=True)\n",
       "        )\n",
       "      )\n",
       "      (3): InvertedResidual(\n",
       "        (branch1): Sequential()\n",
       "        (branch2): Sequential(\n",
       "          (0): Conv2d(116, 116, kernel_size=(1, 1), stride=(1, 1), bias=False)\n",
       "          (1): BatchNorm2d(116, eps=1e-05, momentum=0.1, affine=True, track_running_stats=True)\n",
       "          (2): ReLU(inplace=True)\n",
       "          (3): Conv2d(116, 116, kernel_size=(3, 3), stride=(1, 1), padding=(1, 1), groups=116, bias=False)\n",
       "          (4): BatchNorm2d(116, eps=1e-05, momentum=0.1, affine=True, track_running_stats=True)\n",
       "          (5): Conv2d(116, 116, kernel_size=(1, 1), stride=(1, 1), bias=False)\n",
       "          (6): BatchNorm2d(116, eps=1e-05, momentum=0.1, affine=True, track_running_stats=True)\n",
       "          (7): ReLU(inplace=True)\n",
       "        )\n",
       "      )\n",
       "      (4): InvertedResidual(\n",
       "        (branch1): Sequential()\n",
       "        (branch2): Sequential(\n",
       "          (0): Conv2d(116, 116, kernel_size=(1, 1), stride=(1, 1), bias=False)\n",
       "          (1): BatchNorm2d(116, eps=1e-05, momentum=0.1, affine=True, track_running_stats=True)\n",
       "          (2): ReLU(inplace=True)\n",
       "          (3): Conv2d(116, 116, kernel_size=(3, 3), stride=(1, 1), padding=(1, 1), groups=116, bias=False)\n",
       "          (4): BatchNorm2d(116, eps=1e-05, momentum=0.1, affine=True, track_running_stats=True)\n",
       "          (5): Conv2d(116, 116, kernel_size=(1, 1), stride=(1, 1), bias=False)\n",
       "          (6): BatchNorm2d(116, eps=1e-05, momentum=0.1, affine=True, track_running_stats=True)\n",
       "          (7): ReLU(inplace=True)\n",
       "        )\n",
       "      )\n",
       "      (5): InvertedResidual(\n",
       "        (branch1): Sequential()\n",
       "        (branch2): Sequential(\n",
       "          (0): Conv2d(116, 116, kernel_size=(1, 1), stride=(1, 1), bias=False)\n",
       "          (1): BatchNorm2d(116, eps=1e-05, momentum=0.1, affine=True, track_running_stats=True)\n",
       "          (2): ReLU(inplace=True)\n",
       "          (3): Conv2d(116, 116, kernel_size=(3, 3), stride=(1, 1), padding=(1, 1), groups=116, bias=False)\n",
       "          (4): BatchNorm2d(116, eps=1e-05, momentum=0.1, affine=True, track_running_stats=True)\n",
       "          (5): Conv2d(116, 116, kernel_size=(1, 1), stride=(1, 1), bias=False)\n",
       "          (6): BatchNorm2d(116, eps=1e-05, momentum=0.1, affine=True, track_running_stats=True)\n",
       "          (7): ReLU(inplace=True)\n",
       "        )\n",
       "      )\n",
       "      (6): InvertedResidual(\n",
       "        (branch1): Sequential()\n",
       "        (branch2): Sequential(\n",
       "          (0): Conv2d(116, 116, kernel_size=(1, 1), stride=(1, 1), bias=False)\n",
       "          (1): BatchNorm2d(116, eps=1e-05, momentum=0.1, affine=True, track_running_stats=True)\n",
       "          (2): ReLU(inplace=True)\n",
       "          (3): Conv2d(116, 116, kernel_size=(3, 3), stride=(1, 1), padding=(1, 1), groups=116, bias=False)\n",
       "          (4): BatchNorm2d(116, eps=1e-05, momentum=0.1, affine=True, track_running_stats=True)\n",
       "          (5): Conv2d(116, 116, kernel_size=(1, 1), stride=(1, 1), bias=False)\n",
       "          (6): BatchNorm2d(116, eps=1e-05, momentum=0.1, affine=True, track_running_stats=True)\n",
       "          (7): ReLU(inplace=True)\n",
       "        )\n",
       "      )\n",
       "      (7): InvertedResidual(\n",
       "        (branch1): Sequential()\n",
       "        (branch2): Sequential(\n",
       "          (0): Conv2d(116, 116, kernel_size=(1, 1), stride=(1, 1), bias=False)\n",
       "          (1): BatchNorm2d(116, eps=1e-05, momentum=0.1, affine=True, track_running_stats=True)\n",
       "          (2): ReLU(inplace=True)\n",
       "          (3): Conv2d(116, 116, kernel_size=(3, 3), stride=(1, 1), padding=(1, 1), groups=116, bias=False)\n",
       "          (4): BatchNorm2d(116, eps=1e-05, momentum=0.1, affine=True, track_running_stats=True)\n",
       "          (5): Conv2d(116, 116, kernel_size=(1, 1), stride=(1, 1), bias=False)\n",
       "          (6): BatchNorm2d(116, eps=1e-05, momentum=0.1, affine=True, track_running_stats=True)\n",
       "          (7): ReLU(inplace=True)\n",
       "        )\n",
       "      )\n",
       "    )\n",
       "    (stage4): Sequential(\n",
       "      (0): InvertedResidual(\n",
       "        (branch1): Sequential(\n",
       "          (0): Conv2d(232, 232, kernel_size=(3, 3), stride=(2, 2), padding=(1, 1), groups=232, bias=False)\n",
       "          (1): BatchNorm2d(232, eps=1e-05, momentum=0.1, affine=True, track_running_stats=True)\n",
       "          (2): Conv2d(232, 232, kernel_size=(1, 1), stride=(1, 1), bias=False)\n",
       "          (3): BatchNorm2d(232, eps=1e-05, momentum=0.1, affine=True, track_running_stats=True)\n",
       "          (4): ReLU(inplace=True)\n",
       "        )\n",
       "        (branch2): Sequential(\n",
       "          (0): Conv2d(232, 232, kernel_size=(1, 1), stride=(1, 1), bias=False)\n",
       "          (1): BatchNorm2d(232, eps=1e-05, momentum=0.1, affine=True, track_running_stats=True)\n",
       "          (2): ReLU(inplace=True)\n",
       "          (3): Conv2d(232, 232, kernel_size=(3, 3), stride=(2, 2), padding=(1, 1), groups=232, bias=False)\n",
       "          (4): BatchNorm2d(232, eps=1e-05, momentum=0.1, affine=True, track_running_stats=True)\n",
       "          (5): Conv2d(232, 232, kernel_size=(1, 1), stride=(1, 1), bias=False)\n",
       "          (6): BatchNorm2d(232, eps=1e-05, momentum=0.1, affine=True, track_running_stats=True)\n",
       "          (7): ReLU(inplace=True)\n",
       "        )\n",
       "      )\n",
       "      (1): InvertedResidual(\n",
       "        (branch1): Sequential()\n",
       "        (branch2): Sequential(\n",
       "          (0): Conv2d(232, 232, kernel_size=(1, 1), stride=(1, 1), bias=False)\n",
       "          (1): BatchNorm2d(232, eps=1e-05, momentum=0.1, affine=True, track_running_stats=True)\n",
       "          (2): ReLU(inplace=True)\n",
       "          (3): Conv2d(232, 232, kernel_size=(3, 3), stride=(1, 1), padding=(1, 1), groups=232, bias=False)\n",
       "          (4): BatchNorm2d(232, eps=1e-05, momentum=0.1, affine=True, track_running_stats=True)\n",
       "          (5): Conv2d(232, 232, kernel_size=(1, 1), stride=(1, 1), bias=False)\n",
       "          (6): BatchNorm2d(232, eps=1e-05, momentum=0.1, affine=True, track_running_stats=True)\n",
       "          (7): ReLU(inplace=True)\n",
       "        )\n",
       "      )\n",
       "      (2): InvertedResidual(\n",
       "        (branch1): Sequential()\n",
       "        (branch2): Sequential(\n",
       "          (0): Conv2d(232, 232, kernel_size=(1, 1), stride=(1, 1), bias=False)\n",
       "          (1): BatchNorm2d(232, eps=1e-05, momentum=0.1, affine=True, track_running_stats=True)\n",
       "          (2): ReLU(inplace=True)\n",
       "          (3): Conv2d(232, 232, kernel_size=(3, 3), stride=(1, 1), padding=(1, 1), groups=232, bias=False)\n",
       "          (4): BatchNorm2d(232, eps=1e-05, momentum=0.1, affine=True, track_running_stats=True)\n",
       "          (5): Conv2d(232, 232, kernel_size=(1, 1), stride=(1, 1), bias=False)\n",
       "          (6): BatchNorm2d(232, eps=1e-05, momentum=0.1, affine=True, track_running_stats=True)\n",
       "          (7): ReLU(inplace=True)\n",
       "        )\n",
       "      )\n",
       "      (3): InvertedResidual(\n",
       "        (branch1): Sequential()\n",
       "        (branch2): Sequential(\n",
       "          (0): Conv2d(232, 232, kernel_size=(1, 1), stride=(1, 1), bias=False)\n",
       "          (1): BatchNorm2d(232, eps=1e-05, momentum=0.1, affine=True, track_running_stats=True)\n",
       "          (2): ReLU(inplace=True)\n",
       "          (3): Conv2d(232, 232, kernel_size=(3, 3), stride=(1, 1), padding=(1, 1), groups=232, bias=False)\n",
       "          (4): BatchNorm2d(232, eps=1e-05, momentum=0.1, affine=True, track_running_stats=True)\n",
       "          (5): Conv2d(232, 232, kernel_size=(1, 1), stride=(1, 1), bias=False)\n",
       "          (6): BatchNorm2d(232, eps=1e-05, momentum=0.1, affine=True, track_running_stats=True)\n",
       "          (7): ReLU(inplace=True)\n",
       "        )\n",
       "      )\n",
       "    )\n",
       "    (conv5): Sequential(\n",
       "      (0): Conv2d(464, 1024, kernel_size=(1, 1), stride=(1, 1), bias=False)\n",
       "      (1): BatchNorm2d(1024, eps=1e-05, momentum=0.1, affine=True, track_running_stats=True)\n",
       "      (2): ReLU(inplace=True)\n",
       "    )\n",
       "    (fc): Linear(in_features=1024, out_features=2, bias=True)\n",
       "  )\n",
       "  (1): Softmax(dim=1)\n",
       ")"
      ]
     },
     "execution_count": 84,
     "metadata": {},
     "output_type": "execute_result"
    }
   ],
   "source": [
    "# %%capture\n",
    "model = shufflenet_v2_x1_0()\n",
    "model.fc = nn.Linear(1024, 2)\n",
    "model = nn.Sequential(\n",
    "    model,\n",
    "    nn.Softmax(dim=1),\n",
    ")\n",
    "model = model.to(device)\n",
    "model_name = \"shufflenet\"\n",
    "\n",
    "c = 0\n",
    "for i, v in enumerate((model.parameters())):\n",
    "    c += 1\n",
    "print(c)\n",
    "\n",
    "model"
   ]
  },
  {
   "cell_type": "code",
   "execution_count": 83,
   "metadata": {},
   "outputs": [],
   "source": [
    "%%capture\n",
    "model = mobilenet_v3_small()\n",
    "model.classifier[3] = nn.Linear(1024, 2)\n",
    "model = nn.Sequential(\n",
    "    model,\n",
    "    nn.Softmax(dim=1),\n",
    ")\n",
    "model = model.to(device)\n",
    "model_name = \"mobilenet\"\n",
    "\n",
    "c = 0\n",
    "for i, v in enumerate((model.parameters())):\n",
    "    c += 1\n",
    "print(c)\n",
    "\n",
    "model"
   ]
  },
  {
   "cell_type": "markdown",
   "metadata": {},
   "source": [
    "# Train\n"
   ]
  },
  {
   "cell_type": "markdown",
   "metadata": {},
   "source": [
    "## Training Loop\n"
   ]
  },
  {
   "cell_type": "markdown",
   "metadata": {},
   "source": [
    "### Print Inputs\n"
   ]
  },
  {
   "cell_type": "code",
   "execution_count": 46,
   "metadata": {},
   "outputs": [
    {
     "name": "stdout",
     "output_type": "stream",
     "text": [
      "Train // Background: 1447 // tonic-clonic Seizure: 1447\n",
      "Validation // Background: 419 // tonic-clonic Seizure: 104\n"
     ]
    }
   ],
   "source": [
    "# Plot distribution of the dataset before balancing\n",
    "# 0 - Background epoch\n",
    "# 1 - Absence seizure epoch\n",
    "\n",
    "bk = 0\n",
    "sz = 0\n",
    "for i, v in enumerate(train_dataloader):\n",
    "    for i in v[1]:\n",
    "        if i == torch.tensor([1.0]):\n",
    "            sz += 1\n",
    "        else:\n",
    "            bk += 1\n",
    "\n",
    "print(f\"Train // Background: {bk} // {seizure_type} Seizure: {sz}\")\n",
    "\n",
    "bk = 0\n",
    "sz = 0\n",
    "for i, v in enumerate(eval_dataloader):\n",
    "    for i in v[1]:\n",
    "        if i == torch.tensor([1.0]):\n",
    "            sz += 1\n",
    "        else:\n",
    "            bk += 1\n",
    "\n",
    "print(f\"Validation // Background: {bk} // {seizure_type} Seizure: {sz}\")"
   ]
  },
  {
   "cell_type": "markdown",
   "metadata": {},
   "source": [
    "### Training\n"
   ]
  },
  {
   "cell_type": "code",
   "execution_count": 85,
   "metadata": {},
   "outputs": [],
   "source": [
    "num_epochs = int(512 / 2)\n",
    "optimizer = torch.optim.Adam(model.parameters(), lr=0.0001)\n",
    "loss_fn = nn.CrossEntropyLoss()\n",
    "# loss_fn = nn.BCELoss()\n",
    "scheduler = get_scheduler(\n",
    "    \"linear\",\n",
    "    optimizer,\n",
    "    num_warmup_steps=0,\n",
    "    num_training_steps=num_epochs * len(train_dataloader),\n",
    ")"
   ]
  },
  {
   "cell_type": "code",
   "execution_count": 86,
   "metadata": {},
   "outputs": [
    {
     "name": "stdout",
     "output_type": "stream",
     "text": [
      "cuda\n",
      "shufflenet\n",
      "tonic-clonic\n"
     ]
    }
   ],
   "source": [
    "print(device)\n",
    "print(model_name)\n",
    "print(seizure_type)"
   ]
  },
  {
   "cell_type": "code",
   "execution_count": 47,
   "metadata": {},
   "outputs": [],
   "source": [
    "# for batch in train_dataloader:\n",
    "#         inputs, labels = batch\n",
    "#         inputs, labels = inputs.to(device), labels.to(device)\n",
    "#         plt.plot(inputs[0].cpu().numpy())\n",
    "#         print(labels)\n",
    "#         break"
   ]
  },
  {
   "cell_type": "code",
   "execution_count": 87,
   "metadata": {},
   "outputs": [
    {
     "name": "stderr",
     "output_type": "stream",
     "text": [
      "100%|██████████| 1820/1820 [14:35<00:00,  2.08it/s]\n"
     ]
    },
    {
     "name": "stdout",
     "output_type": "stream",
     "text": [
      "Training tonic-clonic on shufflenet for 256 epochs\n"
     ]
    },
    {
     "name": "stderr",
     "output_type": "stream",
     "text": [
      "100%|█████████▉| 23293/23296 [16:28<00:00, 27.22it/s]"
     ]
    },
    {
     "name": "stdout",
     "output_type": "stream",
     "text": [
      "Done\n"
     ]
    },
    {
     "name": "stderr",
     "output_type": "stream",
     "text": [
      "100%|██████████| 23296/23296 [16:48<00:00, 27.22it/s]"
     ]
    }
   ],
   "source": [
    "progress_bar = tqdm(range(num_epochs * len(train_dataloader)))\n",
    "\n",
    "print(f\"Training {seizure_type} on {model_name} for {num_epochs} epochs\")\n",
    "\n",
    "tp, tn, fp, fn = 0, 0, 0, 0\n",
    "actual, predicted = [], []\n",
    "\n",
    "loss_track = []\n",
    "valid_loss_track = []\n",
    "for epoch in range(num_epochs):\n",
    "    running_loss = 0.0\n",
    "    loss_batch = []\n",
    "    model.train()\n",
    "    for batch in train_dataloader:\n",
    "        inputs, labels = batch\n",
    "        inputs, labels = inputs.to(device), labels.to(device)\n",
    "        labels = labels.to(torch.int64)\n",
    "\n",
    "        optimizer.zero_grad()\n",
    "        outputs = model(inputs)\n",
    "\n",
    "        loss = loss_fn(outputs, labels)\n",
    "        loss.backward()\n",
    "        optimizer.step()\n",
    "\n",
    "        scheduler.step()\n",
    "        progress_bar.update(1)\n",
    "\n",
    "        loss_batch.append(loss)\n",
    "\n",
    "        del inputs, outputs, labels, loss\n",
    "\n",
    "    model.eval()\n",
    "    valid_loss_batch = []\n",
    "    for batch in eval_dataloader:\n",
    "        inputs, labels = batch\n",
    "        inputs, labels = inputs.to(device), labels.to(device)\n",
    "        labels = labels.to(torch.int64)\n",
    "\n",
    "        with torch.no_grad():\n",
    "            outputs = model(inputs)\n",
    "\n",
    "        valid_loss_batch.append(loss_fn(outputs, labels).item())\n",
    "\n",
    "        actual.append(labels)\n",
    "        predicted.append(outputs)\n",
    "\n",
    "        for i, v in enumerate(outputs):\n",
    "            if labels[i] == torch.tensor([1]).to(device):\n",
    "                if v[1] > v[0]:\n",
    "                    tp += 1\n",
    "                else:\n",
    "                    fp += 1\n",
    "            elif labels[i] == torch.tensor([0]).to(device):\n",
    "                if v[0] > v[1]:\n",
    "                    tn += 1\n",
    "                else:\n",
    "                    fn += 1\n",
    "\n",
    "    loss_track.append(sum(loss_batch) / len(loss_batch))\n",
    "    valid_loss_track.append(sum(valid_loss_batch) / len(valid_loss_batch))\n",
    "    # break\n",
    "    torch.cuda.empty_cache()\n",
    "\n",
    "print(\"Done\")"
   ]
  },
  {
   "cell_type": "code",
   "execution_count": 99,
   "metadata": {},
   "outputs": [
    {
     "name": "stdout",
     "output_type": "stream",
     "text": [
      "Confusion Matrix:\n",
      "\n",
      "      ////                 Is Seizure, Is Not Seizure\n",
      "      Is Seizure           25725 (0.19%)   899(0.01%)\n",
      "      Is Not Seizure       3348 (0.03%)   103916(0.78%)\n",
      "\n",
      "      Sensitivity: 0.8848416056134558\n",
      "      Specificity: 0.9914229833516195\n",
      "      Precision: 0.9662334735576923\n",
      "      Accuracy: 0.968279457456979\n",
      "      \n"
     ]
    }
   ],
   "source": [
    "sensitivity = (tp) / (tp + fn)\n",
    "specificity = (tn) / (tn + fp)\n",
    "precision = (tp) / (tp + fp)\n",
    "accuracy = (tp + tn) / (tp + tn + fp + fn)\n",
    "\n",
    "print(\"Confusion Matrix:\")\n",
    "print(\n",
    "    f\"\"\"\n",
    "      ////                 Is Seizure, Is Not Seizure\n",
    "      Is Seizure           {tp} ({round(tp/(tp + tn + fp + fn),2)}%)   {fp}({round(fp/(tp + tn + fp + fn),2)}%)\n",
    "      Is Not Seizure       {fn} ({round(fn/(tp + tn + fp + fn),2)}%)   {tn}({round(tn/(tp + tn + fp + fn),2)}%)\n",
    "\n",
    "      Sensitivity: {sensitivity}\n",
    "      Specificity: {specificity}\n",
    "      Precision: {precision}\n",
    "      Accuracy: {accuracy}\n",
    "      \"\"\"\n",
    ")"
   ]
  },
  {
   "cell_type": "code",
   "execution_count": 90,
   "metadata": {},
   "outputs": [
    {
     "data": {
      "text/plain": [
       "<sklearn.metrics._plot.roc_curve.RocCurveDisplay at 0x2bce3a4b710>"
      ]
     },
     "execution_count": 90,
     "metadata": {},
     "output_type": "execute_result"
    },
    {
     "data": {
      "image/png": "[encoded data removed]",
      "text/plain": [
       "<Figure size 640x480 with 1 Axes>"
      ]
     },
     "metadata": {},
     "output_type": "display_data"
    }
   ],
   "source": [
    "from sklearn import metrics\n",
    "\n",
    "y_true, y_score = [], []\n",
    "\n",
    "for i in actual:\n",
    "    for j in i:\n",
    "        y_true.append(j.to(\"cpu\"))\n",
    "\n",
    "for i in predicted:\n",
    "    for j in i:\n",
    "        y_score.append(max(j).to(\"cpu\"))\n",
    "\n",
    "# y_true = y_true.detach().cpu()\n",
    "# y_score = y_score.detach().cpu()\n",
    "\n",
    "fpr, tpr, _ = metrics.roc_curve(y_true=y_true, y_score=y_score)\n",
    "roc_auc = metrics.auc(fpr, tpr)\n",
    "dis = metrics.RocCurveDisplay(fpr=fpr, tpr=tpr, roc_auc=roc_auc)\n",
    "dis.plot()"
   ]
  },
  {
   "cell_type": "code",
   "execution_count": 377,
   "metadata": {},
   "outputs": [
    {
     "data": {
      "image/png": "[encoded data removed]",
      "text/plain": [
       "<Figure size 640x480 with 1 Axes>"
      ]
     },
     "metadata": {},
     "output_type": "display_data"
    }
   ],
   "source": [
    "# Plot losses\n",
    "a = []\n",
    "for i in range(len(loss_track)):\n",
    "    a.append(loss_track[i].item())\n",
    "\n",
    "plt.plot(range(len(a)), a, label=\"Training Loss\")\n",
    "plt.plot(range(len(valid_loss_track)), valid_loss_track, label=\"Validation Loss\")\n",
    "\n",
    "plt.title(\"Training and Validation Loss\")\n",
    "plt.xlabel(\"Epoch\")\n",
    "plt.ylabel(\"Loss\")\n",
    "plt.show()"
   ]
  },
  {
   "cell_type": "code",
   "execution_count": null,
   "metadata": {},
   "outputs": [],
   "source": []
  },
  {
   "cell_type": "code",
   "execution_count": 51,
   "metadata": {},
   "outputs": [],
   "source": [
    "torch.save(model.state_dict(), \"mfcc.pt\")"
   ]
  },
  {
   "cell_type": "code",
   "execution_count": null,
   "metadata": {},
   "outputs": [],
   "source": [
    "model = model\n",
    "model.load_state_dict(torch.load(\"mfcc.pt\"))"
   ]
  }
 ],
 "metadata": {
  "kernelspec": {
   "display_name": ".venv",
   "language": "python",
   "name": "python3"
  },
  "language_info": {
   "codemirror_mode": {
    "name": "ipython",
    "version": 3
   },
   "file_extension": ".py",
   "mimetype": "text/x-python",
   "name": "python",
   "nbconvert_exporter": "python",
   "pygments_lexer": "ipython3",
   "version": "3.11.3"
  }
 },
 "nbformat": 4,
 "nbformat_minor": 2
}
